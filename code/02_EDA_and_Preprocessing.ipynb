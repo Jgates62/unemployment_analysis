{
 "cells": [
  {
   "cell_type": "code",
   "execution_count": 1,
   "id": "c4ca4826",
   "metadata": {},
   "outputs": [],
   "source": [
    "import pandas as pd\n",
    "import seaborn as sns\n",
    "import matplotlib.pyplot as plt"
   ]
  },
  {
   "cell_type": "code",
   "execution_count": 2,
   "id": "b663f115",
   "metadata": {},
   "outputs": [],
   "source": [
    "df = pd.read_csv('../data/final_work_data.csv')"
   ]
  },
  {
   "cell_type": "code",
   "execution_count": 3,
   "id": "398b176b",
   "metadata": {},
   "outputs": [],
   "source": [
    "pd.set_option('display.max_columns', 35)"
   ]
  },
  {
   "cell_type": "code",
   "execution_count": 4,
   "id": "de3f12ba",
   "metadata": {},
   "outputs": [
    {
     "data": {
      "text/plain": [
       "(2619, 28)"
      ]
     },
     "execution_count": 4,
     "metadata": {},
     "output_type": "execute_result"
    }
   ],
   "source": [
    "df.shape"
   ]
  },
  {
   "cell_type": "code",
   "execution_count": 5,
   "id": "8a2d1ccd",
   "metadata": {},
   "outputs": [
    {
     "data": {
      "text/html": [
       "<div>\n",
       "<style scoped>\n",
       "    .dataframe tbody tr th:only-of-type {\n",
       "        vertical-align: middle;\n",
       "    }\n",
       "\n",
       "    .dataframe tbody tr th {\n",
       "        vertical-align: top;\n",
       "    }\n",
       "\n",
       "    .dataframe thead th {\n",
       "        text-align: right;\n",
       "    }\n",
       "</style>\n",
       "<table border=\"1\" class=\"dataframe\">\n",
       "  <thead>\n",
       "    <tr style=\"text-align: right;\">\n",
       "      <th></th>\n",
       "      <th>state</th>\n",
       "      <th>county_name</th>\n",
       "      <th>unemployment_rate_2010</th>\n",
       "      <th>population_total_2010</th>\n",
       "      <th>urban_population_prc</th>\n",
       "      <th>rural_population_prc</th>\n",
       "      <th>crime_per_capita</th>\n",
       "      <th>per_capita_sme_num</th>\n",
       "      <th>per_capita_large_num</th>\n",
       "      <th>avg_ann_pay_per_emp_sme</th>\n",
       "      <th>avg_ann_pay_per_emp_large</th>\n",
       "      <th>avg_ann_pay_per_emp_total</th>\n",
       "      <th>population_jail_prc</th>\n",
       "      <th>2008_dem_%_vote</th>\n",
       "      <th>2008_rep_%_vote</th>\n",
       "      <th>2008_other_%_vote</th>\n",
       "      <th>smoke_percent_2010</th>\n",
       "      <th>popul_hs_grad_prc</th>\n",
       "      <th>popul_college_grad_prc</th>\n",
       "      <th>popul_single_paren_prc</th>\n",
       "      <th>liquor_stores_per10k</th>\n",
       "      <th>police_per_1000</th>\n",
       "      <th>WhiteNonHispanicPct2010</th>\n",
       "      <th>BlackNonHispanicPct2010</th>\n",
       "      <th>AsianNonHispanicPct2010</th>\n",
       "      <th>NativeAmericanNonHispanicPct2010</th>\n",
       "      <th>HispanicPct2010</th>\n",
       "      <th>MultipleRacePct2010</th>\n",
       "    </tr>\n",
       "  </thead>\n",
       "  <tbody>\n",
       "    <tr>\n",
       "      <th>0</th>\n",
       "      <td>AL</td>\n",
       "      <td>Autauga</td>\n",
       "      <td>8.8</td>\n",
       "      <td>54571.0</td>\n",
       "      <td>0.579978</td>\n",
       "      <td>0.420022</td>\n",
       "      <td>0.002620</td>\n",
       "      <td>0.012259</td>\n",
       "      <td>0.002565</td>\n",
       "      <td>22667.03037</td>\n",
       "      <td>31792.20223</td>\n",
       "      <td>26856.69322</td>\n",
       "      <td>0.002914</td>\n",
       "      <td>0.257730</td>\n",
       "      <td>0.736136</td>\n",
       "      <td>0.006133</td>\n",
       "      <td>25.77</td>\n",
       "      <td>72.0</td>\n",
       "      <td>21.0</td>\n",
       "      <td>9.0</td>\n",
       "      <td>0.4</td>\n",
       "      <td>1.172784</td>\n",
       "      <td>77.25</td>\n",
       "      <td>17.58</td>\n",
       "      <td>0.86</td>\n",
       "      <td>0.40</td>\n",
       "      <td>2.40</td>\n",
       "      <td>1.59</td>\n",
       "    </tr>\n",
       "    <tr>\n",
       "      <th>1</th>\n",
       "      <td>AL</td>\n",
       "      <td>Baldwin</td>\n",
       "      <td>9.9</td>\n",
       "      <td>182265.0</td>\n",
       "      <td>0.577209</td>\n",
       "      <td>0.422791</td>\n",
       "      <td>0.002112</td>\n",
       "      <td>0.020108</td>\n",
       "      <td>0.002019</td>\n",
       "      <td>28664.84962</td>\n",
       "      <td>29390.96748</td>\n",
       "      <td>28943.22956</td>\n",
       "      <td>0.004030</td>\n",
       "      <td>0.238119</td>\n",
       "      <td>0.752595</td>\n",
       "      <td>0.009286</td>\n",
       "      <td>22.97</td>\n",
       "      <td>67.0</td>\n",
       "      <td>26.0</td>\n",
       "      <td>9.0</td>\n",
       "      <td>0.8</td>\n",
       "      <td>1.486846</td>\n",
       "      <td>83.50</td>\n",
       "      <td>9.31</td>\n",
       "      <td>0.74</td>\n",
       "      <td>0.63</td>\n",
       "      <td>4.38</td>\n",
       "      <td>1.49</td>\n",
       "    </tr>\n",
       "    <tr>\n",
       "      <th>2</th>\n",
       "      <td>AL</td>\n",
       "      <td>Bibb</td>\n",
       "      <td>11.2</td>\n",
       "      <td>22915.0</td>\n",
       "      <td>0.316474</td>\n",
       "      <td>0.683526</td>\n",
       "      <td>0.002575</td>\n",
       "      <td>0.011172</td>\n",
       "      <td>0.000916</td>\n",
       "      <td>27318.29733</td>\n",
       "      <td>30995.42334</td>\n",
       "      <td>32141.14833</td>\n",
       "      <td>0.002891</td>\n",
       "      <td>0.265965</td>\n",
       "      <td>0.724433</td>\n",
       "      <td>0.009602</td>\n",
       "      <td>30.11</td>\n",
       "      <td>60.0</td>\n",
       "      <td>11.0</td>\n",
       "      <td>5.0</td>\n",
       "      <td>0.5</td>\n",
       "      <td>0.523674</td>\n",
       "      <td>75.02</td>\n",
       "      <td>21.92</td>\n",
       "      <td>0.10</td>\n",
       "      <td>0.28</td>\n",
       "      <td>1.77</td>\n",
       "      <td>0.89</td>\n",
       "    </tr>\n",
       "    <tr>\n",
       "      <th>3</th>\n",
       "      <td>AL</td>\n",
       "      <td>Blount</td>\n",
       "      <td>9.7</td>\n",
       "      <td>57322.0</td>\n",
       "      <td>0.100485</td>\n",
       "      <td>0.899515</td>\n",
       "      <td>0.000419</td>\n",
       "      <td>0.010485</td>\n",
       "      <td>0.001082</td>\n",
       "      <td>26050.59382</td>\n",
       "      <td>28186.23482</td>\n",
       "      <td>26788.59008</td>\n",
       "      <td>0.002168</td>\n",
       "      <td>0.145135</td>\n",
       "      <td>0.840195</td>\n",
       "      <td>0.014670</td>\n",
       "      <td>27.89</td>\n",
       "      <td>73.0</td>\n",
       "      <td>12.0</td>\n",
       "      <td>7.0</td>\n",
       "      <td>0.0</td>\n",
       "      <td>0.854820</td>\n",
       "      <td>88.89</td>\n",
       "      <td>1.26</td>\n",
       "      <td>0.20</td>\n",
       "      <td>0.50</td>\n",
       "      <td>8.07</td>\n",
       "      <td>1.19</td>\n",
       "    </tr>\n",
       "    <tr>\n",
       "      <th>4</th>\n",
       "      <td>AL</td>\n",
       "      <td>Butler</td>\n",
       "      <td>13.4</td>\n",
       "      <td>20947.0</td>\n",
       "      <td>0.287678</td>\n",
       "      <td>0.712322</td>\n",
       "      <td>0.003151</td>\n",
       "      <td>0.015563</td>\n",
       "      <td>0.003580</td>\n",
       "      <td>27202.56233</td>\n",
       "      <td>25225.62358</td>\n",
       "      <td>26257.31840</td>\n",
       "      <td>0.002980</td>\n",
       "      <td>0.431352</td>\n",
       "      <td>0.564940</td>\n",
       "      <td>0.003708</td>\n",
       "      <td>28.27</td>\n",
       "      <td>69.0</td>\n",
       "      <td>12.0</td>\n",
       "      <td>10.0</td>\n",
       "      <td>0.5</td>\n",
       "      <td>0.572874</td>\n",
       "      <td>54.06</td>\n",
       "      <td>43.19</td>\n",
       "      <td>0.83</td>\n",
       "      <td>0.28</td>\n",
       "      <td>0.91</td>\n",
       "      <td>0.77</td>\n",
       "    </tr>\n",
       "  </tbody>\n",
       "</table>\n",
       "</div>"
      ],
      "text/plain": [
       "  state county_name  unemployment_rate_2010  population_total_2010  \\\n",
       "0    AL     Autauga                     8.8                54571.0   \n",
       "1    AL     Baldwin                     9.9               182265.0   \n",
       "2    AL        Bibb                    11.2                22915.0   \n",
       "3    AL      Blount                     9.7                57322.0   \n",
       "4    AL      Butler                    13.4                20947.0   \n",
       "\n",
       "   urban_population_prc  rural_population_prc  crime_per_capita  \\\n",
       "0              0.579978              0.420022          0.002620   \n",
       "1              0.577209              0.422791          0.002112   \n",
       "2              0.316474              0.683526          0.002575   \n",
       "3              0.100485              0.899515          0.000419   \n",
       "4              0.287678              0.712322          0.003151   \n",
       "\n",
       "   per_capita_sme_num  per_capita_large_num  avg_ann_pay_per_emp_sme  \\\n",
       "0            0.012259              0.002565              22667.03037   \n",
       "1            0.020108              0.002019              28664.84962   \n",
       "2            0.011172              0.000916              27318.29733   \n",
       "3            0.010485              0.001082              26050.59382   \n",
       "4            0.015563              0.003580              27202.56233   \n",
       "\n",
       "   avg_ann_pay_per_emp_large  avg_ann_pay_per_emp_total  population_jail_prc  \\\n",
       "0                31792.20223                26856.69322             0.002914   \n",
       "1                29390.96748                28943.22956             0.004030   \n",
       "2                30995.42334                32141.14833             0.002891   \n",
       "3                28186.23482                26788.59008             0.002168   \n",
       "4                25225.62358                26257.31840             0.002980   \n",
       "\n",
       "   2008_dem_%_vote  2008_rep_%_vote  2008_other_%_vote  smoke_percent_2010  \\\n",
       "0         0.257730         0.736136           0.006133               25.77   \n",
       "1         0.238119         0.752595           0.009286               22.97   \n",
       "2         0.265965         0.724433           0.009602               30.11   \n",
       "3         0.145135         0.840195           0.014670               27.89   \n",
       "4         0.431352         0.564940           0.003708               28.27   \n",
       "\n",
       "   popul_hs_grad_prc  popul_college_grad_prc  popul_single_paren_prc  \\\n",
       "0               72.0                    21.0                     9.0   \n",
       "1               67.0                    26.0                     9.0   \n",
       "2               60.0                    11.0                     5.0   \n",
       "3               73.0                    12.0                     7.0   \n",
       "4               69.0                    12.0                    10.0   \n",
       "\n",
       "   liquor_stores_per10k  police_per_1000  WhiteNonHispanicPct2010  \\\n",
       "0                   0.4         1.172784                    77.25   \n",
       "1                   0.8         1.486846                    83.50   \n",
       "2                   0.5         0.523674                    75.02   \n",
       "3                   0.0         0.854820                    88.89   \n",
       "4                   0.5         0.572874                    54.06   \n",
       "\n",
       "   BlackNonHispanicPct2010  AsianNonHispanicPct2010  \\\n",
       "0                    17.58                     0.86   \n",
       "1                     9.31                     0.74   \n",
       "2                    21.92                     0.10   \n",
       "3                     1.26                     0.20   \n",
       "4                    43.19                     0.83   \n",
       "\n",
       "   NativeAmericanNonHispanicPct2010  HispanicPct2010  MultipleRacePct2010  \n",
       "0                              0.40             2.40                 1.59  \n",
       "1                              0.63             4.38                 1.49  \n",
       "2                              0.28             1.77                 0.89  \n",
       "3                              0.50             8.07                 1.19  \n",
       "4                              0.28             0.91                 0.77  "
      ]
     },
     "execution_count": 5,
     "metadata": {},
     "output_type": "execute_result"
    }
   ],
   "source": [
    "df.head()"
   ]
  },
  {
   "cell_type": "code",
   "execution_count": 6,
   "id": "df3b9f03",
   "metadata": {},
   "outputs": [],
   "source": [
    "cols = list(df.groupby('state').mean('unemployment_rate_2010').sort_values('unemployment_rate_2010', ascending=True).index)"
   ]
  },
  {
   "cell_type": "code",
   "execution_count": 7,
   "id": "8f273af6",
   "metadata": {},
   "outputs": [],
   "source": [
    "wid = df.groupby('state').mean('unemployment_rate_2010').sort_values('unemployment_rate_2010', ascending=True)['unemployment_rate_2010']"
   ]
  },
  {
   "cell_type": "code",
   "execution_count": 8,
   "id": "af6b70f2",
   "metadata": {},
   "outputs": [
    {
     "data": {
      "text/plain": [
       "<BarContainer object of 43 artists>"
      ]
     },
     "execution_count": 8,
     "metadata": {},
     "output_type": "execute_result"
    },
    {
     "data": {
      "image/png": "[encoded data removed]",
      "text/plain": [
       "<Figure size 720x720 with 1 Axes>"
      ]
     },
     "metadata": {
      "needs_background": "light"
     },
     "output_type": "display_data"
    }
   ],
   "source": [
    "plt.figure(figsize=(10, 10))\n",
    "plt.barh(cols, width=wid)"
   ]
  },
  {
   "cell_type": "code",
   "execution_count": 9,
   "id": "b53a1f69",
   "metadata": {},
   "outputs": [
    {
     "data": {
      "text/plain": [
       "['state',\n",
       " 'county_name',\n",
       " 'unemployment_rate_2010',\n",
       " 'population_total_2010',\n",
       " 'urban_population_prc',\n",
       " 'rural_population_prc',\n",
       " 'crime_per_capita',\n",
       " 'per_capita_sme_num',\n",
       " 'per_capita_large_num',\n",
       " 'avg_ann_pay_per_emp_sme',\n",
       " 'avg_ann_pay_per_emp_large',\n",
       " 'avg_ann_pay_per_emp_total',\n",
       " 'population_jail_prc',\n",
       " '2008_dem_%_vote',\n",
       " '2008_rep_%_vote',\n",
       " '2008_other_%_vote',\n",
       " 'smoke_percent_2010',\n",
       " 'popul_hs_grad_prc',\n",
       " 'popul_college_grad_prc',\n",
       " 'popul_single_paren_prc',\n",
       " 'liquor_stores_per10k',\n",
       " 'police_per_1000',\n",
       " 'WhiteNonHispanicPct2010',\n",
       " 'BlackNonHispanicPct2010',\n",
       " 'AsianNonHispanicPct2010',\n",
       " 'NativeAmericanNonHispanicPct2010',\n",
       " 'HispanicPct2010',\n",
       " 'MultipleRacePct2010']"
      ]
     },
     "execution_count": 9,
     "metadata": {},
     "output_type": "execute_result"
    }
   ],
   "source": [
    "list(df.columns)"
   ]
  },
  {
   "cell_type": "code",
   "execution_count": 10,
   "id": "77f6fce8",
   "metadata": {},
   "outputs": [],
   "source": [
    "#for i in list(df.drop(columns=['state', 'county_name', 'population_total_2010']).columns):\n",
    "#    plt.figure(figsize=(15, 15))\n",
    "#    sns.heatmap(df.corr()[[i]], cmap = 'coolwarm', vmin=-1, vmax=1, annot=True)"
   ]
  },
  {
   "cell_type": "code",
   "execution_count": 11,
   "id": "49a924c5",
   "metadata": {},
   "outputs": [
    {
     "data": {
      "text/plain": [
       "<matplotlib.collections.PathCollection at 0x270344264f0>"
      ]
     },
     "execution_count": 11,
     "metadata": {},
     "output_type": "execute_result"
    },
    {
     "data": {
      "image/png": "[encoded data removed]",
      "text/plain": [
       "<Figure size 432x288 with 1 Axes>"
      ]
     },
     "metadata": {
      "needs_background": "light"
     },
     "output_type": "display_data"
    }
   ],
   "source": [
    "plt.scatter(df['unemployment_rate_2010'], df['2008_other_%_vote'])"
   ]
  },
  {
   "cell_type": "code",
   "execution_count": 12,
   "id": "fe5f5a8f",
   "metadata": {},
   "outputs": [],
   "source": [
    "from sklearn.linear_model import LinearRegression\n",
    "from sklearn.preprocessing import StandardScaler, PolynomialFeatures\n",
    "from sklearn.model_selection import train_test_split, cross_val_score"
   ]
  },
  {
   "cell_type": "code",
   "execution_count": 13,
   "id": "368a567b",
   "metadata": {},
   "outputs": [
    {
     "data": {
      "text/html": [
       "<div>\n",
       "<style scoped>\n",
       "    .dataframe tbody tr th:only-of-type {\n",
       "        vertical-align: middle;\n",
       "    }\n",
       "\n",
       "    .dataframe tbody tr th {\n",
       "        vertical-align: top;\n",
       "    }\n",
       "\n",
       "    .dataframe thead th {\n",
       "        text-align: right;\n",
       "    }\n",
       "</style>\n",
       "<table border=\"1\" class=\"dataframe\">\n",
       "  <thead>\n",
       "    <tr style=\"text-align: right;\">\n",
       "      <th></th>\n",
       "      <th>state</th>\n",
       "      <th>county_name</th>\n",
       "      <th>unemployment_rate_2010</th>\n",
       "      <th>population_total_2010</th>\n",
       "      <th>urban_population_prc</th>\n",
       "      <th>rural_population_prc</th>\n",
       "      <th>crime_per_capita</th>\n",
       "      <th>per_capita_sme_num</th>\n",
       "      <th>per_capita_large_num</th>\n",
       "      <th>avg_ann_pay_per_emp_sme</th>\n",
       "      <th>avg_ann_pay_per_emp_large</th>\n",
       "      <th>avg_ann_pay_per_emp_total</th>\n",
       "      <th>population_jail_prc</th>\n",
       "      <th>2008_dem_%_vote</th>\n",
       "      <th>2008_rep_%_vote</th>\n",
       "      <th>2008_other_%_vote</th>\n",
       "      <th>smoke_percent_2010</th>\n",
       "      <th>popul_hs_grad_prc</th>\n",
       "      <th>popul_college_grad_prc</th>\n",
       "      <th>popul_single_paren_prc</th>\n",
       "      <th>liquor_stores_per10k</th>\n",
       "      <th>police_per_1000</th>\n",
       "      <th>WhiteNonHispanicPct2010</th>\n",
       "      <th>BlackNonHispanicPct2010</th>\n",
       "      <th>AsianNonHispanicPct2010</th>\n",
       "      <th>NativeAmericanNonHispanicPct2010</th>\n",
       "      <th>HispanicPct2010</th>\n",
       "      <th>MultipleRacePct2010</th>\n",
       "    </tr>\n",
       "  </thead>\n",
       "  <tbody>\n",
       "    <tr>\n",
       "      <th>0</th>\n",
       "      <td>AL</td>\n",
       "      <td>Autauga</td>\n",
       "      <td>8.8</td>\n",
       "      <td>54571.0</td>\n",
       "      <td>0.579978</td>\n",
       "      <td>0.420022</td>\n",
       "      <td>0.00262</td>\n",
       "      <td>0.012259</td>\n",
       "      <td>0.002565</td>\n",
       "      <td>22667.03037</td>\n",
       "      <td>31792.20223</td>\n",
       "      <td>26856.69322</td>\n",
       "      <td>0.002914</td>\n",
       "      <td>0.25773</td>\n",
       "      <td>0.736136</td>\n",
       "      <td>0.006133</td>\n",
       "      <td>25.77</td>\n",
       "      <td>72.0</td>\n",
       "      <td>21.0</td>\n",
       "      <td>9.0</td>\n",
       "      <td>0.4</td>\n",
       "      <td>1.172784</td>\n",
       "      <td>77.25</td>\n",
       "      <td>17.58</td>\n",
       "      <td>0.86</td>\n",
       "      <td>0.4</td>\n",
       "      <td>2.4</td>\n",
       "      <td>1.59</td>\n",
       "    </tr>\n",
       "  </tbody>\n",
       "</table>\n",
       "</div>"
      ],
      "text/plain": [
       "  state county_name  unemployment_rate_2010  population_total_2010  \\\n",
       "0    AL     Autauga                     8.8                54571.0   \n",
       "\n",
       "   urban_population_prc  rural_population_prc  crime_per_capita  \\\n",
       "0              0.579978              0.420022           0.00262   \n",
       "\n",
       "   per_capita_sme_num  per_capita_large_num  avg_ann_pay_per_emp_sme  \\\n",
       "0            0.012259              0.002565              22667.03037   \n",
       "\n",
       "   avg_ann_pay_per_emp_large  avg_ann_pay_per_emp_total  population_jail_prc  \\\n",
       "0                31792.20223                26856.69322             0.002914   \n",
       "\n",
       "   2008_dem_%_vote  2008_rep_%_vote  2008_other_%_vote  smoke_percent_2010  \\\n",
       "0          0.25773         0.736136           0.006133               25.77   \n",
       "\n",
       "   popul_hs_grad_prc  popul_college_grad_prc  popul_single_paren_prc  \\\n",
       "0               72.0                    21.0                     9.0   \n",
       "\n",
       "   liquor_stores_per10k  police_per_1000  WhiteNonHispanicPct2010  \\\n",
       "0                   0.4         1.172784                    77.25   \n",
       "\n",
       "   BlackNonHispanicPct2010  AsianNonHispanicPct2010  \\\n",
       "0                    17.58                     0.86   \n",
       "\n",
       "   NativeAmericanNonHispanicPct2010  HispanicPct2010  MultipleRacePct2010  \n",
       "0                               0.4              2.4                 1.59  "
      ]
     },
     "execution_count": 13,
     "metadata": {},
     "output_type": "execute_result"
    }
   ],
   "source": [
    "df.head(1)"
   ]
  },
  {
   "cell_type": "code",
   "execution_count": 14,
   "id": "acdca008",
   "metadata": {},
   "outputs": [],
   "source": [
    "# Interaction columns based on the correlation "
   ]
  },
  {
   "cell_type": "code",
   "execution_count": 15,
   "id": "2097a56f",
   "metadata": {},
   "outputs": [],
   "source": [
    "#identifying the interactions that are worth analyzing\n",
    "interaction = []\n",
    "for i in list(df.corr().columns):\n",
    "    for j in list(df.corr().index):\n",
    "        if (df.corr().loc[j, i] < -0.5  and df.corr().loc[j, i] != -1) or (df.corr().loc[j, i] > 0.4 and df.corr().loc[j, i] != 1):\n",
    "            interaction.append((j, i))\n",
    "\n",
    "#laziness does pay off in programming. instead of hard coding this myself, i wrote a loop. hashtag evil laugh here"
   ]
  },
  {
   "cell_type": "code",
   "execution_count": 16,
   "id": "cec7af95",
   "metadata": {},
   "outputs": [],
   "source": [
    "# creating the columns with identified interactions\n",
    "for a in interaction:\n",
    "    df[a[0]+'_'+a[1]] = df[a[0]] * df[a[1]]"
   ]
  },
  {
   "cell_type": "code",
   "execution_count": 17,
   "id": "32898cb6",
   "metadata": {},
   "outputs": [
    {
     "data": {
      "text/plain": [
       "(2619, 72)"
      ]
     },
     "execution_count": 17,
     "metadata": {},
     "output_type": "execute_result"
    }
   ],
   "source": [
    "df.shape"
   ]
  },
  {
   "cell_type": "code",
   "execution_count": 18,
   "id": "e702405e",
   "metadata": {},
   "outputs": [],
   "source": [
    "df.to_csv('../data/final_preprocessed_data_with_polynomials.csv')"
   ]
  },
  {
   "cell_type": "code",
   "execution_count": 19,
   "id": "165ffb17",
   "metadata": {},
   "outputs": [],
   "source": [
    "X = df.drop(columns = ['state', 'county_name', 'unemployment_rate_2010', 'population_total_2010'])\n",
    "y = df['unemployment_rate_2010']"
   ]
  },
  {
   "cell_type": "code",
   "execution_count": 20,
   "id": "67e2709f",
   "metadata": {},
   "outputs": [],
   "source": [
    "X_train, X_test, y_train, y_test = train_test_split(X, y, random_state=42)"
   ]
  },
  {
   "cell_type": "code",
   "execution_count": 21,
   "id": "db216c7d",
   "metadata": {},
   "outputs": [],
   "source": [
    "ss = StandardScaler()\n",
    "Z_train = ss.fit_transform(X_train)\n",
    "Z_test = ss.transform(X_test)"
   ]
  },
  {
   "cell_type": "code",
   "execution_count": 22,
   "id": "19484491",
   "metadata": {},
   "outputs": [
    {
     "data": {
      "text/plain": [
       "LinearRegression()"
      ]
     },
     "execution_count": 22,
     "metadata": {},
     "output_type": "execute_result"
    }
   ],
   "source": [
    "lr = LinearRegression()\n",
    "lr.fit(Z_train, y_train)"
   ]
  },
  {
   "cell_type": "code",
   "execution_count": 23,
   "id": "faf76282",
   "metadata": {},
   "outputs": [
    {
     "data": {
      "text/plain": [
       "(0.9397908477774519, 0.9282509444813997)"
      ]
     },
     "execution_count": 23,
     "metadata": {},
     "output_type": "execute_result"
    }
   ],
   "source": [
    "lr.score(Z_train, y_train), cross_val_score(lr, Z_train, y_train).mean()"
   ]
  },
  {
   "cell_type": "code",
   "execution_count": null,
   "id": "c8beb5c4",
   "metadata": {},
   "outputs": [],
   "source": []
  }
 ],
 "metadata": {
  "kernelspec": {
   "display_name": "Python 3",
   "language": "python",
   "name": "python3"
  },
  "language_info": {
   "codemirror_mode": {
    "name": "ipython",
    "version": 3
   },
   "file_extension": ".py",
   "mimetype": "text/x-python",
   "name": "python",
   "nbconvert_exporter": "python",
   "pygments_lexer": "ipython3",
   "version": "3.8.8"
  }
 },
 "nbformat": 4,
 "nbformat_minor": 5
}
