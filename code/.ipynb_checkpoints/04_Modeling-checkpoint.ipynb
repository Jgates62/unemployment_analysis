{
 "cells": [
  {
   "cell_type": "markdown",
   "id": "4a8b573e",
   "metadata": {},
   "source": [
    "## 04 Modeling\n",
    "---\n",
    "_Authors: Jordan Gates, Joomart Achekeev, Brian Kim_"
   ]
  },
  {
   "cell_type": "code",
   "execution_count": 1,
   "id": "7c0827a8",
   "metadata": {},
   "outputs": [],
   "source": [
    "import pandas as pd\n",
    "import numpy as np\n",
    "import matplotlib.pyplot as plt\n",
    "\n",
    "from sklearn.linear_model import LinearRegression\n",
    "from sklearn.preprocessing import StandardScaler, PolynomialFeatures\n",
    "from sklearn.model_selection import train_test_split, cross_val_score, cross_val_predict\n",
    "from sklearn.pipeline import Pipeline\n",
    "from sklearn.model_selection import GridSearchCV\n",
    "from sklearn.decomposition import PCA\n",
    "from sklearn.metrics import mean_squared_error, r2_score\n",
    "\n",
    "from tensorflow.keras.models import Sequential, Model\n",
    "from tensorflow.keras.layers import Dense, Dropout, BatchNormalization, Input\n",
    "from tensorflow.keras.regularizers import l1, l2, l1_l2\n",
    "from tensorflow.keras.callbacks import EarlyStopping\n",
    "from tensorflow.keras.wrappers.scikit_learn import KerasRegressor"
   ]
  },
  {
   "cell_type": "code",
   "execution_count": 2,
   "id": "a4b601f1",
   "metadata": {},
   "outputs": [],
   "source": [
    "# Use for conda env:tfkGPU - otherwise comment out\n",
    "import tensorflow as tf\n",
    "configuration = tf.compat.v1.ConfigProto()\n",
    "configuration.gpu_options.allow_growth = True\n",
    "session = tf.compat.v1.Session(config=configuration)"
   ]
  },
  {
   "cell_type": "code",
   "execution_count": 3,
   "id": "b8313c66",
   "metadata": {},
   "outputs": [],
   "source": [
    "#df = pd.read_csv('../data/full_data_interaction_05_025.csv')\n",
    "#df = pd.read_csv('../data/full_data_interaction_01_075.csv')\n",
    "df = pd.read_csv('../data/full_data_interaction_025_075.csv')"
   ]
  },
  {
   "cell_type": "code",
   "execution_count": 4,
   "id": "f03abae7",
   "metadata": {},
   "outputs": [
    {
     "data": {
      "text/plain": [
       "(3015, 101)"
      ]
     },
     "execution_count": 4,
     "metadata": {},
     "output_type": "execute_result"
    }
   ],
   "source": [
    "df.shape"
   ]
  },
  {
   "cell_type": "code",
   "execution_count": 5,
   "id": "cf1f2802",
   "metadata": {},
   "outputs": [],
   "source": [
    "# Define X and y\n",
    "X = df.drop(columns = ['state', 'county_name', 'unemployment_rate_2010', 'population_total_2010'])\n",
    "y = df['unemployment_rate_2010']"
   ]
  },
  {
   "cell_type": "code",
   "execution_count": 6,
   "id": "d12df3d0",
   "metadata": {},
   "outputs": [],
   "source": [
    "# Train, test, split\n",
    "X_train, X_test, y_train, y_test = train_test_split(X, y, random_state=42)"
   ]
  },
  {
   "cell_type": "code",
   "execution_count": 7,
   "id": "af847ecb",
   "metadata": {},
   "outputs": [],
   "source": [
    "# Scale the data\n",
    "ss = StandardScaler()\n",
    "Z_train = ss.fit_transform(X_train)\n",
    "Z_test = ss.transform(X_test)"
   ]
  },
  {
   "cell_type": "markdown",
   "id": "b89083a7",
   "metadata": {},
   "source": [
    "### Linear Regression on original data"
   ]
  },
  {
   "cell_type": "code",
   "execution_count": 8,
   "id": "8000a591",
   "metadata": {},
   "outputs": [],
   "source": [
    "df_lin_reg = pd.read_csv('../data/final_work_data.csv')"
   ]
  },
  {
   "cell_type": "code",
   "execution_count": 9,
   "id": "0df45f4b",
   "metadata": {},
   "outputs": [
    {
     "data": {
      "text/html": [
       "<div>\n",
       "<style scoped>\n",
       "    .dataframe tbody tr th:only-of-type {\n",
       "        vertical-align: middle;\n",
       "    }\n",
       "\n",
       "    .dataframe tbody tr th {\n",
       "        vertical-align: top;\n",
       "    }\n",
       "\n",
       "    .dataframe thead th {\n",
       "        text-align: right;\n",
       "    }\n",
       "</style>\n",
       "<table border=\"1\" class=\"dataframe\">\n",
       "  <thead>\n",
       "    <tr style=\"text-align: right;\">\n",
       "      <th></th>\n",
       "      <th>state</th>\n",
       "      <th>county_name</th>\n",
       "      <th>unemployment_rate_2010</th>\n",
       "      <th>population_total_2010</th>\n",
       "      <th>urban_population_prc</th>\n",
       "      <th>rural_population_prc</th>\n",
       "      <th>crime_per_capita</th>\n",
       "      <th>per_capita_sme_num</th>\n",
       "      <th>per_capita_large_num</th>\n",
       "      <th>avg_ann_pay_per_emp_sme</th>\n",
       "      <th>...</th>\n",
       "      <th>popul_college_grad_prc</th>\n",
       "      <th>popul_single_paren_prc</th>\n",
       "      <th>liquor_stores_per10k</th>\n",
       "      <th>police_per_1000</th>\n",
       "      <th>WhiteNonHispanicPct2010</th>\n",
       "      <th>BlackNonHispanicPct2010</th>\n",
       "      <th>AsianNonHispanicPct2010</th>\n",
       "      <th>NativeAmericanNonHispanicPct2010</th>\n",
       "      <th>HispanicPct2010</th>\n",
       "      <th>MultipleRacePct2010</th>\n",
       "    </tr>\n",
       "  </thead>\n",
       "  <tbody>\n",
       "    <tr>\n",
       "      <th>0</th>\n",
       "      <td>AL</td>\n",
       "      <td>Autauga</td>\n",
       "      <td>8.8</td>\n",
       "      <td>54571.0</td>\n",
       "      <td>0.579978</td>\n",
       "      <td>0.420022</td>\n",
       "      <td>0.002620</td>\n",
       "      <td>0.012259</td>\n",
       "      <td>0.002565</td>\n",
       "      <td>22667.03037</td>\n",
       "      <td>...</td>\n",
       "      <td>0.21</td>\n",
       "      <td>0.09</td>\n",
       "      <td>0.4</td>\n",
       "      <td>1.172784</td>\n",
       "      <td>77.25</td>\n",
       "      <td>17.58</td>\n",
       "      <td>0.86</td>\n",
       "      <td>0.40</td>\n",
       "      <td>2.40</td>\n",
       "      <td>1.59</td>\n",
       "    </tr>\n",
       "    <tr>\n",
       "      <th>1</th>\n",
       "      <td>AL</td>\n",
       "      <td>Baldwin</td>\n",
       "      <td>9.9</td>\n",
       "      <td>182265.0</td>\n",
       "      <td>0.577209</td>\n",
       "      <td>0.422791</td>\n",
       "      <td>0.002112</td>\n",
       "      <td>0.020108</td>\n",
       "      <td>0.002019</td>\n",
       "      <td>28664.84962</td>\n",
       "      <td>...</td>\n",
       "      <td>0.26</td>\n",
       "      <td>0.09</td>\n",
       "      <td>0.8</td>\n",
       "      <td>1.486846</td>\n",
       "      <td>83.50</td>\n",
       "      <td>9.31</td>\n",
       "      <td>0.74</td>\n",
       "      <td>0.63</td>\n",
       "      <td>4.38</td>\n",
       "      <td>1.49</td>\n",
       "    </tr>\n",
       "    <tr>\n",
       "      <th>2</th>\n",
       "      <td>AL</td>\n",
       "      <td>Barbour</td>\n",
       "      <td>12.1</td>\n",
       "      <td>27457.0</td>\n",
       "      <td>0.322104</td>\n",
       "      <td>0.677896</td>\n",
       "      <td>0.000911</td>\n",
       "      <td>0.015042</td>\n",
       "      <td>0.002586</td>\n",
       "      <td>25720.31403</td>\n",
       "      <td>...</td>\n",
       "      <td>0.11</td>\n",
       "      <td>0.14</td>\n",
       "      <td>1.1</td>\n",
       "      <td>3.177696</td>\n",
       "      <td>46.75</td>\n",
       "      <td>46.69</td>\n",
       "      <td>0.39</td>\n",
       "      <td>0.22</td>\n",
       "      <td>5.05</td>\n",
       "      <td>0.94</td>\n",
       "    </tr>\n",
       "    <tr>\n",
       "      <th>3</th>\n",
       "      <td>AL</td>\n",
       "      <td>Bibb</td>\n",
       "      <td>11.2</td>\n",
       "      <td>22915.0</td>\n",
       "      <td>0.316474</td>\n",
       "      <td>0.683526</td>\n",
       "      <td>0.002575</td>\n",
       "      <td>0.011172</td>\n",
       "      <td>0.000916</td>\n",
       "      <td>27318.29733</td>\n",
       "      <td>...</td>\n",
       "      <td>0.11</td>\n",
       "      <td>0.05</td>\n",
       "      <td>0.5</td>\n",
       "      <td>0.523674</td>\n",
       "      <td>75.02</td>\n",
       "      <td>21.92</td>\n",
       "      <td>0.10</td>\n",
       "      <td>0.28</td>\n",
       "      <td>1.77</td>\n",
       "      <td>0.89</td>\n",
       "    </tr>\n",
       "    <tr>\n",
       "      <th>4</th>\n",
       "      <td>AL</td>\n",
       "      <td>Blount</td>\n",
       "      <td>9.7</td>\n",
       "      <td>57322.0</td>\n",
       "      <td>0.100485</td>\n",
       "      <td>0.899515</td>\n",
       "      <td>0.000419</td>\n",
       "      <td>0.010485</td>\n",
       "      <td>0.001082</td>\n",
       "      <td>26050.59382</td>\n",
       "      <td>...</td>\n",
       "      <td>0.12</td>\n",
       "      <td>0.07</td>\n",
       "      <td>0.0</td>\n",
       "      <td>0.854820</td>\n",
       "      <td>88.89</td>\n",
       "      <td>1.26</td>\n",
       "      <td>0.20</td>\n",
       "      <td>0.50</td>\n",
       "      <td>8.07</td>\n",
       "      <td>1.19</td>\n",
       "    </tr>\n",
       "  </tbody>\n",
       "</table>\n",
       "<p>5 rows × 28 columns</p>\n",
       "</div>"
      ],
      "text/plain": [
       "  state county_name  unemployment_rate_2010  population_total_2010  \\\n",
       "0    AL     Autauga                     8.8                54571.0   \n",
       "1    AL     Baldwin                     9.9               182265.0   \n",
       "2    AL     Barbour                    12.1                27457.0   \n",
       "3    AL        Bibb                    11.2                22915.0   \n",
       "4    AL      Blount                     9.7                57322.0   \n",
       "\n",
       "   urban_population_prc  rural_population_prc  crime_per_capita  \\\n",
       "0              0.579978              0.420022          0.002620   \n",
       "1              0.577209              0.422791          0.002112   \n",
       "2              0.322104              0.677896          0.000911   \n",
       "3              0.316474              0.683526          0.002575   \n",
       "4              0.100485              0.899515          0.000419   \n",
       "\n",
       "   per_capita_sme_num  per_capita_large_num  avg_ann_pay_per_emp_sme  ...  \\\n",
       "0            0.012259              0.002565              22667.03037  ...   \n",
       "1            0.020108              0.002019              28664.84962  ...   \n",
       "2            0.015042              0.002586              25720.31403  ...   \n",
       "3            0.011172              0.000916              27318.29733  ...   \n",
       "4            0.010485              0.001082              26050.59382  ...   \n",
       "\n",
       "   popul_college_grad_prc  popul_single_paren_prc  liquor_stores_per10k  \\\n",
       "0                    0.21                    0.09                   0.4   \n",
       "1                    0.26                    0.09                   0.8   \n",
       "2                    0.11                    0.14                   1.1   \n",
       "3                    0.11                    0.05                   0.5   \n",
       "4                    0.12                    0.07                   0.0   \n",
       "\n",
       "   police_per_1000  WhiteNonHispanicPct2010  BlackNonHispanicPct2010  \\\n",
       "0         1.172784                    77.25                    17.58   \n",
       "1         1.486846                    83.50                     9.31   \n",
       "2         3.177696                    46.75                    46.69   \n",
       "3         0.523674                    75.02                    21.92   \n",
       "4         0.854820                    88.89                     1.26   \n",
       "\n",
       "   AsianNonHispanicPct2010  NativeAmericanNonHispanicPct2010  HispanicPct2010  \\\n",
       "0                     0.86                              0.40             2.40   \n",
       "1                     0.74                              0.63             4.38   \n",
       "2                     0.39                              0.22             5.05   \n",
       "3                     0.10                              0.28             1.77   \n",
       "4                     0.20                              0.50             8.07   \n",
       "\n",
       "   MultipleRacePct2010  \n",
       "0                 1.59  \n",
       "1                 1.49  \n",
       "2                 0.94  \n",
       "3                 0.89  \n",
       "4                 1.19  \n",
       "\n",
       "[5 rows x 28 columns]"
      ]
     },
     "execution_count": 9,
     "metadata": {},
     "output_type": "execute_result"
    }
   ],
   "source": [
    "df_lin_reg.head()"
   ]
  },
  {
   "cell_type": "code",
   "execution_count": 10,
   "id": "f16acb6f",
   "metadata": {},
   "outputs": [
    {
     "data": {
      "text/plain": [
       "LinearRegression()"
      ]
     },
     "execution_count": 10,
     "metadata": {},
     "output_type": "execute_result"
    }
   ],
   "source": [
    "lin_reg = LinearRegression()\n",
    "X = df_lin_reg.drop(columns=['state', 'county_name', 'unemployment_rate_2010', 'population_total_2010'])\n",
    "y = df_lin_reg['unemployment_rate_2010']\n",
    "X_train_lr, X_test_lr, y_train_lr, y_test_lr = train_test_split(X, y, random_state=42)\n",
    "lin_reg.fit(X_train_lr, y_train_lr)"
   ]
  },
  {
   "cell_type": "code",
   "execution_count": 11,
   "id": "158bc146",
   "metadata": {},
   "outputs": [
    {
     "data": {
      "text/plain": [
       "(0.42994235436657524, 0.39382629110868805, 0.35938743087343344)"
      ]
     },
     "execution_count": 11,
     "metadata": {},
     "output_type": "execute_result"
    }
   ],
   "source": [
    "lin_reg.score(X_train_lr, y_train_lr),lin_reg.score(X_test_lr, y_test_lr), cross_val_score(lin_reg, X_train_lr, y_train_lr).mean() "
   ]
  },
  {
   "cell_type": "code",
   "execution_count": 12,
   "id": "e1c55e98",
   "metadata": {},
   "outputs": [
    {
     "data": {
      "image/png": "[encoded data removed]",
      "text/plain": [
       "<Figure size 792x792 with 1 Axes>"
      ]
     },
     "metadata": {
      "needs_background": "light"
     },
     "output_type": "display_data"
    }
   ],
   "source": [
    "\n",
    "plt.figure(figsize=(11,11))\n",
    "plt.scatter(lin_reg.predict(X_train_lr), y_train_lr)\n",
    "plt.title('LR_orig - Train: 0.43, Test: 0.394, Cross: 0.359')\n",
    "plt.savefig('../graphs/LR_orig_pred_scatter.jpg')"
   ]
  },
  {
   "cell_type": "markdown",
   "id": "f3600668",
   "metadata": {},
   "source": [
    "### Linear Regression on preprocessed data"
   ]
  },
  {
   "cell_type": "code",
   "execution_count": 13,
   "id": "f06de963",
   "metadata": {},
   "outputs": [
    {
     "data": {
      "text/plain": [
       "LinearRegression()"
      ]
     },
     "execution_count": 13,
     "metadata": {},
     "output_type": "execute_result"
    }
   ],
   "source": [
    "lr = LinearRegression()\n",
    "lr.fit(Z_train, y_train)"
   ]
  },
  {
   "cell_type": "code",
   "execution_count": 14,
   "id": "57db8bac",
   "metadata": {},
   "outputs": [
    {
     "data": {
      "text/plain": [
       "(0.5444726652998366, 0.48422563823782516, 0.4482401956846175)"
      ]
     },
     "execution_count": 14,
     "metadata": {},
     "output_type": "execute_result"
    }
   ],
   "source": [
    "lr.score(Z_train, y_train), lr.score(Z_test, y_test), cross_val_score(lr, Z_train, y_train).mean()"
   ]
  },
  {
   "cell_type": "code",
   "execution_count": 15,
   "id": "021aca47",
   "metadata": {},
   "outputs": [],
   "source": [
    "lin_train = cross_val_predict(lr, Z_train, y_train)\n",
    "lin_test = cross_val_predict(lr, Z_test, y_test)"
   ]
  },
  {
   "cell_type": "code",
   "execution_count": 16,
   "id": "eced0afa",
   "metadata": {
    "scrolled": true
   },
   "outputs": [
    {
     "data": {
      "image/png": "[encoded data removed]",
      "text/plain": [
       "<Figure size 792x792 with 1 Axes>"
      ]
     },
     "metadata": {
      "needs_background": "light"
     },
     "output_type": "display_data"
    }
   ],
   "source": [
    "\n",
    "plt.figure(figsize=(11,11))\n",
    "plt.scatter(lr.predict(Z_train), y_train)\n",
    "plt.title('LR_preproc - Train: 0.545, Test: 0.484, Cross: 0.457')\n",
    "plt.savefig('../graphs/LR_preproc_pred_scatter.jpg')"
   ]
  },
  {
   "cell_type": "markdown",
   "id": "c3ebc2fa",
   "metadata": {},
   "source": [
    "### Linear Regression PCA"
   ]
  },
  {
   "cell_type": "code",
   "execution_count": 17,
   "id": "369f1b78",
   "metadata": {},
   "outputs": [],
   "source": [
    "df = pd.read_csv('../data/final_work_data.csv')"
   ]
  },
  {
   "cell_type": "code",
   "execution_count": 18,
   "id": "71588da3",
   "metadata": {},
   "outputs": [],
   "source": [
    "X = df.drop(columns = ['state', 'county_name', 'unemployment_rate_2010', 'population_total_2010'])\n",
    "y = df['unemployment_rate_2010']"
   ]
  },
  {
   "cell_type": "code",
   "execution_count": 19,
   "id": "661413c3",
   "metadata": {},
   "outputs": [],
   "source": [
    "X_train, X_test, y_train, y_test = train_test_split(X, y, random_state=42)"
   ]
  },
  {
   "cell_type": "code",
   "execution_count": 20,
   "id": "2bd57692",
   "metadata": {},
   "outputs": [
    {
     "name": "stdout",
     "output_type": "stream",
     "text": [
      "0.09328924961291148\n",
      "0.21090012051117402\n",
      "-3769.650507982157\n"
     ]
    },
    {
     "data": {
      "text/plain": [
       "{'pca__n_components': 10}"
      ]
     },
     "execution_count": 20,
     "metadata": {},
     "output_type": "execute_result"
    }
   ],
   "source": [
    "pipe = Pipeline([\n",
    "    ('poly', PolynomialFeatures(degree=3, include_bias=False)),\n",
    "    ('ss', StandardScaler()),\n",
    "    ('pca', PCA()),\n",
    "    ('model', LinearRegression())\n",
    "])\n",
    "params = {\n",
    "    'pca__n_components': range(10,200,20)\n",
    "}\n",
    "gs = GridSearchCV(pipe, param_grid=params)\n",
    "gs.fit(X_train, y_train)\n",
    "print(gs.best_score_)\n",
    "print(gs.score(X_test, y_test))\n",
    "print(cross_val_score(gs, X_train, y_train).mean())\n",
    "gs.best_params_"
   ]
  },
  {
   "cell_type": "code",
   "execution_count": 21,
   "id": "c830aff8",
   "metadata": {},
   "outputs": [
    {
     "data": {
      "image/png": "[encoded data removed]",
      "text/plain": [
       "<Figure size 792x792 with 1 Axes>"
      ]
     },
     "metadata": {
      "needs_background": "light"
     },
     "output_type": "display_data"
    }
   ],
   "source": [
    "plt.figure(figsize=(11,11))\n",
    "plt.scatter(gs.predict(X_train), y_train)\n",
    "plt.title('LR_PCA - very low scores')\n",
    "plt.savefig('../graphs/LR_PCA_pred_scatter.jpg')"
   ]
  },
  {
   "cell_type": "markdown",
   "id": "14da9a54",
   "metadata": {},
   "source": [
    "### Neural network on linear regression interaction data"
   ]
  },
  {
   "cell_type": "code",
   "execution_count": 22,
   "id": "c480027b",
   "metadata": {},
   "outputs": [],
   "source": [
    "df = pd.read_csv('../data/full_data_interaction_025_075.csv')"
   ]
  },
  {
   "cell_type": "code",
   "execution_count": 23,
   "id": "1ebe39c8",
   "metadata": {},
   "outputs": [],
   "source": [
    "X = df.drop(columns = ['state', 'county_name', 'unemployment_rate_2010', 'population_total_2010'])\n",
    "y = df['unemployment_rate_2010']"
   ]
  },
  {
   "cell_type": "code",
   "execution_count": 24,
   "id": "4f146170",
   "metadata": {},
   "outputs": [],
   "source": [
    "X_train, X_test, y_train, y_test = train_test_split(X, y, random_state=42)"
   ]
  },
  {
   "cell_type": "code",
   "execution_count": 25,
   "id": "33e4bab9",
   "metadata": {},
   "outputs": [],
   "source": [
    "ss = StandardScaler()\n",
    "Z_train = ss.fit_transform(X_train)\n",
    "Z_test = ss.transform(X_test)"
   ]
  },
  {
   "cell_type": "code",
   "execution_count": 26,
   "id": "473d9f10",
   "metadata": {},
   "outputs": [
    {
     "data": {
      "text/plain": [
       "(97,)"
      ]
     },
     "execution_count": 26,
     "metadata": {},
     "output_type": "execute_result"
    }
   ],
   "source": [
    "in_shape = Z_train[0].shape\n",
    "in_shape"
   ]
  },
  {
   "cell_type": "code",
   "execution_count": 27,
   "id": "8c1da7ad",
   "metadata": {},
   "outputs": [],
   "source": [
    "model_1 = Sequential()\n",
    "\n",
    "model_1.add(Dense(128, activation= 'relu', input_shape= in_shape))\n",
    "model_1.add(Dropout(.3))\n",
    "\n",
    "model_1.add(BatchNormalization())\n",
    "model_1.add(Dense(128, activation= 'relu'))\n",
    "\n",
    "model_1.add(BatchNormalization())\n",
    "model_1.add(Dense(64, activation= 'relu'))\n",
    "\n",
    "model_1.add(Dense(32, activation= 'relu'))\n",
    "model_1.add(Dropout(.5))\n",
    "\n",
    "model_1.add(Dense(1, activation= None))"
   ]
  },
  {
   "cell_type": "code",
   "execution_count": 28,
   "id": "1af3f8c8",
   "metadata": {},
   "outputs": [],
   "source": [
    "model_1.compile(optimizer= 'adam', loss= 'mse', metrics= ['mse', 'RootMeanSquaredError', 'MeanAbsolutePercentageError'])"
   ]
  },
  {
   "cell_type": "code",
   "execution_count": 29,
   "id": "2afcab94",
   "metadata": {},
   "outputs": [
    {
     "name": "stdout",
     "output_type": "stream",
     "text": [
      "Epoch 1/300\n",
      "71/71 [==============================] - 0s 5ms/step - loss: 35.0322 - mse: 35.0322 - root_mean_squared_error: 5.9188 - mean_absolute_percentage_error: 52.0369 - val_loss: 34.7013 - val_mse: 34.7013 - val_root_mean_squared_error: 5.8908 - val_mean_absolute_percentage_error: 53.7700\n",
      "Epoch 2/300\n",
      "71/71 [==============================] - 0s 3ms/step - loss: 14.7485 - mse: 14.7485 - root_mean_squared_error: 3.8404 - mean_absolute_percentage_error: 34.2904 - val_loss: 17.6078 - val_mse: 17.6078 - val_root_mean_squared_error: 4.1962 - val_mean_absolute_percentage_error: 35.7726\n",
      "Epoch 3/300\n",
      "71/71 [==============================] - 0s 3ms/step - loss: 12.2171 - mse: 12.2171 - root_mean_squared_error: 3.4953 - mean_absolute_percentage_error: 31.2108 - val_loss: 9.6718 - val_mse: 9.6718 - val_root_mean_squared_error: 3.1100 - val_mean_absolute_percentage_error: 24.3896\n",
      "Epoch 4/300\n",
      "71/71 [==============================] - 0s 3ms/step - loss: 12.0076 - mse: 12.0076 - root_mean_squared_error: 3.4652 - mean_absolute_percentage_error: 30.0940 - val_loss: 5.4450 - val_mse: 5.4450 - val_root_mean_squared_error: 2.3334 - val_mean_absolute_percentage_error: 18.9587\n",
      "Epoch 5/300\n",
      "71/71 [==============================] - 0s 3ms/step - loss: 11.0354 - mse: 11.0354 - root_mean_squared_error: 3.3220 - mean_absolute_percentage_error: 29.8798 - val_loss: 5.2893 - val_mse: 5.2893 - val_root_mean_squared_error: 2.2998 - val_mean_absolute_percentage_error: 19.0499\n",
      "Epoch 6/300\n",
      "71/71 [==============================] - 0s 3ms/step - loss: 10.4815 - mse: 10.4815 - root_mean_squared_error: 3.2375 - mean_absolute_percentage_error: 28.7854 - val_loss: 5.7727 - val_mse: 5.7727 - val_root_mean_squared_error: 2.4026 - val_mean_absolute_percentage_error: 18.7564\n",
      "Epoch 7/300\n",
      "71/71 [==============================] - 0s 3ms/step - loss: 10.8317 - mse: 10.8317 - root_mean_squared_error: 3.2912 - mean_absolute_percentage_error: 28.7199 - val_loss: 4.9961 - val_mse: 4.9961 - val_root_mean_squared_error: 2.2352 - val_mean_absolute_percentage_error: 18.9227\n",
      "Epoch 8/300\n",
      "71/71 [==============================] - 0s 3ms/step - loss: 10.8919 - mse: 10.8919 - root_mean_squared_error: 3.3003 - mean_absolute_percentage_error: 29.1659 - val_loss: 4.5934 - val_mse: 4.5934 - val_root_mean_squared_error: 2.1432 - val_mean_absolute_percentage_error: 18.6790\n",
      "Epoch 9/300\n",
      "71/71 [==============================] - 0s 3ms/step - loss: 9.9008 - mse: 9.9008 - root_mean_squared_error: 3.1466 - mean_absolute_percentage_error: 27.5593 - val_loss: 4.8821 - val_mse: 4.8821 - val_root_mean_squared_error: 2.2096 - val_mean_absolute_percentage_error: 18.1702\n",
      "Epoch 10/300\n",
      "71/71 [==============================] - 0s 3ms/step - loss: 9.6262 - mse: 9.6262 - root_mean_squared_error: 3.1026 - mean_absolute_percentage_error: 27.2914 - val_loss: 4.4444 - val_mse: 4.4444 - val_root_mean_squared_error: 2.1082 - val_mean_absolute_percentage_error: 18.3647\n",
      "Epoch 11/300\n",
      "71/71 [==============================] - 0s 3ms/step - loss: 9.3528 - mse: 9.3528 - root_mean_squared_error: 3.0582 - mean_absolute_percentage_error: 27.0809 - val_loss: 4.7103 - val_mse: 4.7103 - val_root_mean_squared_error: 2.1703 - val_mean_absolute_percentage_error: 18.0158\n",
      "Epoch 12/300\n",
      "71/71 [==============================] - 0s 3ms/step - loss: 9.7894 - mse: 9.7894 - root_mean_squared_error: 3.1288 - mean_absolute_percentage_error: 27.4962 - val_loss: 4.5183 - val_mse: 4.5183 - val_root_mean_squared_error: 2.1256 - val_mean_absolute_percentage_error: 17.5916\n",
      "Epoch 13/300\n",
      "71/71 [==============================] - 0s 3ms/step - loss: 9.2885 - mse: 9.2885 - root_mean_squared_error: 3.0477 - mean_absolute_percentage_error: 27.1168 - val_loss: 4.8937 - val_mse: 4.8937 - val_root_mean_squared_error: 2.2122 - val_mean_absolute_percentage_error: 18.2406\n",
      "Epoch 14/300\n",
      "71/71 [==============================] - 0s 3ms/step - loss: 9.1496 - mse: 9.1496 - root_mean_squared_error: 3.0248 - mean_absolute_percentage_error: 26.4638 - val_loss: 4.9016 - val_mse: 4.9016 - val_root_mean_squared_error: 2.2140 - val_mean_absolute_percentage_error: 17.7428\n",
      "Epoch 15/300\n",
      "71/71 [==============================] - 0s 3ms/step - loss: 8.9238 - mse: 8.9238 - root_mean_squared_error: 2.9873 - mean_absolute_percentage_error: 26.2285 - val_loss: 4.1846 - val_mse: 4.1846 - val_root_mean_squared_error: 2.0456 - val_mean_absolute_percentage_error: 17.7072\n",
      "Epoch 16/300\n",
      "71/71 [==============================] - 0s 3ms/step - loss: 8.4394 - mse: 8.4394 - root_mean_squared_error: 2.9051 - mean_absolute_percentage_error: 25.4529 - val_loss: 4.3599 - val_mse: 4.3599 - val_root_mean_squared_error: 2.0880 - val_mean_absolute_percentage_error: 17.9655\n",
      "Epoch 17/300\n",
      "71/71 [==============================] - 0s 3ms/step - loss: 9.1520 - mse: 9.1520 - root_mean_squared_error: 3.0252 - mean_absolute_percentage_error: 26.2307 - val_loss: 4.3138 - val_mse: 4.3138 - val_root_mean_squared_error: 2.0770 - val_mean_absolute_percentage_error: 18.0238\n",
      "Epoch 18/300\n",
      "71/71 [==============================] - 0s 3ms/step - loss: 9.1158 - mse: 9.1158 - root_mean_squared_error: 3.0192 - mean_absolute_percentage_error: 25.9651 - val_loss: 4.6896 - val_mse: 4.6896 - val_root_mean_squared_error: 2.1655 - val_mean_absolute_percentage_error: 17.2429\n",
      "Epoch 19/300\n",
      "71/71 [==============================] - 0s 3ms/step - loss: 8.7490 - mse: 8.7490 - root_mean_squared_error: 2.9579 - mean_absolute_percentage_error: 26.4080 - val_loss: 4.4002 - val_mse: 4.4002 - val_root_mean_squared_error: 2.0977 - val_mean_absolute_percentage_error: 17.5765\n",
      "Epoch 20/300\n",
      "71/71 [==============================] - 0s 3ms/step - loss: 8.5122 - mse: 8.5122 - root_mean_squared_error: 2.9176 - mean_absolute_percentage_error: 25.4999 - val_loss: 4.1870 - val_mse: 4.1870 - val_root_mean_squared_error: 2.0462 - val_mean_absolute_percentage_error: 17.3017\n",
      "Epoch 21/300\n",
      "71/71 [==============================] - 0s 3ms/step - loss: 8.4412 - mse: 8.4412 - root_mean_squared_error: 2.9054 - mean_absolute_percentage_error: 25.4790 - val_loss: 4.3641 - val_mse: 4.3641 - val_root_mean_squared_error: 2.0890 - val_mean_absolute_percentage_error: 17.2142\n",
      "Epoch 22/300\n",
      "71/71 [==============================] - 0s 3ms/step - loss: 8.2957 - mse: 8.2957 - root_mean_squared_error: 2.8802 - mean_absolute_percentage_error: 25.2925 - val_loss: 4.2261 - val_mse: 4.2261 - val_root_mean_squared_error: 2.0557 - val_mean_absolute_percentage_error: 17.5065\n",
      "Epoch 23/300\n",
      "71/71 [==============================] - 0s 3ms/step - loss: 8.4726 - mse: 8.4726 - root_mean_squared_error: 2.9108 - mean_absolute_percentage_error: 25.1887 - val_loss: 4.4564 - val_mse: 4.4564 - val_root_mean_squared_error: 2.1110 - val_mean_absolute_percentage_error: 17.7783\n",
      "Epoch 24/300\n",
      "71/71 [==============================] - 0s 3ms/step - loss: 8.3352 - mse: 8.3352 - root_mean_squared_error: 2.8871 - mean_absolute_percentage_error: 25.0866 - val_loss: 4.2561 - val_mse: 4.2561 - val_root_mean_squared_error: 2.0630 - val_mean_absolute_percentage_error: 17.3406\n",
      "Epoch 25/300\n",
      "71/71 [==============================] - 0s 3ms/step - loss: 8.5384 - mse: 8.5384 - root_mean_squared_error: 2.9220 - mean_absolute_percentage_error: 24.8870 - val_loss: 4.6817 - val_mse: 4.6817 - val_root_mean_squared_error: 2.1637 - val_mean_absolute_percentage_error: 17.4859\n",
      "Epoch 26/300\n",
      "71/71 [==============================] - 0s 3ms/step - loss: 8.4433 - mse: 8.4433 - root_mean_squared_error: 2.9057 - mean_absolute_percentage_error: 24.9331 - val_loss: 4.1613 - val_mse: 4.1613 - val_root_mean_squared_error: 2.0399 - val_mean_absolute_percentage_error: 17.5370\n",
      "Epoch 27/300\n",
      "71/71 [==============================] - 0s 3ms/step - loss: 8.0262 - mse: 8.0262 - root_mean_squared_error: 2.8331 - mean_absolute_percentage_error: 24.9224 - val_loss: 4.4290 - val_mse: 4.4290 - val_root_mean_squared_error: 2.1045 - val_mean_absolute_percentage_error: 17.2986\n",
      "Epoch 28/300\n",
      "71/71 [==============================] - 0s 3ms/step - loss: 7.5032 - mse: 7.5032 - root_mean_squared_error: 2.7392 - mean_absolute_percentage_error: 24.0386 - val_loss: 4.0282 - val_mse: 4.0282 - val_root_mean_squared_error: 2.0070 - val_mean_absolute_percentage_error: 16.5874\n",
      "Epoch 29/300\n",
      "71/71 [==============================] - 0s 3ms/step - loss: 8.2500 - mse: 8.2500 - root_mean_squared_error: 2.8723 - mean_absolute_percentage_error: 25.1127 - val_loss: 4.2060 - val_mse: 4.2060 - val_root_mean_squared_error: 2.0508 - val_mean_absolute_percentage_error: 16.7545\n",
      "Epoch 30/300\n",
      "71/71 [==============================] - 0s 3ms/step - loss: 7.7564 - mse: 7.7564 - root_mean_squared_error: 2.7850 - mean_absolute_percentage_error: 24.2330 - val_loss: 4.3735 - val_mse: 4.3735 - val_root_mean_squared_error: 2.0913 - val_mean_absolute_percentage_error: 16.8373\n",
      "Epoch 31/300\n",
      "71/71 [==============================] - 0s 3ms/step - loss: 7.5905 - mse: 7.5905 - root_mean_squared_error: 2.7551 - mean_absolute_percentage_error: 23.4748 - val_loss: 4.0814 - val_mse: 4.0814 - val_root_mean_squared_error: 2.0202 - val_mean_absolute_percentage_error: 17.1289\n",
      "Epoch 32/300\n",
      "71/71 [==============================] - 0s 3ms/step - loss: 7.8664 - mse: 7.8664 - root_mean_squared_error: 2.8047 - mean_absolute_percentage_error: 24.1355 - val_loss: 4.1947 - val_mse: 4.1947 - val_root_mean_squared_error: 2.0481 - val_mean_absolute_percentage_error: 16.5666\n",
      "Epoch 33/300\n",
      "71/71 [==============================] - 0s 3ms/step - loss: 7.6805 - mse: 7.6805 - root_mean_squared_error: 2.7714 - mean_absolute_percentage_error: 23.6857 - val_loss: 3.9216 - val_mse: 3.9216 - val_root_mean_squared_error: 1.9803 - val_mean_absolute_percentage_error: 16.7636\n",
      "Epoch 34/300\n",
      "71/71 [==============================] - 0s 3ms/step - loss: 7.2955 - mse: 7.2955 - root_mean_squared_error: 2.7010 - mean_absolute_percentage_error: 23.0427 - val_loss: 4.1735 - val_mse: 4.1735 - val_root_mean_squared_error: 2.0429 - val_mean_absolute_percentage_error: 16.6374\n",
      "Epoch 35/300\n",
      "71/71 [==============================] - 0s 3ms/step - loss: 7.4834 - mse: 7.4834 - root_mean_squared_error: 2.7356 - mean_absolute_percentage_error: 23.7293 - val_loss: 4.1645 - val_mse: 4.1645 - val_root_mean_squared_error: 2.0407 - val_mean_absolute_percentage_error: 16.4457\n",
      "Epoch 36/300\n",
      "71/71 [==============================] - 0s 3ms/step - loss: 7.4265 - mse: 7.4265 - root_mean_squared_error: 2.7252 - mean_absolute_percentage_error: 23.1045 - val_loss: 3.7903 - val_mse: 3.7903 - val_root_mean_squared_error: 1.9469 - val_mean_absolute_percentage_error: 16.8201\n",
      "Epoch 37/300\n",
      "71/71 [==============================] - 0s 3ms/step - loss: 7.6110 - mse: 7.6110 - root_mean_squared_error: 2.7588 - mean_absolute_percentage_error: 23.9528 - val_loss: 5.1152 - val_mse: 5.1152 - val_root_mean_squared_error: 2.2617 - val_mean_absolute_percentage_error: 17.7771\n",
      "Epoch 38/300\n",
      "71/71 [==============================] - 0s 3ms/step - loss: 7.3494 - mse: 7.3494 - root_mean_squared_error: 2.7110 - mean_absolute_percentage_error: 23.9075 - val_loss: 3.8827 - val_mse: 3.8827 - val_root_mean_squared_error: 1.9705 - val_mean_absolute_percentage_error: 16.4801\n",
      "Epoch 39/300\n",
      "71/71 [==============================] - 0s 3ms/step - loss: 7.5307 - mse: 7.5307 - root_mean_squared_error: 2.7442 - mean_absolute_percentage_error: 24.0383 - val_loss: 4.0087 - val_mse: 4.0087 - val_root_mean_squared_error: 2.0022 - val_mean_absolute_percentage_error: 16.7290\n",
      "Epoch 40/300\n",
      "71/71 [==============================] - 0s 3ms/step - loss: 7.3460 - mse: 7.3460 - root_mean_squared_error: 2.7104 - mean_absolute_percentage_error: 23.1730 - val_loss: 3.8052 - val_mse: 3.8052 - val_root_mean_squared_error: 1.9507 - val_mean_absolute_percentage_error: 16.5948\n",
      "Epoch 41/300\n",
      "71/71 [==============================] - 0s 3ms/step - loss: 7.0146 - mse: 7.0146 - root_mean_squared_error: 2.6485 - mean_absolute_percentage_error: 22.7927 - val_loss: 3.9071 - val_mse: 3.9071 - val_root_mean_squared_error: 1.9766 - val_mean_absolute_percentage_error: 16.2284\n",
      "Epoch 42/300\n",
      "71/71 [==============================] - 0s 3ms/step - loss: 6.9000 - mse: 6.9000 - root_mean_squared_error: 2.6268 - mean_absolute_percentage_error: 22.4339 - val_loss: 4.0523 - val_mse: 4.0523 - val_root_mean_squared_error: 2.0130 - val_mean_absolute_percentage_error: 16.4833\n",
      "Epoch 43/300\n",
      "71/71 [==============================] - 0s 3ms/step - loss: 7.1009 - mse: 7.1009 - root_mean_squared_error: 2.6647 - mean_absolute_percentage_error: 22.7580 - val_loss: 4.1333 - val_mse: 4.1333 - val_root_mean_squared_error: 2.0331 - val_mean_absolute_percentage_error: 16.3878\n",
      "Epoch 44/300\n",
      "71/71 [==============================] - 0s 3ms/step - loss: 7.0235 - mse: 7.0235 - root_mean_squared_error: 2.6502 - mean_absolute_percentage_error: 22.3075 - val_loss: 4.0771 - val_mse: 4.0771 - val_root_mean_squared_error: 2.0192 - val_mean_absolute_percentage_error: 16.6469\n",
      "Epoch 45/300\n",
      "71/71 [==============================] - 0s 3ms/step - loss: 6.8637 - mse: 6.8637 - root_mean_squared_error: 2.6199 - mean_absolute_percentage_error: 22.7007 - val_loss: 3.8255 - val_mse: 3.8255 - val_root_mean_squared_error: 1.9559 - val_mean_absolute_percentage_error: 16.2696\n",
      "Epoch 46/300\n",
      "71/71 [==============================] - 0s 3ms/step - loss: 6.6758 - mse: 6.6758 - root_mean_squared_error: 2.5837 - mean_absolute_percentage_error: 22.1464 - val_loss: 3.9008 - val_mse: 3.9008 - val_root_mean_squared_error: 1.9750 - val_mean_absolute_percentage_error: 16.1186\n",
      "Epoch 47/300\n",
      "71/71 [==============================] - 0s 3ms/step - loss: 6.8986 - mse: 6.8986 - root_mean_squared_error: 2.6265 - mean_absolute_percentage_error: 22.3029 - val_loss: 4.1391 - val_mse: 4.1391 - val_root_mean_squared_error: 2.0345 - val_mean_absolute_percentage_error: 15.8898\n",
      "Epoch 48/300\n",
      "71/71 [==============================] - 0s 3ms/step - loss: 6.8089 - mse: 6.8089 - root_mean_squared_error: 2.6094 - mean_absolute_percentage_error: 22.2291 - val_loss: 3.7109 - val_mse: 3.7109 - val_root_mean_squared_error: 1.9264 - val_mean_absolute_percentage_error: 16.7083\n",
      "Epoch 49/300\n",
      "71/71 [==============================] - 0s 3ms/step - loss: 6.6825 - mse: 6.6825 - root_mean_squared_error: 2.5851 - mean_absolute_percentage_error: 22.3727 - val_loss: 3.9567 - val_mse: 3.9567 - val_root_mean_squared_error: 1.9892 - val_mean_absolute_percentage_error: 16.3393\n",
      "Epoch 50/300\n",
      "71/71 [==============================] - 0s 3ms/step - loss: 6.5783 - mse: 6.5783 - root_mean_squared_error: 2.5648 - mean_absolute_percentage_error: 21.5352 - val_loss: 3.7300 - val_mse: 3.7300 - val_root_mean_squared_error: 1.9313 - val_mean_absolute_percentage_error: 16.5818\n",
      "Epoch 51/300\n",
      "71/71 [==============================] - 0s 3ms/step - loss: 6.4253 - mse: 6.4253 - root_mean_squared_error: 2.5348 - mean_absolute_percentage_error: 22.0207 - val_loss: 3.8212 - val_mse: 3.8212 - val_root_mean_squared_error: 1.9548 - val_mean_absolute_percentage_error: 16.1814\n",
      "Epoch 52/300\n",
      "71/71 [==============================] - 0s 3ms/step - loss: 6.3356 - mse: 6.3356 - root_mean_squared_error: 2.5171 - mean_absolute_percentage_error: 21.7099 - val_loss: 4.1411 - val_mse: 4.1411 - val_root_mean_squared_error: 2.0350 - val_mean_absolute_percentage_error: 16.4081\n",
      "Epoch 53/300\n",
      "71/71 [==============================] - 0s 3ms/step - loss: 6.2462 - mse: 6.2462 - root_mean_squared_error: 2.4992 - mean_absolute_percentage_error: 21.7057 - val_loss: 3.7161 - val_mse: 3.7161 - val_root_mean_squared_error: 1.9277 - val_mean_absolute_percentage_error: 16.2983\n",
      "Epoch 54/300\n",
      "71/71 [==============================] - 0s 3ms/step - loss: 6.3702 - mse: 6.3702 - root_mean_squared_error: 2.5239 - mean_absolute_percentage_error: 21.4393 - val_loss: 3.7117 - val_mse: 3.7117 - val_root_mean_squared_error: 1.9266 - val_mean_absolute_percentage_error: 15.9162\n",
      "Epoch 55/300\n",
      "71/71 [==============================] - 0s 3ms/step - loss: 6.1674 - mse: 6.1674 - root_mean_squared_error: 2.4834 - mean_absolute_percentage_error: 21.4116 - val_loss: 3.7780 - val_mse: 3.7780 - val_root_mean_squared_error: 1.9437 - val_mean_absolute_percentage_error: 15.9607\n",
      "Epoch 56/300\n",
      "71/71 [==============================] - 0s 3ms/step - loss: 6.2599 - mse: 6.2599 - root_mean_squared_error: 2.5020 - mean_absolute_percentage_error: 21.1485 - val_loss: 4.0014 - val_mse: 4.0014 - val_root_mean_squared_error: 2.0003 - val_mean_absolute_percentage_error: 16.1242\n",
      "Epoch 57/300\n",
      "71/71 [==============================] - 0s 3ms/step - loss: 5.9491 - mse: 5.9491 - root_mean_squared_error: 2.4391 - mean_absolute_percentage_error: 20.9214 - val_loss: 3.9437 - val_mse: 3.9437 - val_root_mean_squared_error: 1.9859 - val_mean_absolute_percentage_error: 16.3498\n",
      "Epoch 58/300\n",
      "71/71 [==============================] - 0s 3ms/step - loss: 5.9227 - mse: 5.9227 - root_mean_squared_error: 2.4337 - mean_absolute_percentage_error: 20.8164 - val_loss: 3.8678 - val_mse: 3.8678 - val_root_mean_squared_error: 1.9667 - val_mean_absolute_percentage_error: 16.4578\n",
      "Epoch 59/300\n",
      "71/71 [==============================] - 0s 3ms/step - loss: 6.1180 - mse: 6.1180 - root_mean_squared_error: 2.4735 - mean_absolute_percentage_error: 21.0885 - val_loss: 3.7553 - val_mse: 3.7553 - val_root_mean_squared_error: 1.9379 - val_mean_absolute_percentage_error: 16.2835\n",
      "Epoch 60/300\n",
      "71/71 [==============================] - 0s 3ms/step - loss: 6.0910 - mse: 6.0910 - root_mean_squared_error: 2.4680 - mean_absolute_percentage_error: 20.5395 - val_loss: 4.0129 - val_mse: 4.0129 - val_root_mean_squared_error: 2.0032 - val_mean_absolute_percentage_error: 16.0457\n",
      "Epoch 61/300\n",
      "71/71 [==============================] - 0s 3ms/step - loss: 5.7360 - mse: 5.7360 - root_mean_squared_error: 2.3950 - mean_absolute_percentage_error: 20.3769 - val_loss: 3.9443 - val_mse: 3.9443 - val_root_mean_squared_error: 1.9860 - val_mean_absolute_percentage_error: 16.0853\n",
      "Epoch 62/300\n",
      "71/71 [==============================] - 0s 3ms/step - loss: 5.9410 - mse: 5.9410 - root_mean_squared_error: 2.4374 - mean_absolute_percentage_error: 20.7017 - val_loss: 3.7595 - val_mse: 3.7595 - val_root_mean_squared_error: 1.9390 - val_mean_absolute_percentage_error: 16.3570\n",
      "Epoch 63/300\n",
      "71/71 [==============================] - 0s 3ms/step - loss: 5.8685 - mse: 5.8685 - root_mean_squared_error: 2.4225 - mean_absolute_percentage_error: 20.5216 - val_loss: 3.9937 - val_mse: 3.9937 - val_root_mean_squared_error: 1.9984 - val_mean_absolute_percentage_error: 16.3910\n",
      "Epoch 64/300\n",
      "71/71 [==============================] - 0s 3ms/step - loss: 5.7439 - mse: 5.7439 - root_mean_squared_error: 2.3966 - mean_absolute_percentage_error: 20.2508 - val_loss: 3.5892 - val_mse: 3.5892 - val_root_mean_squared_error: 1.8945 - val_mean_absolute_percentage_error: 15.7682\n",
      "Epoch 65/300\n",
      "71/71 [==============================] - 0s 3ms/step - loss: 5.5109 - mse: 5.5109 - root_mean_squared_error: 2.3475 - mean_absolute_percentage_error: 20.0225 - val_loss: 3.7950 - val_mse: 3.7950 - val_root_mean_squared_error: 1.9481 - val_mean_absolute_percentage_error: 15.9992\n",
      "Epoch 66/300\n",
      "71/71 [==============================] - 0s 3ms/step - loss: 5.4965 - mse: 5.4965 - root_mean_squared_error: 2.3445 - mean_absolute_percentage_error: 19.9312 - val_loss: 3.8281 - val_mse: 3.8281 - val_root_mean_squared_error: 1.9566 - val_mean_absolute_percentage_error: 16.2643\n",
      "Epoch 67/300\n",
      "71/71 [==============================] - 0s 3ms/step - loss: 5.6472 - mse: 5.6472 - root_mean_squared_error: 2.3764 - mean_absolute_percentage_error: 20.2822 - val_loss: 3.9844 - val_mse: 3.9844 - val_root_mean_squared_error: 1.9961 - val_mean_absolute_percentage_error: 15.9599\n",
      "Epoch 68/300\n",
      "71/71 [==============================] - 0s 3ms/step - loss: 5.9060 - mse: 5.9060 - root_mean_squared_error: 2.4302 - mean_absolute_percentage_error: 20.5833 - val_loss: 3.6122 - val_mse: 3.6122 - val_root_mean_squared_error: 1.9006 - val_mean_absolute_percentage_error: 16.0771\n",
      "Epoch 69/300\n",
      "71/71 [==============================] - 0s 3ms/step - loss: 5.6493 - mse: 5.6493 - root_mean_squared_error: 2.3768 - mean_absolute_percentage_error: 20.2056 - val_loss: 3.6771 - val_mse: 3.6771 - val_root_mean_squared_error: 1.9176 - val_mean_absolute_percentage_error: 16.2204\n",
      "Epoch 70/300\n",
      "71/71 [==============================] - 0s 3ms/step - loss: 5.6146 - mse: 5.6146 - root_mean_squared_error: 2.3695 - mean_absolute_percentage_error: 19.9359 - val_loss: 3.6287 - val_mse: 3.6287 - val_root_mean_squared_error: 1.9049 - val_mean_absolute_percentage_error: 16.6647\n",
      "Epoch 71/300\n",
      "71/71 [==============================] - 0s 3ms/step - loss: 5.4713 - mse: 5.4713 - root_mean_squared_error: 2.3391 - mean_absolute_percentage_error: 19.7344 - val_loss: 3.8524 - val_mse: 3.8524 - val_root_mean_squared_error: 1.9628 - val_mean_absolute_percentage_error: 16.1239\n",
      "Epoch 72/300\n",
      "71/71 [==============================] - 0s 3ms/step - loss: 5.4460 - mse: 5.4460 - root_mean_squared_error: 2.3337 - mean_absolute_percentage_error: 19.5091 - val_loss: 3.6177 - val_mse: 3.6177 - val_root_mean_squared_error: 1.9020 - val_mean_absolute_percentage_error: 16.6756\n",
      "Epoch 73/300\n",
      "71/71 [==============================] - 0s 3ms/step - loss: 5.2086 - mse: 5.2086 - root_mean_squared_error: 2.2822 - mean_absolute_percentage_error: 19.0449 - val_loss: 3.6583 - val_mse: 3.6583 - val_root_mean_squared_error: 1.9127 - val_mean_absolute_percentage_error: 16.6878\n",
      "Epoch 74/300\n",
      "71/71 [==============================] - 0s 3ms/step - loss: 5.0637 - mse: 5.0637 - root_mean_squared_error: 2.2503 - mean_absolute_percentage_error: 19.5271 - val_loss: 3.7289 - val_mse: 3.7289 - val_root_mean_squared_error: 1.9310 - val_mean_absolute_percentage_error: 16.1413\n",
      "Epoch 75/300\n",
      "71/71 [==============================] - 0s 3ms/step - loss: 5.3587 - mse: 5.3587 - root_mean_squared_error: 2.3149 - mean_absolute_percentage_error: 19.9802 - val_loss: 3.5605 - val_mse: 3.5605 - val_root_mean_squared_error: 1.8869 - val_mean_absolute_percentage_error: 15.5877\n",
      "Epoch 76/300\n",
      "71/71 [==============================] - 0s 3ms/step - loss: 5.3416 - mse: 5.3416 - root_mean_squared_error: 2.3112 - mean_absolute_percentage_error: 19.4976 - val_loss: 3.7270 - val_mse: 3.7270 - val_root_mean_squared_error: 1.9305 - val_mean_absolute_percentage_error: 15.8276\n",
      "Epoch 77/300\n",
      "71/71 [==============================] - 0s 3ms/step - loss: 5.2721 - mse: 5.2721 - root_mean_squared_error: 2.2961 - mean_absolute_percentage_error: 19.2585 - val_loss: 3.7158 - val_mse: 3.7158 - val_root_mean_squared_error: 1.9276 - val_mean_absolute_percentage_error: 16.3140\n",
      "Epoch 78/300\n",
      "71/71 [==============================] - 0s 3ms/step - loss: 4.9209 - mse: 4.9209 - root_mean_squared_error: 2.2183 - mean_absolute_percentage_error: 18.8252 - val_loss: 3.5127 - val_mse: 3.5127 - val_root_mean_squared_error: 1.8742 - val_mean_absolute_percentage_error: 16.4142\n",
      "Epoch 79/300\n",
      "71/71 [==============================] - 0s 3ms/step - loss: 4.9552 - mse: 4.9552 - root_mean_squared_error: 2.2260 - mean_absolute_percentage_error: 18.9072 - val_loss: 3.4877 - val_mse: 3.4877 - val_root_mean_squared_error: 1.8675 - val_mean_absolute_percentage_error: 16.3922\n",
      "Epoch 80/300\n",
      "71/71 [==============================] - 0s 3ms/step - loss: 5.0911 - mse: 5.0911 - root_mean_squared_error: 2.2563 - mean_absolute_percentage_error: 19.0533 - val_loss: 4.1048 - val_mse: 4.1048 - val_root_mean_squared_error: 2.0260 - val_mean_absolute_percentage_error: 16.2245\n",
      "Epoch 81/300\n",
      "71/71 [==============================] - 0s 3ms/step - loss: 4.9519 - mse: 4.9519 - root_mean_squared_error: 2.2253 - mean_absolute_percentage_error: 18.7914 - val_loss: 3.6554 - val_mse: 3.6554 - val_root_mean_squared_error: 1.9119 - val_mean_absolute_percentage_error: 16.5677\n",
      "Epoch 82/300\n",
      "71/71 [==============================] - 0s 3ms/step - loss: 4.9751 - mse: 4.9751 - root_mean_squared_error: 2.2305 - mean_absolute_percentage_error: 18.8069 - val_loss: 3.7754 - val_mse: 3.7754 - val_root_mean_squared_error: 1.9430 - val_mean_absolute_percentage_error: 16.3230\n",
      "Epoch 83/300\n",
      "71/71 [==============================] - 0s 3ms/step - loss: 4.7864 - mse: 4.7864 - root_mean_squared_error: 2.1878 - mean_absolute_percentage_error: 18.6528 - val_loss: 3.5995 - val_mse: 3.5995 - val_root_mean_squared_error: 1.8972 - val_mean_absolute_percentage_error: 16.1220\n",
      "Epoch 84/300\n",
      "71/71 [==============================] - 0s 3ms/step - loss: 4.8657 - mse: 4.8657 - root_mean_squared_error: 2.2058 - mean_absolute_percentage_error: 18.4192 - val_loss: 3.6335 - val_mse: 3.6335 - val_root_mean_squared_error: 1.9062 - val_mean_absolute_percentage_error: 16.1160\n",
      "Epoch 85/300\n",
      "71/71 [==============================] - 0s 3ms/step - loss: 4.8384 - mse: 4.8384 - root_mean_squared_error: 2.1996 - mean_absolute_percentage_error: 18.5616 - val_loss: 3.5786 - val_mse: 3.5786 - val_root_mean_squared_error: 1.8917 - val_mean_absolute_percentage_error: 16.5109\n",
      "Epoch 86/300\n",
      "71/71 [==============================] - 0s 3ms/step - loss: 4.5097 - mse: 4.5097 - root_mean_squared_error: 2.1236 - mean_absolute_percentage_error: 17.8148 - val_loss: 3.6536 - val_mse: 3.6536 - val_root_mean_squared_error: 1.9114 - val_mean_absolute_percentage_error: 16.0975\n",
      "Epoch 87/300\n",
      "71/71 [==============================] - 0s 3ms/step - loss: 5.0604 - mse: 5.0604 - root_mean_squared_error: 2.2495 - mean_absolute_percentage_error: 18.5772 - val_loss: 3.5611 - val_mse: 3.5611 - val_root_mean_squared_error: 1.8871 - val_mean_absolute_percentage_error: 16.2731\n",
      "Epoch 88/300\n",
      "71/71 [==============================] - 0s 3ms/step - loss: 4.6198 - mse: 4.6198 - root_mean_squared_error: 2.1494 - mean_absolute_percentage_error: 18.1139 - val_loss: 3.9310 - val_mse: 3.9310 - val_root_mean_squared_error: 1.9827 - val_mean_absolute_percentage_error: 16.4359\n",
      "Epoch 89/300\n",
      "71/71 [==============================] - 0s 3ms/step - loss: 4.5352 - mse: 4.5352 - root_mean_squared_error: 2.1296 - mean_absolute_percentage_error: 18.4250 - val_loss: 3.4993 - val_mse: 3.4993 - val_root_mean_squared_error: 1.8706 - val_mean_absolute_percentage_error: 15.6608\n",
      "Epoch 90/300\n",
      "71/71 [==============================] - 0s 3ms/step - loss: 4.7985 - mse: 4.7985 - root_mean_squared_error: 2.1905 - mean_absolute_percentage_error: 17.9205 - val_loss: 3.5964 - val_mse: 3.5964 - val_root_mean_squared_error: 1.8964 - val_mean_absolute_percentage_error: 16.0516\n",
      "Epoch 91/300\n",
      "71/71 [==============================] - 0s 3ms/step - loss: 4.8812 - mse: 4.8812 - root_mean_squared_error: 2.2093 - mean_absolute_percentage_error: 18.8073 - val_loss: 3.5859 - val_mse: 3.5859 - val_root_mean_squared_error: 1.8936 - val_mean_absolute_percentage_error: 15.9280\n",
      "Epoch 92/300\n",
      "71/71 [==============================] - 0s 3ms/step - loss: 4.5362 - mse: 4.5362 - root_mean_squared_error: 2.1298 - mean_absolute_percentage_error: 18.1043 - val_loss: 3.7490 - val_mse: 3.7490 - val_root_mean_squared_error: 1.9362 - val_mean_absolute_percentage_error: 16.1698\n",
      "Epoch 93/300\n",
      "71/71 [==============================] - 0s 3ms/step - loss: 4.6762 - mse: 4.6762 - root_mean_squared_error: 2.1625 - mean_absolute_percentage_error: 18.4353 - val_loss: 3.5330 - val_mse: 3.5330 - val_root_mean_squared_error: 1.8796 - val_mean_absolute_percentage_error: 16.2599\n",
      "Epoch 94/300\n",
      "71/71 [==============================] - 0s 3ms/step - loss: 4.6335 - mse: 4.6335 - root_mean_squared_error: 2.1525 - mean_absolute_percentage_error: 18.2346 - val_loss: 3.7680 - val_mse: 3.7680 - val_root_mean_squared_error: 1.9411 - val_mean_absolute_percentage_error: 15.7616\n",
      "Epoch 95/300\n",
      "71/71 [==============================] - 0s 3ms/step - loss: 4.6443 - mse: 4.6443 - root_mean_squared_error: 2.1551 - mean_absolute_percentage_error: 18.3547 - val_loss: 3.7000 - val_mse: 3.7000 - val_root_mean_squared_error: 1.9235 - val_mean_absolute_percentage_error: 16.3329\n",
      "Epoch 96/300\n",
      "71/71 [==============================] - 0s 3ms/step - loss: 4.4440 - mse: 4.4440 - root_mean_squared_error: 2.1081 - mean_absolute_percentage_error: 17.7655 - val_loss: 3.7225 - val_mse: 3.7225 - val_root_mean_squared_error: 1.9294 - val_mean_absolute_percentage_error: 16.1728\n",
      "Epoch 97/300\n",
      "71/71 [==============================] - 0s 3ms/step - loss: 4.5479 - mse: 4.5479 - root_mean_squared_error: 2.1326 - mean_absolute_percentage_error: 17.8806 - val_loss: 3.7518 - val_mse: 3.7518 - val_root_mean_squared_error: 1.9370 - val_mean_absolute_percentage_error: 16.1320\n",
      "Epoch 98/300\n",
      "71/71 [==============================] - 0s 3ms/step - loss: 4.4815 - mse: 4.4815 - root_mean_squared_error: 2.1170 - mean_absolute_percentage_error: 18.0872 - val_loss: 3.5178 - val_mse: 3.5178 - val_root_mean_squared_error: 1.8756 - val_mean_absolute_percentage_error: 16.0671\n",
      "Epoch 99/300\n",
      "71/71 [==============================] - 0s 3ms/step - loss: 4.3328 - mse: 4.3328 - root_mean_squared_error: 2.0815 - mean_absolute_percentage_error: 17.7654 - val_loss: 3.6457 - val_mse: 3.6457 - val_root_mean_squared_error: 1.9094 - val_mean_absolute_percentage_error: 16.2090\n",
      "Epoch 100/300\n",
      "71/71 [==============================] - 0s 3ms/step - loss: 4.3375 - mse: 4.3375 - root_mean_squared_error: 2.0827 - mean_absolute_percentage_error: 17.3714 - val_loss: 3.6867 - val_mse: 3.6867 - val_root_mean_squared_error: 1.9201 - val_mean_absolute_percentage_error: 16.1529\n",
      "Epoch 101/300\n",
      "71/71 [==============================] - 0s 3ms/step - loss: 4.3931 - mse: 4.3931 - root_mean_squared_error: 2.0960 - mean_absolute_percentage_error: 17.7952 - val_loss: 3.6866 - val_mse: 3.6866 - val_root_mean_squared_error: 1.9201 - val_mean_absolute_percentage_error: 15.9331\n",
      "Epoch 102/300\n",
      "71/71 [==============================] - 0s 3ms/step - loss: 4.4395 - mse: 4.4395 - root_mean_squared_error: 2.1070 - mean_absolute_percentage_error: 17.5666 - val_loss: 3.6511 - val_mse: 3.6511 - val_root_mean_squared_error: 1.9108 - val_mean_absolute_percentage_error: 16.1748\n",
      "Epoch 103/300\n",
      "71/71 [==============================] - 0s 3ms/step - loss: 4.3994 - mse: 4.3994 - root_mean_squared_error: 2.0975 - mean_absolute_percentage_error: 17.5874 - val_loss: 3.6447 - val_mse: 3.6447 - val_root_mean_squared_error: 1.9091 - val_mean_absolute_percentage_error: 16.4073\n",
      "Epoch 104/300\n",
      "71/71 [==============================] - 0s 3ms/step - loss: 4.1496 - mse: 4.1496 - root_mean_squared_error: 2.0371 - mean_absolute_percentage_error: 17.5554 - val_loss: 3.8514 - val_mse: 3.8514 - val_root_mean_squared_error: 1.9625 - val_mean_absolute_percentage_error: 16.6633\n",
      "Epoch 105/300\n",
      "71/71 [==============================] - 0s 3ms/step - loss: 4.1388 - mse: 4.1388 - root_mean_squared_error: 2.0344 - mean_absolute_percentage_error: 17.4007 - val_loss: 3.5272 - val_mse: 3.5272 - val_root_mean_squared_error: 1.8781 - val_mean_absolute_percentage_error: 15.8484\n",
      "Epoch 106/300\n",
      "71/71 [==============================] - 0s 3ms/step - loss: 4.4297 - mse: 4.4297 - root_mean_squared_error: 2.1047 - mean_absolute_percentage_error: 17.3309 - val_loss: 3.7844 - val_mse: 3.7844 - val_root_mean_squared_error: 1.9454 - val_mean_absolute_percentage_error: 16.2799\n",
      "Epoch 107/300\n",
      "71/71 [==============================] - 0s 3ms/step - loss: 3.8359 - mse: 3.8359 - root_mean_squared_error: 1.9586 - mean_absolute_percentage_error: 16.9113 - val_loss: 3.7261 - val_mse: 3.7261 - val_root_mean_squared_error: 1.9303 - val_mean_absolute_percentage_error: 15.5325\n",
      "Epoch 108/300\n",
      "71/71 [==============================] - 0s 3ms/step - loss: 4.1100 - mse: 4.1100 - root_mean_squared_error: 2.0273 - mean_absolute_percentage_error: 17.4218 - val_loss: 3.7665 - val_mse: 3.7665 - val_root_mean_squared_error: 1.9407 - val_mean_absolute_percentage_error: 17.3995\n",
      "Epoch 109/300\n",
      "71/71 [==============================] - 0s 3ms/step - loss: 4.3108 - mse: 4.3108 - root_mean_squared_error: 2.0762 - mean_absolute_percentage_error: 17.2347 - val_loss: 3.5221 - val_mse: 3.5221 - val_root_mean_squared_error: 1.8767 - val_mean_absolute_percentage_error: 16.0234\n",
      "Epoch 110/300\n",
      "71/71 [==============================] - 0s 3ms/step - loss: 3.9317 - mse: 3.9317 - root_mean_squared_error: 1.9828 - mean_absolute_percentage_error: 16.8291 - val_loss: 3.7370 - val_mse: 3.7370 - val_root_mean_squared_error: 1.9331 - val_mean_absolute_percentage_error: 16.3068\n",
      "Epoch 111/300\n",
      "71/71 [==============================] - 0s 3ms/step - loss: 4.5314 - mse: 4.5314 - root_mean_squared_error: 2.1287 - mean_absolute_percentage_error: 17.7879 - val_loss: 3.5431 - val_mse: 3.5431 - val_root_mean_squared_error: 1.8823 - val_mean_absolute_percentage_error: 16.3378\n",
      "Epoch 112/300\n",
      "71/71 [==============================] - 0s 3ms/step - loss: 4.2692 - mse: 4.2692 - root_mean_squared_error: 2.0662 - mean_absolute_percentage_error: 17.4191 - val_loss: 3.4738 - val_mse: 3.4738 - val_root_mean_squared_error: 1.8638 - val_mean_absolute_percentage_error: 15.9118\n",
      "Epoch 113/300\n",
      "71/71 [==============================] - 0s 3ms/step - loss: 4.0450 - mse: 4.0450 - root_mean_squared_error: 2.0112 - mean_absolute_percentage_error: 17.0098 - val_loss: 3.7366 - val_mse: 3.7366 - val_root_mean_squared_error: 1.9330 - val_mean_absolute_percentage_error: 16.0821\n",
      "Epoch 114/300\n",
      "71/71 [==============================] - 0s 3ms/step - loss: 4.0237 - mse: 4.0237 - root_mean_squared_error: 2.0059 - mean_absolute_percentage_error: 16.9622 - val_loss: 3.7417 - val_mse: 3.7417 - val_root_mean_squared_error: 1.9343 - val_mean_absolute_percentage_error: 16.9710\n",
      "Epoch 115/300\n",
      "71/71 [==============================] - 0s 3ms/step - loss: 3.9399 - mse: 3.9399 - root_mean_squared_error: 1.9849 - mean_absolute_percentage_error: 16.3156 - val_loss: 3.5930 - val_mse: 3.5930 - val_root_mean_squared_error: 1.8955 - val_mean_absolute_percentage_error: 15.9641\n",
      "Epoch 116/300\n",
      "71/71 [==============================] - 0s 3ms/step - loss: 4.1427 - mse: 4.1427 - root_mean_squared_error: 2.0354 - mean_absolute_percentage_error: 17.0363 - val_loss: 3.7342 - val_mse: 3.7342 - val_root_mean_squared_error: 1.9324 - val_mean_absolute_percentage_error: 16.3062\n",
      "Epoch 117/300\n",
      "71/71 [==============================] - 0s 3ms/step - loss: 3.9765 - mse: 3.9765 - root_mean_squared_error: 1.9941 - mean_absolute_percentage_error: 16.8189 - val_loss: 3.6487 - val_mse: 3.6487 - val_root_mean_squared_error: 1.9102 - val_mean_absolute_percentage_error: 15.8823\n",
      "Epoch 118/300\n",
      "71/71 [==============================] - 0s 3ms/step - loss: 3.8801 - mse: 3.8801 - root_mean_squared_error: 1.9698 - mean_absolute_percentage_error: 16.5261 - val_loss: 3.5984 - val_mse: 3.5984 - val_root_mean_squared_error: 1.8969 - val_mean_absolute_percentage_error: 15.7674\n",
      "Epoch 119/300\n",
      "71/71 [==============================] - 0s 3ms/step - loss: 3.9470 - mse: 3.9470 - root_mean_squared_error: 1.9867 - mean_absolute_percentage_error: 16.5232 - val_loss: 3.7928 - val_mse: 3.7928 - val_root_mean_squared_error: 1.9475 - val_mean_absolute_percentage_error: 16.0057\n",
      "Epoch 120/300\n",
      "71/71 [==============================] - 0s 3ms/step - loss: 4.0217 - mse: 4.0217 - root_mean_squared_error: 2.0054 - mean_absolute_percentage_error: 16.9503 - val_loss: 3.6834 - val_mse: 3.6834 - val_root_mean_squared_error: 1.9192 - val_mean_absolute_percentage_error: 16.2105\n",
      "Epoch 121/300\n",
      "71/71 [==============================] - 0s 3ms/step - loss: 3.8989 - mse: 3.8989 - root_mean_squared_error: 1.9746 - mean_absolute_percentage_error: 16.2869 - val_loss: 3.7145 - val_mse: 3.7145 - val_root_mean_squared_error: 1.9273 - val_mean_absolute_percentage_error: 16.2796\n",
      "Epoch 122/300\n",
      "71/71 [==============================] - 0s 3ms/step - loss: 3.7848 - mse: 3.7848 - root_mean_squared_error: 1.9455 - mean_absolute_percentage_error: 16.2185 - val_loss: 3.7232 - val_mse: 3.7232 - val_root_mean_squared_error: 1.9296 - val_mean_absolute_percentage_error: 16.4242\n",
      "Epoch 123/300\n",
      "71/71 [==============================] - 0s 3ms/step - loss: 4.0722 - mse: 4.0722 - root_mean_squared_error: 2.0180 - mean_absolute_percentage_error: 16.5401 - val_loss: 3.6441 - val_mse: 3.6441 - val_root_mean_squared_error: 1.9089 - val_mean_absolute_percentage_error: 16.1799\n",
      "Epoch 124/300\n",
      "71/71 [==============================] - 0s 3ms/step - loss: 3.8033 - mse: 3.8033 - root_mean_squared_error: 1.9502 - mean_absolute_percentage_error: 16.5566 - val_loss: 3.6124 - val_mse: 3.6124 - val_root_mean_squared_error: 1.9006 - val_mean_absolute_percentage_error: 16.1510\n",
      "Epoch 125/300\n",
      "71/71 [==============================] - 0s 3ms/step - loss: 3.9161 - mse: 3.9161 - root_mean_squared_error: 1.9789 - mean_absolute_percentage_error: 16.4075 - val_loss: 3.7063 - val_mse: 3.7063 - val_root_mean_squared_error: 1.9252 - val_mean_absolute_percentage_error: 15.9150\n",
      "Epoch 126/300\n",
      "71/71 [==============================] - 0s 3ms/step - loss: 3.7741 - mse: 3.7741 - root_mean_squared_error: 1.9427 - mean_absolute_percentage_error: 16.5329 - val_loss: 3.6643 - val_mse: 3.6643 - val_root_mean_squared_error: 1.9142 - val_mean_absolute_percentage_error: 15.6457\n",
      "Epoch 127/300\n",
      "71/71 [==============================] - 0s 3ms/step - loss: 3.9103 - mse: 3.9103 - root_mean_squared_error: 1.9774 - mean_absolute_percentage_error: 16.4467 - val_loss: 3.6779 - val_mse: 3.6779 - val_root_mean_squared_error: 1.9178 - val_mean_absolute_percentage_error: 15.9597\n",
      "Epoch 128/300\n",
      "71/71 [==============================] - 0s 3ms/step - loss: 4.0618 - mse: 4.0618 - root_mean_squared_error: 2.0154 - mean_absolute_percentage_error: 16.7443 - val_loss: 3.6913 - val_mse: 3.6913 - val_root_mean_squared_error: 1.9213 - val_mean_absolute_percentage_error: 15.9876\n",
      "Epoch 129/300\n",
      "71/71 [==============================] - 0s 3ms/step - loss: 3.7264 - mse: 3.7264 - root_mean_squared_error: 1.9304 - mean_absolute_percentage_error: 16.1668 - val_loss: 3.6254 - val_mse: 3.6254 - val_root_mean_squared_error: 1.9041 - val_mean_absolute_percentage_error: 16.3992\n",
      "Epoch 130/300\n",
      "71/71 [==============================] - 0s 3ms/step - loss: 3.8026 - mse: 3.8026 - root_mean_squared_error: 1.9500 - mean_absolute_percentage_error: 16.2438 - val_loss: 3.5743 - val_mse: 3.5743 - val_root_mean_squared_error: 1.8906 - val_mean_absolute_percentage_error: 16.1765\n",
      "Epoch 131/300\n",
      "71/71 [==============================] - 0s 3ms/step - loss: 3.8367 - mse: 3.8367 - root_mean_squared_error: 1.9587 - mean_absolute_percentage_error: 16.3732 - val_loss: 3.5533 - val_mse: 3.5533 - val_root_mean_squared_error: 1.8850 - val_mean_absolute_percentage_error: 16.4670\n",
      "Epoch 132/300\n",
      "71/71 [==============================] - 0s 3ms/step - loss: 3.6718 - mse: 3.6718 - root_mean_squared_error: 1.9162 - mean_absolute_percentage_error: 16.2791 - val_loss: 3.4468 - val_mse: 3.4468 - val_root_mean_squared_error: 1.8566 - val_mean_absolute_percentage_error: 15.7631\n",
      "Epoch 133/300\n",
      "71/71 [==============================] - 0s 3ms/step - loss: 3.4178 - mse: 3.4178 - root_mean_squared_error: 1.8487 - mean_absolute_percentage_error: 15.7873 - val_loss: 3.4872 - val_mse: 3.4872 - val_root_mean_squared_error: 1.8674 - val_mean_absolute_percentage_error: 16.0951\n",
      "Epoch 134/300\n",
      "71/71 [==============================] - 0s 3ms/step - loss: 3.7085 - mse: 3.7085 - root_mean_squared_error: 1.9257 - mean_absolute_percentage_error: 16.1851 - val_loss: 3.9398 - val_mse: 3.9398 - val_root_mean_squared_error: 1.9849 - val_mean_absolute_percentage_error: 16.0732\n",
      "Epoch 135/300\n",
      "71/71 [==============================] - 0s 3ms/step - loss: 3.6310 - mse: 3.6310 - root_mean_squared_error: 1.9055 - mean_absolute_percentage_error: 15.8516 - val_loss: 3.4829 - val_mse: 3.4829 - val_root_mean_squared_error: 1.8663 - val_mean_absolute_percentage_error: 16.2772\n",
      "Epoch 136/300\n",
      "71/71 [==============================] - 0s 3ms/step - loss: 3.5123 - mse: 3.5123 - root_mean_squared_error: 1.8741 - mean_absolute_percentage_error: 16.0871 - val_loss: 3.7127 - val_mse: 3.7127 - val_root_mean_squared_error: 1.9268 - val_mean_absolute_percentage_error: 16.1851\n",
      "Epoch 137/300\n",
      "71/71 [==============================] - 0s 3ms/step - loss: 3.5210 - mse: 3.5210 - root_mean_squared_error: 1.8764 - mean_absolute_percentage_error: 15.8158 - val_loss: 3.5661 - val_mse: 3.5661 - val_root_mean_squared_error: 1.8884 - val_mean_absolute_percentage_error: 15.9168\n",
      "Epoch 138/300\n",
      "71/71 [==============================] - 0s 3ms/step - loss: 3.7040 - mse: 3.7040 - root_mean_squared_error: 1.9246 - mean_absolute_percentage_error: 16.1076 - val_loss: 3.6833 - val_mse: 3.6833 - val_root_mean_squared_error: 1.9192 - val_mean_absolute_percentage_error: 16.1977\n",
      "Epoch 139/300\n",
      "71/71 [==============================] - 0s 3ms/step - loss: 3.6099 - mse: 3.6099 - root_mean_squared_error: 1.9000 - mean_absolute_percentage_error: 16.2496 - val_loss: 3.9084 - val_mse: 3.9084 - val_root_mean_squared_error: 1.9770 - val_mean_absolute_percentage_error: 16.1682\n",
      "Epoch 140/300\n",
      "71/71 [==============================] - 0s 3ms/step - loss: 3.3323 - mse: 3.3323 - root_mean_squared_error: 1.8255 - mean_absolute_percentage_error: 15.6100 - val_loss: 3.6797 - val_mse: 3.6797 - val_root_mean_squared_error: 1.9183 - val_mean_absolute_percentage_error: 15.8798\n",
      "Epoch 141/300\n",
      "71/71 [==============================] - 0s 3ms/step - loss: 3.5812 - mse: 3.5812 - root_mean_squared_error: 1.8924 - mean_absolute_percentage_error: 15.7067 - val_loss: 3.6921 - val_mse: 3.6921 - val_root_mean_squared_error: 1.9215 - val_mean_absolute_percentage_error: 16.5302\n",
      "Epoch 142/300\n",
      "71/71 [==============================] - 0s 3ms/step - loss: 3.4289 - mse: 3.4289 - root_mean_squared_error: 1.8517 - mean_absolute_percentage_error: 15.5913 - val_loss: 3.8556 - val_mse: 3.8556 - val_root_mean_squared_error: 1.9636 - val_mean_absolute_percentage_error: 16.2381\n",
      "Epoch 143/300\n",
      "71/71 [==============================] - 0s 3ms/step - loss: 3.3567 - mse: 3.3567 - root_mean_squared_error: 1.8321 - mean_absolute_percentage_error: 15.5822 - val_loss: 3.6794 - val_mse: 3.6794 - val_root_mean_squared_error: 1.9182 - val_mean_absolute_percentage_error: 16.7148\n",
      "Epoch 144/300\n",
      "71/71 [==============================] - 0s 3ms/step - loss: 3.5442 - mse: 3.5442 - root_mean_squared_error: 1.8826 - mean_absolute_percentage_error: 15.8135 - val_loss: 3.7986 - val_mse: 3.7986 - val_root_mean_squared_error: 1.9490 - val_mean_absolute_percentage_error: 16.0378\n",
      "Epoch 145/300\n",
      "71/71 [==============================] - 0s 3ms/step - loss: 3.2417 - mse: 3.2417 - root_mean_squared_error: 1.8005 - mean_absolute_percentage_error: 15.0476 - val_loss: 3.6284 - val_mse: 3.6284 - val_root_mean_squared_error: 1.9048 - val_mean_absolute_percentage_error: 16.9694\n",
      "Epoch 146/300\n",
      "71/71 [==============================] - 0s 3ms/step - loss: 3.5337 - mse: 3.5337 - root_mean_squared_error: 1.8798 - mean_absolute_percentage_error: 15.9693 - val_loss: 3.6710 - val_mse: 3.6710 - val_root_mean_squared_error: 1.9160 - val_mean_absolute_percentage_error: 15.9396\n",
      "Epoch 147/300\n",
      "71/71 [==============================] - 0s 3ms/step - loss: 3.4090 - mse: 3.4090 - root_mean_squared_error: 1.8463 - mean_absolute_percentage_error: 15.5500 - val_loss: 3.5161 - val_mse: 3.5161 - val_root_mean_squared_error: 1.8751 - val_mean_absolute_percentage_error: 15.9662\n",
      "Epoch 148/300\n",
      "71/71 [==============================] - 0s 3ms/step - loss: 3.3501 - mse: 3.3501 - root_mean_squared_error: 1.8303 - mean_absolute_percentage_error: 15.4316 - val_loss: 3.5751 - val_mse: 3.5751 - val_root_mean_squared_error: 1.8908 - val_mean_absolute_percentage_error: 16.7150\n",
      "Epoch 149/300\n",
      "71/71 [==============================] - 0s 3ms/step - loss: 3.4716 - mse: 3.4716 - root_mean_squared_error: 1.8632 - mean_absolute_percentage_error: 15.6552 - val_loss: 3.6958 - val_mse: 3.6958 - val_root_mean_squared_error: 1.9224 - val_mean_absolute_percentage_error: 15.7751\n",
      "Epoch 150/300\n",
      "71/71 [==============================] - 0s 3ms/step - loss: 3.3231 - mse: 3.3231 - root_mean_squared_error: 1.8229 - mean_absolute_percentage_error: 15.0385 - val_loss: 3.7789 - val_mse: 3.7789 - val_root_mean_squared_error: 1.9439 - val_mean_absolute_percentage_error: 15.9653\n",
      "Epoch 151/300\n",
      "71/71 [==============================] - 0s 3ms/step - loss: 3.4301 - mse: 3.4301 - root_mean_squared_error: 1.8521 - mean_absolute_percentage_error: 15.3170 - val_loss: 3.4984 - val_mse: 3.4984 - val_root_mean_squared_error: 1.8704 - val_mean_absolute_percentage_error: 16.1568\n",
      "Epoch 152/300\n",
      "71/71 [==============================] - 0s 3ms/step - loss: 3.2914 - mse: 3.2914 - root_mean_squared_error: 1.8142 - mean_absolute_percentage_error: 15.1637 - val_loss: 3.5043 - val_mse: 3.5043 - val_root_mean_squared_error: 1.8720 - val_mean_absolute_percentage_error: 16.5196\n",
      "Epoch 153/300\n",
      "71/71 [==============================] - 0s 3ms/step - loss: 3.2597 - mse: 3.2597 - root_mean_squared_error: 1.8055 - mean_absolute_percentage_error: 15.2489 - val_loss: 3.5312 - val_mse: 3.5312 - val_root_mean_squared_error: 1.8792 - val_mean_absolute_percentage_error: 15.6146\n",
      "Epoch 154/300\n",
      "71/71 [==============================] - 0s 3ms/step - loss: 3.0885 - mse: 3.0885 - root_mean_squared_error: 1.7574 - mean_absolute_percentage_error: 14.8983 - val_loss: 3.7186 - val_mse: 3.7186 - val_root_mean_squared_error: 1.9284 - val_mean_absolute_percentage_error: 15.6827\n",
      "Epoch 155/300\n",
      "71/71 [==============================] - 0s 3ms/step - loss: 3.2273 - mse: 3.2273 - root_mean_squared_error: 1.7965 - mean_absolute_percentage_error: 15.2698 - val_loss: 3.5201 - val_mse: 3.5201 - val_root_mean_squared_error: 1.8762 - val_mean_absolute_percentage_error: 15.9779\n",
      "Epoch 156/300\n",
      "71/71 [==============================] - 0s 3ms/step - loss: 3.3993 - mse: 3.3993 - root_mean_squared_error: 1.8437 - mean_absolute_percentage_error: 15.1626 - val_loss: 3.5466 - val_mse: 3.5466 - val_root_mean_squared_error: 1.8832 - val_mean_absolute_percentage_error: 15.8393\n",
      "Epoch 157/300\n",
      "71/71 [==============================] - 0s 3ms/step - loss: 3.3611 - mse: 3.3611 - root_mean_squared_error: 1.8333 - mean_absolute_percentage_error: 15.5904 - val_loss: 3.5133 - val_mse: 3.5133 - val_root_mean_squared_error: 1.8744 - val_mean_absolute_percentage_error: 16.3589\n",
      "Epoch 158/300\n",
      "71/71 [==============================] - 0s 3ms/step - loss: 3.3422 - mse: 3.3422 - root_mean_squared_error: 1.8282 - mean_absolute_percentage_error: 15.4149 - val_loss: 3.6075 - val_mse: 3.6075 - val_root_mean_squared_error: 1.8993 - val_mean_absolute_percentage_error: 17.0286\n",
      "Epoch 159/300\n",
      "71/71 [==============================] - 0s 3ms/step - loss: 3.1372 - mse: 3.1372 - root_mean_squared_error: 1.7712 - mean_absolute_percentage_error: 15.2277 - val_loss: 3.4553 - val_mse: 3.4553 - val_root_mean_squared_error: 1.8588 - val_mean_absolute_percentage_error: 16.3886\n",
      "Epoch 160/300\n",
      "71/71 [==============================] - 0s 3ms/step - loss: 3.3575 - mse: 3.3575 - root_mean_squared_error: 1.8323 - mean_absolute_percentage_error: 15.6027 - val_loss: 3.4032 - val_mse: 3.4032 - val_root_mean_squared_error: 1.8448 - val_mean_absolute_percentage_error: 15.9946\n",
      "Epoch 161/300\n",
      "71/71 [==============================] - 0s 3ms/step - loss: 3.1224 - mse: 3.1224 - root_mean_squared_error: 1.7670 - mean_absolute_percentage_error: 15.1555 - val_loss: 3.5818 - val_mse: 3.5818 - val_root_mean_squared_error: 1.8926 - val_mean_absolute_percentage_error: 16.1536\n",
      "Epoch 162/300\n",
      "71/71 [==============================] - 0s 3ms/step - loss: 3.0047 - mse: 3.0047 - root_mean_squared_error: 1.7334 - mean_absolute_percentage_error: 14.5411 - val_loss: 3.5237 - val_mse: 3.5237 - val_root_mean_squared_error: 1.8771 - val_mean_absolute_percentage_error: 15.7865\n",
      "Epoch 163/300\n",
      "71/71 [==============================] - 0s 3ms/step - loss: 3.0200 - mse: 3.0200 - root_mean_squared_error: 1.7378 - mean_absolute_percentage_error: 14.4800 - val_loss: 3.5995 - val_mse: 3.5995 - val_root_mean_squared_error: 1.8972 - val_mean_absolute_percentage_error: 15.4636\n",
      "Epoch 164/300\n",
      "71/71 [==============================] - 0s 3ms/step - loss: 3.1213 - mse: 3.1213 - root_mean_squared_error: 1.7667 - mean_absolute_percentage_error: 14.8930 - val_loss: 3.5701 - val_mse: 3.5701 - val_root_mean_squared_error: 1.8895 - val_mean_absolute_percentage_error: 16.2831\n",
      "Epoch 165/300\n",
      "71/71 [==============================] - 0s 3ms/step - loss: 3.2474 - mse: 3.2474 - root_mean_squared_error: 1.8020 - mean_absolute_percentage_error: 15.1729 - val_loss: 3.5585 - val_mse: 3.5585 - val_root_mean_squared_error: 1.8864 - val_mean_absolute_percentage_error: 16.2543\n",
      "Epoch 166/300\n",
      "71/71 [==============================] - 0s 3ms/step - loss: 3.0840 - mse: 3.0840 - root_mean_squared_error: 1.7561 - mean_absolute_percentage_error: 14.9576 - val_loss: 3.4258 - val_mse: 3.4258 - val_root_mean_squared_error: 1.8509 - val_mean_absolute_percentage_error: 15.5532\n",
      "Epoch 167/300\n",
      "71/71 [==============================] - 0s 3ms/step - loss: 2.9811 - mse: 2.9811 - root_mean_squared_error: 1.7266 - mean_absolute_percentage_error: 14.6907 - val_loss: 3.6768 - val_mse: 3.6768 - val_root_mean_squared_error: 1.9175 - val_mean_absolute_percentage_error: 16.4236\n",
      "Epoch 168/300\n",
      "71/71 [==============================] - 0s 3ms/step - loss: 3.0150 - mse: 3.0150 - root_mean_squared_error: 1.7364 - mean_absolute_percentage_error: 14.4877 - val_loss: 3.5831 - val_mse: 3.5831 - val_root_mean_squared_error: 1.8929 - val_mean_absolute_percentage_error: 15.9623\n",
      "Epoch 169/300\n",
      "71/71 [==============================] - 0s 3ms/step - loss: 3.0242 - mse: 3.0242 - root_mean_squared_error: 1.7390 - mean_absolute_percentage_error: 14.8047 - val_loss: 3.5224 - val_mse: 3.5224 - val_root_mean_squared_error: 1.8768 - val_mean_absolute_percentage_error: 16.6143\n",
      "Epoch 170/300\n",
      "71/71 [==============================] - 0s 3ms/step - loss: 3.1097 - mse: 3.1097 - root_mean_squared_error: 1.7634 - mean_absolute_percentage_error: 14.7144 - val_loss: 3.5382 - val_mse: 3.5382 - val_root_mean_squared_error: 1.8810 - val_mean_absolute_percentage_error: 16.1203\n",
      "Epoch 171/300\n",
      "71/71 [==============================] - 0s 3ms/step - loss: 2.8785 - mse: 2.8785 - root_mean_squared_error: 1.6966 - mean_absolute_percentage_error: 14.4028 - val_loss: 3.6291 - val_mse: 3.6291 - val_root_mean_squared_error: 1.9050 - val_mean_absolute_percentage_error: 16.1861\n",
      "Epoch 172/300\n",
      "71/71 [==============================] - 0s 3ms/step - loss: 3.0765 - mse: 3.0765 - root_mean_squared_error: 1.7540 - mean_absolute_percentage_error: 14.9182 - val_loss: 3.6102 - val_mse: 3.6102 - val_root_mean_squared_error: 1.9000 - val_mean_absolute_percentage_error: 16.7661\n",
      "Epoch 173/300\n",
      "71/71 [==============================] - 0s 3ms/step - loss: 2.7914 - mse: 2.7914 - root_mean_squared_error: 1.6708 - mean_absolute_percentage_error: 14.4969 - val_loss: 3.4990 - val_mse: 3.4990 - val_root_mean_squared_error: 1.8706 - val_mean_absolute_percentage_error: 15.6848\n",
      "Epoch 174/300\n",
      "71/71 [==============================] - 0s 3ms/step - loss: 2.9318 - mse: 2.9318 - root_mean_squared_error: 1.7122 - mean_absolute_percentage_error: 14.4302 - val_loss: 3.5861 - val_mse: 3.5861 - val_root_mean_squared_error: 1.8937 - val_mean_absolute_percentage_error: 16.1096\n",
      "Epoch 175/300\n",
      "71/71 [==============================] - 0s 3ms/step - loss: 2.9099 - mse: 2.9099 - root_mean_squared_error: 1.7058 - mean_absolute_percentage_error: 14.5691 - val_loss: 3.5791 - val_mse: 3.5791 - val_root_mean_squared_error: 1.8919 - val_mean_absolute_percentage_error: 16.2670\n",
      "Epoch 176/300\n",
      "71/71 [==============================] - 0s 3ms/step - loss: 2.9827 - mse: 2.9827 - root_mean_squared_error: 1.7271 - mean_absolute_percentage_error: 14.6151 - val_loss: 3.5659 - val_mse: 3.5659 - val_root_mean_squared_error: 1.8884 - val_mean_absolute_percentage_error: 16.1333\n",
      "Epoch 177/300\n",
      "71/71 [==============================] - 0s 3ms/step - loss: 2.8000 - mse: 2.8000 - root_mean_squared_error: 1.6733 - mean_absolute_percentage_error: 14.3936 - val_loss: 3.5835 - val_mse: 3.5835 - val_root_mean_squared_error: 1.8930 - val_mean_absolute_percentage_error: 16.4740\n",
      "Epoch 178/300\n",
      "71/71 [==============================] - 0s 3ms/step - loss: 2.9881 - mse: 2.9881 - root_mean_squared_error: 1.7286 - mean_absolute_percentage_error: 14.5122 - val_loss: 4.0445 - val_mse: 4.0445 - val_root_mean_squared_error: 2.0111 - val_mean_absolute_percentage_error: 16.4712\n",
      "Epoch 179/300\n",
      "71/71 [==============================] - 0s 3ms/step - loss: 3.0079 - mse: 3.0079 - root_mean_squared_error: 1.7343 - mean_absolute_percentage_error: 14.6603 - val_loss: 3.6665 - val_mse: 3.6665 - val_root_mean_squared_error: 1.9148 - val_mean_absolute_percentage_error: 16.3315\n",
      "Epoch 180/300\n",
      "71/71 [==============================] - 0s 3ms/step - loss: 2.8390 - mse: 2.8390 - root_mean_squared_error: 1.6849 - mean_absolute_percentage_error: 14.2263 - val_loss: 3.7197 - val_mse: 3.7197 - val_root_mean_squared_error: 1.9286 - val_mean_absolute_percentage_error: 16.1592\n",
      "Epoch 181/300\n",
      "71/71 [==============================] - 0s 3ms/step - loss: 2.8850 - mse: 2.8850 - root_mean_squared_error: 1.6985 - mean_absolute_percentage_error: 14.3175 - val_loss: 3.5854 - val_mse: 3.5854 - val_root_mean_squared_error: 1.8935 - val_mean_absolute_percentage_error: 16.2573\n",
      "Epoch 182/300\n",
      "71/71 [==============================] - 0s 3ms/step - loss: 2.9482 - mse: 2.9482 - root_mean_squared_error: 1.7170 - mean_absolute_percentage_error: 14.5316 - val_loss: 3.6902 - val_mse: 3.6902 - val_root_mean_squared_error: 1.9210 - val_mean_absolute_percentage_error: 16.2778\n",
      "Epoch 183/300\n",
      "71/71 [==============================] - 0s 3ms/step - loss: 2.8743 - mse: 2.8743 - root_mean_squared_error: 1.6954 - mean_absolute_percentage_error: 14.5299 - val_loss: 3.6282 - val_mse: 3.6282 - val_root_mean_squared_error: 1.9048 - val_mean_absolute_percentage_error: 16.5343\n",
      "Epoch 184/300\n",
      "71/71 [==============================] - 0s 3ms/step - loss: 2.9423 - mse: 2.9423 - root_mean_squared_error: 1.7153 - mean_absolute_percentage_error: 14.6493 - val_loss: 3.5733 - val_mse: 3.5733 - val_root_mean_squared_error: 1.8903 - val_mean_absolute_percentage_error: 15.7797\n",
      "Epoch 185/300\n",
      "71/71 [==============================] - 0s 3ms/step - loss: 2.7270 - mse: 2.7270 - root_mean_squared_error: 1.6514 - mean_absolute_percentage_error: 14.1810 - val_loss: 3.5753 - val_mse: 3.5753 - val_root_mean_squared_error: 1.8909 - val_mean_absolute_percentage_error: 16.2380\n",
      "Epoch 186/300\n",
      "71/71 [==============================] - 0s 3ms/step - loss: 2.6881 - mse: 2.6881 - root_mean_squared_error: 1.6395 - mean_absolute_percentage_error: 14.1423 - val_loss: 3.5485 - val_mse: 3.5485 - val_root_mean_squared_error: 1.8838 - val_mean_absolute_percentage_error: 15.6614\n",
      "Epoch 187/300\n",
      "71/71 [==============================] - 0s 3ms/step - loss: 2.8266 - mse: 2.8266 - root_mean_squared_error: 1.6813 - mean_absolute_percentage_error: 14.4220 - val_loss: 3.6116 - val_mse: 3.6116 - val_root_mean_squared_error: 1.9004 - val_mean_absolute_percentage_error: 16.5936\n",
      "Epoch 188/300\n",
      "71/71 [==============================] - 0s 3ms/step - loss: 2.7502 - mse: 2.7502 - root_mean_squared_error: 1.6584 - mean_absolute_percentage_error: 14.4122 - val_loss: 3.6026 - val_mse: 3.6026 - val_root_mean_squared_error: 1.8981 - val_mean_absolute_percentage_error: 15.9863\n",
      "Epoch 189/300\n",
      "71/71 [==============================] - 0s 3ms/step - loss: 2.7302 - mse: 2.7302 - root_mean_squared_error: 1.6523 - mean_absolute_percentage_error: 14.1305 - val_loss: 3.4678 - val_mse: 3.4678 - val_root_mean_squared_error: 1.8622 - val_mean_absolute_percentage_error: 15.6087\n",
      "Epoch 190/300\n",
      "71/71 [==============================] - 0s 3ms/step - loss: 2.8252 - mse: 2.8252 - root_mean_squared_error: 1.6808 - mean_absolute_percentage_error: 14.2987 - val_loss: 3.6873 - val_mse: 3.6873 - val_root_mean_squared_error: 1.9202 - val_mean_absolute_percentage_error: 15.6040\n",
      "Epoch 191/300\n",
      "71/71 [==============================] - 0s 3ms/step - loss: 2.7288 - mse: 2.7288 - root_mean_squared_error: 1.6519 - mean_absolute_percentage_error: 14.1117 - val_loss: 3.5957 - val_mse: 3.5957 - val_root_mean_squared_error: 1.8962 - val_mean_absolute_percentage_error: 16.1094\n",
      "Epoch 192/300\n",
      "71/71 [==============================] - 0s 3ms/step - loss: 2.6277 - mse: 2.6277 - root_mean_squared_error: 1.6210 - mean_absolute_percentage_error: 13.9872 - val_loss: 3.4734 - val_mse: 3.4734 - val_root_mean_squared_error: 1.8637 - val_mean_absolute_percentage_error: 15.5779\n",
      "Epoch 193/300\n",
      "71/71 [==============================] - 0s 3ms/step - loss: 2.7312 - mse: 2.7312 - root_mean_squared_error: 1.6526 - mean_absolute_percentage_error: 14.0641 - val_loss: 3.4669 - val_mse: 3.4669 - val_root_mean_squared_error: 1.8620 - val_mean_absolute_percentage_error: 15.6092\n",
      "Epoch 194/300\n",
      "71/71 [==============================] - 0s 3ms/step - loss: 2.6849 - mse: 2.6849 - root_mean_squared_error: 1.6386 - mean_absolute_percentage_error: 13.8544 - val_loss: 3.6031 - val_mse: 3.6031 - val_root_mean_squared_error: 1.8982 - val_mean_absolute_percentage_error: 16.4811\n",
      "Epoch 195/300\n",
      "71/71 [==============================] - 0s 3ms/step - loss: 2.7380 - mse: 2.7380 - root_mean_squared_error: 1.6547 - mean_absolute_percentage_error: 14.1032 - val_loss: 3.6485 - val_mse: 3.6485 - val_root_mean_squared_error: 1.9101 - val_mean_absolute_percentage_error: 16.5607\n",
      "Epoch 196/300\n",
      "71/71 [==============================] - 0s 3ms/step - loss: 2.6597 - mse: 2.6597 - root_mean_squared_error: 1.6308 - mean_absolute_percentage_error: 13.6544 - val_loss: 3.5476 - val_mse: 3.5476 - val_root_mean_squared_error: 1.8835 - val_mean_absolute_percentage_error: 16.1186\n",
      "Epoch 197/300\n",
      "71/71 [==============================] - 0s 3ms/step - loss: 2.6752 - mse: 2.6752 - root_mean_squared_error: 1.6356 - mean_absolute_percentage_error: 13.9592 - val_loss: 3.6877 - val_mse: 3.6877 - val_root_mean_squared_error: 1.9203 - val_mean_absolute_percentage_error: 16.0424\n",
      "Epoch 198/300\n",
      "71/71 [==============================] - 0s 3ms/step - loss: 2.5637 - mse: 2.5637 - root_mean_squared_error: 1.6011 - mean_absolute_percentage_error: 13.7684 - val_loss: 3.6889 - val_mse: 3.6889 - val_root_mean_squared_error: 1.9207 - val_mean_absolute_percentage_error: 15.6993\n",
      "Epoch 199/300\n",
      "71/71 [==============================] - 0s 3ms/step - loss: 2.6792 - mse: 2.6792 - root_mean_squared_error: 1.6368 - mean_absolute_percentage_error: 13.8733 - val_loss: 3.6481 - val_mse: 3.6481 - val_root_mean_squared_error: 1.9100 - val_mean_absolute_percentage_error: 16.5588\n",
      "Epoch 200/300\n",
      "71/71 [==============================] - 0s 3ms/step - loss: 2.6579 - mse: 2.6579 - root_mean_squared_error: 1.6303 - mean_absolute_percentage_error: 13.7689 - val_loss: 3.5966 - val_mse: 3.5966 - val_root_mean_squared_error: 1.8965 - val_mean_absolute_percentage_error: 16.3800\n",
      "Epoch 201/300\n",
      "71/71 [==============================] - 0s 3ms/step - loss: 2.5628 - mse: 2.5628 - root_mean_squared_error: 1.6009 - mean_absolute_percentage_error: 13.7875 - val_loss: 3.5350 - val_mse: 3.5350 - val_root_mean_squared_error: 1.8802 - val_mean_absolute_percentage_error: 15.5873\n",
      "Epoch 202/300\n",
      "71/71 [==============================] - 0s 3ms/step - loss: 2.7078 - mse: 2.7078 - root_mean_squared_error: 1.6455 - mean_absolute_percentage_error: 14.1251 - val_loss: 3.6934 - val_mse: 3.6934 - val_root_mean_squared_error: 1.9218 - val_mean_absolute_percentage_error: 15.6973\n",
      "Epoch 203/300\n",
      "71/71 [==============================] - 0s 3ms/step - loss: 2.5977 - mse: 2.5977 - root_mean_squared_error: 1.6117 - mean_absolute_percentage_error: 13.8437 - val_loss: 3.6007 - val_mse: 3.6007 - val_root_mean_squared_error: 1.8976 - val_mean_absolute_percentage_error: 16.2686\n",
      "Epoch 204/300\n",
      "71/71 [==============================] - 0s 3ms/step - loss: 2.5837 - mse: 2.5837 - root_mean_squared_error: 1.6074 - mean_absolute_percentage_error: 13.7050 - val_loss: 3.4604 - val_mse: 3.4604 - val_root_mean_squared_error: 1.8602 - val_mean_absolute_percentage_error: 16.1561\n",
      "Epoch 205/300\n",
      "71/71 [==============================] - 0s 3ms/step - loss: 2.5534 - mse: 2.5534 - root_mean_squared_error: 1.5979 - mean_absolute_percentage_error: 13.7362 - val_loss: 3.6465 - val_mse: 3.6465 - val_root_mean_squared_error: 1.9096 - val_mean_absolute_percentage_error: 15.6057\n",
      "Epoch 206/300\n",
      "71/71 [==============================] - 0s 3ms/step - loss: 2.4692 - mse: 2.4692 - root_mean_squared_error: 1.5714 - mean_absolute_percentage_error: 13.6100 - val_loss: 3.4524 - val_mse: 3.4524 - val_root_mean_squared_error: 1.8581 - val_mean_absolute_percentage_error: 15.8833\n",
      "Epoch 207/300\n",
      "71/71 [==============================] - 0s 3ms/step - loss: 2.6675 - mse: 2.6675 - root_mean_squared_error: 1.6332 - mean_absolute_percentage_error: 13.6826 - val_loss: 3.5414 - val_mse: 3.5414 - val_root_mean_squared_error: 1.8819 - val_mean_absolute_percentage_error: 15.5933\n",
      "Epoch 208/300\n",
      "71/71 [==============================] - 0s 3ms/step - loss: 2.6312 - mse: 2.6312 - root_mean_squared_error: 1.6221 - mean_absolute_percentage_error: 13.6762 - val_loss: 3.4756 - val_mse: 3.4756 - val_root_mean_squared_error: 1.8643 - val_mean_absolute_percentage_error: 15.9785\n",
      "Epoch 209/300\n",
      "71/71 [==============================] - 0s 3ms/step - loss: 2.4868 - mse: 2.4868 - root_mean_squared_error: 1.5770 - mean_absolute_percentage_error: 13.5726 - val_loss: 3.6372 - val_mse: 3.6372 - val_root_mean_squared_error: 1.9072 - val_mean_absolute_percentage_error: 15.9190\n",
      "Epoch 210/300\n",
      "71/71 [==============================] - 0s 3ms/step - loss: 2.4969 - mse: 2.4969 - root_mean_squared_error: 1.5802 - mean_absolute_percentage_error: 13.3851 - val_loss: 3.5525 - val_mse: 3.5525 - val_root_mean_squared_error: 1.8848 - val_mean_absolute_percentage_error: 15.8467\n",
      "Epoch 211/300\n",
      "71/71 [==============================] - 0s 3ms/step - loss: 2.6434 - mse: 2.6434 - root_mean_squared_error: 1.6259 - mean_absolute_percentage_error: 13.8354 - val_loss: 3.4622 - val_mse: 3.4622 - val_root_mean_squared_error: 1.8607 - val_mean_absolute_percentage_error: 15.7689\n",
      "Epoch 212/300\n",
      "71/71 [==============================] - 0s 3ms/step - loss: 2.4980 - mse: 2.4980 - root_mean_squared_error: 1.5805 - mean_absolute_percentage_error: 14.0245 - val_loss: 3.6613 - val_mse: 3.6613 - val_root_mean_squared_error: 1.9135 - val_mean_absolute_percentage_error: 15.5706\n",
      "Epoch 213/300\n",
      "71/71 [==============================] - 0s 3ms/step - loss: 2.4774 - mse: 2.4774 - root_mean_squared_error: 1.5740 - mean_absolute_percentage_error: 13.4952 - val_loss: 3.4801 - val_mse: 3.4801 - val_root_mean_squared_error: 1.8655 - val_mean_absolute_percentage_error: 15.7609\n",
      "Epoch 214/300\n",
      "71/71 [==============================] - 0s 3ms/step - loss: 2.5446 - mse: 2.5446 - root_mean_squared_error: 1.5952 - mean_absolute_percentage_error: 13.7256 - val_loss: 3.6631 - val_mse: 3.6631 - val_root_mean_squared_error: 1.9139 - val_mean_absolute_percentage_error: 15.7851\n",
      "Epoch 215/300\n",
      "71/71 [==============================] - 0s 3ms/step - loss: 2.5532 - mse: 2.5532 - root_mean_squared_error: 1.5979 - mean_absolute_percentage_error: 13.8765 - val_loss: 3.5514 - val_mse: 3.5514 - val_root_mean_squared_error: 1.8845 - val_mean_absolute_percentage_error: 15.9780\n",
      "Epoch 216/300\n",
      "71/71 [==============================] - 0s 3ms/step - loss: 2.3756 - mse: 2.3756 - root_mean_squared_error: 1.5413 - mean_absolute_percentage_error: 13.3764 - val_loss: 3.5568 - val_mse: 3.5568 - val_root_mean_squared_error: 1.8860 - val_mean_absolute_percentage_error: 16.5076\n",
      "Epoch 217/300\n",
      "71/71 [==============================] - 0s 3ms/step - loss: 2.3027 - mse: 2.3027 - root_mean_squared_error: 1.5175 - mean_absolute_percentage_error: 13.2125 - val_loss: 3.6085 - val_mse: 3.6085 - val_root_mean_squared_error: 1.8996 - val_mean_absolute_percentage_error: 16.5526\n",
      "Epoch 218/300\n",
      "71/71 [==============================] - 0s 3ms/step - loss: 2.2858 - mse: 2.2858 - root_mean_squared_error: 1.5119 - mean_absolute_percentage_error: 13.1355 - val_loss: 3.5832 - val_mse: 3.5832 - val_root_mean_squared_error: 1.8929 - val_mean_absolute_percentage_error: 15.7849\n",
      "Epoch 219/300\n",
      "71/71 [==============================] - 0s 3ms/step - loss: 2.4179 - mse: 2.4179 - root_mean_squared_error: 1.5550 - mean_absolute_percentage_error: 13.4055 - val_loss: 3.5584 - val_mse: 3.5584 - val_root_mean_squared_error: 1.8864 - val_mean_absolute_percentage_error: 16.0073\n",
      "Epoch 220/300\n",
      "71/71 [==============================] - 0s 3ms/step - loss: 2.3986 - mse: 2.3986 - root_mean_squared_error: 1.5487 - mean_absolute_percentage_error: 13.2780 - val_loss: 3.5518 - val_mse: 3.5518 - val_root_mean_squared_error: 1.8846 - val_mean_absolute_percentage_error: 16.0699\n",
      "Epoch 221/300\n",
      "71/71 [==============================] - 0s 3ms/step - loss: 2.4170 - mse: 2.4170 - root_mean_squared_error: 1.5547 - mean_absolute_percentage_error: 13.4582 - val_loss: 3.5391 - val_mse: 3.5391 - val_root_mean_squared_error: 1.8813 - val_mean_absolute_percentage_error: 16.1688\n",
      "Epoch 222/300\n",
      "71/71 [==============================] - 0s 3ms/step - loss: 2.1840 - mse: 2.1840 - root_mean_squared_error: 1.4778 - mean_absolute_percentage_error: 12.7388 - val_loss: 3.5217 - val_mse: 3.5217 - val_root_mean_squared_error: 1.8766 - val_mean_absolute_percentage_error: 16.0736\n",
      "Epoch 223/300\n",
      "71/71 [==============================] - 0s 3ms/step - loss: 2.4735 - mse: 2.4735 - root_mean_squared_error: 1.5727 - mean_absolute_percentage_error: 13.6669 - val_loss: 3.5643 - val_mse: 3.5643 - val_root_mean_squared_error: 1.8879 - val_mean_absolute_percentage_error: 15.7285\n",
      "Epoch 224/300\n",
      "71/71 [==============================] - 0s 3ms/step - loss: 2.5581 - mse: 2.5581 - root_mean_squared_error: 1.5994 - mean_absolute_percentage_error: 13.7415 - val_loss: 3.5954 - val_mse: 3.5954 - val_root_mean_squared_error: 1.8961 - val_mean_absolute_percentage_error: 16.2794\n",
      "Epoch 225/300\n",
      "71/71 [==============================] - 0s 3ms/step - loss: 2.3951 - mse: 2.3951 - root_mean_squared_error: 1.5476 - mean_absolute_percentage_error: 13.4402 - val_loss: 3.5034 - val_mse: 3.5034 - val_root_mean_squared_error: 1.8717 - val_mean_absolute_percentage_error: 16.3129\n",
      "Epoch 226/300\n",
      "71/71 [==============================] - 0s 3ms/step - loss: 2.3426 - mse: 2.3426 - root_mean_squared_error: 1.5306 - mean_absolute_percentage_error: 13.3798 - val_loss: 3.6347 - val_mse: 3.6347 - val_root_mean_squared_error: 1.9065 - val_mean_absolute_percentage_error: 15.9042\n",
      "Epoch 227/300\n",
      "71/71 [==============================] - 0s 3ms/step - loss: 2.2897 - mse: 2.2897 - root_mean_squared_error: 1.5132 - mean_absolute_percentage_error: 13.3768 - val_loss: 3.6454 - val_mse: 3.6454 - val_root_mean_squared_error: 1.9093 - val_mean_absolute_percentage_error: 16.3949\n",
      "Epoch 228/300\n",
      "71/71 [==============================] - 0s 3ms/step - loss: 2.4051 - mse: 2.4051 - root_mean_squared_error: 1.5508 - mean_absolute_percentage_error: 13.7297 - val_loss: 3.5073 - val_mse: 3.5073 - val_root_mean_squared_error: 1.8728 - val_mean_absolute_percentage_error: 15.7811\n",
      "Epoch 229/300\n",
      "71/71 [==============================] - 0s 3ms/step - loss: 2.2713 - mse: 2.2713 - root_mean_squared_error: 1.5071 - mean_absolute_percentage_error: 13.1355 - val_loss: 3.5190 - val_mse: 3.5190 - val_root_mean_squared_error: 1.8759 - val_mean_absolute_percentage_error: 16.1150\n",
      "Epoch 230/300\n",
      "71/71 [==============================] - 0s 3ms/step - loss: 2.4801 - mse: 2.4801 - root_mean_squared_error: 1.5748 - mean_absolute_percentage_error: 13.5370 - val_loss: 3.5068 - val_mse: 3.5068 - val_root_mean_squared_error: 1.8727 - val_mean_absolute_percentage_error: 16.2808\n",
      "Epoch 231/300\n",
      "71/71 [==============================] - 0s 3ms/step - loss: 2.3346 - mse: 2.3346 - root_mean_squared_error: 1.5279 - mean_absolute_percentage_error: 13.3863 - val_loss: 3.4861 - val_mse: 3.4861 - val_root_mean_squared_error: 1.8671 - val_mean_absolute_percentage_error: 15.7879\n",
      "Epoch 232/300\n",
      "71/71 [==============================] - 0s 3ms/step - loss: 2.5396 - mse: 2.5396 - root_mean_squared_error: 1.5936 - mean_absolute_percentage_error: 13.7183 - val_loss: 3.5388 - val_mse: 3.5388 - val_root_mean_squared_error: 1.8812 - val_mean_absolute_percentage_error: 15.9323\n",
      "Epoch 233/300\n",
      "71/71 [==============================] - 0s 3ms/step - loss: 2.2552 - mse: 2.2552 - root_mean_squared_error: 1.5017 - mean_absolute_percentage_error: 13.3489 - val_loss: 3.5045 - val_mse: 3.5045 - val_root_mean_squared_error: 1.8720 - val_mean_absolute_percentage_error: 15.9763\n",
      "Epoch 234/300\n",
      "71/71 [==============================] - 0s 3ms/step - loss: 2.2721 - mse: 2.2721 - root_mean_squared_error: 1.5073 - mean_absolute_percentage_error: 13.3576 - val_loss: 3.5191 - val_mse: 3.5191 - val_root_mean_squared_error: 1.8759 - val_mean_absolute_percentage_error: 15.6411\n",
      "Epoch 235/300\n",
      "71/71 [==============================] - 0s 3ms/step - loss: 2.4045 - mse: 2.4045 - root_mean_squared_error: 1.5507 - mean_absolute_percentage_error: 13.4577 - val_loss: 3.4760 - val_mse: 3.4760 - val_root_mean_squared_error: 1.8644 - val_mean_absolute_percentage_error: 15.6478\n",
      "Epoch 236/300\n",
      "71/71 [==============================] - 0s 3ms/step - loss: 2.2506 - mse: 2.2506 - root_mean_squared_error: 1.5002 - mean_absolute_percentage_error: 13.3258 - val_loss: 3.4803 - val_mse: 3.4803 - val_root_mean_squared_error: 1.8656 - val_mean_absolute_percentage_error: 15.6995\n",
      "Epoch 237/300\n",
      "71/71 [==============================] - 0s 3ms/step - loss: 2.2927 - mse: 2.2927 - root_mean_squared_error: 1.5142 - mean_absolute_percentage_error: 13.3595 - val_loss: 3.7082 - val_mse: 3.7082 - val_root_mean_squared_error: 1.9257 - val_mean_absolute_percentage_error: 16.0014\n",
      "Epoch 238/300\n",
      "71/71 [==============================] - 0s 3ms/step - loss: 2.4811 - mse: 2.4811 - root_mean_squared_error: 1.5751 - mean_absolute_percentage_error: 13.7994 - val_loss: 3.6505 - val_mse: 3.6505 - val_root_mean_squared_error: 1.9106 - val_mean_absolute_percentage_error: 15.7440\n",
      "Epoch 239/300\n",
      "71/71 [==============================] - 0s 3ms/step - loss: 2.3509 - mse: 2.3509 - root_mean_squared_error: 1.5333 - mean_absolute_percentage_error: 13.2894 - val_loss: 3.5425 - val_mse: 3.5425 - val_root_mean_squared_error: 1.8821 - val_mean_absolute_percentage_error: 15.8404\n",
      "Epoch 240/300\n",
      "71/71 [==============================] - 0s 3ms/step - loss: 2.3219 - mse: 2.3219 - root_mean_squared_error: 1.5238 - mean_absolute_percentage_error: 13.4244 - val_loss: 3.5265 - val_mse: 3.5265 - val_root_mean_squared_error: 1.8779 - val_mean_absolute_percentage_error: 16.2612\n",
      "Epoch 241/300\n",
      "71/71 [==============================] - 0s 3ms/step - loss: 2.3655 - mse: 2.3655 - root_mean_squared_error: 1.5380 - mean_absolute_percentage_error: 13.7273 - val_loss: 3.5011 - val_mse: 3.5011 - val_root_mean_squared_error: 1.8711 - val_mean_absolute_percentage_error: 16.0624\n",
      "Epoch 242/300\n",
      "71/71 [==============================] - 0s 3ms/step - loss: 2.2257 - mse: 2.2257 - root_mean_squared_error: 1.4919 - mean_absolute_percentage_error: 13.1157 - val_loss: 3.6027 - val_mse: 3.6027 - val_root_mean_squared_error: 1.8981 - val_mean_absolute_percentage_error: 15.6683\n",
      "Epoch 243/300\n",
      "71/71 [==============================] - 0s 3ms/step - loss: 2.2359 - mse: 2.2359 - root_mean_squared_error: 1.4953 - mean_absolute_percentage_error: 13.1953 - val_loss: 3.6693 - val_mse: 3.6693 - val_root_mean_squared_error: 1.9155 - val_mean_absolute_percentage_error: 16.0230\n",
      "Epoch 244/300\n",
      "71/71 [==============================] - 0s 3ms/step - loss: 2.2617 - mse: 2.2617 - root_mean_squared_error: 1.5039 - mean_absolute_percentage_error: 13.1674 - val_loss: 3.6002 - val_mse: 3.6002 - val_root_mean_squared_error: 1.8974 - val_mean_absolute_percentage_error: 15.8501\n",
      "Epoch 245/300\n",
      "71/71 [==============================] - 0s 3ms/step - loss: 2.1044 - mse: 2.1044 - root_mean_squared_error: 1.4506 - mean_absolute_percentage_error: 12.9062 - val_loss: 3.4847 - val_mse: 3.4847 - val_root_mean_squared_error: 1.8667 - val_mean_absolute_percentage_error: 16.3320\n",
      "Epoch 246/300\n",
      "71/71 [==============================] - 0s 3ms/step - loss: 2.4279 - mse: 2.4279 - root_mean_squared_error: 1.5582 - mean_absolute_percentage_error: 13.6860 - val_loss: 3.5883 - val_mse: 3.5883 - val_root_mean_squared_error: 1.8943 - val_mean_absolute_percentage_error: 16.5339\n",
      "Epoch 247/300\n",
      "71/71 [==============================] - 0s 3ms/step - loss: 2.4080 - mse: 2.4080 - root_mean_squared_error: 1.5518 - mean_absolute_percentage_error: 13.3007 - val_loss: 3.5583 - val_mse: 3.5583 - val_root_mean_squared_error: 1.8864 - val_mean_absolute_percentage_error: 15.7009\n",
      "Epoch 248/300\n",
      "71/71 [==============================] - 0s 3ms/step - loss: 2.2709 - mse: 2.2709 - root_mean_squared_error: 1.5070 - mean_absolute_percentage_error: 13.1346 - val_loss: 3.6447 - val_mse: 3.6447 - val_root_mean_squared_error: 1.9091 - val_mean_absolute_percentage_error: 16.0953\n",
      "Epoch 249/300\n",
      "71/71 [==============================] - 0s 3ms/step - loss: 2.2839 - mse: 2.2839 - root_mean_squared_error: 1.5113 - mean_absolute_percentage_error: 13.5391 - val_loss: 3.5689 - val_mse: 3.5689 - val_root_mean_squared_error: 1.8892 - val_mean_absolute_percentage_error: 16.1218\n",
      "Epoch 250/300\n",
      "71/71 [==============================] - 0s 3ms/step - loss: 2.0899 - mse: 2.0899 - root_mean_squared_error: 1.4456 - mean_absolute_percentage_error: 12.9521 - val_loss: 3.4679 - val_mse: 3.4679 - val_root_mean_squared_error: 1.8622 - val_mean_absolute_percentage_error: 15.6891\n",
      "Epoch 251/300\n",
      "71/71 [==============================] - 0s 3ms/step - loss: 2.2429 - mse: 2.2429 - root_mean_squared_error: 1.4976 - mean_absolute_percentage_error: 13.2117 - val_loss: 3.5210 - val_mse: 3.5210 - val_root_mean_squared_error: 1.8764 - val_mean_absolute_percentage_error: 15.9212\n",
      "Epoch 252/300\n",
      "71/71 [==============================] - 0s 3ms/step - loss: 2.4572 - mse: 2.4572 - root_mean_squared_error: 1.5675 - mean_absolute_percentage_error: 13.5208 - val_loss: 3.5601 - val_mse: 3.5601 - val_root_mean_squared_error: 1.8868 - val_mean_absolute_percentage_error: 16.2563\n",
      "Epoch 253/300\n",
      "71/71 [==============================] - 0s 3ms/step - loss: 2.0808 - mse: 2.0808 - root_mean_squared_error: 1.4425 - mean_absolute_percentage_error: 12.9273 - val_loss: 3.5791 - val_mse: 3.5791 - val_root_mean_squared_error: 1.8918 - val_mean_absolute_percentage_error: 16.1387\n",
      "Epoch 254/300\n",
      "71/71 [==============================] - 0s 3ms/step - loss: 2.1886 - mse: 2.1886 - root_mean_squared_error: 1.4794 - mean_absolute_percentage_error: 12.8438 - val_loss: 3.6425 - val_mse: 3.6425 - val_root_mean_squared_error: 1.9085 - val_mean_absolute_percentage_error: 16.3556\n",
      "Epoch 255/300\n",
      "71/71 [==============================] - 0s 3ms/step - loss: 2.2795 - mse: 2.2795 - root_mean_squared_error: 1.5098 - mean_absolute_percentage_error: 13.6233 - val_loss: 3.6804 - val_mse: 3.6804 - val_root_mean_squared_error: 1.9184 - val_mean_absolute_percentage_error: 16.2426\n",
      "Epoch 256/300\n",
      "71/71 [==============================] - 0s 3ms/step - loss: 2.1518 - mse: 2.1518 - root_mean_squared_error: 1.4669 - mean_absolute_percentage_error: 13.2442 - val_loss: 3.5953 - val_mse: 3.5953 - val_root_mean_squared_error: 1.8961 - val_mean_absolute_percentage_error: 15.6749\n",
      "Epoch 257/300\n",
      "71/71 [==============================] - 0s 3ms/step - loss: 2.2954 - mse: 2.2954 - root_mean_squared_error: 1.5150 - mean_absolute_percentage_error: 13.1629 - val_loss: 3.5462 - val_mse: 3.5462 - val_root_mean_squared_error: 1.8831 - val_mean_absolute_percentage_error: 15.8273\n",
      "Epoch 258/300\n",
      "71/71 [==============================] - 0s 3ms/step - loss: 2.0677 - mse: 2.0677 - root_mean_squared_error: 1.4380 - mean_absolute_percentage_error: 12.6835 - val_loss: 3.5419 - val_mse: 3.5419 - val_root_mean_squared_error: 1.8820 - val_mean_absolute_percentage_error: 16.2513\n",
      "Epoch 259/300\n",
      "71/71 [==============================] - 0s 3ms/step - loss: 2.1119 - mse: 2.1119 - root_mean_squared_error: 1.4532 - mean_absolute_percentage_error: 13.0763 - val_loss: 3.5200 - val_mse: 3.5200 - val_root_mean_squared_error: 1.8762 - val_mean_absolute_percentage_error: 16.4115\n",
      "Epoch 260/300\n",
      "71/71 [==============================] - 0s 3ms/step - loss: 2.0654 - mse: 2.0654 - root_mean_squared_error: 1.4372 - mean_absolute_percentage_error: 12.7431 - val_loss: 3.6538 - val_mse: 3.6538 - val_root_mean_squared_error: 1.9115 - val_mean_absolute_percentage_error: 16.4663\n",
      "Epoch 261/300\n",
      "71/71 [==============================] - 0s 3ms/step - loss: 2.1547 - mse: 2.1547 - root_mean_squared_error: 1.4679 - mean_absolute_percentage_error: 13.1268 - val_loss: 3.6664 - val_mse: 3.6664 - val_root_mean_squared_error: 1.9148 - val_mean_absolute_percentage_error: 16.3564\n",
      "Epoch 262/300\n",
      "71/71 [==============================] - 0s 3ms/step - loss: 2.1999 - mse: 2.1999 - root_mean_squared_error: 1.4832 - mean_absolute_percentage_error: 13.0662 - val_loss: 3.6403 - val_mse: 3.6403 - val_root_mean_squared_error: 1.9079 - val_mean_absolute_percentage_error: 16.3074\n",
      "Epoch 263/300\n",
      "71/71 [==============================] - 0s 3ms/step - loss: 2.0727 - mse: 2.0727 - root_mean_squared_error: 1.4397 - mean_absolute_percentage_error: 13.0113 - val_loss: 3.6571 - val_mse: 3.6571 - val_root_mean_squared_error: 1.9124 - val_mean_absolute_percentage_error: 16.0505\n",
      "Epoch 264/300\n",
      "71/71 [==============================] - 0s 3ms/step - loss: 2.1455 - mse: 2.1455 - root_mean_squared_error: 1.4647 - mean_absolute_percentage_error: 13.1317 - val_loss: 3.5890 - val_mse: 3.5890 - val_root_mean_squared_error: 1.8945 - val_mean_absolute_percentage_error: 16.8891\n",
      "Epoch 265/300\n",
      "71/71 [==============================] - 0s 3ms/step - loss: 2.0564 - mse: 2.0564 - root_mean_squared_error: 1.4340 - mean_absolute_percentage_error: 12.8859 - val_loss: 3.6778 - val_mse: 3.6778 - val_root_mean_squared_error: 1.9178 - val_mean_absolute_percentage_error: 16.1572\n",
      "Epoch 266/300\n",
      "71/71 [==============================] - 0s 3ms/step - loss: 2.0764 - mse: 2.0764 - root_mean_squared_error: 1.4410 - mean_absolute_percentage_error: 13.1163 - val_loss: 3.6002 - val_mse: 3.6002 - val_root_mean_squared_error: 1.8974 - val_mean_absolute_percentage_error: 16.4516\n",
      "Epoch 267/300\n",
      "71/71 [==============================] - 0s 3ms/step - loss: 2.2290 - mse: 2.2290 - root_mean_squared_error: 1.4930 - mean_absolute_percentage_error: 13.1820 - val_loss: 3.6072 - val_mse: 3.6072 - val_root_mean_squared_error: 1.8993 - val_mean_absolute_percentage_error: 16.7314\n",
      "Epoch 268/300\n",
      "71/71 [==============================] - 0s 3ms/step - loss: 2.2277 - mse: 2.2277 - root_mean_squared_error: 1.4926 - mean_absolute_percentage_error: 13.1318 - val_loss: 3.6481 - val_mse: 3.6481 - val_root_mean_squared_error: 1.9100 - val_mean_absolute_percentage_error: 16.2796\n",
      "Epoch 269/300\n",
      "71/71 [==============================] - 0s 3ms/step - loss: 2.1163 - mse: 2.1163 - root_mean_squared_error: 1.4548 - mean_absolute_percentage_error: 12.8347 - val_loss: 3.6776 - val_mse: 3.6776 - val_root_mean_squared_error: 1.9177 - val_mean_absolute_percentage_error: 16.5404\n",
      "Epoch 270/300\n",
      "71/71 [==============================] - 0s 3ms/step - loss: 2.0500 - mse: 2.0500 - root_mean_squared_error: 1.4318 - mean_absolute_percentage_error: 12.8822 - val_loss: 3.5264 - val_mse: 3.5264 - val_root_mean_squared_error: 1.8779 - val_mean_absolute_percentage_error: 16.1262\n",
      "Epoch 271/300\n",
      "71/71 [==============================] - 0s 3ms/step - loss: 2.1588 - mse: 2.1588 - root_mean_squared_error: 1.4693 - mean_absolute_percentage_error: 13.1049 - val_loss: 3.5127 - val_mse: 3.5127 - val_root_mean_squared_error: 1.8742 - val_mean_absolute_percentage_error: 15.9134\n",
      "Epoch 272/300\n",
      "71/71 [==============================] - 0s 3ms/step - loss: 2.0583 - mse: 2.0583 - root_mean_squared_error: 1.4347 - mean_absolute_percentage_error: 12.9106 - val_loss: 3.5950 - val_mse: 3.5950 - val_root_mean_squared_error: 1.8960 - val_mean_absolute_percentage_error: 16.1028\n",
      "Epoch 273/300\n",
      "71/71 [==============================] - 0s 3ms/step - loss: 1.9954 - mse: 1.9954 - root_mean_squared_error: 1.4126 - mean_absolute_percentage_error: 12.5090 - val_loss: 3.6470 - val_mse: 3.6470 - val_root_mean_squared_error: 1.9097 - val_mean_absolute_percentage_error: 15.7121\n",
      "Epoch 274/300\n",
      "71/71 [==============================] - 0s 3ms/step - loss: 2.1193 - mse: 2.1193 - root_mean_squared_error: 1.4558 - mean_absolute_percentage_error: 13.0519 - val_loss: 3.6185 - val_mse: 3.6185 - val_root_mean_squared_error: 1.9022 - val_mean_absolute_percentage_error: 15.8697\n",
      "Epoch 275/300\n",
      "71/71 [==============================] - 0s 3ms/step - loss: 2.0024 - mse: 2.0024 - root_mean_squared_error: 1.4151 - mean_absolute_percentage_error: 12.6135 - val_loss: 3.6142 - val_mse: 3.6142 - val_root_mean_squared_error: 1.9011 - val_mean_absolute_percentage_error: 16.4265\n",
      "Epoch 276/300\n",
      "71/71 [==============================] - 0s 3ms/step - loss: 2.0927 - mse: 2.0927 - root_mean_squared_error: 1.4466 - mean_absolute_percentage_error: 13.1157 - val_loss: 3.5722 - val_mse: 3.5722 - val_root_mean_squared_error: 1.8900 - val_mean_absolute_percentage_error: 16.2675\n",
      "Epoch 277/300\n",
      "71/71 [==============================] - 0s 3ms/step - loss: 2.1733 - mse: 2.1733 - root_mean_squared_error: 1.4742 - mean_absolute_percentage_error: 12.9907 - val_loss: 3.5762 - val_mse: 3.5762 - val_root_mean_squared_error: 1.8911 - val_mean_absolute_percentage_error: 16.1009\n",
      "Epoch 278/300\n",
      "71/71 [==============================] - 0s 3ms/step - loss: 2.0295 - mse: 2.0295 - root_mean_squared_error: 1.4246 - mean_absolute_percentage_error: 13.0228 - val_loss: 3.5953 - val_mse: 3.5953 - val_root_mean_squared_error: 1.8961 - val_mean_absolute_percentage_error: 16.7322\n",
      "Epoch 279/300\n",
      "71/71 [==============================] - 0s 3ms/step - loss: 2.1269 - mse: 2.1269 - root_mean_squared_error: 1.4584 - mean_absolute_percentage_error: 13.1997 - val_loss: 3.5882 - val_mse: 3.5882 - val_root_mean_squared_error: 1.8943 - val_mean_absolute_percentage_error: 16.1429\n",
      "Epoch 280/300\n",
      "71/71 [==============================] - 0s 3ms/step - loss: 2.0843 - mse: 2.0843 - root_mean_squared_error: 1.4437 - mean_absolute_percentage_error: 13.0565 - val_loss: 3.5204 - val_mse: 3.5204 - val_root_mean_squared_error: 1.8763 - val_mean_absolute_percentage_error: 15.8537\n",
      "Epoch 281/300\n",
      "71/71 [==============================] - 0s 3ms/step - loss: 2.0191 - mse: 2.0191 - root_mean_squared_error: 1.4209 - mean_absolute_percentage_error: 12.5909 - val_loss: 3.5724 - val_mse: 3.5724 - val_root_mean_squared_error: 1.8901 - val_mean_absolute_percentage_error: 16.3116\n",
      "Epoch 282/300\n",
      "71/71 [==============================] - 0s 3ms/step - loss: 2.1864 - mse: 2.1864 - root_mean_squared_error: 1.4786 - mean_absolute_percentage_error: 13.1166 - val_loss: 3.5659 - val_mse: 3.5659 - val_root_mean_squared_error: 1.8884 - val_mean_absolute_percentage_error: 16.1129\n",
      "Epoch 283/300\n",
      "71/71 [==============================] - 0s 3ms/step - loss: 2.0080 - mse: 2.0080 - root_mean_squared_error: 1.4171 - mean_absolute_percentage_error: 12.8151 - val_loss: 3.5588 - val_mse: 3.5588 - val_root_mean_squared_error: 1.8865 - val_mean_absolute_percentage_error: 16.1611\n",
      "Epoch 284/300\n",
      "71/71 [==============================] - 0s 3ms/step - loss: 1.9966 - mse: 1.9966 - root_mean_squared_error: 1.4130 - mean_absolute_percentage_error: 12.7993 - val_loss: 3.5736 - val_mse: 3.5736 - val_root_mean_squared_error: 1.8904 - val_mean_absolute_percentage_error: 16.1878\n",
      "Epoch 285/300\n",
      "71/71 [==============================] - 0s 3ms/step - loss: 2.1290 - mse: 2.1290 - root_mean_squared_error: 1.4591 - mean_absolute_percentage_error: 13.2962 - val_loss: 3.6379 - val_mse: 3.6379 - val_root_mean_squared_error: 1.9073 - val_mean_absolute_percentage_error: 15.9064\n",
      "Epoch 286/300\n",
      "71/71 [==============================] - 0s 3ms/step - loss: 2.1001 - mse: 2.1001 - root_mean_squared_error: 1.4492 - mean_absolute_percentage_error: 12.8395 - val_loss: 3.5718 - val_mse: 3.5718 - val_root_mean_squared_error: 1.8899 - val_mean_absolute_percentage_error: 15.8837\n",
      "Epoch 287/300\n",
      "71/71 [==============================] - 0s 3ms/step - loss: 1.8220 - mse: 1.8220 - root_mean_squared_error: 1.3498 - mean_absolute_percentage_error: 12.2679 - val_loss: 3.6584 - val_mse: 3.6584 - val_root_mean_squared_error: 1.9127 - val_mean_absolute_percentage_error: 16.0410\n",
      "Epoch 288/300\n",
      "71/71 [==============================] - 0s 3ms/step - loss: 2.0668 - mse: 2.0668 - root_mean_squared_error: 1.4376 - mean_absolute_percentage_error: 13.0068 - val_loss: 3.5696 - val_mse: 3.5696 - val_root_mean_squared_error: 1.8893 - val_mean_absolute_percentage_error: 16.1073\n",
      "Epoch 289/300\n",
      "71/71 [==============================] - 0s 3ms/step - loss: 2.0920 - mse: 2.0920 - root_mean_squared_error: 1.4464 - mean_absolute_percentage_error: 13.0120 - val_loss: 3.6754 - val_mse: 3.6754 - val_root_mean_squared_error: 1.9171 - val_mean_absolute_percentage_error: 16.0758\n",
      "Epoch 290/300\n",
      "71/71 [==============================] - 0s 3ms/step - loss: 2.0629 - mse: 2.0629 - root_mean_squared_error: 1.4363 - mean_absolute_percentage_error: 12.9643 - val_loss: 3.7148 - val_mse: 3.7148 - val_root_mean_squared_error: 1.9274 - val_mean_absolute_percentage_error: 16.0738\n",
      "Epoch 291/300\n",
      "71/71 [==============================] - 0s 3ms/step - loss: 2.0323 - mse: 2.0323 - root_mean_squared_error: 1.4256 - mean_absolute_percentage_error: 12.5142 - val_loss: 3.5476 - val_mse: 3.5476 - val_root_mean_squared_error: 1.8835 - val_mean_absolute_percentage_error: 16.0845\n",
      "Epoch 292/300\n",
      "71/71 [==============================] - 0s 3ms/step - loss: 2.0550 - mse: 2.0550 - root_mean_squared_error: 1.4335 - mean_absolute_percentage_error: 12.8510 - val_loss: 3.5897 - val_mse: 3.5897 - val_root_mean_squared_error: 1.8947 - val_mean_absolute_percentage_error: 15.9169\n",
      "Epoch 293/300\n",
      "71/71 [==============================] - 0s 3ms/step - loss: 2.0955 - mse: 2.0955 - root_mean_squared_error: 1.4476 - mean_absolute_percentage_error: 13.1467 - val_loss: 3.5774 - val_mse: 3.5774 - val_root_mean_squared_error: 1.8914 - val_mean_absolute_percentage_error: 15.9496\n",
      "Epoch 294/300\n",
      "71/71 [==============================] - 0s 3ms/step - loss: 1.9334 - mse: 1.9334 - root_mean_squared_error: 1.3905 - mean_absolute_percentage_error: 12.8159 - val_loss: 3.5470 - val_mse: 3.5470 - val_root_mean_squared_error: 1.8834 - val_mean_absolute_percentage_error: 15.8864\n",
      "Epoch 295/300\n",
      "71/71 [==============================] - 0s 3ms/step - loss: 1.9928 - mse: 1.9928 - root_mean_squared_error: 1.4117 - mean_absolute_percentage_error: 12.8302 - val_loss: 3.6054 - val_mse: 3.6054 - val_root_mean_squared_error: 1.8988 - val_mean_absolute_percentage_error: 15.7832\n",
      "Epoch 296/300\n",
      "71/71 [==============================] - 0s 3ms/step - loss: 1.9573 - mse: 1.9573 - root_mean_squared_error: 1.3990 - mean_absolute_percentage_error: 12.8259 - val_loss: 3.5824 - val_mse: 3.5824 - val_root_mean_squared_error: 1.8927 - val_mean_absolute_percentage_error: 15.7273\n",
      "Epoch 297/300\n",
      "71/71 [==============================] - 0s 3ms/step - loss: 1.9622 - mse: 1.9622 - root_mean_squared_error: 1.4008 - mean_absolute_percentage_error: 12.6628 - val_loss: 3.5158 - val_mse: 3.5158 - val_root_mean_squared_error: 1.8750 - val_mean_absolute_percentage_error: 15.8493\n",
      "Epoch 298/300\n",
      "71/71 [==============================] - 0s 3ms/step - loss: 2.0365 - mse: 2.0365 - root_mean_squared_error: 1.4271 - mean_absolute_percentage_error: 12.9720 - val_loss: 3.4769 - val_mse: 3.4769 - val_root_mean_squared_error: 1.8647 - val_mean_absolute_percentage_error: 16.0375\n",
      "Epoch 299/300\n",
      "71/71 [==============================] - 0s 3ms/step - loss: 1.9308 - mse: 1.9308 - root_mean_squared_error: 1.3895 - mean_absolute_percentage_error: 12.4351 - val_loss: 3.4908 - val_mse: 3.4908 - val_root_mean_squared_error: 1.8684 - val_mean_absolute_percentage_error: 16.0493\n",
      "Epoch 300/300\n",
      "71/71 [==============================] - 0s 3ms/step - loss: 1.9985 - mse: 1.9985 - root_mean_squared_error: 1.4137 - mean_absolute_percentage_error: 12.7448 - val_loss: 3.4917 - val_mse: 3.4917 - val_root_mean_squared_error: 1.8686 - val_mean_absolute_percentage_error: 15.9942\n"
     ]
    }
   ],
   "source": [
    "history_1 = model_1.fit(Z_train, y_train,\n",
    "          epochs= 300,\n",
    "          validation_data= (Z_test, y_test),\n",
    "          verbose= 1\n",
    "         )"
   ]
  },
  {
   "cell_type": "code",
   "execution_count": 30,
   "id": "d3030751",
   "metadata": {},
   "outputs": [
    {
     "data": {
      "text/plain": [
       "0.9351225454662836"
      ]
     },
     "execution_count": 30,
     "metadata": {},
     "output_type": "execute_result"
    }
   ],
   "source": [
    "r2_score(y_train, model_1.predict(Z_train))"
   ]
  },
  {
   "cell_type": "code",
   "execution_count": 31,
   "id": "2c2e2172",
   "metadata": {},
   "outputs": [
    {
     "data": {
      "text/plain": [
       "0.6456420620000094"
      ]
     },
     "execution_count": 31,
     "metadata": {},
     "output_type": "execute_result"
    }
   ],
   "source": [
    "r2_score(y_test, model_1.predict(Z_test))"
   ]
  },
  {
   "cell_type": "code",
   "execution_count": 32,
   "id": "bfb12871",
   "metadata": {},
   "outputs": [],
   "source": [
    "nn_train = model_1.predict(Z_train)\n",
    "nn_test = model_1.predict(Z_test)\n",
    "nn_train = [g[0] for g in nn_train]\n",
    "nn_test = [h[0] for h in nn_test]"
   ]
  },
  {
   "cell_type": "code",
   "execution_count": 33,
   "id": "1345905d",
   "metadata": {},
   "outputs": [
    {
     "data": {
      "image/png": "[encoded data removed]",
      "text/plain": [
       "<Figure size 792x792 with 1 Axes>"
      ]
     },
     "metadata": {
      "needs_background": "light"
     },
     "output_type": "display_data"
    }
   ],
   "source": [
    "plt.figure(figsize=(11,11))\n",
    "plt.scatter(model_1.predict(Z_train), y_train)\n",
    "plt.title('NN - Train: 0.91, Test: 0.634')\n",
    "plt.savefig('../graphs/NN_pred_scatter.jpg')"
   ]
  },
  {
   "cell_type": "markdown",
   "id": "35e78b21",
   "metadata": {},
   "source": [
    "### Second level model based on linear regression and neural network preds"
   ]
  },
  {
   "cell_type": "code",
   "execution_count": 34,
   "id": "6ff5a001",
   "metadata": {},
   "outputs": [],
   "source": [
    "a =pd.DataFrame([lin_train, nn_train, y_train], index=['lin_reg', 'nn', 'y']).T\n",
    "b = pd.DataFrame([lin_test, nn_test, y_test], index=['lin_reg', 'nn', 'y']).T"
   ]
  },
  {
   "cell_type": "code",
   "execution_count": 35,
   "id": "0f3cee69",
   "metadata": {},
   "outputs": [
    {
     "data": {
      "text/html": [
       "<div>\n",
       "<style scoped>\n",
       "    .dataframe tbody tr th:only-of-type {\n",
       "        vertical-align: middle;\n",
       "    }\n",
       "\n",
       "    .dataframe tbody tr th {\n",
       "        vertical-align: top;\n",
       "    }\n",
       "\n",
       "    .dataframe thead th {\n",
       "        text-align: right;\n",
       "    }\n",
       "</style>\n",
       "<table border=\"1\" class=\"dataframe\">\n",
       "  <thead>\n",
       "    <tr style=\"text-align: right;\">\n",
       "      <th></th>\n",
       "      <th>lin_reg</th>\n",
       "      <th>nn</th>\n",
       "      <th>y</th>\n",
       "    </tr>\n",
       "  </thead>\n",
       "  <tbody>\n",
       "    <tr>\n",
       "      <th>0</th>\n",
       "      <td>11.233114</td>\n",
       "      <td>11.408460</td>\n",
       "      <td>11.7</td>\n",
       "    </tr>\n",
       "    <tr>\n",
       "      <th>1</th>\n",
       "      <td>7.821493</td>\n",
       "      <td>7.529068</td>\n",
       "      <td>9.9</td>\n",
       "    </tr>\n",
       "    <tr>\n",
       "      <th>2</th>\n",
       "      <td>12.089071</td>\n",
       "      <td>8.858534</td>\n",
       "      <td>8.0</td>\n",
       "    </tr>\n",
       "    <tr>\n",
       "      <th>3</th>\n",
       "      <td>12.401266</td>\n",
       "      <td>11.047582</td>\n",
       "      <td>11.6</td>\n",
       "    </tr>\n",
       "    <tr>\n",
       "      <th>4</th>\n",
       "      <td>9.115927</td>\n",
       "      <td>6.925048</td>\n",
       "      <td>7.4</td>\n",
       "    </tr>\n",
       "  </tbody>\n",
       "</table>\n",
       "</div>"
      ],
      "text/plain": [
       "     lin_reg         nn     y\n",
       "0  11.233114  11.408460  11.7\n",
       "1   7.821493   7.529068   9.9\n",
       "2  12.089071   8.858534   8.0\n",
       "3  12.401266  11.047582  11.6\n",
       "4   9.115927   6.925048   7.4"
      ]
     },
     "execution_count": 35,
     "metadata": {},
     "output_type": "execute_result"
    }
   ],
   "source": [
    "a.head()"
   ]
  },
  {
   "cell_type": "code",
   "execution_count": 36,
   "id": "37b8f5bb",
   "metadata": {},
   "outputs": [
    {
     "data": {
      "text/html": [
       "<div>\n",
       "<style scoped>\n",
       "    .dataframe tbody tr th:only-of-type {\n",
       "        vertical-align: middle;\n",
       "    }\n",
       "\n",
       "    .dataframe tbody tr th {\n",
       "        vertical-align: top;\n",
       "    }\n",
       "\n",
       "    .dataframe thead th {\n",
       "        text-align: right;\n",
       "    }\n",
       "</style>\n",
       "<table border=\"1\" class=\"dataframe\">\n",
       "  <thead>\n",
       "    <tr style=\"text-align: right;\">\n",
       "      <th></th>\n",
       "      <th>lin_reg</th>\n",
       "      <th>nn</th>\n",
       "      <th>y</th>\n",
       "    </tr>\n",
       "  </thead>\n",
       "  <tbody>\n",
       "    <tr>\n",
       "      <th>0</th>\n",
       "      <td>12.140043</td>\n",
       "      <td>11.263617</td>\n",
       "      <td>12.5</td>\n",
       "    </tr>\n",
       "    <tr>\n",
       "      <th>1</th>\n",
       "      <td>9.788969</td>\n",
       "      <td>8.187428</td>\n",
       "      <td>5.9</td>\n",
       "    </tr>\n",
       "    <tr>\n",
       "      <th>2</th>\n",
       "      <td>11.138578</td>\n",
       "      <td>11.767864</td>\n",
       "      <td>10.7</td>\n",
       "    </tr>\n",
       "    <tr>\n",
       "      <th>3</th>\n",
       "      <td>7.859282</td>\n",
       "      <td>6.767230</td>\n",
       "      <td>6.3</td>\n",
       "    </tr>\n",
       "    <tr>\n",
       "      <th>4</th>\n",
       "      <td>13.037016</td>\n",
       "      <td>11.536347</td>\n",
       "      <td>12.4</td>\n",
       "    </tr>\n",
       "  </tbody>\n",
       "</table>\n",
       "</div>"
      ],
      "text/plain": [
       "     lin_reg         nn     y\n",
       "0  12.140043  11.263617  12.5\n",
       "1   9.788969   8.187428   5.9\n",
       "2  11.138578  11.767864  10.7\n",
       "3   7.859282   6.767230   6.3\n",
       "4  13.037016  11.536347  12.4"
      ]
     },
     "execution_count": 36,
     "metadata": {},
     "output_type": "execute_result"
    }
   ],
   "source": [
    "b.head()"
   ]
  },
  {
   "cell_type": "code",
   "execution_count": 37,
   "id": "9bfd46ed",
   "metadata": {},
   "outputs": [],
   "source": [
    "Xa = a.drop(columns='y')\n",
    "ya = a['y']\n",
    "Xa_train, Xa_test, ya_train, ya_test = train_test_split(Xa, ya, random_state=42)"
   ]
  },
  {
   "cell_type": "code",
   "execution_count": 38,
   "id": "c9a4caa8",
   "metadata": {},
   "outputs": [],
   "source": [
    "lev2 = LinearRegression()"
   ]
  },
  {
   "cell_type": "code",
   "execution_count": 39,
   "id": "45f1705c",
   "metadata": {},
   "outputs": [
    {
     "data": {
      "text/plain": [
       "LinearRegression()"
      ]
     },
     "execution_count": 39,
     "metadata": {},
     "output_type": "execute_result"
    }
   ],
   "source": [
    "lev2.fit(Xa_train, ya_train)"
   ]
  },
  {
   "cell_type": "code",
   "execution_count": 40,
   "id": "f13b21dd",
   "metadata": {},
   "outputs": [
    {
     "data": {
      "text/plain": [
       "(0.9358217808337113, 0.9451154398223037, 0.9348207713526872)"
      ]
     },
     "execution_count": 40,
     "metadata": {},
     "output_type": "execute_result"
    }
   ],
   "source": [
    "lev2.score(Xa_train, ya_train), lev2.score(Xa_test, ya_test), cross_val_score(lev2, Xa_train, ya_train).mean()"
   ]
  },
  {
   "cell_type": "code",
   "execution_count": 41,
   "id": "65b7c2af",
   "metadata": {},
   "outputs": [
    {
     "data": {
      "image/png": "[encoded data removed]",
      "text/plain": [
       "<Figure size 792x792 with 1 Axes>"
      ]
     },
     "metadata": {
      "needs_background": "light"
     },
     "output_type": "display_data"
    }
   ],
   "source": [
    "plt.figure(figsize=(11,11))\n",
    "plt.scatter(lev2.predict(Xa_train), ya_train)\n",
    "plt.title('LR2 - Train: .921, Test: 0.935, Cross: 0.921')\n",
    "plt.savefig('../graphs/LR2_pred_scatter.jpg')"
   ]
  }
 ],
 "metadata": {
  "kernelspec": {
   "display_name": "Python [conda env:tfkGPU]",
   "language": "python",
   "name": "conda-env-tfkGPU-py"
  },
  "language_info": {
   "codemirror_mode": {
    "name": "ipython",
    "version": 3
   },
   "file_extension": ".py",
   "mimetype": "text/x-python",
   "name": "python",
   "nbconvert_exporter": "python",
   "pygments_lexer": "ipython3",
   "version": "3.7.11"
  }
 },
 "nbformat": 4,
 "nbformat_minor": 5
}
