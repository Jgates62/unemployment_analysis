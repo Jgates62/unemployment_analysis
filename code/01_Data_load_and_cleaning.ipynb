{
 "cells": [
  {
   "cell_type": "code",
   "execution_count": 2,
   "id": "99b7e3de",
   "metadata": {},
   "outputs": [],
   "source": [
    "import pandas as pd\n",
    "import numpy as np\n",
    "from pandasql import sqldf as sql"
   ]
  },
  {
   "cell_type": "code",
   "execution_count": 3,
   "id": "a7c98ea4",
   "metadata": {},
   "outputs": [],
   "source": [
    "df = pd.read_csv('../data/final.csv')\n",
    "df_cops = pd.read_csv('../data/2010_police_num_by_county.csv')\n",
    "df_people = pd.read_csv('../data/people.csv')"
   ]
  },
  {
   "cell_type": "code",
   "execution_count": 4,
   "id": "60fea7e6",
   "metadata": {},
   "outputs": [],
   "source": [
    "pd.set_option('display.max_columns', 35)"
   ]
  },
  {
   "cell_type": "code",
   "execution_count": 5,
   "id": "d96f046f",
   "metadata": {},
   "outputs": [
    {
     "data": {
      "text/plain": [
       "(3150, 23)"
      ]
     },
     "execution_count": 5,
     "metadata": {},
     "output_type": "execute_result"
    }
   ],
   "source": [
    "df.shape"
   ]
  },
  {
   "cell_type": "code",
   "execution_count": 6,
   "id": "1c6cd6b9",
   "metadata": {},
   "outputs": [
    {
     "data": {
      "text/plain": [
       "(3034, 4)"
      ]
     },
     "execution_count": 6,
     "metadata": {},
     "output_type": "execute_result"
    }
   ],
   "source": [
    "df_cops.shape"
   ]
  },
  {
   "cell_type": "code",
   "execution_count": 7,
   "id": "3484c419",
   "metadata": {},
   "outputs": [
    {
     "data": {
      "text/plain": [
       "(3212, 7)"
      ]
     },
     "execution_count": 7,
     "metadata": {},
     "output_type": "execute_result"
    }
   ],
   "source": [
    "df_people.shape"
   ]
  },
  {
   "cell_type": "code",
   "execution_count": 8,
   "id": "6a41ed94",
   "metadata": {},
   "outputs": [
    {
     "data": {
      "text/plain": [
       "(3342, 27)"
      ]
     },
     "execution_count": 8,
     "metadata": {},
     "output_type": "execute_result"
    }
   ],
   "source": [
    "df = pd.merge(df, df_cops, how='left', left_on='foreign_key', right_on='foreign_police')\n",
    "df.shape"
   ]
  },
  {
   "cell_type": "code",
   "execution_count": 9,
   "id": "c37646ae",
   "metadata": {},
   "outputs": [],
   "source": [
    "df = df.dropna()"
   ]
  },
  {
   "cell_type": "code",
   "execution_count": 10,
   "id": "36d14ea9",
   "metadata": {},
   "outputs": [
    {
     "data": {
      "text/plain": [
       "(2705, 34)"
      ]
     },
     "execution_count": 10,
     "metadata": {},
     "output_type": "execute_result"
    }
   ],
   "source": [
    "df = pd.merge(df, df_people, how='left', left_on='fips', right_on='FIPS_people')\n",
    "df.shape"
   ]
  },
  {
   "cell_type": "code",
   "execution_count": 11,
   "id": "86ed7010",
   "metadata": {},
   "outputs": [],
   "source": [
    "df = df.dropna()"
   ]
  },
  {
   "cell_type": "code",
   "execution_count": 12,
   "id": "079359d9",
   "metadata": {},
   "outputs": [
    {
     "data": {
      "text/plain": [
       "(2660, 34)"
      ]
     },
     "execution_count": 12,
     "metadata": {},
     "output_type": "execute_result"
    }
   ],
   "source": [
    "df.shape"
   ]
  },
  {
   "cell_type": "code",
   "execution_count": 13,
   "id": "d3b67f9e",
   "metadata": {},
   "outputs": [
    {
     "data": {
      "text/html": [
       "<div>\n",
       "<style scoped>\n",
       "    .dataframe tbody tr th:only-of-type {\n",
       "        vertical-align: middle;\n",
       "    }\n",
       "\n",
       "    .dataframe tbody tr th {\n",
       "        vertical-align: top;\n",
       "    }\n",
       "\n",
       "    .dataframe thead th {\n",
       "        text-align: right;\n",
       "    }\n",
       "</style>\n",
       "<table border=\"1\" class=\"dataframe\">\n",
       "  <thead>\n",
       "    <tr style=\"text-align: right;\">\n",
       "      <th></th>\n",
       "      <th>state</th>\n",
       "      <th>fips</th>\n",
       "      <th>county_name</th>\n",
       "      <th>unemployment_rate_2010</th>\n",
       "      <th>population_total_2010</th>\n",
       "      <th>urban_population_prc</th>\n",
       "      <th>rural_population_prc</th>\n",
       "      <th>crime_per_capita</th>\n",
       "      <th>per_capita_sme_num</th>\n",
       "      <th>per_capita_large_num</th>\n",
       "      <th>avg_ann_pay_per_emp_sme</th>\n",
       "      <th>avg_ann_pay_per_emp_large</th>\n",
       "      <th>avg_ann_pay_per_emp_total</th>\n",
       "      <th>population_jail_prc</th>\n",
       "      <th>2008_dem_%_vote</th>\n",
       "      <th>2008_rep_%_vote</th>\n",
       "      <th>2008_other_%_vote</th>\n",
       "      <th>smoke_percent_2010</th>\n",
       "      <th>popul_hs_grad_prc</th>\n",
       "      <th>popul_college_grad_prc</th>\n",
       "      <th>popul_single_paren_prc</th>\n",
       "      <th>liquor_stores_per10k</th>\n",
       "      <th>foreign_key</th>\n",
       "      <th>state_police</th>\n",
       "      <th>county_police</th>\n",
       "      <th>number_police</th>\n",
       "      <th>foreign_police</th>\n",
       "      <th>FIPS_people</th>\n",
       "      <th>WhiteNonHispanicPct2010</th>\n",
       "      <th>BlackNonHispanicPct2010</th>\n",
       "      <th>AsianNonHispanicPct2010</th>\n",
       "      <th>NativeAmericanNonHispanicPct2010</th>\n",
       "      <th>HispanicPct2010</th>\n",
       "      <th>MultipleRacePct2010</th>\n",
       "    </tr>\n",
       "  </thead>\n",
       "  <tbody>\n",
       "    <tr>\n",
       "      <th>0</th>\n",
       "      <td>AL</td>\n",
       "      <td>1001.0</td>\n",
       "      <td>Autauga</td>\n",
       "      <td>8.8</td>\n",
       "      <td>54,571</td>\n",
       "      <td>0.579978377</td>\n",
       "      <td>0.420021623</td>\n",
       "      <td>0.002620439</td>\n",
       "      <td>0.012259259</td>\n",
       "      <td>0.002565465</td>\n",
       "      <td>22667.03037</td>\n",
       "      <td>31792.20223</td>\n",
       "      <td>26856.69322</td>\n",
       "      <td>0.002913635</td>\n",
       "      <td>0.257730214</td>\n",
       "      <td>0.736136373</td>\n",
       "      <td>0.006133412</td>\n",
       "      <td>25.77</td>\n",
       "      <td>72.0</td>\n",
       "      <td>21.0</td>\n",
       "      <td>9.0</td>\n",
       "      <td>0.4</td>\n",
       "      <td>Alabama Autauga</td>\n",
       "      <td>Alabama</td>\n",
       "      <td>Autauga</td>\n",
       "      <td>64</td>\n",
       "      <td>Alabama Autauga</td>\n",
       "      <td>1001.0</td>\n",
       "      <td>77.25</td>\n",
       "      <td>17.58</td>\n",
       "      <td>0.86</td>\n",
       "      <td>0.40</td>\n",
       "      <td>2.40</td>\n",
       "      <td>1.59</td>\n",
       "    </tr>\n",
       "    <tr>\n",
       "      <th>1</th>\n",
       "      <td>AL</td>\n",
       "      <td>1003.0</td>\n",
       "      <td>Baldwin</td>\n",
       "      <td>9.9</td>\n",
       "      <td>182,265</td>\n",
       "      <td>0.577209009</td>\n",
       "      <td>0.422790991</td>\n",
       "      <td>0.002112309</td>\n",
       "      <td>0.020108084</td>\n",
       "      <td>0.002019038</td>\n",
       "      <td>28664.84962</td>\n",
       "      <td>29390.96748</td>\n",
       "      <td>28943.22956</td>\n",
       "      <td>0.004030066</td>\n",
       "      <td>0.238119219</td>\n",
       "      <td>0.752594794</td>\n",
       "      <td>0.009285986</td>\n",
       "      <td>22.97</td>\n",
       "      <td>67.0</td>\n",
       "      <td>26.0</td>\n",
       "      <td>9.0</td>\n",
       "      <td>0.8</td>\n",
       "      <td>Alabama Baldwin</td>\n",
       "      <td>Alabama</td>\n",
       "      <td>Baldwin</td>\n",
       "      <td>271</td>\n",
       "      <td>Alabama Baldwin</td>\n",
       "      <td>1003.0</td>\n",
       "      <td>83.50</td>\n",
       "      <td>9.31</td>\n",
       "      <td>0.74</td>\n",
       "      <td>0.63</td>\n",
       "      <td>4.38</td>\n",
       "      <td>1.49</td>\n",
       "    </tr>\n",
       "  </tbody>\n",
       "</table>\n",
       "</div>"
      ],
      "text/plain": [
       "  state    fips county_name  unemployment_rate_2010 population_total_2010  \\\n",
       "0    AL  1001.0     Autauga                     8.8                54,571   \n",
       "1    AL  1003.0     Baldwin                     9.9               182,265   \n",
       "\n",
       "  urban_population_prc rural_population_prc crime_per_capita  \\\n",
       "0          0.579978377          0.420021623      0.002620439   \n",
       "1          0.577209009          0.422790991      0.002112309   \n",
       "\n",
       "  per_capita_sme_num per_capita_large_num avg_ann_pay_per_emp_sme  \\\n",
       "0        0.012259259          0.002565465             22667.03037   \n",
       "1        0.020108084          0.002019038             28664.84962   \n",
       "\n",
       "  avg_ann_pay_per_emp_large avg_ann_pay_per_emp_total population_jail_prc  \\\n",
       "0               31792.20223               26856.69322         0.002913635   \n",
       "1               29390.96748               28943.22956         0.004030066   \n",
       "\n",
       "  2008_dem_%_vote 2008_rep_%_vote 2008_other_%_vote  smoke_percent_2010  \\\n",
       "0     0.257730214     0.736136373       0.006133412               25.77   \n",
       "1     0.238119219     0.752594794       0.009285986               22.97   \n",
       "\n",
       "   popul_hs_grad_prc  popul_college_grad_prc  popul_single_paren_prc  \\\n",
       "0               72.0                    21.0                     9.0   \n",
       "1               67.0                    26.0                     9.0   \n",
       "\n",
       "   liquor_stores_per10k      foreign_key state_police county_police  \\\n",
       "0                   0.4  Alabama Autauga      Alabama       Autauga   \n",
       "1                   0.8  Alabama Baldwin      Alabama       Baldwin   \n",
       "\n",
       "  number_police   foreign_police  FIPS_people  WhiteNonHispanicPct2010  \\\n",
       "0            64  Alabama Autauga       1001.0                    77.25   \n",
       "1           271  Alabama Baldwin       1003.0                    83.50   \n",
       "\n",
       "   BlackNonHispanicPct2010  AsianNonHispanicPct2010  \\\n",
       "0                    17.58                     0.86   \n",
       "1                     9.31                     0.74   \n",
       "\n",
       "   NativeAmericanNonHispanicPct2010  HispanicPct2010  MultipleRacePct2010  \n",
       "0                              0.40             2.40                 1.59  \n",
       "1                              0.63             4.38                 1.49  "
      ]
     },
     "execution_count": 13,
     "metadata": {},
     "output_type": "execute_result"
    }
   ],
   "source": [
    "df.head(2)"
   ]
  },
  {
   "cell_type": "code",
   "execution_count": 14,
   "id": "90a084d1",
   "metadata": {},
   "outputs": [],
   "source": [
    "df = df.drop(columns=['fips', 'foreign_key', 'state_police', 'county_police', 'foreign_police', 'FIPS_people'])"
   ]
  },
  {
   "cell_type": "code",
   "execution_count": 15,
   "id": "21278b72",
   "metadata": {},
   "outputs": [
    {
     "data": {
      "text/plain": [
       "0        54571\n",
       "1       182265\n",
       "2        22915\n",
       "3        57322\n",
       "4        20947\n",
       "         ...  \n",
       "2700     43806\n",
       "2701     21294\n",
       "2702     21118\n",
       "2703      8533\n",
       "2704      7208\n",
       "Name: population_total_2010, Length: 2660, dtype: object"
      ]
     },
     "execution_count": 15,
     "metadata": {},
     "output_type": "execute_result"
    }
   ],
   "source": [
    "j=[]\n",
    "for i in df['population_total_2010']:\n",
    "    j.append(i.replace(',', ''))\n",
    "df['population_total_2010'] = j\n",
    "df['population_total_2010']"
   ]
  },
  {
   "cell_type": "code",
   "execution_count": 16,
   "id": "92d975b2",
   "metadata": {},
   "outputs": [],
   "source": [
    "k=[]\n",
    "for m in df['number_police']:\n",
    "    k.append(m.replace(',', ''))\n",
    "df['number_police'] = k"
   ]
  },
  {
   "cell_type": "code",
   "execution_count": 17,
   "id": "7435c6b2",
   "metadata": {},
   "outputs": [],
   "source": [
    "cols = ['avg_ann_pay_per_emp_large', 'avg_ann_pay_per_emp_sme', 'avg_ann_pay_per_emp_total']\n",
    "for i in cols:\n",
    "    df[i] = [txt if txt != '#DIV/0!' else np.nan for txt in df[i]]"
   ]
  },
  {
   "cell_type": "code",
   "execution_count": 18,
   "id": "d43fc3bb",
   "metadata": {},
   "outputs": [],
   "source": [
    "col_names = list(df.columns)\n",
    "col_names = [i for i in col_names if not i in ['state', 'county_name']]\n",
    "\n",
    "for b in col_names:\n",
    "    try:\n",
    "        df[b] = df[b].astype(float)\n",
    "    except:\n",
    "        pass"
   ]
  },
  {
   "cell_type": "code",
   "execution_count": 19,
   "id": "ae7704a0",
   "metadata": {},
   "outputs": [],
   "source": [
    "df = df.dropna(subset=['avg_ann_pay_per_emp_sme', 'avg_ann_pay_per_emp_total'])"
   ]
  },
  {
   "cell_type": "code",
   "execution_count": 20,
   "id": "d4c5252a",
   "metadata": {},
   "outputs": [
    {
     "data": {
      "text/plain": [
       "(2619, 28)"
      ]
     },
     "execution_count": 20,
     "metadata": {},
     "output_type": "execute_result"
    }
   ],
   "source": [
    "df.shape"
   ]
  },
  {
   "cell_type": "code",
   "execution_count": 21,
   "id": "8356bc62",
   "metadata": {},
   "outputs": [],
   "source": [
    "df = df.fillna(0)"
   ]
  },
  {
   "cell_type": "code",
   "execution_count": 22,
   "id": "4ccd42f4",
   "metadata": {},
   "outputs": [],
   "source": [
    "per_capita_police = df['number_police'] / df['population_total_2010']"
   ]
  },
  {
   "cell_type": "code",
   "execution_count": 23,
   "id": "16ff7014",
   "metadata": {},
   "outputs": [],
   "source": [
    "police_1000 = per_capita_police * 1000"
   ]
  },
  {
   "cell_type": "code",
   "execution_count": 24,
   "id": "eea370a5",
   "metadata": {},
   "outputs": [],
   "source": [
    "df = df.rename(columns={'number_police': 'police_per_1000'})"
   ]
  },
  {
   "cell_type": "code",
   "execution_count": 25,
   "id": "a7cfd6b9",
   "metadata": {},
   "outputs": [],
   "source": [
    "df['police_per_1000'] = police_1000"
   ]
  },
  {
   "cell_type": "code",
   "execution_count": 26,
   "id": "468aef4c",
   "metadata": {},
   "outputs": [],
   "source": [
    "df.to_csv('../data/final_work_data.csv', index=False)"
   ]
  },
  {
   "cell_type": "code",
   "execution_count": null,
   "id": "eda3eb9d",
   "metadata": {},
   "outputs": [],
   "source": []
  }
 ],
 "metadata": {
  "kernelspec": {
   "display_name": "Python 3",
   "language": "python",
   "name": "python3"
  },
  "language_info": {
   "codemirror_mode": {
    "name": "ipython",
    "version": 3
   },
   "file_extension": ".py",
   "mimetype": "text/x-python",
   "name": "python",
   "nbconvert_exporter": "python",
   "pygments_lexer": "ipython3",
   "version": "3.8.8"
  }
 },
 "nbformat": 4,
 "nbformat_minor": 5
}
