{
 "cells": [
  {
   "cell_type": "code",
   "execution_count": 1,
   "id": "7c0827a8",
   "metadata": {},
   "outputs": [],
   "source": [
    "import pandas as pd\n",
    "import numpy as np\n",
    "import matplotlib.pyplot as plt\n",
    "\n",
    "from sklearn.linear_model import LinearRegression\n",
    "from sklearn.preprocessing import StandardScaler, PolynomialFeatures\n",
    "from sklearn.model_selection import train_test_split, cross_val_score, cross_val_predict\n",
    "from sklearn.pipeline import Pipeline\n",
    "from sklearn.model_selection import GridSearchCV\n",
    "from sklearn.decomposition import PCA\n",
    "from sklearn.metrics import mean_squared_error, r2_score\n",
    "\n",
    "\n",
    "from tensorflow.keras.models import Sequential, Model\n",
    "from tensorflow.keras.layers import Dense, Dropout, BatchNormalization, Input\n",
    "from tensorflow.keras.regularizers import l1, l2, l1_l2\n",
    "from tensorflow.keras.callbacks import EarlyStopping\n",
    "from tensorflow.keras.wrappers.scikit_learn import KerasRegressor"
   ]
  },
  {
   "cell_type": "code",
   "execution_count": 2,
   "id": "b8313c66",
   "metadata": {},
   "outputs": [],
   "source": [
    "df = pd.read_csv('../data/full_data_interaction_05_025.csv')"
   ]
  },
  {
   "cell_type": "code",
   "execution_count": 3,
   "id": "cf1f2802",
   "metadata": {},
   "outputs": [],
   "source": [
    "X = df.drop(columns = ['state', 'county_name', 'unemployment_rate_2010', 'population_total_2010'])\n",
    "y = df['unemployment_rate_2010']"
   ]
  },
  {
   "cell_type": "code",
   "execution_count": 4,
   "id": "d12df3d0",
   "metadata": {},
   "outputs": [],
   "source": [
    "X_train, X_test, y_train, y_test = train_test_split(X, y, random_state=42)"
   ]
  },
  {
   "cell_type": "code",
   "execution_count": 5,
   "id": "af847ecb",
   "metadata": {},
   "outputs": [],
   "source": [
    "ss = StandardScaler()\n",
    "Z_train = ss.fit_transform(X_train)\n",
    "Z_test = ss.transform(X_test)"
   ]
  },
  {
   "cell_type": "markdown",
   "id": "f3600668",
   "metadata": {},
   "source": [
    "### Linear Regression"
   ]
  },
  {
   "cell_type": "code",
   "execution_count": 6,
   "id": "f06de963",
   "metadata": {},
   "outputs": [
    {
     "data": {
      "text/plain": [
       "LinearRegression()"
      ]
     },
     "execution_count": 6,
     "metadata": {},
     "output_type": "execute_result"
    }
   ],
   "source": [
    "lr = LinearRegression()\n",
    "lr.fit(Z_train, y_train)"
   ]
  },
  {
   "cell_type": "code",
   "execution_count": 7,
   "id": "57db8bac",
   "metadata": {},
   "outputs": [
    {
     "data": {
      "text/plain": [
       "(0.5440914846052834, 0.45134894131845105, 0.4834601772545518)"
      ]
     },
     "execution_count": 7,
     "metadata": {},
     "output_type": "execute_result"
    }
   ],
   "source": [
    "lr.score(Z_train, y_train), lr.score(Z_test, y_test), cross_val_score(lr, Z_train, y_train).mean()"
   ]
  },
  {
   "cell_type": "code",
   "execution_count": 8,
   "id": "021aca47",
   "metadata": {},
   "outputs": [],
   "source": [
    "lin_train = lr.predict(Z_train)\n",
    "lin_test = lr.predict(Z_test)"
   ]
  },
  {
   "cell_type": "markdown",
   "id": "c3ebc2fa",
   "metadata": {},
   "source": [
    "### PCA data Linear Regression"
   ]
  },
  {
   "cell_type": "code",
   "execution_count": 9,
   "id": "369f1b78",
   "metadata": {},
   "outputs": [],
   "source": [
    "df = pd.read_csv('../data/final_work_data.csv')"
   ]
  },
  {
   "cell_type": "code",
   "execution_count": 10,
   "id": "71588da3",
   "metadata": {},
   "outputs": [],
   "source": [
    "X = df.drop(columns = ['state', 'county_name', 'unemployment_rate_2010', 'population_total_2010'])\n",
    "y = df['unemployment_rate_2010']"
   ]
  },
  {
   "cell_type": "code",
   "execution_count": 11,
   "id": "661413c3",
   "metadata": {},
   "outputs": [],
   "source": [
    "X_train, X_test, y_train, y_test = train_test_split(X, y, random_state=42)"
   ]
  },
  {
   "cell_type": "code",
   "execution_count": 12,
   "id": "2bd57692",
   "metadata": {},
   "outputs": [
    {
     "name": "stdout",
     "output_type": "stream",
     "text": [
      "0.4009664055310037\n",
      "0.38311006597792363\n",
      "0.38971682481060954\n"
     ]
    },
    {
     "data": {
      "text/plain": [
       "{'pca__n_components': 30}"
      ]
     },
     "execution_count": 12,
     "metadata": {},
     "output_type": "execute_result"
    }
   ],
   "source": [
    "pipe = Pipeline([\n",
    "    ('poly', PolynomialFeatures(degree=3, include_bias=False)),\n",
    "    ('ss', StandardScaler()),\n",
    "    ('pca', PCA()),\n",
    "    ('model', LinearRegression())\n",
    "])\n",
    "params = {\n",
    "    'pca__n_components': range(10,200,20)\n",
    "}\n",
    "gs = GridSearchCV(pipe, param_grid=params)\n",
    "gs.fit(X_train, y_train)\n",
    "print(gs.best_score_)\n",
    "print(gs.score(X_test, y_test))\n",
    "print(cross_val_score(gs, X_train, y_train).mean())\n",
    "gs.best_params_"
   ]
  },
  {
   "cell_type": "markdown",
   "id": "14da9a54",
   "metadata": {},
   "source": [
    "### Neural network on Linear Regression initeraction data"
   ]
  },
  {
   "cell_type": "code",
   "execution_count": 13,
   "id": "c480027b",
   "metadata": {},
   "outputs": [],
   "source": [
    "df = pd.read_csv('../data/final_work_data.csv')"
   ]
  },
  {
   "cell_type": "code",
   "execution_count": 14,
   "id": "1ebe39c8",
   "metadata": {},
   "outputs": [],
   "source": [
    "X = df.drop(columns = ['state', 'county_name', 'unemployment_rate_2010', 'population_total_2010'])\n",
    "y = df['unemployment_rate_2010']"
   ]
  },
  {
   "cell_type": "code",
   "execution_count": 15,
   "id": "4f146170",
   "metadata": {},
   "outputs": [],
   "source": [
    "X_train, X_test, y_train, y_test = train_test_split(X, y, random_state=42)"
   ]
  },
  {
   "cell_type": "code",
   "execution_count": 16,
   "id": "33e4bab9",
   "metadata": {},
   "outputs": [],
   "source": [
    "ss = StandardScaler()\n",
    "Z_train = ss.fit_transform(X_train)\n",
    "Z_test = ss.transform(X_test)"
   ]
  },
  {
   "cell_type": "code",
   "execution_count": 17,
   "id": "473d9f10",
   "metadata": {},
   "outputs": [
    {
     "data": {
      "text/plain": [
       "(24,)"
      ]
     },
     "execution_count": 17,
     "metadata": {},
     "output_type": "execute_result"
    }
   ],
   "source": [
    "in_shape = Z_train[0].shape\n",
    "in_shape"
   ]
  },
  {
   "cell_type": "code",
   "execution_count": 18,
   "id": "8c1da7ad",
   "metadata": {},
   "outputs": [],
   "source": [
    "model_1 = Sequential()\n",
    "\n",
    "model_1.add(Dense(128, activation= 'relu', input_shape= in_shape))\n",
    "model_1.add(Dropout(.3))\n",
    "\n",
    "model_1.add(BatchNormalization())\n",
    "model_1.add(Dense(128, activation= 'relu'))\n",
    "\"\"\"\n",
    "model_1.add(BatchNormalization())\n",
    "model_1.add(Dense(64, activation= 'relu'))\n",
    "\"\"\"\n",
    "model_1.add(Dense(32, activation= 'relu'))\n",
    "model_1.add(Dropout(.5))\n",
    "\n",
    "model_1.add(Dense(1, activation= None))"
   ]
  },
  {
   "cell_type": "code",
   "execution_count": 19,
   "id": "1af3f8c8",
   "metadata": {},
   "outputs": [],
   "source": [
    "model_1.compile(optimizer= 'adam', loss= 'mse', metrics= ['mse', 'RootMeanSquaredError', 'MeanAbsolutePercentageError'])"
   ]
  },
  {
   "cell_type": "code",
   "execution_count": 20,
   "id": "2afcab94",
   "metadata": {},
   "outputs": [
    {
     "name": "stdout",
     "output_type": "stream",
     "text": [
      "Epoch 1/300\n",
      "62/62 [==============================] - 1s 8ms/step - loss: 32.5897 - mse: 32.5897 - root_mean_squared_error: 5.7087 - mean_absolute_percentage_error: 48.9824 - val_loss: 46.5191 - val_mse: 46.5191 - val_root_mean_squared_error: 6.8205 - val_mean_absolute_percentage_error: 66.0996\n",
      "Epoch 2/300\n",
      "62/62 [==============================] - 0s 5ms/step - loss: 12.7986 - mse: 12.7986 - root_mean_squared_error: 3.5775 - mean_absolute_percentage_error: 31.6981 - val_loss: 34.9913 - val_mse: 34.9913 - val_root_mean_squared_error: 5.9153 - val_mean_absolute_percentage_error: 56.3793\n",
      "Epoch 3/300\n",
      "62/62 [==============================] - 0s 4ms/step - loss: 10.9293 - mse: 10.9293 - root_mean_squared_error: 3.3060 - mean_absolute_percentage_error: 29.4155 - val_loss: 23.2726 - val_mse: 23.2726 - val_root_mean_squared_error: 4.8242 - val_mean_absolute_percentage_error: 44.9460\n",
      "Epoch 4/300\n",
      "62/62 [==============================] - 0s 4ms/step - loss: 11.2765 - mse: 11.2765 - root_mean_squared_error: 3.3581 - mean_absolute_percentage_error: 29.0461 - val_loss: 15.2435 - val_mse: 15.2435 - val_root_mean_squared_error: 3.9043 - val_mean_absolute_percentage_error: 33.8633\n",
      "Epoch 5/300\n",
      "62/62 [==============================] - 0s 4ms/step - loss: 9.9698 - mse: 9.9698 - root_mean_squared_error: 3.1575 - mean_absolute_percentage_error: 28.0563 - val_loss: 11.0379 - val_mse: 11.0379 - val_root_mean_squared_error: 3.3223 - val_mean_absolute_percentage_error: 27.3689\n",
      "Epoch 6/300\n",
      "62/62 [==============================] - 0s 4ms/step - loss: 10.3641 - mse: 10.3641 - root_mean_squared_error: 3.2193 - mean_absolute_percentage_error: 28.4826 - val_loss: 8.0152 - val_mse: 8.0152 - val_root_mean_squared_error: 2.8311 - val_mean_absolute_percentage_error: 23.0833\n",
      "Epoch 7/300\n",
      "62/62 [==============================] - 0s 5ms/step - loss: 9.7845 - mse: 9.7845 - root_mean_squared_error: 3.1280 - mean_absolute_percentage_error: 27.7760 - val_loss: 7.6506 - val_mse: 7.6506 - val_root_mean_squared_error: 2.7660 - val_mean_absolute_percentage_error: 22.3818\n",
      "Epoch 8/300\n",
      "62/62 [==============================] - 0s 4ms/step - loss: 10.0253 - mse: 10.0253 - root_mean_squared_error: 3.1663 - mean_absolute_percentage_error: 28.3509 - val_loss: 6.6491 - val_mse: 6.6491 - val_root_mean_squared_error: 2.5786 - val_mean_absolute_percentage_error: 20.6145\n",
      "Epoch 9/300\n",
      "62/62 [==============================] - 0s 4ms/step - loss: 9.6467 - mse: 9.6467 - root_mean_squared_error: 3.1059 - mean_absolute_percentage_error: 27.3400 - val_loss: 5.8653 - val_mse: 5.8653 - val_root_mean_squared_error: 2.4218 - val_mean_absolute_percentage_error: 19.6821\n",
      "Epoch 10/300\n",
      "62/62 [==============================] - 0s 4ms/step - loss: 9.5893 - mse: 9.5893 - root_mean_squared_error: 3.0967 - mean_absolute_percentage_error: 26.7203 - val_loss: 7.0744 - val_mse: 7.0744 - val_root_mean_squared_error: 2.6598 - val_mean_absolute_percentage_error: 21.2514\n",
      "Epoch 11/300\n",
      "62/62 [==============================] - 0s 5ms/step - loss: 9.1769 - mse: 9.1769 - root_mean_squared_error: 3.0293 - mean_absolute_percentage_error: 26.3647 - val_loss: 6.9184 - val_mse: 6.9184 - val_root_mean_squared_error: 2.6303 - val_mean_absolute_percentage_error: 21.6894\n",
      "Epoch 12/300\n",
      "62/62 [==============================] - 0s 4ms/step - loss: 9.1613 - mse: 9.1613 - root_mean_squared_error: 3.0268 - mean_absolute_percentage_error: 26.6612 - val_loss: 6.5140 - val_mse: 6.5140 - val_root_mean_squared_error: 2.5523 - val_mean_absolute_percentage_error: 21.1085\n",
      "Epoch 13/300\n",
      "62/62 [==============================] - 0s 3ms/step - loss: 9.1041 - mse: 9.1041 - root_mean_squared_error: 3.0173 - mean_absolute_percentage_error: 26.0132 - val_loss: 7.1030 - val_mse: 7.1030 - val_root_mean_squared_error: 2.6651 - val_mean_absolute_percentage_error: 21.5736\n",
      "Epoch 14/300\n",
      "62/62 [==============================] - 0s 3ms/step - loss: 9.3085 - mse: 9.3085 - root_mean_squared_error: 3.0510 - mean_absolute_percentage_error: 26.4733 - val_loss: 6.8836 - val_mse: 6.8836 - val_root_mean_squared_error: 2.6237 - val_mean_absolute_percentage_error: 21.6626\n",
      "Epoch 15/300\n",
      "62/62 [==============================] - 0s 4ms/step - loss: 8.6556 - mse: 8.6556 - root_mean_squared_error: 2.9420 - mean_absolute_percentage_error: 25.5624 - val_loss: 5.5787 - val_mse: 5.5787 - val_root_mean_squared_error: 2.3619 - val_mean_absolute_percentage_error: 19.3194\n",
      "Epoch 16/300\n",
      "62/62 [==============================] - 0s 5ms/step - loss: 8.4440 - mse: 8.4440 - root_mean_squared_error: 2.9058 - mean_absolute_percentage_error: 25.2968 - val_loss: 5.8775 - val_mse: 5.8775 - val_root_mean_squared_error: 2.4244 - val_mean_absolute_percentage_error: 20.4213\n",
      "Epoch 17/300\n",
      "62/62 [==============================] - 0s 4ms/step - loss: 8.4450 - mse: 8.4450 - root_mean_squared_error: 2.9060 - mean_absolute_percentage_error: 25.2345 - val_loss: 6.7037 - val_mse: 6.7037 - val_root_mean_squared_error: 2.5892 - val_mean_absolute_percentage_error: 21.2989\n",
      "Epoch 18/300\n",
      "62/62 [==============================] - 0s 4ms/step - loss: 8.7491 - mse: 8.7491 - root_mean_squared_error: 2.9579 - mean_absolute_percentage_error: 25.2075 - val_loss: 7.2201 - val_mse: 7.2201 - val_root_mean_squared_error: 2.6870 - val_mean_absolute_percentage_error: 22.0843\n",
      "Epoch 19/300\n",
      "62/62 [==============================] - 0s 4ms/step - loss: 8.4294 - mse: 8.4294 - root_mean_squared_error: 2.9033 - mean_absolute_percentage_error: 25.4017 - val_loss: 5.8718 - val_mse: 5.8718 - val_root_mean_squared_error: 2.4232 - val_mean_absolute_percentage_error: 20.0209\n",
      "Epoch 20/300\n",
      "62/62 [==============================] - 0s 4ms/step - loss: 8.3504 - mse: 8.3504 - root_mean_squared_error: 2.8897 - mean_absolute_percentage_error: 24.9989 - val_loss: 6.2071 - val_mse: 6.2071 - val_root_mean_squared_error: 2.4914 - val_mean_absolute_percentage_error: 20.6600\n",
      "Epoch 21/300\n",
      "62/62 [==============================] - 0s 4ms/step - loss: 7.9348 - mse: 7.9348 - root_mean_squared_error: 2.8169 - mean_absolute_percentage_error: 24.6721 - val_loss: 5.3739 - val_mse: 5.3739 - val_root_mean_squared_error: 2.3182 - val_mean_absolute_percentage_error: 19.3214\n",
      "Epoch 22/300\n",
      "62/62 [==============================] - 0s 4ms/step - loss: 8.0997 - mse: 8.0997 - root_mean_squared_error: 2.8460 - mean_absolute_percentage_error: 24.4850 - val_loss: 6.0709 - val_mse: 6.0709 - val_root_mean_squared_error: 2.4639 - val_mean_absolute_percentage_error: 20.5999\n",
      "Epoch 23/300\n",
      "62/62 [==============================] - 0s 4ms/step - loss: 7.9802 - mse: 7.9802 - root_mean_squared_error: 2.8249 - mean_absolute_percentage_error: 24.2841 - val_loss: 5.0683 - val_mse: 5.0683 - val_root_mean_squared_error: 2.2513 - val_mean_absolute_percentage_error: 18.8394\n",
      "Epoch 24/300\n",
      "62/62 [==============================] - 0s 5ms/step - loss: 7.8513 - mse: 7.8513 - root_mean_squared_error: 2.8020 - mean_absolute_percentage_error: 24.2220 - val_loss: 6.6755 - val_mse: 6.6755 - val_root_mean_squared_error: 2.5837 - val_mean_absolute_percentage_error: 21.7157\n",
      "Epoch 25/300\n",
      "62/62 [==============================] - 0s 4ms/step - loss: 7.4118 - mse: 7.4118 - root_mean_squared_error: 2.7225 - mean_absolute_percentage_error: 23.8021 - val_loss: 4.9359 - val_mse: 4.9359 - val_root_mean_squared_error: 2.2217 - val_mean_absolute_percentage_error: 18.8945\n",
      "Epoch 26/300\n",
      "62/62 [==============================] - 0s 3ms/step - loss: 7.6998 - mse: 7.6998 - root_mean_squared_error: 2.7749 - mean_absolute_percentage_error: 24.3888 - val_loss: 6.4679 - val_mse: 6.4679 - val_root_mean_squared_error: 2.5432 - val_mean_absolute_percentage_error: 21.0503\n",
      "Epoch 27/300\n",
      "62/62 [==============================] - 0s 3ms/step - loss: 8.1549 - mse: 8.1549 - root_mean_squared_error: 2.8557 - mean_absolute_percentage_error: 24.8224 - val_loss: 5.4167 - val_mse: 5.4167 - val_root_mean_squared_error: 2.3274 - val_mean_absolute_percentage_error: 19.6508\n",
      "Epoch 28/300\n",
      "62/62 [==============================] - 0s 3ms/step - loss: 7.9899 - mse: 7.9899 - root_mean_squared_error: 2.8266 - mean_absolute_percentage_error: 24.2915 - val_loss: 5.2863 - val_mse: 5.2863 - val_root_mean_squared_error: 2.2992 - val_mean_absolute_percentage_error: 19.2874\n",
      "Epoch 29/300\n"
     ]
    },
    {
     "name": "stdout",
     "output_type": "stream",
     "text": [
      "62/62 [==============================] - 0s 3ms/step - loss: 7.4038 - mse: 7.4038 - root_mean_squared_error: 2.7210 - mean_absolute_percentage_error: 23.5170 - val_loss: 6.2256 - val_mse: 6.2256 - val_root_mean_squared_error: 2.4951 - val_mean_absolute_percentage_error: 21.0252\n",
      "Epoch 30/300\n",
      "62/62 [==============================] - 0s 4ms/step - loss: 7.4849 - mse: 7.4849 - root_mean_squared_error: 2.7358 - mean_absolute_percentage_error: 23.8690 - val_loss: 5.5884 - val_mse: 5.5884 - val_root_mean_squared_error: 2.3640 - val_mean_absolute_percentage_error: 19.3219\n",
      "Epoch 31/300\n",
      "62/62 [==============================] - 0s 5ms/step - loss: 7.3305 - mse: 7.3305 - root_mean_squared_error: 2.7075 - mean_absolute_percentage_error: 23.1447 - val_loss: 5.0660 - val_mse: 5.0660 - val_root_mean_squared_error: 2.2508 - val_mean_absolute_percentage_error: 18.8544\n",
      "Epoch 32/300\n",
      "62/62 [==============================] - 0s 5ms/step - loss: 7.1317 - mse: 7.1317 - root_mean_squared_error: 2.6705 - mean_absolute_percentage_error: 23.4242 - val_loss: 4.7968 - val_mse: 4.7968 - val_root_mean_squared_error: 2.1902 - val_mean_absolute_percentage_error: 18.5546\n",
      "Epoch 33/300\n",
      "62/62 [==============================] - 0s 3ms/step - loss: 7.3480 - mse: 7.3480 - root_mean_squared_error: 2.7107 - mean_absolute_percentage_error: 23.4926 - val_loss: 5.6901 - val_mse: 5.6901 - val_root_mean_squared_error: 2.3854 - val_mean_absolute_percentage_error: 20.0443\n",
      "Epoch 34/300\n",
      "62/62 [==============================] - 0s 5ms/step - loss: 7.7983 - mse: 7.7983 - root_mean_squared_error: 2.7925 - mean_absolute_percentage_error: 24.4609 - val_loss: 5.2187 - val_mse: 5.2187 - val_root_mean_squared_error: 2.2844 - val_mean_absolute_percentage_error: 19.3918\n",
      "Epoch 35/300\n",
      "62/62 [==============================] - 0s 3ms/step - loss: 7.0577 - mse: 7.0577 - root_mean_squared_error: 2.6566 - mean_absolute_percentage_error: 23.1101 - val_loss: 6.3609 - val_mse: 6.3609 - val_root_mean_squared_error: 2.5221 - val_mean_absolute_percentage_error: 21.1232\n",
      "Epoch 36/300\n",
      "62/62 [==============================] - 0s 4ms/step - loss: 6.9458 - mse: 6.9458 - root_mean_squared_error: 2.6355 - mean_absolute_percentage_error: 23.0139 - val_loss: 4.6412 - val_mse: 4.6412 - val_root_mean_squared_error: 2.1543 - val_mean_absolute_percentage_error: 18.2679\n",
      "Epoch 37/300\n",
      "62/62 [==============================] - 0s 4ms/step - loss: 7.0066 - mse: 7.0066 - root_mean_squared_error: 2.6470 - mean_absolute_percentage_error: 22.8734 - val_loss: 5.5380 - val_mse: 5.5380 - val_root_mean_squared_error: 2.3533 - val_mean_absolute_percentage_error: 19.7500\n",
      "Epoch 38/300\n",
      "62/62 [==============================] - 0s 4ms/step - loss: 6.9640 - mse: 6.9640 - root_mean_squared_error: 2.6389 - mean_absolute_percentage_error: 22.7841 - val_loss: 5.2611 - val_mse: 5.2611 - val_root_mean_squared_error: 2.2937 - val_mean_absolute_percentage_error: 19.6173\n",
      "Epoch 39/300\n",
      "62/62 [==============================] - 0s 4ms/step - loss: 7.4353 - mse: 7.4353 - root_mean_squared_error: 2.7268 - mean_absolute_percentage_error: 23.1161 - val_loss: 5.3545 - val_mse: 5.3545 - val_root_mean_squared_error: 2.3140 - val_mean_absolute_percentage_error: 19.6126\n",
      "Epoch 40/300\n",
      "62/62 [==============================] - 0s 4ms/step - loss: 7.1991 - mse: 7.1991 - root_mean_squared_error: 2.6831 - mean_absolute_percentage_error: 23.4596 - val_loss: 6.4847 - val_mse: 6.4847 - val_root_mean_squared_error: 2.5465 - val_mean_absolute_percentage_error: 21.3972\n",
      "Epoch 41/300\n",
      "62/62 [==============================] - 0s 3ms/step - loss: 7.1112 - mse: 7.1112 - root_mean_squared_error: 2.6667 - mean_absolute_percentage_error: 22.6031 - val_loss: 4.9098 - val_mse: 4.9098 - val_root_mean_squared_error: 2.2158 - val_mean_absolute_percentage_error: 18.8041\n",
      "Epoch 42/300\n",
      "62/62 [==============================] - 0s 3ms/step - loss: 7.1891 - mse: 7.1891 - root_mean_squared_error: 2.6812 - mean_absolute_percentage_error: 23.8077 - val_loss: 5.6076 - val_mse: 5.6076 - val_root_mean_squared_error: 2.3680 - val_mean_absolute_percentage_error: 19.9988\n",
      "Epoch 43/300\n",
      "62/62 [==============================] - 0s 3ms/step - loss: 7.0196 - mse: 7.0196 - root_mean_squared_error: 2.6494 - mean_absolute_percentage_error: 22.4464 - val_loss: 4.9622 - val_mse: 4.9622 - val_root_mean_squared_error: 2.2276 - val_mean_absolute_percentage_error: 18.9113\n",
      "Epoch 44/300\n",
      "62/62 [==============================] - 0s 3ms/step - loss: 7.0681 - mse: 7.0681 - root_mean_squared_error: 2.6586 - mean_absolute_percentage_error: 23.2431 - val_loss: 4.7321 - val_mse: 4.7321 - val_root_mean_squared_error: 2.1753 - val_mean_absolute_percentage_error: 18.7575\n",
      "Epoch 45/300\n",
      "62/62 [==============================] - 0s 4ms/step - loss: 7.1505 - mse: 7.1505 - root_mean_squared_error: 2.6740 - mean_absolute_percentage_error: 23.0682 - val_loss: 6.6210 - val_mse: 6.6210 - val_root_mean_squared_error: 2.5731 - val_mean_absolute_percentage_error: 21.5189\n",
      "Epoch 46/300\n",
      "62/62 [==============================] - 0s 3ms/step - loss: 6.4570 - mse: 6.4570 - root_mean_squared_error: 2.5411 - mean_absolute_percentage_error: 21.8295 - val_loss: 5.6455 - val_mse: 5.6455 - val_root_mean_squared_error: 2.3760 - val_mean_absolute_percentage_error: 19.6448\n",
      "Epoch 47/300\n",
      "62/62 [==============================] - 0s 4ms/step - loss: 6.7963 - mse: 6.7963 - root_mean_squared_error: 2.6070 - mean_absolute_percentage_error: 22.2067 - val_loss: 5.8045 - val_mse: 5.8045 - val_root_mean_squared_error: 2.4093 - val_mean_absolute_percentage_error: 20.4679\n",
      "Epoch 48/300\n",
      "62/62 [==============================] - 0s 3ms/step - loss: 7.0337 - mse: 7.0337 - root_mean_squared_error: 2.6521 - mean_absolute_percentage_error: 22.6211 - val_loss: 5.2726 - val_mse: 5.2726 - val_root_mean_squared_error: 2.2962 - val_mean_absolute_percentage_error: 19.2406\n",
      "Epoch 49/300\n",
      "62/62 [==============================] - 0s 3ms/step - loss: 7.3112 - mse: 7.3112 - root_mean_squared_error: 2.7039 - mean_absolute_percentage_error: 23.2053 - val_loss: 5.3422 - val_mse: 5.3422 - val_root_mean_squared_error: 2.3113 - val_mean_absolute_percentage_error: 19.5006\n",
      "Epoch 50/300\n",
      "62/62 [==============================] - 0s 3ms/step - loss: 6.3850 - mse: 6.3850 - root_mean_squared_error: 2.5269 - mean_absolute_percentage_error: 21.7206 - val_loss: 5.1669 - val_mse: 5.1669 - val_root_mean_squared_error: 2.2731 - val_mean_absolute_percentage_error: 19.4355\n",
      "Epoch 51/300\n",
      "62/62 [==============================] - 0s 3ms/step - loss: 6.6815 - mse: 6.6815 - root_mean_squared_error: 2.5849 - mean_absolute_percentage_error: 22.1769 - val_loss: 4.7758 - val_mse: 4.7758 - val_root_mean_squared_error: 2.1854 - val_mean_absolute_percentage_error: 18.4837\n",
      "Epoch 52/300\n",
      "62/62 [==============================] - 0s 3ms/step - loss: 6.5738 - mse: 6.5738 - root_mean_squared_error: 2.5640 - mean_absolute_percentage_error: 22.3654 - val_loss: 5.2405 - val_mse: 5.2405 - val_root_mean_squared_error: 2.2892 - val_mean_absolute_percentage_error: 19.1039\n",
      "Epoch 53/300\n",
      "62/62 [==============================] - 0s 3ms/step - loss: 6.4837 - mse: 6.4837 - root_mean_squared_error: 2.5463 - mean_absolute_percentage_error: 21.9917 - val_loss: 5.3415 - val_mse: 5.3415 - val_root_mean_squared_error: 2.3112 - val_mean_absolute_percentage_error: 19.2447\n",
      "Epoch 54/300\n",
      "62/62 [==============================] - 0s 3ms/step - loss: 6.3053 - mse: 6.3053 - root_mean_squared_error: 2.5110 - mean_absolute_percentage_error: 21.6244 - val_loss: 4.7607 - val_mse: 4.7607 - val_root_mean_squared_error: 2.1819 - val_mean_absolute_percentage_error: 18.4261\n",
      "Epoch 55/300\n",
      "62/62 [==============================] - 0s 3ms/step - loss: 6.7994 - mse: 6.7994 - root_mean_squared_error: 2.6076 - mean_absolute_percentage_error: 21.9945 - val_loss: 4.6274 - val_mse: 4.6274 - val_root_mean_squared_error: 2.1511 - val_mean_absolute_percentage_error: 17.7182\n",
      "Epoch 56/300\n",
      "62/62 [==============================] - 0s 4ms/step - loss: 6.6687 - mse: 6.6687 - root_mean_squared_error: 2.5824 - mean_absolute_percentage_error: 22.1502 - val_loss: 4.5240 - val_mse: 4.5240 - val_root_mean_squared_error: 2.1270 - val_mean_absolute_percentage_error: 17.9607\n",
      "Epoch 57/300\n"
     ]
    },
    {
     "name": "stdout",
     "output_type": "stream",
     "text": [
      "62/62 [==============================] - 0s 3ms/step - loss: 6.7741 - mse: 6.7741 - root_mean_squared_error: 2.6027 - mean_absolute_percentage_error: 22.2476 - val_loss: 4.2363 - val_mse: 4.2363 - val_root_mean_squared_error: 2.0582 - val_mean_absolute_percentage_error: 17.2482\n",
      "Epoch 58/300\n",
      "62/62 [==============================] - 0s 3ms/step - loss: 6.4999 - mse: 6.4999 - root_mean_squared_error: 2.5495 - mean_absolute_percentage_error: 21.8744 - val_loss: 4.2106 - val_mse: 4.2106 - val_root_mean_squared_error: 2.0520 - val_mean_absolute_percentage_error: 17.3624\n",
      "Epoch 59/300\n",
      "62/62 [==============================] - 0s 4ms/step - loss: 6.3079 - mse: 6.3079 - root_mean_squared_error: 2.5116 - mean_absolute_percentage_error: 21.1820 - val_loss: 5.5822 - val_mse: 5.5822 - val_root_mean_squared_error: 2.3627 - val_mean_absolute_percentage_error: 19.9995\n",
      "Epoch 60/300\n",
      "62/62 [==============================] - 0s 4ms/step - loss: 6.2492 - mse: 6.2492 - root_mean_squared_error: 2.4998 - mean_absolute_percentage_error: 21.4787 - val_loss: 5.6137 - val_mse: 5.6137 - val_root_mean_squared_error: 2.3693 - val_mean_absolute_percentage_error: 20.1373\n",
      "Epoch 61/300\n",
      "62/62 [==============================] - 0s 3ms/step - loss: 6.3034 - mse: 6.3034 - root_mean_squared_error: 2.5106 - mean_absolute_percentage_error: 21.2901 - val_loss: 5.1012 - val_mse: 5.1012 - val_root_mean_squared_error: 2.2586 - val_mean_absolute_percentage_error: 18.9573\n",
      "Epoch 62/300\n",
      "62/62 [==============================] - 0s 4ms/step - loss: 5.8416 - mse: 5.8416 - root_mean_squared_error: 2.4169 - mean_absolute_percentage_error: 20.5838 - val_loss: 4.6208 - val_mse: 4.6208 - val_root_mean_squared_error: 2.1496 - val_mean_absolute_percentage_error: 17.6238\n",
      "Epoch 63/300\n",
      "62/62 [==============================] - 0s 4ms/step - loss: 6.8937 - mse: 6.8937 - root_mean_squared_error: 2.6256 - mean_absolute_percentage_error: 22.0151 - val_loss: 4.2844 - val_mse: 4.2844 - val_root_mean_squared_error: 2.0699 - val_mean_absolute_percentage_error: 17.4823\n",
      "Epoch 64/300\n",
      "62/62 [==============================] - 0s 2ms/step - loss: 6.0784 - mse: 6.0784 - root_mean_squared_error: 2.4654 - mean_absolute_percentage_error: 20.8001 - val_loss: 4.5810 - val_mse: 4.5810 - val_root_mean_squared_error: 2.1403 - val_mean_absolute_percentage_error: 18.2069\n",
      "Epoch 65/300\n",
      "62/62 [==============================] - 0s 2ms/step - loss: 5.9149 - mse: 5.9149 - root_mean_squared_error: 2.4321 - mean_absolute_percentage_error: 20.5418 - val_loss: 5.3691 - val_mse: 5.3691 - val_root_mean_squared_error: 2.3171 - val_mean_absolute_percentage_error: 19.4931\n",
      "Epoch 66/300\n",
      "62/62 [==============================] - 0s 3ms/step - loss: 6.2618 - mse: 6.2618 - root_mean_squared_error: 2.5024 - mean_absolute_percentage_error: 21.5911 - val_loss: 4.6082 - val_mse: 4.6082 - val_root_mean_squared_error: 2.1467 - val_mean_absolute_percentage_error: 18.2836\n",
      "Epoch 67/300\n",
      "62/62 [==============================] - 0s 3ms/step - loss: 6.2441 - mse: 6.2441 - root_mean_squared_error: 2.4988 - mean_absolute_percentage_error: 21.4328 - val_loss: 5.1408 - val_mse: 5.1408 - val_root_mean_squared_error: 2.2673 - val_mean_absolute_percentage_error: 18.8900\n",
      "Epoch 68/300\n",
      "62/62 [==============================] - 0s 3ms/step - loss: 6.0175 - mse: 6.0175 - root_mean_squared_error: 2.4531 - mean_absolute_percentage_error: 21.0428 - val_loss: 4.9586 - val_mse: 4.9586 - val_root_mean_squared_error: 2.2268 - val_mean_absolute_percentage_error: 18.5102\n",
      "Epoch 69/300\n",
      "62/62 [==============================] - 0s 2ms/step - loss: 6.3550 - mse: 6.3550 - root_mean_squared_error: 2.5209 - mean_absolute_percentage_error: 21.6021 - val_loss: 4.0666 - val_mse: 4.0666 - val_root_mean_squared_error: 2.0166 - val_mean_absolute_percentage_error: 17.1945\n",
      "Epoch 70/300\n",
      "62/62 [==============================] - 0s 5ms/step - loss: 5.8465 - mse: 5.8465 - root_mean_squared_error: 2.4180 - mean_absolute_percentage_error: 20.3347 - val_loss: 4.3283 - val_mse: 4.3283 - val_root_mean_squared_error: 2.0805 - val_mean_absolute_percentage_error: 17.3909\n",
      "Epoch 71/300\n",
      "62/62 [==============================] - 0s 4ms/step - loss: 5.6219 - mse: 5.6219 - root_mean_squared_error: 2.3711 - mean_absolute_percentage_error: 20.3756 - val_loss: 5.1713 - val_mse: 5.1713 - val_root_mean_squared_error: 2.2741 - val_mean_absolute_percentage_error: 19.0900\n",
      "Epoch 72/300\n",
      "62/62 [==============================] - 0s 4ms/step - loss: 5.9973 - mse: 5.9973 - root_mean_squared_error: 2.4489 - mean_absolute_percentage_error: 20.7851 - val_loss: 4.5121 - val_mse: 4.5121 - val_root_mean_squared_error: 2.1242 - val_mean_absolute_percentage_error: 17.8035\n",
      "Epoch 73/300\n",
      "62/62 [==============================] - 0s 4ms/step - loss: 5.9313 - mse: 5.9313 - root_mean_squared_error: 2.4354 - mean_absolute_percentage_error: 20.8627 - val_loss: 4.2838 - val_mse: 4.2838 - val_root_mean_squared_error: 2.0697 - val_mean_absolute_percentage_error: 17.4209\n",
      "Epoch 74/300\n",
      "62/62 [==============================] - 0s 4ms/step - loss: 5.7391 - mse: 5.7391 - root_mean_squared_error: 2.3956 - mean_absolute_percentage_error: 20.4857 - val_loss: 4.6057 - val_mse: 4.6057 - val_root_mean_squared_error: 2.1461 - val_mean_absolute_percentage_error: 17.8606\n",
      "Epoch 75/300\n",
      "62/62 [==============================] - 0s 4ms/step - loss: 5.8706 - mse: 5.8706 - root_mean_squared_error: 2.4229 - mean_absolute_percentage_error: 20.7931 - val_loss: 4.6655 - val_mse: 4.6655 - val_root_mean_squared_error: 2.1600 - val_mean_absolute_percentage_error: 17.9236\n",
      "Epoch 76/300\n",
      "62/62 [==============================] - 0s 4ms/step - loss: 5.5848 - mse: 5.5848 - root_mean_squared_error: 2.3632 - mean_absolute_percentage_error: 19.9881 - val_loss: 4.3888 - val_mse: 4.3888 - val_root_mean_squared_error: 2.0950 - val_mean_absolute_percentage_error: 17.3018\n",
      "Epoch 77/300\n",
      "62/62 [==============================] - 0s 4ms/step - loss: 5.6769 - mse: 5.6769 - root_mean_squared_error: 2.3826 - mean_absolute_percentage_error: 19.9007 - val_loss: 4.6552 - val_mse: 4.6552 - val_root_mean_squared_error: 2.1576 - val_mean_absolute_percentage_error: 17.8717\n",
      "Epoch 78/300\n",
      "62/62 [==============================] - 0s 4ms/step - loss: 5.6400 - mse: 5.6400 - root_mean_squared_error: 2.3749 - mean_absolute_percentage_error: 20.3984 - val_loss: 4.3215 - val_mse: 4.3215 - val_root_mean_squared_error: 2.0788 - val_mean_absolute_percentage_error: 17.7857\n",
      "Epoch 79/300\n",
      "62/62 [==============================] - 0s 4ms/step - loss: 5.7170 - mse: 5.7170 - root_mean_squared_error: 2.3910 - mean_absolute_percentage_error: 20.5528 - val_loss: 4.6658 - val_mse: 4.6658 - val_root_mean_squared_error: 2.1600 - val_mean_absolute_percentage_error: 18.3795\n",
      "Epoch 80/300\n",
      "62/62 [==============================] - 0s 4ms/step - loss: 5.8953 - mse: 5.8953 - root_mean_squared_error: 2.4280 - mean_absolute_percentage_error: 20.2519 - val_loss: 4.3349 - val_mse: 4.3349 - val_root_mean_squared_error: 2.0820 - val_mean_absolute_percentage_error: 17.4332\n",
      "Epoch 81/300\n",
      "62/62 [==============================] - 0s 4ms/step - loss: 5.6677 - mse: 5.6677 - root_mean_squared_error: 2.3807 - mean_absolute_percentage_error: 20.3683 - val_loss: 4.1997 - val_mse: 4.1997 - val_root_mean_squared_error: 2.0493 - val_mean_absolute_percentage_error: 17.0467\n",
      "Epoch 82/300\n",
      "62/62 [==============================] - 0s 3ms/step - loss: 5.4238 - mse: 5.4238 - root_mean_squared_error: 2.3289 - mean_absolute_percentage_error: 20.2322 - val_loss: 4.2619 - val_mse: 4.2619 - val_root_mean_squared_error: 2.0644 - val_mean_absolute_percentage_error: 17.2740\n",
      "Epoch 83/300\n",
      "62/62 [==============================] - 0s 4ms/step - loss: 5.7503 - mse: 5.7503 - root_mean_squared_error: 2.3980 - mean_absolute_percentage_error: 20.3215 - val_loss: 4.7178 - val_mse: 4.7178 - val_root_mean_squared_error: 2.1721 - val_mean_absolute_percentage_error: 18.1039\n",
      "Epoch 84/300\n",
      "62/62 [==============================] - 0s 3ms/step - loss: 5.5651 - mse: 5.5651 - root_mean_squared_error: 2.3591 - mean_absolute_percentage_error: 19.7887 - val_loss: 4.8860 - val_mse: 4.8860 - val_root_mean_squared_error: 2.2104 - val_mean_absolute_percentage_error: 18.4288\n",
      "Epoch 85/300\n"
     ]
    },
    {
     "name": "stdout",
     "output_type": "stream",
     "text": [
      "62/62 [==============================] - 0s 5ms/step - loss: 5.3992 - mse: 5.3992 - root_mean_squared_error: 2.3236 - mean_absolute_percentage_error: 20.0632 - val_loss: 4.2728 - val_mse: 4.2728 - val_root_mean_squared_error: 2.0671 - val_mean_absolute_percentage_error: 17.3761\n",
      "Epoch 86/300\n",
      "62/62 [==============================] - 0s 3ms/step - loss: 5.2169 - mse: 5.2169 - root_mean_squared_error: 2.2841 - mean_absolute_percentage_error: 19.7833 - val_loss: 5.0736 - val_mse: 5.0736 - val_root_mean_squared_error: 2.2525 - val_mean_absolute_percentage_error: 18.9836\n",
      "Epoch 87/300\n",
      "62/62 [==============================] - 0s 3ms/step - loss: 5.8316 - mse: 5.8316 - root_mean_squared_error: 2.4149 - mean_absolute_percentage_error: 20.6574 - val_loss: 4.3201 - val_mse: 4.3201 - val_root_mean_squared_error: 2.0785 - val_mean_absolute_percentage_error: 17.8932\n",
      "Epoch 88/300\n",
      "62/62 [==============================] - 0s 5ms/step - loss: 5.7497 - mse: 5.7497 - root_mean_squared_error: 2.3978 - mean_absolute_percentage_error: 20.2976 - val_loss: 4.0276 - val_mse: 4.0276 - val_root_mean_squared_error: 2.0069 - val_mean_absolute_percentage_error: 17.0415\n",
      "Epoch 89/300\n",
      "62/62 [==============================] - 0s 3ms/step - loss: 5.4220 - mse: 5.4220 - root_mean_squared_error: 2.3285 - mean_absolute_percentage_error: 19.7627 - val_loss: 4.7366 - val_mse: 4.7366 - val_root_mean_squared_error: 2.1764 - val_mean_absolute_percentage_error: 18.2681\n",
      "Epoch 90/300\n",
      "62/62 [==============================] - 0s 4ms/step - loss: 5.7345 - mse: 5.7345 - root_mean_squared_error: 2.3947 - mean_absolute_percentage_error: 20.3151 - val_loss: 3.9823 - val_mse: 3.9823 - val_root_mean_squared_error: 1.9956 - val_mean_absolute_percentage_error: 16.8522\n",
      "Epoch 91/300\n",
      "62/62 [==============================] - 0s 4ms/step - loss: 5.3318 - mse: 5.3318 - root_mean_squared_error: 2.3091 - mean_absolute_percentage_error: 19.5334 - val_loss: 3.9030 - val_mse: 3.9030 - val_root_mean_squared_error: 1.9756 - val_mean_absolute_percentage_error: 17.0422\n",
      "Epoch 92/300\n",
      "62/62 [==============================] - 0s 4ms/step - loss: 5.5869 - mse: 5.5869 - root_mean_squared_error: 2.3637 - mean_absolute_percentage_error: 20.2369 - val_loss: 4.7097 - val_mse: 4.7097 - val_root_mean_squared_error: 2.1702 - val_mean_absolute_percentage_error: 18.4495\n",
      "Epoch 93/300\n",
      "62/62 [==============================] - 0s 4ms/step - loss: 4.9965 - mse: 4.9965 - root_mean_squared_error: 2.2353 - mean_absolute_percentage_error: 19.1423 - val_loss: 3.9135 - val_mse: 3.9135 - val_root_mean_squared_error: 1.9783 - val_mean_absolute_percentage_error: 16.8213\n",
      "Epoch 94/300\n",
      "62/62 [==============================] - 0s 3ms/step - loss: 5.4448 - mse: 5.4448 - root_mean_squared_error: 2.3334 - mean_absolute_percentage_error: 20.0863 - val_loss: 4.6043 - val_mse: 4.6043 - val_root_mean_squared_error: 2.1458 - val_mean_absolute_percentage_error: 18.1710\n",
      "Epoch 95/300\n",
      "62/62 [==============================] - 0s 4ms/step - loss: 5.2138 - mse: 5.2138 - root_mean_squared_error: 2.2834 - mean_absolute_percentage_error: 19.7575 - val_loss: 4.2403 - val_mse: 4.2403 - val_root_mean_squared_error: 2.0592 - val_mean_absolute_percentage_error: 17.4647\n",
      "Epoch 96/300\n",
      "62/62 [==============================] - 0s 4ms/step - loss: 5.3588 - mse: 5.3588 - root_mean_squared_error: 2.3149 - mean_absolute_percentage_error: 19.5674 - val_loss: 4.4404 - val_mse: 4.4404 - val_root_mean_squared_error: 2.1072 - val_mean_absolute_percentage_error: 17.7952\n",
      "Epoch 97/300\n",
      "62/62 [==============================] - 0s 3ms/step - loss: 5.2776 - mse: 5.2776 - root_mean_squared_error: 2.2973 - mean_absolute_percentage_error: 19.9206 - val_loss: 4.4147 - val_mse: 4.4147 - val_root_mean_squared_error: 2.1011 - val_mean_absolute_percentage_error: 17.7871\n",
      "Epoch 98/300\n",
      "62/62 [==============================] - 0s 4ms/step - loss: 5.4409 - mse: 5.4409 - root_mean_squared_error: 2.3326 - mean_absolute_percentage_error: 19.5963 - val_loss: 4.7406 - val_mse: 4.7406 - val_root_mean_squared_error: 2.1773 - val_mean_absolute_percentage_error: 18.4010\n",
      "Epoch 99/300\n",
      "62/62 [==============================] - 0s 4ms/step - loss: 5.0151 - mse: 5.0151 - root_mean_squared_error: 2.2394 - mean_absolute_percentage_error: 18.5815 - val_loss: 4.0849 - val_mse: 4.0849 - val_root_mean_squared_error: 2.0211 - val_mean_absolute_percentage_error: 17.2656\n",
      "Epoch 100/300\n",
      "62/62 [==============================] - 0s 5ms/step - loss: 5.5696 - mse: 5.5696 - root_mean_squared_error: 2.3600 - mean_absolute_percentage_error: 19.5838 - val_loss: 4.9740 - val_mse: 4.9740 - val_root_mean_squared_error: 2.2302 - val_mean_absolute_percentage_error: 18.7385\n",
      "Epoch 101/300\n",
      "62/62 [==============================] - 0s 5ms/step - loss: 5.3912 - mse: 5.3912 - root_mean_squared_error: 2.3219 - mean_absolute_percentage_error: 19.5739 - val_loss: 4.2633 - val_mse: 4.2633 - val_root_mean_squared_error: 2.0648 - val_mean_absolute_percentage_error: 17.3746\n",
      "Epoch 102/300\n",
      "62/62 [==============================] - 0s 4ms/step - loss: 5.3741 - mse: 5.3741 - root_mean_squared_error: 2.3182 - mean_absolute_percentage_error: 19.2456 - val_loss: 5.2543 - val_mse: 5.2543 - val_root_mean_squared_error: 2.2922 - val_mean_absolute_percentage_error: 18.9548\n",
      "Epoch 103/300\n",
      "62/62 [==============================] - 0s 4ms/step - loss: 4.9693 - mse: 4.9693 - root_mean_squared_error: 2.2292 - mean_absolute_percentage_error: 18.9428 - val_loss: 4.2805 - val_mse: 4.2805 - val_root_mean_squared_error: 2.0689 - val_mean_absolute_percentage_error: 17.3652\n",
      "Epoch 104/300\n",
      "62/62 [==============================] - 0s 3ms/step - loss: 5.1640 - mse: 5.1640 - root_mean_squared_error: 2.2724 - mean_absolute_percentage_error: 19.1402 - val_loss: 4.3956 - val_mse: 4.3956 - val_root_mean_squared_error: 2.0966 - val_mean_absolute_percentage_error: 17.6168\n",
      "Epoch 105/300\n",
      "62/62 [==============================] - 0s 4ms/step - loss: 4.7661 - mse: 4.7661 - root_mean_squared_error: 2.1831 - mean_absolute_percentage_error: 18.4279 - val_loss: 4.2271 - val_mse: 4.2271 - val_root_mean_squared_error: 2.0560 - val_mean_absolute_percentage_error: 17.3291\n",
      "Epoch 106/300\n",
      "62/62 [==============================] - 0s 3ms/step - loss: 5.1779 - mse: 5.1779 - root_mean_squared_error: 2.2755 - mean_absolute_percentage_error: 18.9579 - val_loss: 4.3904 - val_mse: 4.3904 - val_root_mean_squared_error: 2.0953 - val_mean_absolute_percentage_error: 17.5164\n",
      "Epoch 107/300\n",
      "62/62 [==============================] - 0s 4ms/step - loss: 4.8288 - mse: 4.8288 - root_mean_squared_error: 2.1974 - mean_absolute_percentage_error: 19.0076 - val_loss: 4.2478 - val_mse: 4.2478 - val_root_mean_squared_error: 2.0610 - val_mean_absolute_percentage_error: 17.4197\n",
      "Epoch 108/300\n",
      "62/62 [==============================] - 0s 4ms/step - loss: 4.8983 - mse: 4.8983 - root_mean_squared_error: 2.2132 - mean_absolute_percentage_error: 18.3652 - val_loss: 4.3570 - val_mse: 4.3570 - val_root_mean_squared_error: 2.0873 - val_mean_absolute_percentage_error: 17.7474\n",
      "Epoch 109/300\n",
      "62/62 [==============================] - 0s 4ms/step - loss: 5.0980 - mse: 5.0980 - root_mean_squared_error: 2.2579 - mean_absolute_percentage_error: 19.1527 - val_loss: 4.2851 - val_mse: 4.2851 - val_root_mean_squared_error: 2.0701 - val_mean_absolute_percentage_error: 17.4284\n",
      "Epoch 110/300\n",
      "62/62 [==============================] - 0s 4ms/step - loss: 5.0362 - mse: 5.0362 - root_mean_squared_error: 2.2441 - mean_absolute_percentage_error: 18.7401 - val_loss: 5.5164 - val_mse: 5.5164 - val_root_mean_squared_error: 2.3487 - val_mean_absolute_percentage_error: 19.4641\n",
      "Epoch 111/300\n",
      "62/62 [==============================] - 0s 4ms/step - loss: 5.0231 - mse: 5.0231 - root_mean_squared_error: 2.2412 - mean_absolute_percentage_error: 18.8420 - val_loss: 4.2845 - val_mse: 4.2845 - val_root_mean_squared_error: 2.0699 - val_mean_absolute_percentage_error: 17.4209\n",
      "Epoch 112/300\n",
      "62/62 [==============================] - 0s 4ms/step - loss: 4.7364 - mse: 4.7364 - root_mean_squared_error: 2.1763 - mean_absolute_percentage_error: 17.9967 - val_loss: 3.9057 - val_mse: 3.9057 - val_root_mean_squared_error: 1.9763 - val_mean_absolute_percentage_error: 16.6191\n",
      "Epoch 113/300\n"
     ]
    },
    {
     "name": "stdout",
     "output_type": "stream",
     "text": [
      "62/62 [==============================] - 0s 4ms/step - loss: 5.0936 - mse: 5.0936 - root_mean_squared_error: 2.2569 - mean_absolute_percentage_error: 18.9495 - val_loss: 4.2708 - val_mse: 4.2708 - val_root_mean_squared_error: 2.0666 - val_mean_absolute_percentage_error: 17.2990\n",
      "Epoch 114/300\n",
      "62/62 [==============================] - 0s 4ms/step - loss: 4.9303 - mse: 4.9303 - root_mean_squared_error: 2.2204 - mean_absolute_percentage_error: 18.9308 - val_loss: 4.4731 - val_mse: 4.4731 - val_root_mean_squared_error: 2.1150 - val_mean_absolute_percentage_error: 17.6308\n",
      "Epoch 115/300\n",
      "62/62 [==============================] - 0s 3ms/step - loss: 4.9483 - mse: 4.9483 - root_mean_squared_error: 2.2245 - mean_absolute_percentage_error: 18.7006 - val_loss: 4.6317 - val_mse: 4.6317 - val_root_mean_squared_error: 2.1521 - val_mean_absolute_percentage_error: 17.9226\n",
      "Epoch 116/300\n",
      "62/62 [==============================] - 0s 4ms/step - loss: 5.0745 - mse: 5.0745 - root_mean_squared_error: 2.2527 - mean_absolute_percentage_error: 19.0103 - val_loss: 3.8810 - val_mse: 3.8810 - val_root_mean_squared_error: 1.9700 - val_mean_absolute_percentage_error: 16.7758\n",
      "Epoch 117/300\n",
      "62/62 [==============================] - 0s 4ms/step - loss: 4.9303 - mse: 4.9303 - root_mean_squared_error: 2.2204 - mean_absolute_percentage_error: 18.6699 - val_loss: 4.7133 - val_mse: 4.7133 - val_root_mean_squared_error: 2.1710 - val_mean_absolute_percentage_error: 18.0634\n",
      "Epoch 118/300\n",
      "62/62 [==============================] - 0s 4ms/step - loss: 4.8897 - mse: 4.8897 - root_mean_squared_error: 2.2113 - mean_absolute_percentage_error: 18.3472 - val_loss: 4.5817 - val_mse: 4.5817 - val_root_mean_squared_error: 2.1405 - val_mean_absolute_percentage_error: 17.9461\n",
      "Epoch 119/300\n",
      "62/62 [==============================] - 0s 4ms/step - loss: 4.6112 - mse: 4.6112 - root_mean_squared_error: 2.1474 - mean_absolute_percentage_error: 17.8148 - val_loss: 4.5580 - val_mse: 4.5580 - val_root_mean_squared_error: 2.1350 - val_mean_absolute_percentage_error: 17.8397\n",
      "Epoch 120/300\n",
      "62/62 [==============================] - 0s 4ms/step - loss: 4.6085 - mse: 4.6085 - root_mean_squared_error: 2.1468 - mean_absolute_percentage_error: 17.7254 - val_loss: 4.5767 - val_mse: 4.5767 - val_root_mean_squared_error: 2.1393 - val_mean_absolute_percentage_error: 17.9574\n",
      "Epoch 121/300\n",
      "62/62 [==============================] - 0s 4ms/step - loss: 4.7218 - mse: 4.7218 - root_mean_squared_error: 2.1730 - mean_absolute_percentage_error: 18.1943 - val_loss: 4.0677 - val_mse: 4.0677 - val_root_mean_squared_error: 2.0169 - val_mean_absolute_percentage_error: 17.1519\n",
      "Epoch 122/300\n",
      "62/62 [==============================] - 0s 4ms/step - loss: 4.3623 - mse: 4.3623 - root_mean_squared_error: 2.0886 - mean_absolute_percentage_error: 17.9390 - val_loss: 3.9613 - val_mse: 3.9613 - val_root_mean_squared_error: 1.9903 - val_mean_absolute_percentage_error: 16.7912\n",
      "Epoch 123/300\n",
      "62/62 [==============================] - 0s 4ms/step - loss: 4.8692 - mse: 4.8692 - root_mean_squared_error: 2.2066 - mean_absolute_percentage_error: 18.2035 - val_loss: 4.6869 - val_mse: 4.6869 - val_root_mean_squared_error: 2.1649 - val_mean_absolute_percentage_error: 18.0136\n",
      "Epoch 124/300\n",
      "62/62 [==============================] - 0s 4ms/step - loss: 4.5085 - mse: 4.5085 - root_mean_squared_error: 2.1233 - mean_absolute_percentage_error: 18.0598 - val_loss: 3.9564 - val_mse: 3.9564 - val_root_mean_squared_error: 1.9891 - val_mean_absolute_percentage_error: 16.5910\n",
      "Epoch 125/300\n",
      "62/62 [==============================] - 0s 4ms/step - loss: 4.6567 - mse: 4.6567 - root_mean_squared_error: 2.1579 - mean_absolute_percentage_error: 18.1015 - val_loss: 4.3027 - val_mse: 4.3027 - val_root_mean_squared_error: 2.0743 - val_mean_absolute_percentage_error: 17.1142\n",
      "Epoch 126/300\n",
      "62/62 [==============================] - 0s 4ms/step - loss: 4.6135 - mse: 4.6135 - root_mean_squared_error: 2.1479 - mean_absolute_percentage_error: 18.1398 - val_loss: 5.0514 - val_mse: 5.0514 - val_root_mean_squared_error: 2.2475 - val_mean_absolute_percentage_error: 18.5852\n",
      "Epoch 127/300\n",
      "62/62 [==============================] - 0s 4ms/step - loss: 4.4643 - mse: 4.4643 - root_mean_squared_error: 2.1129 - mean_absolute_percentage_error: 17.7838 - val_loss: 3.9233 - val_mse: 3.9233 - val_root_mean_squared_error: 1.9807 - val_mean_absolute_percentage_error: 16.6937\n",
      "Epoch 128/300\n",
      "62/62 [==============================] - 0s 4ms/step - loss: 4.4176 - mse: 4.4176 - root_mean_squared_error: 2.1018 - mean_absolute_percentage_error: 17.7089 - val_loss: 4.4051 - val_mse: 4.4051 - val_root_mean_squared_error: 2.0988 - val_mean_absolute_percentage_error: 17.5373\n",
      "Epoch 129/300\n",
      "62/62 [==============================] - 0s 4ms/step - loss: 4.3209 - mse: 4.3209 - root_mean_squared_error: 2.0787 - mean_absolute_percentage_error: 17.7482 - val_loss: 4.7959 - val_mse: 4.7959 - val_root_mean_squared_error: 2.1900 - val_mean_absolute_percentage_error: 18.1655\n",
      "Epoch 130/300\n",
      "62/62 [==============================] - 0s 4ms/step - loss: 4.4460 - mse: 4.4460 - root_mean_squared_error: 2.1086 - mean_absolute_percentage_error: 17.6219 - val_loss: 4.4390 - val_mse: 4.4390 - val_root_mean_squared_error: 2.1069 - val_mean_absolute_percentage_error: 17.5890\n",
      "Epoch 131/300\n",
      "62/62 [==============================] - 0s 4ms/step - loss: 4.6360 - mse: 4.6360 - root_mean_squared_error: 2.1531 - mean_absolute_percentage_error: 18.0295 - val_loss: 4.5555 - val_mse: 4.5555 - val_root_mean_squared_error: 2.1344 - val_mean_absolute_percentage_error: 17.6590\n",
      "Epoch 132/300\n",
      "62/62 [==============================] - 0s 4ms/step - loss: 4.3870 - mse: 4.3870 - root_mean_squared_error: 2.0945 - mean_absolute_percentage_error: 17.2911 - val_loss: 4.4343 - val_mse: 4.4343 - val_root_mean_squared_error: 2.1058 - val_mean_absolute_percentage_error: 17.5233\n",
      "Epoch 133/300\n",
      "62/62 [==============================] - 0s 4ms/step - loss: 4.7811 - mse: 4.7811 - root_mean_squared_error: 2.1866 - mean_absolute_percentage_error: 18.1718 - val_loss: 4.1542 - val_mse: 4.1542 - val_root_mean_squared_error: 2.0382 - val_mean_absolute_percentage_error: 17.1410\n",
      "Epoch 134/300\n",
      "62/62 [==============================] - 0s 4ms/step - loss: 4.4414 - mse: 4.4414 - root_mean_squared_error: 2.1075 - mean_absolute_percentage_error: 17.4300 - val_loss: 4.8583 - val_mse: 4.8583 - val_root_mean_squared_error: 2.2042 - val_mean_absolute_percentage_error: 18.1270\n",
      "Epoch 135/300\n",
      "62/62 [==============================] - 0s 4ms/step - loss: 4.4244 - mse: 4.4244 - root_mean_squared_error: 2.1034 - mean_absolute_percentage_error: 18.0003 - val_loss: 4.0967 - val_mse: 4.0967 - val_root_mean_squared_error: 2.0240 - val_mean_absolute_percentage_error: 17.0242\n",
      "Epoch 136/300\n",
      "62/62 [==============================] - 0s 4ms/step - loss: 4.6635 - mse: 4.6635 - root_mean_squared_error: 2.1595 - mean_absolute_percentage_error: 18.3027 - val_loss: 4.6084 - val_mse: 4.6084 - val_root_mean_squared_error: 2.1467 - val_mean_absolute_percentage_error: 17.8798\n",
      "Epoch 137/300\n",
      "62/62 [==============================] - 0s 5ms/step - loss: 4.3088 - mse: 4.3088 - root_mean_squared_error: 2.0758 - mean_absolute_percentage_error: 17.6554 - val_loss: 4.5542 - val_mse: 4.5542 - val_root_mean_squared_error: 2.1341 - val_mean_absolute_percentage_error: 17.6449\n",
      "Epoch 138/300\n",
      "62/62 [==============================] - 0s 3ms/step - loss: 4.5826 - mse: 4.5826 - root_mean_squared_error: 2.1407 - mean_absolute_percentage_error: 18.2277 - val_loss: 3.9788 - val_mse: 3.9788 - val_root_mean_squared_error: 1.9947 - val_mean_absolute_percentage_error: 16.7668\n",
      "Epoch 139/300\n",
      "62/62 [==============================] - 0s 4ms/step - loss: 4.3815 - mse: 4.3815 - root_mean_squared_error: 2.0932 - mean_absolute_percentage_error: 17.9609 - val_loss: 4.5631 - val_mse: 4.5631 - val_root_mean_squared_error: 2.1361 - val_mean_absolute_percentage_error: 17.9722\n",
      "Epoch 140/300\n",
      "62/62 [==============================] - 0s 4ms/step - loss: 4.4623 - mse: 4.4623 - root_mean_squared_error: 2.1124 - mean_absolute_percentage_error: 18.0752 - val_loss: 4.2541 - val_mse: 4.2541 - val_root_mean_squared_error: 2.0625 - val_mean_absolute_percentage_error: 17.3854\n",
      "Epoch 141/300\n"
     ]
    },
    {
     "name": "stdout",
     "output_type": "stream",
     "text": [
      "62/62 [==============================] - 0s 4ms/step - loss: 4.5392 - mse: 4.5392 - root_mean_squared_error: 2.1305 - mean_absolute_percentage_error: 17.9888 - val_loss: 4.1191 - val_mse: 4.1191 - val_root_mean_squared_error: 2.0296 - val_mean_absolute_percentage_error: 17.0653\n",
      "Epoch 142/300\n",
      "62/62 [==============================] - 0s 4ms/step - loss: 3.9179 - mse: 3.9179 - root_mean_squared_error: 1.9794 - mean_absolute_percentage_error: 16.9769 - val_loss: 4.1971 - val_mse: 4.1971 - val_root_mean_squared_error: 2.0487 - val_mean_absolute_percentage_error: 17.1733\n",
      "Epoch 143/300\n",
      "62/62 [==============================] - 0s 4ms/step - loss: 4.1100 - mse: 4.1100 - root_mean_squared_error: 2.0273 - mean_absolute_percentage_error: 17.0088 - val_loss: 4.1123 - val_mse: 4.1123 - val_root_mean_squared_error: 2.0279 - val_mean_absolute_percentage_error: 17.0820\n",
      "Epoch 144/300\n",
      "62/62 [==============================] - 0s 4ms/step - loss: 4.4805 - mse: 4.4805 - root_mean_squared_error: 2.1167 - mean_absolute_percentage_error: 17.8271 - val_loss: 4.4273 - val_mse: 4.4273 - val_root_mean_squared_error: 2.1041 - val_mean_absolute_percentage_error: 17.5395\n",
      "Epoch 145/300\n",
      "62/62 [==============================] - 0s 4ms/step - loss: 4.2436 - mse: 4.2436 - root_mean_squared_error: 2.0600 - mean_absolute_percentage_error: 17.1833 - val_loss: 4.2958 - val_mse: 4.2958 - val_root_mean_squared_error: 2.0726 - val_mean_absolute_percentage_error: 17.2708\n",
      "Epoch 146/300\n",
      "62/62 [==============================] - 0s 3ms/step - loss: 4.1395 - mse: 4.1395 - root_mean_squared_error: 2.0346 - mean_absolute_percentage_error: 16.9745 - val_loss: 4.1854 - val_mse: 4.1854 - val_root_mean_squared_error: 2.0458 - val_mean_absolute_percentage_error: 17.2225\n",
      "Epoch 147/300\n",
      "62/62 [==============================] - 0s 3ms/step - loss: 4.2180 - mse: 4.2180 - root_mean_squared_error: 2.0538 - mean_absolute_percentage_error: 17.0213 - val_loss: 3.7607 - val_mse: 3.7607 - val_root_mean_squared_error: 1.9392 - val_mean_absolute_percentage_error: 16.6603\n",
      "Epoch 148/300\n",
      "62/62 [==============================] - 0s 4ms/step - loss: 4.0326 - mse: 4.0326 - root_mean_squared_error: 2.0081 - mean_absolute_percentage_error: 17.4605 - val_loss: 4.2161 - val_mse: 4.2161 - val_root_mean_squared_error: 2.0533 - val_mean_absolute_percentage_error: 17.4227\n",
      "Epoch 149/300\n",
      "62/62 [==============================] - 0s 4ms/step - loss: 4.4216 - mse: 4.4216 - root_mean_squared_error: 2.1028 - mean_absolute_percentage_error: 17.6942 - val_loss: 4.3444 - val_mse: 4.3444 - val_root_mean_squared_error: 2.0843 - val_mean_absolute_percentage_error: 17.4432\n",
      "Epoch 150/300\n",
      "62/62 [==============================] - 0s 4ms/step - loss: 3.9305 - mse: 3.9305 - root_mean_squared_error: 1.9825 - mean_absolute_percentage_error: 16.5964 - val_loss: 4.2995 - val_mse: 4.2995 - val_root_mean_squared_error: 2.0735 - val_mean_absolute_percentage_error: 17.5600\n",
      "Epoch 151/300\n",
      "62/62 [==============================] - 0s 5ms/step - loss: 4.2478 - mse: 4.2478 - root_mean_squared_error: 2.0610 - mean_absolute_percentage_error: 17.3909 - val_loss: 4.2387 - val_mse: 4.2387 - val_root_mean_squared_error: 2.0588 - val_mean_absolute_percentage_error: 17.1191\n",
      "Epoch 152/300\n",
      "62/62 [==============================] - 0s 4ms/step - loss: 3.9103 - mse: 3.9103 - root_mean_squared_error: 1.9774 - mean_absolute_percentage_error: 17.0379 - val_loss: 4.6571 - val_mse: 4.6571 - val_root_mean_squared_error: 2.1580 - val_mean_absolute_percentage_error: 17.9966\n",
      "Epoch 153/300\n",
      "62/62 [==============================] - 0s 5ms/step - loss: 3.9081 - mse: 3.9081 - root_mean_squared_error: 1.9769 - mean_absolute_percentage_error: 16.7422 - val_loss: 3.9700 - val_mse: 3.9700 - val_root_mean_squared_error: 1.9925 - val_mean_absolute_percentage_error: 16.8462\n",
      "Epoch 154/300\n",
      "62/62 [==============================] - 0s 4ms/step - loss: 4.1754 - mse: 4.1754 - root_mean_squared_error: 2.0434 - mean_absolute_percentage_error: 17.0970 - val_loss: 4.7379 - val_mse: 4.7379 - val_root_mean_squared_error: 2.1767 - val_mean_absolute_percentage_error: 18.0465\n",
      "Epoch 155/300\n",
      "62/62 [==============================] - 0s 5ms/step - loss: 3.9222 - mse: 3.9222 - root_mean_squared_error: 1.9805 - mean_absolute_percentage_error: 16.8872 - val_loss: 4.4821 - val_mse: 4.4821 - val_root_mean_squared_error: 2.1171 - val_mean_absolute_percentage_error: 17.7454\n",
      "Epoch 156/300\n",
      "62/62 [==============================] - 0s 4ms/step - loss: 4.1428 - mse: 4.1428 - root_mean_squared_error: 2.0354 - mean_absolute_percentage_error: 17.0037 - val_loss: 4.5584 - val_mse: 4.5584 - val_root_mean_squared_error: 2.1350 - val_mean_absolute_percentage_error: 17.6535\n",
      "Epoch 157/300\n",
      "62/62 [==============================] - 0s 4ms/step - loss: 4.0781 - mse: 4.0781 - root_mean_squared_error: 2.0194 - mean_absolute_percentage_error: 16.9210 - val_loss: 4.6013 - val_mse: 4.6013 - val_root_mean_squared_error: 2.1451 - val_mean_absolute_percentage_error: 17.7632\n",
      "Epoch 158/300\n",
      "62/62 [==============================] - 0s 5ms/step - loss: 3.7147 - mse: 3.7147 - root_mean_squared_error: 1.9274 - mean_absolute_percentage_error: 16.3254 - val_loss: 3.9998 - val_mse: 3.9998 - val_root_mean_squared_error: 2.0000 - val_mean_absolute_percentage_error: 16.8505\n",
      "Epoch 159/300\n",
      "62/62 [==============================] - 0s 4ms/step - loss: 4.0197 - mse: 4.0197 - root_mean_squared_error: 2.0049 - mean_absolute_percentage_error: 17.0641 - val_loss: 4.0137 - val_mse: 4.0137 - val_root_mean_squared_error: 2.0034 - val_mean_absolute_percentage_error: 16.9552\n",
      "Epoch 160/300\n",
      "62/62 [==============================] - 0s 4ms/step - loss: 3.9303 - mse: 3.9303 - root_mean_squared_error: 1.9825 - mean_absolute_percentage_error: 16.8657 - val_loss: 3.9124 - val_mse: 3.9124 - val_root_mean_squared_error: 1.9780 - val_mean_absolute_percentage_error: 16.8300\n",
      "Epoch 161/300\n",
      "62/62 [==============================] - 0s 4ms/step - loss: 3.9437 - mse: 3.9437 - root_mean_squared_error: 1.9859 - mean_absolute_percentage_error: 16.8161 - val_loss: 4.4361 - val_mse: 4.4361 - val_root_mean_squared_error: 2.1062 - val_mean_absolute_percentage_error: 17.4940\n",
      "Epoch 162/300\n",
      "62/62 [==============================] - 0s 4ms/step - loss: 3.7523 - mse: 3.7523 - root_mean_squared_error: 1.9371 - mean_absolute_percentage_error: 16.4945 - val_loss: 4.2929 - val_mse: 4.2929 - val_root_mean_squared_error: 2.0719 - val_mean_absolute_percentage_error: 17.3661\n",
      "Epoch 163/300\n",
      "62/62 [==============================] - 0s 3ms/step - loss: 3.7221 - mse: 3.7221 - root_mean_squared_error: 1.9293 - mean_absolute_percentage_error: 16.2454 - val_loss: 3.9982 - val_mse: 3.9982 - val_root_mean_squared_error: 1.9995 - val_mean_absolute_percentage_error: 17.0277\n",
      "Epoch 164/300\n",
      "62/62 [==============================] - 0s 5ms/step - loss: 3.9665 - mse: 3.9665 - root_mean_squared_error: 1.9916 - mean_absolute_percentage_error: 16.8965 - val_loss: 4.6728 - val_mse: 4.6728 - val_root_mean_squared_error: 2.1617 - val_mean_absolute_percentage_error: 18.1835\n",
      "Epoch 165/300\n",
      "62/62 [==============================] - 0s 4ms/step - loss: 4.0056 - mse: 4.0056 - root_mean_squared_error: 2.0014 - mean_absolute_percentage_error: 17.0029 - val_loss: 4.6461 - val_mse: 4.6461 - val_root_mean_squared_error: 2.1555 - val_mean_absolute_percentage_error: 18.1412\n",
      "Epoch 166/300\n",
      "62/62 [==============================] - 0s 3ms/step - loss: 3.8320 - mse: 3.8320 - root_mean_squared_error: 1.9575 - mean_absolute_percentage_error: 16.4590 - val_loss: 4.8470 - val_mse: 4.8470 - val_root_mean_squared_error: 2.2016 - val_mean_absolute_percentage_error: 18.4278\n",
      "Epoch 167/300\n",
      "62/62 [==============================] - 0s 5ms/step - loss: 3.8049 - mse: 3.8049 - root_mean_squared_error: 1.9506 - mean_absolute_percentage_error: 16.2864 - val_loss: 3.9654 - val_mse: 3.9654 - val_root_mean_squared_error: 1.9913 - val_mean_absolute_percentage_error: 16.8678\n",
      "Epoch 168/300\n",
      "62/62 [==============================] - 0s 4ms/step - loss: 3.5816 - mse: 3.5816 - root_mean_squared_error: 1.8925 - mean_absolute_percentage_error: 16.3558 - val_loss: 3.9790 - val_mse: 3.9790 - val_root_mean_squared_error: 1.9947 - val_mean_absolute_percentage_error: 16.9952\n",
      "Epoch 169/300\n"
     ]
    },
    {
     "name": "stdout",
     "output_type": "stream",
     "text": [
      "62/62 [==============================] - 0s 3ms/step - loss: 3.8257 - mse: 3.8257 - root_mean_squared_error: 1.9559 - mean_absolute_percentage_error: 16.6511 - val_loss: 3.8797 - val_mse: 3.8797 - val_root_mean_squared_error: 1.9697 - val_mean_absolute_percentage_error: 16.9238\n",
      "Epoch 170/300\n",
      "62/62 [==============================] - 0s 3ms/step - loss: 3.7829 - mse: 3.7829 - root_mean_squared_error: 1.9450 - mean_absolute_percentage_error: 16.5911 - val_loss: 4.3115 - val_mse: 4.3115 - val_root_mean_squared_error: 2.0764 - val_mean_absolute_percentage_error: 17.4287\n",
      "Epoch 171/300\n",
      "62/62 [==============================] - 0s 4ms/step - loss: 3.5854 - mse: 3.5854 - root_mean_squared_error: 1.8935 - mean_absolute_percentage_error: 16.0700 - val_loss: 4.0986 - val_mse: 4.0986 - val_root_mean_squared_error: 2.0245 - val_mean_absolute_percentage_error: 17.2409\n",
      "Epoch 172/300\n",
      "62/62 [==============================] - 0s 4ms/step - loss: 3.7359 - mse: 3.7359 - root_mean_squared_error: 1.9328 - mean_absolute_percentage_error: 16.4139 - val_loss: 3.9557 - val_mse: 3.9557 - val_root_mean_squared_error: 1.9889 - val_mean_absolute_percentage_error: 16.9907\n",
      "Epoch 173/300\n",
      "62/62 [==============================] - 0s 4ms/step - loss: 3.8017 - mse: 3.8017 - root_mean_squared_error: 1.9498 - mean_absolute_percentage_error: 16.7377 - val_loss: 4.2397 - val_mse: 4.2397 - val_root_mean_squared_error: 2.0591 - val_mean_absolute_percentage_error: 17.3106\n",
      "Epoch 174/300\n",
      "62/62 [==============================] - 0s 3ms/step - loss: 3.6715 - mse: 3.6715 - root_mean_squared_error: 1.9161 - mean_absolute_percentage_error: 16.2693 - val_loss: 3.7589 - val_mse: 3.7589 - val_root_mean_squared_error: 1.9388 - val_mean_absolute_percentage_error: 16.8066\n",
      "Epoch 175/300\n",
      "62/62 [==============================] - 0s 3ms/step - loss: 3.6752 - mse: 3.6752 - root_mean_squared_error: 1.9171 - mean_absolute_percentage_error: 16.3186 - val_loss: 4.6576 - val_mse: 4.6576 - val_root_mean_squared_error: 2.1582 - val_mean_absolute_percentage_error: 18.0786\n",
      "Epoch 176/300\n",
      "62/62 [==============================] - 0s 3ms/step - loss: 3.7309 - mse: 3.7309 - root_mean_squared_error: 1.9316 - mean_absolute_percentage_error: 16.1691 - val_loss: 4.0268 - val_mse: 4.0268 - val_root_mean_squared_error: 2.0067 - val_mean_absolute_percentage_error: 17.1176\n",
      "Epoch 177/300\n",
      "62/62 [==============================] - 0s 4ms/step - loss: 3.6705 - mse: 3.6705 - root_mean_squared_error: 1.9158 - mean_absolute_percentage_error: 16.2573 - val_loss: 4.8265 - val_mse: 4.8265 - val_root_mean_squared_error: 2.1969 - val_mean_absolute_percentage_error: 18.7206\n",
      "Epoch 178/300\n",
      "62/62 [==============================] - 0s 3ms/step - loss: 3.6535 - mse: 3.6535 - root_mean_squared_error: 1.9114 - mean_absolute_percentage_error: 16.6386 - val_loss: 4.5677 - val_mse: 4.5677 - val_root_mean_squared_error: 2.1372 - val_mean_absolute_percentage_error: 18.1862\n",
      "Epoch 179/300\n",
      "62/62 [==============================] - 0s 4ms/step - loss: 3.6617 - mse: 3.6617 - root_mean_squared_error: 1.9136 - mean_absolute_percentage_error: 16.3317 - val_loss: 3.8337 - val_mse: 3.8337 - val_root_mean_squared_error: 1.9580 - val_mean_absolute_percentage_error: 17.1143\n",
      "Epoch 180/300\n",
      "62/62 [==============================] - 0s 3ms/step - loss: 3.4870 - mse: 3.4870 - root_mean_squared_error: 1.8673 - mean_absolute_percentage_error: 15.9789 - val_loss: 4.1942 - val_mse: 4.1942 - val_root_mean_squared_error: 2.0480 - val_mean_absolute_percentage_error: 17.6314\n",
      "Epoch 181/300\n",
      "62/62 [==============================] - 0s 4ms/step - loss: 3.5836 - mse: 3.5836 - root_mean_squared_error: 1.8930 - mean_absolute_percentage_error: 16.0580 - val_loss: 4.5851 - val_mse: 4.5851 - val_root_mean_squared_error: 2.1413 - val_mean_absolute_percentage_error: 18.1016\n",
      "Epoch 182/300\n",
      "62/62 [==============================] - 0s 3ms/step - loss: 3.8702 - mse: 3.8702 - root_mean_squared_error: 1.9673 - mean_absolute_percentage_error: 16.4789 - val_loss: 4.1252 - val_mse: 4.1252 - val_root_mean_squared_error: 2.0311 - val_mean_absolute_percentage_error: 17.3683\n",
      "Epoch 183/300\n",
      "62/62 [==============================] - 0s 3ms/step - loss: 3.7242 - mse: 3.7242 - root_mean_squared_error: 1.9298 - mean_absolute_percentage_error: 16.3646 - val_loss: 3.9318 - val_mse: 3.9318 - val_root_mean_squared_error: 1.9829 - val_mean_absolute_percentage_error: 17.0980\n",
      "Epoch 184/300\n",
      "62/62 [==============================] - 0s 3ms/step - loss: 3.3261 - mse: 3.3261 - root_mean_squared_error: 1.8237 - mean_absolute_percentage_error: 16.0747 - val_loss: 3.7868 - val_mse: 3.7868 - val_root_mean_squared_error: 1.9460 - val_mean_absolute_percentage_error: 16.7084\n",
      "Epoch 185/300\n",
      "62/62 [==============================] - 0s 3ms/step - loss: 3.5053 - mse: 3.5053 - root_mean_squared_error: 1.8722 - mean_absolute_percentage_error: 16.1848 - val_loss: 4.1564 - val_mse: 4.1564 - val_root_mean_squared_error: 2.0387 - val_mean_absolute_percentage_error: 17.5379\n",
      "Epoch 186/300\n",
      "62/62 [==============================] - 0s 3ms/step - loss: 3.6127 - mse: 3.6127 - root_mean_squared_error: 1.9007 - mean_absolute_percentage_error: 16.2566 - val_loss: 4.3757 - val_mse: 4.3757 - val_root_mean_squared_error: 2.0918 - val_mean_absolute_percentage_error: 17.6845\n",
      "Epoch 187/300\n",
      "62/62 [==============================] - 0s 2ms/step - loss: 3.4641 - mse: 3.4641 - root_mean_squared_error: 1.8612 - mean_absolute_percentage_error: 16.1122 - val_loss: 4.1169 - val_mse: 4.1169 - val_root_mean_squared_error: 2.0290 - val_mean_absolute_percentage_error: 17.3225\n",
      "Epoch 188/300\n",
      "62/62 [==============================] - 0s 3ms/step - loss: 3.5846 - mse: 3.5846 - root_mean_squared_error: 1.8933 - mean_absolute_percentage_error: 15.7757 - val_loss: 3.9076 - val_mse: 3.9076 - val_root_mean_squared_error: 1.9768 - val_mean_absolute_percentage_error: 17.0910\n",
      "Epoch 189/300\n",
      "62/62 [==============================] - 0s 3ms/step - loss: 3.5281 - mse: 3.5281 - root_mean_squared_error: 1.8783 - mean_absolute_percentage_error: 16.0698 - val_loss: 3.9595 - val_mse: 3.9595 - val_root_mean_squared_error: 1.9898 - val_mean_absolute_percentage_error: 17.0393\n",
      "Epoch 190/300\n",
      "62/62 [==============================] - 0s 3ms/step - loss: 3.4028 - mse: 3.4028 - root_mean_squared_error: 1.8447 - mean_absolute_percentage_error: 15.9687 - val_loss: 4.0226 - val_mse: 4.0226 - val_root_mean_squared_error: 2.0056 - val_mean_absolute_percentage_error: 17.3767\n",
      "Epoch 191/300\n",
      "62/62 [==============================] - 0s 2ms/step - loss: 3.2947 - mse: 3.2947 - root_mean_squared_error: 1.8151 - mean_absolute_percentage_error: 15.4769 - val_loss: 4.4755 - val_mse: 4.4755 - val_root_mean_squared_error: 2.1155 - val_mean_absolute_percentage_error: 18.0758\n",
      "Epoch 192/300\n",
      "62/62 [==============================] - 0s 3ms/step - loss: 3.6029 - mse: 3.6029 - root_mean_squared_error: 1.8981 - mean_absolute_percentage_error: 16.1481 - val_loss: 3.9394 - val_mse: 3.9394 - val_root_mean_squared_error: 1.9848 - val_mean_absolute_percentage_error: 17.1028\n",
      "Epoch 193/300\n",
      "62/62 [==============================] - 0s 3ms/step - loss: 3.6219 - mse: 3.6219 - root_mean_squared_error: 1.9031 - mean_absolute_percentage_error: 16.3231 - val_loss: 4.0656 - val_mse: 4.0656 - val_root_mean_squared_error: 2.0163 - val_mean_absolute_percentage_error: 17.3854\n",
      "Epoch 194/300\n",
      "62/62 [==============================] - 0s 2ms/step - loss: 3.5623 - mse: 3.5623 - root_mean_squared_error: 1.8874 - mean_absolute_percentage_error: 16.0056 - val_loss: 3.8448 - val_mse: 3.8448 - val_root_mean_squared_error: 1.9608 - val_mean_absolute_percentage_error: 16.9295\n",
      "Epoch 195/300\n",
      "62/62 [==============================] - 0s 3ms/step - loss: 3.2565 - mse: 3.2565 - root_mean_squared_error: 1.8046 - mean_absolute_percentage_error: 15.6883 - val_loss: 3.9905 - val_mse: 3.9905 - val_root_mean_squared_error: 1.9976 - val_mean_absolute_percentage_error: 17.2140\n",
      "Epoch 196/300\n",
      "62/62 [==============================] - 0s 3ms/step - loss: 3.2001 - mse: 3.2001 - root_mean_squared_error: 1.7889 - mean_absolute_percentage_error: 15.5758 - val_loss: 4.1714 - val_mse: 4.1714 - val_root_mean_squared_error: 2.0424 - val_mean_absolute_percentage_error: 17.4438\n",
      "Epoch 197/300\n"
     ]
    },
    {
     "name": "stdout",
     "output_type": "stream",
     "text": [
      "62/62 [==============================] - 0s 3ms/step - loss: 3.1273 - mse: 3.1273 - root_mean_squared_error: 1.7684 - mean_absolute_percentage_error: 15.6624 - val_loss: 4.5692 - val_mse: 4.5692 - val_root_mean_squared_error: 2.1376 - val_mean_absolute_percentage_error: 18.2138\n",
      "Epoch 198/300\n",
      "62/62 [==============================] - 0s 3ms/step - loss: 3.1617 - mse: 3.1617 - root_mean_squared_error: 1.7781 - mean_absolute_percentage_error: 15.2790 - val_loss: 3.8588 - val_mse: 3.8588 - val_root_mean_squared_error: 1.9644 - val_mean_absolute_percentage_error: 16.8221\n",
      "Epoch 199/300\n",
      "62/62 [==============================] - 0s 2ms/step - loss: 3.4348 - mse: 3.4348 - root_mean_squared_error: 1.8533 - mean_absolute_percentage_error: 16.2683 - val_loss: 4.3913 - val_mse: 4.3913 - val_root_mean_squared_error: 2.0955 - val_mean_absolute_percentage_error: 17.9247\n",
      "Epoch 200/300\n",
      "62/62 [==============================] - 0s 3ms/step - loss: 3.5514 - mse: 3.5514 - root_mean_squared_error: 1.8845 - mean_absolute_percentage_error: 15.8960 - val_loss: 3.7662 - val_mse: 3.7662 - val_root_mean_squared_error: 1.9407 - val_mean_absolute_percentage_error: 16.7429\n",
      "Epoch 201/300\n",
      "62/62 [==============================] - 0s 2ms/step - loss: 3.2870 - mse: 3.2870 - root_mean_squared_error: 1.8130 - mean_absolute_percentage_error: 15.7131 - val_loss: 3.9261 - val_mse: 3.9261 - val_root_mean_squared_error: 1.9814 - val_mean_absolute_percentage_error: 17.1096\n",
      "Epoch 202/300\n",
      "62/62 [==============================] - 0s 3ms/step - loss: 3.1394 - mse: 3.1394 - root_mean_squared_error: 1.7718 - mean_absolute_percentage_error: 15.3701 - val_loss: 4.0800 - val_mse: 4.0800 - val_root_mean_squared_error: 2.0199 - val_mean_absolute_percentage_error: 17.3953\n",
      "Epoch 203/300\n",
      "62/62 [==============================] - 0s 2ms/step - loss: 3.3612 - mse: 3.3612 - root_mean_squared_error: 1.8333 - mean_absolute_percentage_error: 15.6764 - val_loss: 3.8881 - val_mse: 3.8881 - val_root_mean_squared_error: 1.9718 - val_mean_absolute_percentage_error: 17.2123\n",
      "Epoch 204/300\n",
      "62/62 [==============================] - 0s 3ms/step - loss: 3.2461 - mse: 3.2461 - root_mean_squared_error: 1.8017 - mean_absolute_percentage_error: 15.6856 - val_loss: 3.8076 - val_mse: 3.8076 - val_root_mean_squared_error: 1.9513 - val_mean_absolute_percentage_error: 16.9695\n",
      "Epoch 205/300\n",
      "62/62 [==============================] - 0s 3ms/step - loss: 3.3666 - mse: 3.3666 - root_mean_squared_error: 1.8348 - mean_absolute_percentage_error: 15.5518 - val_loss: 4.0076 - val_mse: 4.0076 - val_root_mean_squared_error: 2.0019 - val_mean_absolute_percentage_error: 17.2392\n",
      "Epoch 206/300\n",
      "62/62 [==============================] - 0s 3ms/step - loss: 3.2094 - mse: 3.2094 - root_mean_squared_error: 1.7915 - mean_absolute_percentage_error: 15.7843 - val_loss: 4.2975 - val_mse: 4.2975 - val_root_mean_squared_error: 2.0730 - val_mean_absolute_percentage_error: 17.6642\n",
      "Epoch 207/300\n",
      "62/62 [==============================] - 0s 3ms/step - loss: 3.2069 - mse: 3.2069 - root_mean_squared_error: 1.7908 - mean_absolute_percentage_error: 15.5379 - val_loss: 3.7343 - val_mse: 3.7343 - val_root_mean_squared_error: 1.9324 - val_mean_absolute_percentage_error: 16.7568\n",
      "Epoch 208/300\n",
      "62/62 [==============================] - 0s 3ms/step - loss: 3.1017 - mse: 3.1017 - root_mean_squared_error: 1.7612 - mean_absolute_percentage_error: 15.3857 - val_loss: 4.0325 - val_mse: 4.0325 - val_root_mean_squared_error: 2.0081 - val_mean_absolute_percentage_error: 17.4249\n",
      "Epoch 209/300\n",
      "62/62 [==============================] - 0s 2ms/step - loss: 3.0133 - mse: 3.0133 - root_mean_squared_error: 1.7359 - mean_absolute_percentage_error: 15.4574 - val_loss: 4.3967 - val_mse: 4.3967 - val_root_mean_squared_error: 2.0968 - val_mean_absolute_percentage_error: 17.9344\n",
      "Epoch 210/300\n",
      "62/62 [==============================] - 0s 2ms/step - loss: 3.2047 - mse: 3.2047 - root_mean_squared_error: 1.7902 - mean_absolute_percentage_error: 15.5700 - val_loss: 4.0205 - val_mse: 4.0205 - val_root_mean_squared_error: 2.0051 - val_mean_absolute_percentage_error: 17.4283\n",
      "Epoch 211/300\n",
      "62/62 [==============================] - 0s 3ms/step - loss: 3.3606 - mse: 3.3606 - root_mean_squared_error: 1.8332 - mean_absolute_percentage_error: 15.7725 - val_loss: 3.8626 - val_mse: 3.8626 - val_root_mean_squared_error: 1.9653 - val_mean_absolute_percentage_error: 16.9639\n",
      "Epoch 212/300\n",
      "62/62 [==============================] - 0s 3ms/step - loss: 3.1209 - mse: 3.1209 - root_mean_squared_error: 1.7666 - mean_absolute_percentage_error: 15.6246 - val_loss: 3.9945 - val_mse: 3.9945 - val_root_mean_squared_error: 1.9986 - val_mean_absolute_percentage_error: 17.2952\n",
      "Epoch 213/300\n",
      "62/62 [==============================] - 0s 2ms/step - loss: 3.2432 - mse: 3.2432 - root_mean_squared_error: 1.8009 - mean_absolute_percentage_error: 15.5618 - val_loss: 4.1981 - val_mse: 4.1981 - val_root_mean_squared_error: 2.0489 - val_mean_absolute_percentage_error: 17.4320\n",
      "Epoch 214/300\n",
      "62/62 [==============================] - 0s 3ms/step - loss: 3.1781 - mse: 3.1781 - root_mean_squared_error: 1.7827 - mean_absolute_percentage_error: 15.4237 - val_loss: 4.0501 - val_mse: 4.0501 - val_root_mean_squared_error: 2.0125 - val_mean_absolute_percentage_error: 17.3158\n",
      "Epoch 215/300\n",
      "62/62 [==============================] - 0s 2ms/step - loss: 3.2154 - mse: 3.2154 - root_mean_squared_error: 1.7932 - mean_absolute_percentage_error: 15.4842 - val_loss: 3.9215 - val_mse: 3.9215 - val_root_mean_squared_error: 1.9803 - val_mean_absolute_percentage_error: 17.0983\n",
      "Epoch 216/300\n",
      "62/62 [==============================] - 0s 2ms/step - loss: 3.0927 - mse: 3.0927 - root_mean_squared_error: 1.7586 - mean_absolute_percentage_error: 15.5748 - val_loss: 4.0902 - val_mse: 4.0902 - val_root_mean_squared_error: 2.0224 - val_mean_absolute_percentage_error: 17.3182\n",
      "Epoch 217/300\n",
      "62/62 [==============================] - 0s 3ms/step - loss: 3.1449 - mse: 3.1449 - root_mean_squared_error: 1.7734 - mean_absolute_percentage_error: 15.6208 - val_loss: 4.0048 - val_mse: 4.0048 - val_root_mean_squared_error: 2.0012 - val_mean_absolute_percentage_error: 17.1023\n",
      "Epoch 218/300\n",
      "62/62 [==============================] - 0s 3ms/step - loss: 3.1638 - mse: 3.1638 - root_mean_squared_error: 1.7787 - mean_absolute_percentage_error: 15.5656 - val_loss: 3.9371 - val_mse: 3.9371 - val_root_mean_squared_error: 1.9842 - val_mean_absolute_percentage_error: 17.2201\n",
      "Epoch 219/300\n",
      "62/62 [==============================] - 0s 2ms/step - loss: 3.0024 - mse: 3.0024 - root_mean_squared_error: 1.7327 - mean_absolute_percentage_error: 15.1473 - val_loss: 3.9494 - val_mse: 3.9494 - val_root_mean_squared_error: 1.9873 - val_mean_absolute_percentage_error: 17.1034\n",
      "Epoch 220/300\n",
      "62/62 [==============================] - 0s 3ms/step - loss: 3.2443 - mse: 3.2443 - root_mean_squared_error: 1.8012 - mean_absolute_percentage_error: 15.7181 - val_loss: 4.1605 - val_mse: 4.1605 - val_root_mean_squared_error: 2.0397 - val_mean_absolute_percentage_error: 17.6215\n",
      "Epoch 221/300\n",
      "62/62 [==============================] - 0s 2ms/step - loss: 3.0967 - mse: 3.0967 - root_mean_squared_error: 1.7597 - mean_absolute_percentage_error: 15.1531 - val_loss: 4.0657 - val_mse: 4.0657 - val_root_mean_squared_error: 2.0164 - val_mean_absolute_percentage_error: 17.5013\n",
      "Epoch 222/300\n",
      "62/62 [==============================] - 0s 3ms/step - loss: 3.0626 - mse: 3.0626 - root_mean_squared_error: 1.7500 - mean_absolute_percentage_error: 15.1295 - val_loss: 4.1265 - val_mse: 4.1265 - val_root_mean_squared_error: 2.0314 - val_mean_absolute_percentage_error: 17.5183\n",
      "Epoch 223/300\n",
      "62/62 [==============================] - 0s 3ms/step - loss: 3.1448 - mse: 3.1448 - root_mean_squared_error: 1.7734 - mean_absolute_percentage_error: 15.4796 - val_loss: 3.8909 - val_mse: 3.8909 - val_root_mean_squared_error: 1.9725 - val_mean_absolute_percentage_error: 17.1759\n",
      "Epoch 224/300\n",
      "62/62 [==============================] - 0s 3ms/step - loss: 3.0194 - mse: 3.0194 - root_mean_squared_error: 1.7376 - mean_absolute_percentage_error: 15.4625 - val_loss: 4.1301 - val_mse: 4.1301 - val_root_mean_squared_error: 2.0323 - val_mean_absolute_percentage_error: 17.3743\n",
      "Epoch 225/300\n"
     ]
    },
    {
     "name": "stdout",
     "output_type": "stream",
     "text": [
      "62/62 [==============================] - 0s 3ms/step - loss: 3.0725 - mse: 3.0725 - root_mean_squared_error: 1.7528 - mean_absolute_percentage_error: 15.2959 - val_loss: 4.0587 - val_mse: 4.0587 - val_root_mean_squared_error: 2.0146 - val_mean_absolute_percentage_error: 17.2360\n",
      "Epoch 226/300\n",
      "62/62 [==============================] - 0s 3ms/step - loss: 2.9476 - mse: 2.9476 - root_mean_squared_error: 1.7169 - mean_absolute_percentage_error: 15.1787 - val_loss: 3.8853 - val_mse: 3.8853 - val_root_mean_squared_error: 1.9711 - val_mean_absolute_percentage_error: 17.3177\n",
      "Epoch 227/300\n",
      "62/62 [==============================] - 0s 3ms/step - loss: 3.3201 - mse: 3.3201 - root_mean_squared_error: 1.8221 - mean_absolute_percentage_error: 15.5927 - val_loss: 4.1539 - val_mse: 4.1539 - val_root_mean_squared_error: 2.0381 - val_mean_absolute_percentage_error: 17.4809\n",
      "Epoch 228/300\n",
      "62/62 [==============================] - 0s 3ms/step - loss: 2.9710 - mse: 2.9710 - root_mean_squared_error: 1.7237 - mean_absolute_percentage_error: 15.1066 - val_loss: 3.8617 - val_mse: 3.8617 - val_root_mean_squared_error: 1.9651 - val_mean_absolute_percentage_error: 17.1718\n",
      "Epoch 229/300\n",
      "62/62 [==============================] - 0s 3ms/step - loss: 2.8428 - mse: 2.8428 - root_mean_squared_error: 1.6860 - mean_absolute_percentage_error: 15.1537 - val_loss: 4.2180 - val_mse: 4.2180 - val_root_mean_squared_error: 2.0538 - val_mean_absolute_percentage_error: 17.6094\n",
      "Epoch 230/300\n",
      "62/62 [==============================] - 0s 2ms/step - loss: 3.0966 - mse: 3.0966 - root_mean_squared_error: 1.7597 - mean_absolute_percentage_error: 15.4802 - val_loss: 4.3149 - val_mse: 4.3149 - val_root_mean_squared_error: 2.0772 - val_mean_absolute_percentage_error: 17.8060\n",
      "Epoch 231/300\n",
      "62/62 [==============================] - 0s 3ms/step - loss: 2.9763 - mse: 2.9763 - root_mean_squared_error: 1.7252 - mean_absolute_percentage_error: 15.1421 - val_loss: 3.8144 - val_mse: 3.8144 - val_root_mean_squared_error: 1.9530 - val_mean_absolute_percentage_error: 17.0064\n",
      "Epoch 232/300\n",
      "62/62 [==============================] - 0s 3ms/step - loss: 2.9903 - mse: 2.9903 - root_mean_squared_error: 1.7293 - mean_absolute_percentage_error: 14.9720 - val_loss: 4.0038 - val_mse: 4.0038 - val_root_mean_squared_error: 2.0009 - val_mean_absolute_percentage_error: 17.2277\n",
      "Epoch 233/300\n",
      "62/62 [==============================] - 0s 3ms/step - loss: 2.9979 - mse: 2.9979 - root_mean_squared_error: 1.7314 - mean_absolute_percentage_error: 15.5893 - val_loss: 3.8190 - val_mse: 3.8190 - val_root_mean_squared_error: 1.9542 - val_mean_absolute_percentage_error: 17.1168\n",
      "Epoch 234/300\n",
      "62/62 [==============================] - 0s 2ms/step - loss: 2.9536 - mse: 2.9536 - root_mean_squared_error: 1.7186 - mean_absolute_percentage_error: 15.2310 - val_loss: 4.0683 - val_mse: 4.0683 - val_root_mean_squared_error: 2.0170 - val_mean_absolute_percentage_error: 17.1813\n",
      "Epoch 235/300\n",
      "62/62 [==============================] - 0s 3ms/step - loss: 3.1390 - mse: 3.1390 - root_mean_squared_error: 1.7717 - mean_absolute_percentage_error: 15.7549 - val_loss: 4.0976 - val_mse: 4.0976 - val_root_mean_squared_error: 2.0243 - val_mean_absolute_percentage_error: 17.5972\n",
      "Epoch 236/300\n",
      "62/62 [==============================] - 0s 3ms/step - loss: 2.9641 - mse: 2.9641 - root_mean_squared_error: 1.7216 - mean_absolute_percentage_error: 15.3726 - val_loss: 4.3709 - val_mse: 4.3709 - val_root_mean_squared_error: 2.0907 - val_mean_absolute_percentage_error: 17.8658\n",
      "Epoch 237/300\n",
      "62/62 [==============================] - 0s 3ms/step - loss: 3.0816 - mse: 3.0816 - root_mean_squared_error: 1.7554 - mean_absolute_percentage_error: 15.6109 - val_loss: 4.1205 - val_mse: 4.1205 - val_root_mean_squared_error: 2.0299 - val_mean_absolute_percentage_error: 17.4647\n",
      "Epoch 238/300\n",
      "62/62 [==============================] - 0s 3ms/step - loss: 2.9855 - mse: 2.9855 - root_mean_squared_error: 1.7278 - mean_absolute_percentage_error: 15.1735 - val_loss: 3.8388 - val_mse: 3.8388 - val_root_mean_squared_error: 1.9593 - val_mean_absolute_percentage_error: 16.9229\n",
      "Epoch 239/300\n",
      "62/62 [==============================] - 0s 3ms/step - loss: 2.8252 - mse: 2.8252 - root_mean_squared_error: 1.6808 - mean_absolute_percentage_error: 15.1194 - val_loss: 4.0142 - val_mse: 4.0142 - val_root_mean_squared_error: 2.0035 - val_mean_absolute_percentage_error: 17.4539\n",
      "Epoch 240/300\n",
      "62/62 [==============================] - 0s 3ms/step - loss: 2.9747 - mse: 2.9747 - root_mean_squared_error: 1.7247 - mean_absolute_percentage_error: 15.3420 - val_loss: 4.0143 - val_mse: 4.0143 - val_root_mean_squared_error: 2.0036 - val_mean_absolute_percentage_error: 17.5003\n",
      "Epoch 241/300\n",
      "62/62 [==============================] - 0s 2ms/step - loss: 3.1134 - mse: 3.1134 - root_mean_squared_error: 1.7645 - mean_absolute_percentage_error: 15.7926 - val_loss: 4.1641 - val_mse: 4.1641 - val_root_mean_squared_error: 2.0406 - val_mean_absolute_percentage_error: 17.7722\n",
      "Epoch 242/300\n",
      "62/62 [==============================] - 0s 3ms/step - loss: 2.9282 - mse: 2.9282 - root_mean_squared_error: 1.7112 - mean_absolute_percentage_error: 15.2892 - val_loss: 4.4263 - val_mse: 4.4263 - val_root_mean_squared_error: 2.1039 - val_mean_absolute_percentage_error: 18.0771\n",
      "Epoch 243/300\n",
      "62/62 [==============================] - 0s 3ms/step - loss: 2.9966 - mse: 2.9966 - root_mean_squared_error: 1.7311 - mean_absolute_percentage_error: 15.5681 - val_loss: 3.9570 - val_mse: 3.9570 - val_root_mean_squared_error: 1.9892 - val_mean_absolute_percentage_error: 17.2398\n",
      "Epoch 244/300\n",
      "62/62 [==============================] - 0s 3ms/step - loss: 2.8621 - mse: 2.8621 - root_mean_squared_error: 1.6918 - mean_absolute_percentage_error: 14.9491 - val_loss: 4.3175 - val_mse: 4.3175 - val_root_mean_squared_error: 2.0778 - val_mean_absolute_percentage_error: 17.8950\n",
      "Epoch 245/300\n",
      "62/62 [==============================] - 0s 3ms/step - loss: 2.9499 - mse: 2.9499 - root_mean_squared_error: 1.7175 - mean_absolute_percentage_error: 15.1204 - val_loss: 3.9526 - val_mse: 3.9526 - val_root_mean_squared_error: 1.9881 - val_mean_absolute_percentage_error: 17.4237\n",
      "Epoch 246/300\n",
      "62/62 [==============================] - 0s 2ms/step - loss: 2.8373 - mse: 2.8373 - root_mean_squared_error: 1.6844 - mean_absolute_percentage_error: 15.1064 - val_loss: 3.8980 - val_mse: 3.8980 - val_root_mean_squared_error: 1.9743 - val_mean_absolute_percentage_error: 17.2808\n",
      "Epoch 247/300\n",
      "62/62 [==============================] - 0s 2ms/step - loss: 2.9269 - mse: 2.9269 - root_mean_squared_error: 1.7108 - mean_absolute_percentage_error: 15.1762 - val_loss: 3.9717 - val_mse: 3.9717 - val_root_mean_squared_error: 1.9929 - val_mean_absolute_percentage_error: 17.4148\n",
      "Epoch 248/300\n",
      "62/62 [==============================] - 0s 3ms/step - loss: 2.9763 - mse: 2.9763 - root_mean_squared_error: 1.7252 - mean_absolute_percentage_error: 15.3413 - val_loss: 3.8649 - val_mse: 3.8649 - val_root_mean_squared_error: 1.9659 - val_mean_absolute_percentage_error: 17.2049\n",
      "Epoch 249/300\n",
      "62/62 [==============================] - 0s 3ms/step - loss: 3.0604 - mse: 3.0604 - root_mean_squared_error: 1.7494 - mean_absolute_percentage_error: 15.1185 - val_loss: 3.8362 - val_mse: 3.8362 - val_root_mean_squared_error: 1.9586 - val_mean_absolute_percentage_error: 17.1599\n",
      "Epoch 250/300\n",
      "62/62 [==============================] - 0s 3ms/step - loss: 2.7209 - mse: 2.7209 - root_mean_squared_error: 1.6495 - mean_absolute_percentage_error: 14.7056 - val_loss: 4.1102 - val_mse: 4.1102 - val_root_mean_squared_error: 2.0274 - val_mean_absolute_percentage_error: 17.6387\n",
      "Epoch 251/300\n",
      "62/62 [==============================] - 0s 3ms/step - loss: 3.0317 - mse: 3.0317 - root_mean_squared_error: 1.7412 - mean_absolute_percentage_error: 15.0161 - val_loss: 3.9686 - val_mse: 3.9686 - val_root_mean_squared_error: 1.9921 - val_mean_absolute_percentage_error: 17.4142\n",
      "Epoch 252/300\n",
      "62/62 [==============================] - 0s 3ms/step - loss: 2.9376 - mse: 2.9376 - root_mean_squared_error: 1.7140 - mean_absolute_percentage_error: 15.1660 - val_loss: 4.0000 - val_mse: 4.0000 - val_root_mean_squared_error: 2.0000 - val_mean_absolute_percentage_error: 17.3690\n",
      "Epoch 253/300\n"
     ]
    },
    {
     "name": "stdout",
     "output_type": "stream",
     "text": [
      "62/62 [==============================] - 0s 3ms/step - loss: 2.8332 - mse: 2.8332 - root_mean_squared_error: 1.6832 - mean_absolute_percentage_error: 14.7657 - val_loss: 3.9306 - val_mse: 3.9306 - val_root_mean_squared_error: 1.9826 - val_mean_absolute_percentage_error: 17.3565\n",
      "Epoch 254/300\n",
      "62/62 [==============================] - 0s 2ms/step - loss: 2.8622 - mse: 2.8622 - root_mean_squared_error: 1.6918 - mean_absolute_percentage_error: 15.2596 - val_loss: 3.9099 - val_mse: 3.9099 - val_root_mean_squared_error: 1.9774 - val_mean_absolute_percentage_error: 17.4272\n",
      "Epoch 255/300\n",
      "62/62 [==============================] - 0s 2ms/step - loss: 2.7789 - mse: 2.7789 - root_mean_squared_error: 1.6670 - mean_absolute_percentage_error: 15.2519 - val_loss: 4.0212 - val_mse: 4.0212 - val_root_mean_squared_error: 2.0053 - val_mean_absolute_percentage_error: 17.5185\n",
      "Epoch 256/300\n",
      "62/62 [==============================] - 0s 3ms/step - loss: 2.9417 - mse: 2.9417 - root_mean_squared_error: 1.7151 - mean_absolute_percentage_error: 15.0838 - val_loss: 3.9606 - val_mse: 3.9606 - val_root_mean_squared_error: 1.9901 - val_mean_absolute_percentage_error: 17.0426\n",
      "Epoch 257/300\n",
      "62/62 [==============================] - 0s 3ms/step - loss: 2.8374 - mse: 2.8374 - root_mean_squared_error: 1.6845 - mean_absolute_percentage_error: 15.0927 - val_loss: 3.7034 - val_mse: 3.7034 - val_root_mean_squared_error: 1.9244 - val_mean_absolute_percentage_error: 16.9108\n",
      "Epoch 258/300\n",
      "62/62 [==============================] - 0s 3ms/step - loss: 3.0976 - mse: 3.0976 - root_mean_squared_error: 1.7600 - mean_absolute_percentage_error: 15.5129 - val_loss: 3.8175 - val_mse: 3.8175 - val_root_mean_squared_error: 1.9538 - val_mean_absolute_percentage_error: 17.2943\n",
      "Epoch 259/300\n",
      "62/62 [==============================] - 0s 3ms/step - loss: 2.9523 - mse: 2.9523 - root_mean_squared_error: 1.7182 - mean_absolute_percentage_error: 15.0712 - val_loss: 4.0680 - val_mse: 4.0680 - val_root_mean_squared_error: 2.0169 - val_mean_absolute_percentage_error: 17.3920\n",
      "Epoch 260/300\n",
      "62/62 [==============================] - 0s 3ms/step - loss: 2.7129 - mse: 2.7129 - root_mean_squared_error: 1.6471 - mean_absolute_percentage_error: 14.7644 - val_loss: 3.7884 - val_mse: 3.7884 - val_root_mean_squared_error: 1.9464 - val_mean_absolute_percentage_error: 17.1499\n",
      "Epoch 261/300\n",
      "62/62 [==============================] - 0s 3ms/step - loss: 2.9597 - mse: 2.9597 - root_mean_squared_error: 1.7204 - mean_absolute_percentage_error: 15.2164 - val_loss: 4.1288 - val_mse: 4.1288 - val_root_mean_squared_error: 2.0320 - val_mean_absolute_percentage_error: 17.4107\n",
      "Epoch 262/300\n",
      "62/62 [==============================] - 0s 2ms/step - loss: 2.6519 - mse: 2.6519 - root_mean_squared_error: 1.6285 - mean_absolute_percentage_error: 14.4212 - val_loss: 4.0529 - val_mse: 4.0529 - val_root_mean_squared_error: 2.0132 - val_mean_absolute_percentage_error: 17.3662\n",
      "Epoch 263/300\n",
      "62/62 [==============================] - 0s 2ms/step - loss: 2.6483 - mse: 2.6483 - root_mean_squared_error: 1.6274 - mean_absolute_percentage_error: 14.6814 - val_loss: 3.9436 - val_mse: 3.9436 - val_root_mean_squared_error: 1.9858 - val_mean_absolute_percentage_error: 17.3134\n",
      "Epoch 264/300\n",
      "62/62 [==============================] - 0s 3ms/step - loss: 2.7362 - mse: 2.7362 - root_mean_squared_error: 1.6541 - mean_absolute_percentage_error: 14.8385 - val_loss: 3.9899 - val_mse: 3.9899 - val_root_mean_squared_error: 1.9975 - val_mean_absolute_percentage_error: 17.1597\n",
      "Epoch 265/300\n",
      "62/62 [==============================] - 0s 3ms/step - loss: 2.9398 - mse: 2.9398 - root_mean_squared_error: 1.7146 - mean_absolute_percentage_error: 15.2523 - val_loss: 4.1512 - val_mse: 4.1512 - val_root_mean_squared_error: 2.0375 - val_mean_absolute_percentage_error: 17.5749\n",
      "Epoch 266/300\n",
      "62/62 [==============================] - 0s 3ms/step - loss: 2.9060 - mse: 2.9060 - root_mean_squared_error: 1.7047 - mean_absolute_percentage_error: 15.1019 - val_loss: 4.4985 - val_mse: 4.4985 - val_root_mean_squared_error: 2.1210 - val_mean_absolute_percentage_error: 17.8944\n",
      "Epoch 267/300\n",
      "62/62 [==============================] - 0s 3ms/step - loss: 2.8628 - mse: 2.8628 - root_mean_squared_error: 1.6920 - mean_absolute_percentage_error: 15.0361 - val_loss: 4.0452 - val_mse: 4.0452 - val_root_mean_squared_error: 2.0113 - val_mean_absolute_percentage_error: 17.2758\n",
      "Epoch 268/300\n",
      "62/62 [==============================] - 0s 3ms/step - loss: 2.8981 - mse: 2.8981 - root_mean_squared_error: 1.7024 - mean_absolute_percentage_error: 15.0488 - val_loss: 3.9897 - val_mse: 3.9897 - val_root_mean_squared_error: 1.9974 - val_mean_absolute_percentage_error: 17.0726\n",
      "Epoch 269/300\n",
      "62/62 [==============================] - 0s 3ms/step - loss: 2.9498 - mse: 2.9498 - root_mean_squared_error: 1.7175 - mean_absolute_percentage_error: 15.1653 - val_loss: 3.6943 - val_mse: 3.6943 - val_root_mean_squared_error: 1.9221 - val_mean_absolute_percentage_error: 16.6593\n",
      "Epoch 270/300\n",
      "62/62 [==============================] - 0s 3ms/step - loss: 2.7792 - mse: 2.7792 - root_mean_squared_error: 1.6671 - mean_absolute_percentage_error: 14.8074 - val_loss: 4.3013 - val_mse: 4.3013 - val_root_mean_squared_error: 2.0740 - val_mean_absolute_percentage_error: 17.5926\n",
      "Epoch 271/300\n",
      "62/62 [==============================] - 0s 3ms/step - loss: 2.8471 - mse: 2.8471 - root_mean_squared_error: 1.6873 - mean_absolute_percentage_error: 14.6125 - val_loss: 3.9796 - val_mse: 3.9796 - val_root_mean_squared_error: 1.9949 - val_mean_absolute_percentage_error: 17.3759\n",
      "Epoch 272/300\n",
      "62/62 [==============================] - 0s 3ms/step - loss: 2.5969 - mse: 2.5969 - root_mean_squared_error: 1.6115 - mean_absolute_percentage_error: 14.4181 - val_loss: 4.0889 - val_mse: 4.0889 - val_root_mean_squared_error: 2.0221 - val_mean_absolute_percentage_error: 17.0653\n",
      "Epoch 273/300\n",
      "62/62 [==============================] - 0s 3ms/step - loss: 2.7109 - mse: 2.7109 - root_mean_squared_error: 1.6465 - mean_absolute_percentage_error: 14.4265 - val_loss: 3.9639 - val_mse: 3.9639 - val_root_mean_squared_error: 1.9909 - val_mean_absolute_percentage_error: 17.2472\n",
      "Epoch 274/300\n",
      "62/62 [==============================] - 0s 2ms/step - loss: 2.6804 - mse: 2.6804 - root_mean_squared_error: 1.6372 - mean_absolute_percentage_error: 14.4700 - val_loss: 3.8284 - val_mse: 3.8284 - val_root_mean_squared_error: 1.9566 - val_mean_absolute_percentage_error: 16.8851\n",
      "Epoch 275/300\n",
      "62/62 [==============================] - 0s 2ms/step - loss: 2.6732 - mse: 2.6732 - root_mean_squared_error: 1.6350 - mean_absolute_percentage_error: 14.5316 - val_loss: 3.7560 - val_mse: 3.7560 - val_root_mean_squared_error: 1.9380 - val_mean_absolute_percentage_error: 16.8567\n",
      "Epoch 276/300\n",
      "62/62 [==============================] - 0s 3ms/step - loss: 2.6508 - mse: 2.6508 - root_mean_squared_error: 1.6281 - mean_absolute_percentage_error: 14.3121 - val_loss: 3.8908 - val_mse: 3.8908 - val_root_mean_squared_error: 1.9725 - val_mean_absolute_percentage_error: 16.8752\n",
      "Epoch 277/300\n",
      "62/62 [==============================] - 0s 3ms/step - loss: 2.7058 - mse: 2.7058 - root_mean_squared_error: 1.6449 - mean_absolute_percentage_error: 14.6643 - val_loss: 3.6029 - val_mse: 3.6029 - val_root_mean_squared_error: 1.8981 - val_mean_absolute_percentage_error: 16.6576\n",
      "Epoch 278/300\n",
      "62/62 [==============================] - 0s 3ms/step - loss: 2.6464 - mse: 2.6464 - root_mean_squared_error: 1.6268 - mean_absolute_percentage_error: 14.4946 - val_loss: 3.8583 - val_mse: 3.8583 - val_root_mean_squared_error: 1.9642 - val_mean_absolute_percentage_error: 16.9938\n",
      "Epoch 279/300\n",
      "62/62 [==============================] - 0s 3ms/step - loss: 2.5933 - mse: 2.5933 - root_mean_squared_error: 1.6104 - mean_absolute_percentage_error: 14.2029 - val_loss: 3.7618 - val_mse: 3.7618 - val_root_mean_squared_error: 1.9395 - val_mean_absolute_percentage_error: 16.6892\n",
      "Epoch 280/300\n",
      "62/62 [==============================] - 0s 3ms/step - loss: 2.6039 - mse: 2.6039 - root_mean_squared_error: 1.6137 - mean_absolute_percentage_error: 14.4735 - val_loss: 3.9025 - val_mse: 3.9025 - val_root_mean_squared_error: 1.9755 - val_mean_absolute_percentage_error: 16.9338\n",
      "Epoch 281/300\n"
     ]
    },
    {
     "name": "stdout",
     "output_type": "stream",
     "text": [
      "62/62 [==============================] - 0s 3ms/step - loss: 2.6157 - mse: 2.6157 - root_mean_squared_error: 1.6173 - mean_absolute_percentage_error: 14.2778 - val_loss: 3.9974 - val_mse: 3.9974 - val_root_mean_squared_error: 1.9994 - val_mean_absolute_percentage_error: 17.0629\n",
      "Epoch 282/300\n",
      "62/62 [==============================] - 0s 3ms/step - loss: 2.6620 - mse: 2.6620 - root_mean_squared_error: 1.6316 - mean_absolute_percentage_error: 14.6449 - val_loss: 4.1688 - val_mse: 4.1688 - val_root_mean_squared_error: 2.0418 - val_mean_absolute_percentage_error: 17.1885\n",
      "Epoch 283/300\n",
      "62/62 [==============================] - 0s 3ms/step - loss: 2.6828 - mse: 2.6828 - root_mean_squared_error: 1.6379 - mean_absolute_percentage_error: 14.3695 - val_loss: 4.1865 - val_mse: 4.1865 - val_root_mean_squared_error: 2.0461 - val_mean_absolute_percentage_error: 17.3493\n",
      "Epoch 284/300\n",
      "62/62 [==============================] - 0s 3ms/step - loss: 2.7780 - mse: 2.7780 - root_mean_squared_error: 1.6667 - mean_absolute_percentage_error: 14.2448 - val_loss: 4.0043 - val_mse: 4.0043 - val_root_mean_squared_error: 2.0011 - val_mean_absolute_percentage_error: 16.9958\n",
      "Epoch 285/300\n",
      "62/62 [==============================] - 0s 3ms/step - loss: 2.6311 - mse: 2.6311 - root_mean_squared_error: 1.6221 - mean_absolute_percentage_error: 14.5879 - val_loss: 3.9340 - val_mse: 3.9340 - val_root_mean_squared_error: 1.9834 - val_mean_absolute_percentage_error: 17.0543\n",
      "Epoch 286/300\n",
      "62/62 [==============================] - 0s 2ms/step - loss: 2.8535 - mse: 2.8535 - root_mean_squared_error: 1.6892 - mean_absolute_percentage_error: 14.9301 - val_loss: 4.6855 - val_mse: 4.6855 - val_root_mean_squared_error: 2.1646 - val_mean_absolute_percentage_error: 18.1733\n",
      "Epoch 287/300\n",
      "62/62 [==============================] - 0s 3ms/step - loss: 2.6665 - mse: 2.6665 - root_mean_squared_error: 1.6329 - mean_absolute_percentage_error: 14.5425 - val_loss: 3.8293 - val_mse: 3.8293 - val_root_mean_squared_error: 1.9569 - val_mean_absolute_percentage_error: 16.9224\n",
      "Epoch 288/300\n",
      "62/62 [==============================] - 0s 3ms/step - loss: 2.5660 - mse: 2.5660 - root_mean_squared_error: 1.6019 - mean_absolute_percentage_error: 14.5206 - val_loss: 4.1053 - val_mse: 4.1053 - val_root_mean_squared_error: 2.0261 - val_mean_absolute_percentage_error: 17.2402\n",
      "Epoch 289/300\n",
      "62/62 [==============================] - 0s 3ms/step - loss: 2.8185 - mse: 2.8185 - root_mean_squared_error: 1.6788 - mean_absolute_percentage_error: 14.9948 - val_loss: 4.0514 - val_mse: 4.0514 - val_root_mean_squared_error: 2.0128 - val_mean_absolute_percentage_error: 17.1748\n",
      "Epoch 290/300\n",
      "62/62 [==============================] - 0s 3ms/step - loss: 2.5314 - mse: 2.5314 - root_mean_squared_error: 1.5910 - mean_absolute_percentage_error: 14.3619 - val_loss: 3.9479 - val_mse: 3.9479 - val_root_mean_squared_error: 1.9869 - val_mean_absolute_percentage_error: 16.9052\n",
      "Epoch 291/300\n",
      "62/62 [==============================] - 0s 3ms/step - loss: 2.6778 - mse: 2.6778 - root_mean_squared_error: 1.6364 - mean_absolute_percentage_error: 14.1974 - val_loss: 4.0093 - val_mse: 4.0093 - val_root_mean_squared_error: 2.0023 - val_mean_absolute_percentage_error: 17.1155\n",
      "Epoch 292/300\n",
      "62/62 [==============================] - 0s 3ms/step - loss: 2.4439 - mse: 2.4439 - root_mean_squared_error: 1.5633 - mean_absolute_percentage_error: 13.8419 - val_loss: 3.8672 - val_mse: 3.8672 - val_root_mean_squared_error: 1.9665 - val_mean_absolute_percentage_error: 16.9293\n",
      "Epoch 293/300\n",
      "62/62 [==============================] - 0s 2ms/step - loss: 2.6980 - mse: 2.6980 - root_mean_squared_error: 1.6426 - mean_absolute_percentage_error: 14.6308 - val_loss: 3.7514 - val_mse: 3.7514 - val_root_mean_squared_error: 1.9369 - val_mean_absolute_percentage_error: 16.7499\n",
      "Epoch 294/300\n",
      "62/62 [==============================] - 0s 3ms/step - loss: 2.5510 - mse: 2.5510 - root_mean_squared_error: 1.5972 - mean_absolute_percentage_error: 14.2822 - val_loss: 3.9818 - val_mse: 3.9818 - val_root_mean_squared_error: 1.9955 - val_mean_absolute_percentage_error: 17.0073\n",
      "Epoch 295/300\n",
      "62/62 [==============================] - 0s 3ms/step - loss: 2.5376 - mse: 2.5376 - root_mean_squared_error: 1.5930 - mean_absolute_percentage_error: 14.2307 - val_loss: 4.0809 - val_mse: 4.0809 - val_root_mean_squared_error: 2.0201 - val_mean_absolute_percentage_error: 17.1728\n",
      "Epoch 296/300\n",
      "62/62 [==============================] - 0s 2ms/step - loss: 2.6843 - mse: 2.6843 - root_mean_squared_error: 1.6384 - mean_absolute_percentage_error: 14.6086 - val_loss: 4.3442 - val_mse: 4.3442 - val_root_mean_squared_error: 2.0843 - val_mean_absolute_percentage_error: 17.6265\n",
      "Epoch 297/300\n",
      "62/62 [==============================] - 0s 2ms/step - loss: 2.4502 - mse: 2.4502 - root_mean_squared_error: 1.5653 - mean_absolute_percentage_error: 14.5121 - val_loss: 3.8915 - val_mse: 3.8915 - val_root_mean_squared_error: 1.9727 - val_mean_absolute_percentage_error: 16.9112\n",
      "Epoch 298/300\n",
      "62/62 [==============================] - 0s 3ms/step - loss: 2.5081 - mse: 2.5081 - root_mean_squared_error: 1.5837 - mean_absolute_percentage_error: 14.2180 - val_loss: 3.9885 - val_mse: 3.9885 - val_root_mean_squared_error: 1.9971 - val_mean_absolute_percentage_error: 17.1511\n",
      "Epoch 299/300\n",
      "62/62 [==============================] - 0s 3ms/step - loss: 2.6311 - mse: 2.6311 - root_mean_squared_error: 1.6221 - mean_absolute_percentage_error: 14.5222 - val_loss: 3.9721 - val_mse: 3.9721 - val_root_mean_squared_error: 1.9930 - val_mean_absolute_percentage_error: 17.1064\n",
      "Epoch 300/300\n",
      "62/62 [==============================] - 0s 3ms/step - loss: 2.6540 - mse: 2.6540 - root_mean_squared_error: 1.6291 - mean_absolute_percentage_error: 14.3385 - val_loss: 3.6833 - val_mse: 3.6833 - val_root_mean_squared_error: 1.9192 - val_mean_absolute_percentage_error: 16.6767\n"
     ]
    }
   ],
   "source": [
    "history_1 = model_1.fit(Z_train, y_train,\n",
    "          epochs= 300,\n",
    "          validation_data= (Z_test, y_test),\n",
    "          verbose= 1\n",
    "         )"
   ]
  },
  {
   "cell_type": "code",
   "execution_count": 21,
   "id": "d3030751",
   "metadata": {},
   "outputs": [
    {
     "data": {
      "text/plain": [
       "0.8495193980691386"
      ]
     },
     "execution_count": 21,
     "metadata": {},
     "output_type": "execute_result"
    }
   ],
   "source": [
    "r2_score(y_train, model_1.predict(Z_train))"
   ]
  },
  {
   "cell_type": "code",
   "execution_count": 22,
   "id": "2c2e2172",
   "metadata": {},
   "outputs": [
    {
     "data": {
      "text/plain": [
       "0.5912298482775749"
      ]
     },
     "execution_count": 22,
     "metadata": {},
     "output_type": "execute_result"
    }
   ],
   "source": [
    "r2_score(y_test, model_1.predict(Z_test))"
   ]
  },
  {
   "cell_type": "code",
   "execution_count": 23,
   "id": "bfb12871",
   "metadata": {},
   "outputs": [],
   "source": [
    "nn_train = model_1.predict(Z_train)\n",
    "nn_test = model_1.predict(Z_test)\n",
    "nn_train = [g[0] for g in nn_train]\n",
    "nn_test = [h[0] for h in nn_test]"
   ]
  },
  {
   "cell_type": "markdown",
   "id": "35e78b21",
   "metadata": {},
   "source": [
    "### Second level model based on linear regression and neural network preds"
   ]
  },
  {
   "cell_type": "code",
   "execution_count": 24,
   "id": "6ff5a001",
   "metadata": {},
   "outputs": [],
   "source": [
    "a =pd.DataFrame([lin_train, nn_train, y_train], index=['lin_reg', 'nn', 'y']).T\n",
    "b = pd.DataFrame([lin_test, nn_test, y_test], index=['lin_reg', 'nn', 'y']).T"
   ]
  },
  {
   "cell_type": "code",
   "execution_count": 25,
   "id": "0f3cee69",
   "metadata": {
    "scrolled": false
   },
   "outputs": [
    {
     "data": {
      "text/html": [
       "<div>\n",
       "<style scoped>\n",
       "    .dataframe tbody tr th:only-of-type {\n",
       "        vertical-align: middle;\n",
       "    }\n",
       "\n",
       "    .dataframe tbody tr th {\n",
       "        vertical-align: top;\n",
       "    }\n",
       "\n",
       "    .dataframe thead th {\n",
       "        text-align: right;\n",
       "    }\n",
       "</style>\n",
       "<table border=\"1\" class=\"dataframe\">\n",
       "  <thead>\n",
       "    <tr style=\"text-align: right;\">\n",
       "      <th></th>\n",
       "      <th>lin_reg</th>\n",
       "      <th>nn</th>\n",
       "      <th>y</th>\n",
       "    </tr>\n",
       "  </thead>\n",
       "  <tbody>\n",
       "    <tr>\n",
       "      <th>0</th>\n",
       "      <td>14.491725</td>\n",
       "      <td>17.818363</td>\n",
       "      <td>17.3</td>\n",
       "    </tr>\n",
       "    <tr>\n",
       "      <th>1</th>\n",
       "      <td>9.733514</td>\n",
       "      <td>17.107672</td>\n",
       "      <td>18.7</td>\n",
       "    </tr>\n",
       "    <tr>\n",
       "      <th>2</th>\n",
       "      <td>10.720415</td>\n",
       "      <td>10.453696</td>\n",
       "      <td>11.3</td>\n",
       "    </tr>\n",
       "    <tr>\n",
       "      <th>3</th>\n",
       "      <td>9.052294</td>\n",
       "      <td>7.383136</td>\n",
       "      <td>8.1</td>\n",
       "    </tr>\n",
       "    <tr>\n",
       "      <th>4</th>\n",
       "      <td>9.663620</td>\n",
       "      <td>10.758892</td>\n",
       "      <td>12.6</td>\n",
       "    </tr>\n",
       "  </tbody>\n",
       "</table>\n",
       "</div>"
      ],
      "text/plain": [
       "     lin_reg         nn     y\n",
       "0  14.491725  17.818363  17.3\n",
       "1   9.733514  17.107672  18.7\n",
       "2  10.720415  10.453696  11.3\n",
       "3   9.052294   7.383136   8.1\n",
       "4   9.663620  10.758892  12.6"
      ]
     },
     "execution_count": 25,
     "metadata": {},
     "output_type": "execute_result"
    }
   ],
   "source": [
    "a.head()"
   ]
  },
  {
   "cell_type": "code",
   "execution_count": 26,
   "id": "9bfd46ed",
   "metadata": {},
   "outputs": [],
   "source": [
    "Xa_train = a.drop(columns='y')\n",
    "ya_train = a['y']"
   ]
  },
  {
   "cell_type": "code",
   "execution_count": 27,
   "id": "727a8e8b",
   "metadata": {},
   "outputs": [
    {
     "data": {
      "text/html": [
       "<div>\n",
       "<style scoped>\n",
       "    .dataframe tbody tr th:only-of-type {\n",
       "        vertical-align: middle;\n",
       "    }\n",
       "\n",
       "    .dataframe tbody tr th {\n",
       "        vertical-align: top;\n",
       "    }\n",
       "\n",
       "    .dataframe thead th {\n",
       "        text-align: right;\n",
       "    }\n",
       "</style>\n",
       "<table border=\"1\" class=\"dataframe\">\n",
       "  <thead>\n",
       "    <tr style=\"text-align: right;\">\n",
       "      <th></th>\n",
       "      <th>lin_reg</th>\n",
       "      <th>nn</th>\n",
       "      <th>y</th>\n",
       "    </tr>\n",
       "  </thead>\n",
       "  <tbody>\n",
       "    <tr>\n",
       "      <th>0</th>\n",
       "      <td>8.579643</td>\n",
       "      <td>8.821253</td>\n",
       "      <td>8.7</td>\n",
       "    </tr>\n",
       "    <tr>\n",
       "      <th>1</th>\n",
       "      <td>13.718193</td>\n",
       "      <td>16.608334</td>\n",
       "      <td>14.2</td>\n",
       "    </tr>\n",
       "    <tr>\n",
       "      <th>2</th>\n",
       "      <td>9.979250</td>\n",
       "      <td>9.419676</td>\n",
       "      <td>10.7</td>\n",
       "    </tr>\n",
       "    <tr>\n",
       "      <th>3</th>\n",
       "      <td>7.657098</td>\n",
       "      <td>8.733862</td>\n",
       "      <td>10.0</td>\n",
       "    </tr>\n",
       "    <tr>\n",
       "      <th>4</th>\n",
       "      <td>7.761239</td>\n",
       "      <td>10.169096</td>\n",
       "      <td>9.5</td>\n",
       "    </tr>\n",
       "  </tbody>\n",
       "</table>\n",
       "</div>"
      ],
      "text/plain": [
       "     lin_reg         nn     y\n",
       "0   8.579643   8.821253   8.7\n",
       "1  13.718193  16.608334  14.2\n",
       "2   9.979250   9.419676  10.7\n",
       "3   7.657098   8.733862  10.0\n",
       "4   7.761239  10.169096   9.5"
      ]
     },
     "execution_count": 27,
     "metadata": {},
     "output_type": "execute_result"
    }
   ],
   "source": [
    "b.head()"
   ]
  },
  {
   "cell_type": "code",
   "execution_count": 28,
   "id": "b388af1b",
   "metadata": {},
   "outputs": [],
   "source": [
    "Xb_test = b.drop(columns='y')\n",
    "yb_test = b['y']"
   ]
  },
  {
   "cell_type": "code",
   "execution_count": 29,
   "id": "c9a4caa8",
   "metadata": {},
   "outputs": [],
   "source": [
    "lev2 = LinearRegression()"
   ]
  },
  {
   "cell_type": "code",
   "execution_count": 30,
   "id": "45f1705c",
   "metadata": {},
   "outputs": [
    {
     "data": {
      "text/plain": [
       "LinearRegression()"
      ]
     },
     "execution_count": 30,
     "metadata": {},
     "output_type": "execute_result"
    }
   ],
   "source": [
    "lev2.fit(Xa_train, ya_train)"
   ]
  },
  {
   "cell_type": "code",
   "execution_count": 31,
   "id": "f13b21dd",
   "metadata": {},
   "outputs": [
    {
     "data": {
      "text/plain": [
       "(0.9009880466719563, 0.6166400989225644, 0.8996610030098859)"
      ]
     },
     "execution_count": 31,
     "metadata": {},
     "output_type": "execute_result"
    }
   ],
   "source": [
    "lev2.score(Xa_train, ya_train), lev2.score(Xb_test, yb_test), cross_val_score(lev2, Xa_train, ya_train).mean()"
   ]
  },
  {
   "cell_type": "code",
   "execution_count": null,
   "id": "0d1bf302",
   "metadata": {},
   "outputs": [],
   "source": []
  }
 ],
 "metadata": {
  "kernelspec": {
   "display_name": "Python 3",
   "language": "python",
   "name": "python3"
  },
  "language_info": {
   "codemirror_mode": {
    "name": "ipython",
    "version": 3
   },
   "file_extension": ".py",
   "mimetype": "text/x-python",
   "name": "python",
   "nbconvert_exporter": "python",
   "pygments_lexer": "ipython3",
   "version": "3.8.8"
  }
 },
 "nbformat": 4,
 "nbformat_minor": 5
}
