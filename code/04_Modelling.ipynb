{
 "cells": [
  {
   "cell_type": "code",
   "execution_count": 1,
   "id": "7c0827a8",
   "metadata": {},
   "outputs": [],
   "source": [
    "import pandas as pd\n",
    "import numpy as np\n",
    "import matplotlib.pyplot as plt\n",
    "\n",
    "from sklearn.linear_model import LinearRegression\n",
    "from sklearn.preprocessing import StandardScaler, PolynomialFeatures\n",
    "from sklearn.model_selection import train_test_split, cross_val_score, cross_val_predict\n",
    "from sklearn.pipeline import Pipeline\n",
    "from sklearn.model_selection import GridSearchCV\n",
    "from sklearn.decomposition import PCA\n",
    "from sklearn.metrics import mean_squared_error, r2_score\n",
    "\n",
    "from tensorflow.keras.models import Sequential, Model\n",
    "from tensorflow.keras.layers import Dense, Dropout, BatchNormalization, Input\n",
    "from tensorflow.keras.regularizers import l1, l2, l1_l2\n",
    "from tensorflow.keras.callbacks import EarlyStopping\n",
    "from tensorflow.keras.wrappers.scikit_learn import KerasRegressor"
   ]
  },
  {
   "cell_type": "code",
   "execution_count": 2,
   "id": "b8313c66",
   "metadata": {},
   "outputs": [],
   "source": [
    "#df = pd.read_csv('../data/full_data_interaction_05_025.csv')\n",
    "#df = pd.read_csv('../data/full_data_interaction_01_075.csv')\n",
    "df = pd.read_csv('../data/full_data_interaction_025_075.csv')"
   ]
  },
  {
   "cell_type": "code",
   "execution_count": 6,
   "id": "cf1f2802",
   "metadata": {},
   "outputs": [],
   "source": [
    "X = df.drop(columns = ['state', 'county_name', 'unemployment_rate_2010', 'population_total_2010'])\n",
    "y = df['unemployment_rate_2010']"
   ]
  },
  {
   "cell_type": "code",
   "execution_count": 7,
   "id": "d12df3d0",
   "metadata": {},
   "outputs": [],
   "source": [
    "X_train, X_test, y_train, y_test = train_test_split(X, y, random_state=42)"
   ]
  },
  {
   "cell_type": "code",
   "execution_count": 8,
   "id": "9453961d",
   "metadata": {},
   "outputs": [],
   "source": [
    "random_test_X = random_test.drop(columns=['state', 'county_name', 'unemployment_rate_2010', 'population_total_2010'])\n",
    "random_test_y = random_test['unemployment_rate_2010']"
   ]
  },
  {
   "cell_type": "code",
   "execution_count": 9,
   "id": "af847ecb",
   "metadata": {},
   "outputs": [],
   "source": [
    "ss = StandardScaler()\n",
    "Z_train = ss.fit_transform(X_train)\n",
    "Z_test = ss.transform(X_test)\n",
    "random_test_Z = ss.transform(random_test_X)"
   ]
  },
  {
   "cell_type": "markdown",
   "id": "b89083a7",
   "metadata": {},
   "source": [
    "### Linear Regression on original data"
   ]
  },
  {
   "cell_type": "code",
   "execution_count": 10,
   "id": "8000a591",
   "metadata": {},
   "outputs": [],
   "source": [
    "df_lin_reg = pd.read_csv('../data/final_work_data.csv')"
   ]
  },
  {
   "cell_type": "code",
   "execution_count": 11,
   "id": "0df45f4b",
   "metadata": {},
   "outputs": [
    {
     "data": {
      "text/html": [
       "<div>\n",
       "<style scoped>\n",
       "    .dataframe tbody tr th:only-of-type {\n",
       "        vertical-align: middle;\n",
       "    }\n",
       "\n",
       "    .dataframe tbody tr th {\n",
       "        vertical-align: top;\n",
       "    }\n",
       "\n",
       "    .dataframe thead th {\n",
       "        text-align: right;\n",
       "    }\n",
       "</style>\n",
       "<table border=\"1\" class=\"dataframe\">\n",
       "  <thead>\n",
       "    <tr style=\"text-align: right;\">\n",
       "      <th></th>\n",
       "      <th>state</th>\n",
       "      <th>county_name</th>\n",
       "      <th>unemployment_rate_2010</th>\n",
       "      <th>population_total_2010</th>\n",
       "      <th>urban_population_prc</th>\n",
       "      <th>rural_population_prc</th>\n",
       "      <th>crime_per_capita</th>\n",
       "      <th>per_capita_sme_num</th>\n",
       "      <th>per_capita_large_num</th>\n",
       "      <th>avg_ann_pay_per_emp_sme</th>\n",
       "      <th>...</th>\n",
       "      <th>popul_college_grad_prc</th>\n",
       "      <th>popul_single_paren_prc</th>\n",
       "      <th>liquor_stores_per10k</th>\n",
       "      <th>police_per_1000</th>\n",
       "      <th>WhiteNonHispanicPct2010</th>\n",
       "      <th>BlackNonHispanicPct2010</th>\n",
       "      <th>AsianNonHispanicPct2010</th>\n",
       "      <th>NativeAmericanNonHispanicPct2010</th>\n",
       "      <th>HispanicPct2010</th>\n",
       "      <th>MultipleRacePct2010</th>\n",
       "    </tr>\n",
       "  </thead>\n",
       "  <tbody>\n",
       "    <tr>\n",
       "      <th>0</th>\n",
       "      <td>AL</td>\n",
       "      <td>Autauga</td>\n",
       "      <td>8.8</td>\n",
       "      <td>54571.0</td>\n",
       "      <td>0.579978</td>\n",
       "      <td>0.420022</td>\n",
       "      <td>0.002620</td>\n",
       "      <td>0.012259</td>\n",
       "      <td>0.002565</td>\n",
       "      <td>22667.03037</td>\n",
       "      <td>...</td>\n",
       "      <td>0.21</td>\n",
       "      <td>0.09</td>\n",
       "      <td>0.4</td>\n",
       "      <td>1.172784</td>\n",
       "      <td>77.25</td>\n",
       "      <td>17.58</td>\n",
       "      <td>0.86</td>\n",
       "      <td>0.40</td>\n",
       "      <td>2.40</td>\n",
       "      <td>1.59</td>\n",
       "    </tr>\n",
       "    <tr>\n",
       "      <th>1</th>\n",
       "      <td>AL</td>\n",
       "      <td>Baldwin</td>\n",
       "      <td>9.9</td>\n",
       "      <td>182265.0</td>\n",
       "      <td>0.577209</td>\n",
       "      <td>0.422791</td>\n",
       "      <td>0.002112</td>\n",
       "      <td>0.020108</td>\n",
       "      <td>0.002019</td>\n",
       "      <td>28664.84962</td>\n",
       "      <td>...</td>\n",
       "      <td>0.26</td>\n",
       "      <td>0.09</td>\n",
       "      <td>0.8</td>\n",
       "      <td>1.486846</td>\n",
       "      <td>83.50</td>\n",
       "      <td>9.31</td>\n",
       "      <td>0.74</td>\n",
       "      <td>0.63</td>\n",
       "      <td>4.38</td>\n",
       "      <td>1.49</td>\n",
       "    </tr>\n",
       "    <tr>\n",
       "      <th>2</th>\n",
       "      <td>AL</td>\n",
       "      <td>Barbour</td>\n",
       "      <td>12.1</td>\n",
       "      <td>27457.0</td>\n",
       "      <td>0.322104</td>\n",
       "      <td>0.677896</td>\n",
       "      <td>0.000911</td>\n",
       "      <td>0.015042</td>\n",
       "      <td>0.002586</td>\n",
       "      <td>25720.31403</td>\n",
       "      <td>...</td>\n",
       "      <td>0.11</td>\n",
       "      <td>0.14</td>\n",
       "      <td>1.1</td>\n",
       "      <td>3.177696</td>\n",
       "      <td>46.75</td>\n",
       "      <td>46.69</td>\n",
       "      <td>0.39</td>\n",
       "      <td>0.22</td>\n",
       "      <td>5.05</td>\n",
       "      <td>0.94</td>\n",
       "    </tr>\n",
       "    <tr>\n",
       "      <th>3</th>\n",
       "      <td>AL</td>\n",
       "      <td>Bibb</td>\n",
       "      <td>11.2</td>\n",
       "      <td>22915.0</td>\n",
       "      <td>0.316474</td>\n",
       "      <td>0.683526</td>\n",
       "      <td>0.002575</td>\n",
       "      <td>0.011172</td>\n",
       "      <td>0.000916</td>\n",
       "      <td>27318.29733</td>\n",
       "      <td>...</td>\n",
       "      <td>0.11</td>\n",
       "      <td>0.05</td>\n",
       "      <td>0.5</td>\n",
       "      <td>0.523674</td>\n",
       "      <td>75.02</td>\n",
       "      <td>21.92</td>\n",
       "      <td>0.10</td>\n",
       "      <td>0.28</td>\n",
       "      <td>1.77</td>\n",
       "      <td>0.89</td>\n",
       "    </tr>\n",
       "    <tr>\n",
       "      <th>4</th>\n",
       "      <td>AL</td>\n",
       "      <td>Blount</td>\n",
       "      <td>9.7</td>\n",
       "      <td>57322.0</td>\n",
       "      <td>0.100485</td>\n",
       "      <td>0.899515</td>\n",
       "      <td>0.000419</td>\n",
       "      <td>0.010485</td>\n",
       "      <td>0.001082</td>\n",
       "      <td>26050.59382</td>\n",
       "      <td>...</td>\n",
       "      <td>0.12</td>\n",
       "      <td>0.07</td>\n",
       "      <td>0.0</td>\n",
       "      <td>0.854820</td>\n",
       "      <td>88.89</td>\n",
       "      <td>1.26</td>\n",
       "      <td>0.20</td>\n",
       "      <td>0.50</td>\n",
       "      <td>8.07</td>\n",
       "      <td>1.19</td>\n",
       "    </tr>\n",
       "  </tbody>\n",
       "</table>\n",
       "<p>5 rows × 28 columns</p>\n",
       "</div>"
      ],
      "text/plain": [
       "  state county_name  unemployment_rate_2010  population_total_2010  \\\n",
       "0    AL     Autauga                     8.8                54571.0   \n",
       "1    AL     Baldwin                     9.9               182265.0   \n",
       "2    AL     Barbour                    12.1                27457.0   \n",
       "3    AL        Bibb                    11.2                22915.0   \n",
       "4    AL      Blount                     9.7                57322.0   \n",
       "\n",
       "   urban_population_prc  rural_population_prc  crime_per_capita  \\\n",
       "0              0.579978              0.420022          0.002620   \n",
       "1              0.577209              0.422791          0.002112   \n",
       "2              0.322104              0.677896          0.000911   \n",
       "3              0.316474              0.683526          0.002575   \n",
       "4              0.100485              0.899515          0.000419   \n",
       "\n",
       "   per_capita_sme_num  per_capita_large_num  avg_ann_pay_per_emp_sme  ...  \\\n",
       "0            0.012259              0.002565              22667.03037  ...   \n",
       "1            0.020108              0.002019              28664.84962  ...   \n",
       "2            0.015042              0.002586              25720.31403  ...   \n",
       "3            0.011172              0.000916              27318.29733  ...   \n",
       "4            0.010485              0.001082              26050.59382  ...   \n",
       "\n",
       "   popul_college_grad_prc  popul_single_paren_prc  liquor_stores_per10k  \\\n",
       "0                    0.21                    0.09                   0.4   \n",
       "1                    0.26                    0.09                   0.8   \n",
       "2                    0.11                    0.14                   1.1   \n",
       "3                    0.11                    0.05                   0.5   \n",
       "4                    0.12                    0.07                   0.0   \n",
       "\n",
       "   police_per_1000  WhiteNonHispanicPct2010  BlackNonHispanicPct2010  \\\n",
       "0         1.172784                    77.25                    17.58   \n",
       "1         1.486846                    83.50                     9.31   \n",
       "2         3.177696                    46.75                    46.69   \n",
       "3         0.523674                    75.02                    21.92   \n",
       "4         0.854820                    88.89                     1.26   \n",
       "\n",
       "   AsianNonHispanicPct2010  NativeAmericanNonHispanicPct2010  HispanicPct2010  \\\n",
       "0                     0.86                              0.40             2.40   \n",
       "1                     0.74                              0.63             4.38   \n",
       "2                     0.39                              0.22             5.05   \n",
       "3                     0.10                              0.28             1.77   \n",
       "4                     0.20                              0.50             8.07   \n",
       "\n",
       "   MultipleRacePct2010  \n",
       "0                 1.59  \n",
       "1                 1.49  \n",
       "2                 0.94  \n",
       "3                 0.89  \n",
       "4                 1.19  \n",
       "\n",
       "[5 rows x 28 columns]"
      ]
     },
     "execution_count": 11,
     "metadata": {},
     "output_type": "execute_result"
    }
   ],
   "source": [
    "df_lin_reg.head()"
   ]
  },
  {
   "cell_type": "code",
   "execution_count": 12,
   "id": "f16acb6f",
   "metadata": {},
   "outputs": [
    {
     "data": {
      "text/plain": [
       "LinearRegression()"
      ]
     },
     "execution_count": 12,
     "metadata": {},
     "output_type": "execute_result"
    }
   ],
   "source": [
    "lin_reg = LinearRegression()\n",
    "X = df_lin_reg.drop(columns=['state', 'county_name', 'unemployment_rate_2010', 'population_total_2010'])\n",
    "y = df_lin_reg['unemployment_rate_2010']\n",
    "X_train_lr, X_test_lr, y_train_lr, y_test_lr = train_test_split(X, y, random_state=42)\n",
    "lin_reg.fit(X_train_lr, y_train_lr)"
   ]
  },
  {
   "cell_type": "code",
   "execution_count": 13,
   "id": "158bc146",
   "metadata": {},
   "outputs": [
    {
     "data": {
      "text/plain": [
       "(0.4299423542202645, 0.39382629086847676, 0.3593874243714773)"
      ]
     },
     "execution_count": 13,
     "metadata": {},
     "output_type": "execute_result"
    }
   ],
   "source": [
    "lin_reg.score(X_train_lr, y_train_lr),lin_reg.score(X_test_lr, y_test_lr), cross_val_score(lin_reg, X_train_lr, y_train_lr).mean() "
   ]
  },
  {
   "cell_type": "markdown",
   "id": "f3600668",
   "metadata": {},
   "source": [
    "### Linear Regression on preporcessed data"
   ]
  },
  {
   "cell_type": "code",
   "execution_count": 14,
   "id": "f06de963",
   "metadata": {},
   "outputs": [
    {
     "data": {
      "text/plain": [
       "LinearRegression()"
      ]
     },
     "execution_count": 14,
     "metadata": {},
     "output_type": "execute_result"
    }
   ],
   "source": [
    "lr = LinearRegression()\n",
    "lr.fit(Z_train, y_train)"
   ]
  },
  {
   "cell_type": "code",
   "execution_count": 15,
   "id": "57db8bac",
   "metadata": {},
   "outputs": [
    {
     "data": {
      "text/plain": [
       "(0.544725150185152, 0.4836054146441289, 0.45721636211613725)"
      ]
     },
     "execution_count": 15,
     "metadata": {},
     "output_type": "execute_result"
    }
   ],
   "source": [
    "lr.score(Z_train, y_train), lr.score(Z_test, y_test), cross_val_score(lr, Z_train, y_train).mean()"
   ]
  },
  {
   "cell_type": "code",
   "execution_count": 16,
   "id": "021aca47",
   "metadata": {},
   "outputs": [],
   "source": [
    "lin_train = cross_val_predict(lr, Z_train, y_train)\n",
    "lin_test = cross_val_predict(lr, Z_test, y_test)"
   ]
  },
  {
   "cell_type": "code",
   "execution_count": 17,
   "id": "8166c53f",
   "metadata": {},
   "outputs": [
    {
     "data": {
      "text/plain": [
       "(array([13.41836939]),\n",
       " 8    14.6\n",
       " Name: unemployment_rate_2010, dtype: object)"
      ]
     },
     "execution_count": 17,
     "metadata": {},
     "output_type": "execute_result"
    }
   ],
   "source": [
    "lr.predict(random_test_Z), random_test_y"
   ]
  },
  {
   "cell_type": "markdown",
   "id": "c3ebc2fa",
   "metadata": {},
   "source": [
    "### Linear Regression PCA"
   ]
  },
  {
   "cell_type": "code",
   "execution_count": 18,
   "id": "369f1b78",
   "metadata": {},
   "outputs": [],
   "source": [
    "df = pd.read_csv('../data/final_work_data.csv')"
   ]
  },
  {
   "cell_type": "code",
   "execution_count": 19,
   "id": "71588da3",
   "metadata": {},
   "outputs": [],
   "source": [
    "X = df.drop(columns = ['state', 'county_name', 'unemployment_rate_2010', 'population_total_2010'])\n",
    "y = df['unemployment_rate_2010']"
   ]
  },
  {
   "cell_type": "code",
   "execution_count": 20,
   "id": "661413c3",
   "metadata": {},
   "outputs": [],
   "source": [
    "X_train, X_test, y_train, y_test = train_test_split(X, y, random_state=42)"
   ]
  },
  {
   "cell_type": "code",
   "execution_count": 21,
   "id": "2bd57692",
   "metadata": {},
   "outputs": [
    {
     "name": "stdout",
     "output_type": "stream",
     "text": [
      "0.09325947056401707\n",
      "0.2108993857426148\n",
      "-4207.404376029028\n"
     ]
    },
    {
     "data": {
      "text/plain": [
       "{'pca__n_components': 10}"
      ]
     },
     "execution_count": 21,
     "metadata": {},
     "output_type": "execute_result"
    }
   ],
   "source": [
    "pipe = Pipeline([\n",
    "    ('poly', PolynomialFeatures(degree=3, include_bias=False)),\n",
    "    ('ss', StandardScaler()),\n",
    "    ('pca', PCA()),\n",
    "    ('model', LinearRegression())\n",
    "])\n",
    "params = {\n",
    "    'pca__n_components': range(10,200,20)\n",
    "}\n",
    "gs = GridSearchCV(pipe, param_grid=params)\n",
    "gs.fit(X_train, y_train)\n",
    "print(gs.best_score_)\n",
    "print(gs.score(X_test, y_test))\n",
    "print(cross_val_score(gs, X_train, y_train).mean())\n",
    "gs.best_params_"
   ]
  },
  {
   "cell_type": "markdown",
   "id": "14da9a54",
   "metadata": {},
   "source": [
    "### Neural network on linear regression initeraction data"
   ]
  },
  {
   "cell_type": "code",
   "execution_count": 22,
   "id": "c480027b",
   "metadata": {},
   "outputs": [],
   "source": [
    "df = pd.read_csv('../data/full_data_interaction_025_075.csv')"
   ]
  },
  {
   "cell_type": "code",
   "execution_count": 23,
   "id": "1ebe39c8",
   "metadata": {},
   "outputs": [],
   "source": [
    "X = df.drop(columns = ['state', 'county_name', 'unemployment_rate_2010', 'population_total_2010'])\n",
    "y = df['unemployment_rate_2010']"
   ]
  },
  {
   "cell_type": "code",
   "execution_count": 24,
   "id": "4f146170",
   "metadata": {},
   "outputs": [],
   "source": [
    "X_train, X_test, y_train, y_test = train_test_split(X, y, random_state=42)"
   ]
  },
  {
   "cell_type": "code",
   "execution_count": 25,
   "id": "33e4bab9",
   "metadata": {},
   "outputs": [],
   "source": [
    "ss = StandardScaler()\n",
    "Z_train = ss.fit_transform(X_train)\n",
    "Z_test = ss.transform(X_test)"
   ]
  },
  {
   "cell_type": "code",
   "execution_count": 26,
   "id": "473d9f10",
   "metadata": {},
   "outputs": [
    {
     "data": {
      "text/plain": [
       "(97,)"
      ]
     },
     "execution_count": 26,
     "metadata": {},
     "output_type": "execute_result"
    }
   ],
   "source": [
    "in_shape = Z_train[0].shape\n",
    "in_shape"
   ]
  },
  {
   "cell_type": "code",
   "execution_count": 27,
   "id": "8c1da7ad",
   "metadata": {},
   "outputs": [],
   "source": [
    "model_1 = Sequential()\n",
    "\n",
    "model_1.add(Dense(128, activation= 'relu', input_shape= in_shape))\n",
    "model_1.add(Dropout(.3))\n",
    "\n",
    "model_1.add(BatchNormalization())\n",
    "model_1.add(Dense(128, activation= 'relu'))\n",
    "\n",
    "model_1.add(BatchNormalization())\n",
    "model_1.add(Dense(64, activation= 'relu'))\n",
    "\n",
    "model_1.add(Dense(32, activation= 'relu'))\n",
    "model_1.add(Dropout(.5))\n",
    "\n",
    "model_1.add(Dense(1, activation= None))"
   ]
  },
  {
   "cell_type": "code",
   "execution_count": 28,
   "id": "1af3f8c8",
   "metadata": {},
   "outputs": [],
   "source": [
    "model_1.compile(optimizer= 'adam', loss= 'mse', metrics= ['mse', 'RootMeanSquaredError', 'MeanAbsolutePercentageError'])"
   ]
  },
  {
   "cell_type": "code",
   "execution_count": 29,
   "id": "2afcab94",
   "metadata": {},
   "outputs": [
    {
     "name": "stdout",
     "output_type": "stream",
     "text": [
      "Epoch 1/300\n",
      "71/71 [==============================] - 1s 6ms/step - loss: 39.8278 - mse: 39.8278 - root_mean_squared_error: 6.3109 - mean_absolute_percentage_error: 55.6852 - val_loss: 29.2767 - val_mse: 29.2767 - val_root_mean_squared_error: 5.4108 - val_mean_absolute_percentage_error: 48.9044\n",
      "Epoch 2/300\n",
      "71/71 [==============================] - 0s 3ms/step - loss: 14.9877 - mse: 14.9877 - root_mean_squared_error: 3.8714 - mean_absolute_percentage_error: 34.3548 - val_loss: 16.7880 - val_mse: 16.7880 - val_root_mean_squared_error: 4.0973 - val_mean_absolute_percentage_error: 34.4327\n",
      "Epoch 3/300\n",
      "71/71 [==============================] - 0s 3ms/step - loss: 13.9982 - mse: 13.9982 - root_mean_squared_error: 3.7414 - mean_absolute_percentage_error: 33.2859 - val_loss: 10.6116 - val_mse: 10.6116 - val_root_mean_squared_error: 3.2575 - val_mean_absolute_percentage_error: 25.2471\n",
      "Epoch 4/300\n",
      "71/71 [==============================] - 0s 3ms/step - loss: 13.7000 - mse: 13.7000 - root_mean_squared_error: 3.7013 - mean_absolute_percentage_error: 31.9114 - val_loss: 7.5322 - val_mse: 7.5322 - val_root_mean_squared_error: 2.7445 - val_mean_absolute_percentage_error: 20.9320\n",
      "Epoch 5/300\n",
      "71/71 [==============================] - 0s 4ms/step - loss: 12.7645 - mse: 12.7645 - root_mean_squared_error: 3.5727 - mean_absolute_percentage_error: 31.0814 - val_loss: 6.3799 - val_mse: 6.3799 - val_root_mean_squared_error: 2.5258 - val_mean_absolute_percentage_error: 18.9358\n",
      "Epoch 6/300\n",
      "71/71 [==============================] - 0s 3ms/step - loss: 12.9132 - mse: 12.9132 - root_mean_squared_error: 3.5935 - mean_absolute_percentage_error: 31.2969 - val_loss: 7.1294 - val_mse: 7.1294 - val_root_mean_squared_error: 2.6701 - val_mean_absolute_percentage_error: 20.5649\n",
      "Epoch 7/300\n",
      "71/71 [==============================] - 0s 3ms/step - loss: 12.2990 - mse: 12.2990 - root_mean_squared_error: 3.5070 - mean_absolute_percentage_error: 30.2993 - val_loss: 4.7589 - val_mse: 4.7589 - val_root_mean_squared_error: 2.1815 - val_mean_absolute_percentage_error: 17.8832\n",
      "Epoch 8/300\n",
      "71/71 [==============================] - 0s 3ms/step - loss: 12.0304 - mse: 12.0304 - root_mean_squared_error: 3.4685 - mean_absolute_percentage_error: 29.8476 - val_loss: 5.5910 - val_mse: 5.5910 - val_root_mean_squared_error: 2.3645 - val_mean_absolute_percentage_error: 18.2135\n",
      "Epoch 9/300\n",
      "71/71 [==============================] - 0s 4ms/step - loss: 10.9933 - mse: 10.9933 - root_mean_squared_error: 3.3156 - mean_absolute_percentage_error: 29.2040 - val_loss: 4.6088 - val_mse: 4.6088 - val_root_mean_squared_error: 2.1468 - val_mean_absolute_percentage_error: 17.6193\n",
      "Epoch 10/300\n",
      "71/71 [==============================] - 0s 5ms/step - loss: 11.6839 - mse: 11.6839 - root_mean_squared_error: 3.4182 - mean_absolute_percentage_error: 29.9684 - val_loss: 5.2916 - val_mse: 5.2916 - val_root_mean_squared_error: 2.3003 - val_mean_absolute_percentage_error: 17.5845\n",
      "Epoch 11/300\n",
      "71/71 [==============================] - 0s 4ms/step - loss: 11.5666 - mse: 11.5666 - root_mean_squared_error: 3.4010 - mean_absolute_percentage_error: 29.5099 - val_loss: 4.5454 - val_mse: 4.5454 - val_root_mean_squared_error: 2.1320 - val_mean_absolute_percentage_error: 17.0117\n",
      "Epoch 12/300\n",
      "71/71 [==============================] - 0s 2ms/step - loss: 10.8061 - mse: 10.8061 - root_mean_squared_error: 3.2873 - mean_absolute_percentage_error: 28.3753 - val_loss: 4.5621 - val_mse: 4.5621 - val_root_mean_squared_error: 2.1359 - val_mean_absolute_percentage_error: 17.5673\n",
      "Epoch 13/300\n",
      "71/71 [==============================] - 0s 4ms/step - loss: 10.4936 - mse: 10.4936 - root_mean_squared_error: 3.2394 - mean_absolute_percentage_error: 27.9287 - val_loss: 4.5149 - val_mse: 4.5149 - val_root_mean_squared_error: 2.1248 - val_mean_absolute_percentage_error: 17.8110\n",
      "Epoch 14/300\n",
      "71/71 [==============================] - 0s 3ms/step - loss: 11.3111 - mse: 11.3111 - root_mean_squared_error: 3.3632 - mean_absolute_percentage_error: 29.3258 - val_loss: 4.3598 - val_mse: 4.3598 - val_root_mean_squared_error: 2.0880 - val_mean_absolute_percentage_error: 17.6315\n",
      "Epoch 15/300\n",
      "71/71 [==============================] - 0s 3ms/step - loss: 11.2091 - mse: 11.2091 - root_mean_squared_error: 3.3480 - mean_absolute_percentage_error: 28.8441 - val_loss: 4.5306 - val_mse: 4.5306 - val_root_mean_squared_error: 2.1285 - val_mean_absolute_percentage_error: 17.5178\n",
      "Epoch 16/300\n",
      "71/71 [==============================] - 0s 2ms/step - loss: 10.5154 - mse: 10.5154 - root_mean_squared_error: 3.2427 - mean_absolute_percentage_error: 27.6805 - val_loss: 4.3592 - val_mse: 4.3592 - val_root_mean_squared_error: 2.0879 - val_mean_absolute_percentage_error: 17.4137\n",
      "Epoch 17/300\n",
      "71/71 [==============================] - 0s 3ms/step - loss: 10.3911 - mse: 10.3911 - root_mean_squared_error: 3.2235 - mean_absolute_percentage_error: 28.0816 - val_loss: 5.1081 - val_mse: 5.1081 - val_root_mean_squared_error: 2.2601 - val_mean_absolute_percentage_error: 17.4588\n",
      "Epoch 18/300\n",
      "71/71 [==============================] - 0s 2ms/step - loss: 10.6042 - mse: 10.6042 - root_mean_squared_error: 3.2564 - mean_absolute_percentage_error: 28.0967 - val_loss: 4.3459 - val_mse: 4.3459 - val_root_mean_squared_error: 2.0847 - val_mean_absolute_percentage_error: 17.3186\n",
      "Epoch 19/300\n",
      "71/71 [==============================] - 0s 5ms/step - loss: 10.2720 - mse: 10.2720 - root_mean_squared_error: 3.2050 - mean_absolute_percentage_error: 27.4999 - val_loss: 5.1055 - val_mse: 5.1055 - val_root_mean_squared_error: 2.2595 - val_mean_absolute_percentage_error: 17.1721\n",
      "Epoch 20/300\n",
      "71/71 [==============================] - 0s 3ms/step - loss: 11.0332 - mse: 11.0332 - root_mean_squared_error: 3.3216 - mean_absolute_percentage_error: 28.5645 - val_loss: 4.4950 - val_mse: 4.4950 - val_root_mean_squared_error: 2.1201 - val_mean_absolute_percentage_error: 16.8931\n",
      "Epoch 21/300\n",
      "71/71 [==============================] - 0s 3ms/step - loss: 9.6536 - mse: 9.6536 - root_mean_squared_error: 3.1070 - mean_absolute_percentage_error: 26.8019 - val_loss: 4.7716 - val_mse: 4.7716 - val_root_mean_squared_error: 2.1844 - val_mean_absolute_percentage_error: 16.7298\n",
      "Epoch 22/300\n",
      "71/71 [==============================] - 0s 2ms/step - loss: 10.1759 - mse: 10.1759 - root_mean_squared_error: 3.1900 - mean_absolute_percentage_error: 27.1613 - val_loss: 4.7608 - val_mse: 4.7608 - val_root_mean_squared_error: 2.1819 - val_mean_absolute_percentage_error: 17.0272\n",
      "Epoch 23/300\n",
      "71/71 [==============================] - 0s 2ms/step - loss: 10.2438 - mse: 10.2438 - root_mean_squared_error: 3.2006 - mean_absolute_percentage_error: 27.0663 - val_loss: 4.2764 - val_mse: 4.2764 - val_root_mean_squared_error: 2.0679 - val_mean_absolute_percentage_error: 16.5503\n",
      "Epoch 24/300\n",
      "71/71 [==============================] - 0s 3ms/step - loss: 9.8343 - mse: 9.8343 - root_mean_squared_error: 3.1360 - mean_absolute_percentage_error: 26.8999 - val_loss: 4.1383 - val_mse: 4.1383 - val_root_mean_squared_error: 2.0343 - val_mean_absolute_percentage_error: 16.5910\n",
      "Epoch 25/300\n",
      "71/71 [==============================] - 0s 3ms/step - loss: 9.3688 - mse: 9.3688 - root_mean_squared_error: 3.0609 - mean_absolute_percentage_error: 26.1427 - val_loss: 4.5246 - val_mse: 4.5246 - val_root_mean_squared_error: 2.1271 - val_mean_absolute_percentage_error: 17.4152\n",
      "Epoch 26/300\n",
      "71/71 [==============================] - 0s 2ms/step - loss: 9.6155 - mse: 9.6155 - root_mean_squared_error: 3.1009 - mean_absolute_percentage_error: 26.4268 - val_loss: 4.0551 - val_mse: 4.0551 - val_root_mean_squared_error: 2.0137 - val_mean_absolute_percentage_error: 16.6523\n",
      "Epoch 27/300\n",
      "71/71 [==============================] - 0s 2ms/step - loss: 9.7839 - mse: 9.7839 - root_mean_squared_error: 3.1279 - mean_absolute_percentage_error: 26.4529 - val_loss: 4.2341 - val_mse: 4.2341 - val_root_mean_squared_error: 2.0577 - val_mean_absolute_percentage_error: 16.3551\n",
      "Epoch 28/300\n",
      "71/71 [==============================] - 0s 3ms/step - loss: 9.6073 - mse: 9.6073 - root_mean_squared_error: 3.0996 - mean_absolute_percentage_error: 26.2204 - val_loss: 4.0857 - val_mse: 4.0857 - val_root_mean_squared_error: 2.0213 - val_mean_absolute_percentage_error: 16.6289\n"
     ]
    },
    {
     "name": "stdout",
     "output_type": "stream",
     "text": [
      "Epoch 29/300\n",
      "71/71 [==============================] - 0s 5ms/step - loss: 9.1187 - mse: 9.1187 - root_mean_squared_error: 3.0197 - mean_absolute_percentage_error: 25.4539 - val_loss: 4.2058 - val_mse: 4.2058 - val_root_mean_squared_error: 2.0508 - val_mean_absolute_percentage_error: 16.6416\n",
      "Epoch 30/300\n",
      "71/71 [==============================] - 0s 4ms/step - loss: 8.9345 - mse: 8.9345 - root_mean_squared_error: 2.9891 - mean_absolute_percentage_error: 25.5416 - val_loss: 4.2795 - val_mse: 4.2795 - val_root_mean_squared_error: 2.0687 - val_mean_absolute_percentage_error: 16.5916\n",
      "Epoch 31/300\n",
      "71/71 [==============================] - 0s 3ms/step - loss: 9.1591 - mse: 9.1591 - root_mean_squared_error: 3.0264 - mean_absolute_percentage_error: 25.8262 - val_loss: 4.3619 - val_mse: 4.3619 - val_root_mean_squared_error: 2.0885 - val_mean_absolute_percentage_error: 16.4424\n",
      "Epoch 32/300\n",
      "71/71 [==============================] - 0s 5ms/step - loss: 8.7441 - mse: 8.7441 - root_mean_squared_error: 2.9570 - mean_absolute_percentage_error: 25.3121 - val_loss: 4.3210 - val_mse: 4.3210 - val_root_mean_squared_error: 2.0787 - val_mean_absolute_percentage_error: 16.5773\n",
      "Epoch 33/300\n",
      "71/71 [==============================] - 0s 5ms/step - loss: 9.0677 - mse: 9.0677 - root_mean_squared_error: 3.0113 - mean_absolute_percentage_error: 25.3754 - val_loss: 4.1542 - val_mse: 4.1542 - val_root_mean_squared_error: 2.0382 - val_mean_absolute_percentage_error: 16.6342\n",
      "Epoch 34/300\n",
      "71/71 [==============================] - 0s 2ms/step - loss: 8.9099 - mse: 8.9099 - root_mean_squared_error: 2.9849 - mean_absolute_percentage_error: 25.2338 - val_loss: 4.0129 - val_mse: 4.0129 - val_root_mean_squared_error: 2.0032 - val_mean_absolute_percentage_error: 15.9933\n",
      "Epoch 35/300\n",
      "71/71 [==============================] - 0s 2ms/step - loss: 8.9422 - mse: 8.9422 - root_mean_squared_error: 2.9903 - mean_absolute_percentage_error: 25.4576 - val_loss: 4.3309 - val_mse: 4.3309 - val_root_mean_squared_error: 2.0811 - val_mean_absolute_percentage_error: 16.1672\n",
      "Epoch 36/300\n",
      "71/71 [==============================] - 0s 4ms/step - loss: 8.3871 - mse: 8.3871 - root_mean_squared_error: 2.8960 - mean_absolute_percentage_error: 24.9046 - val_loss: 4.4632 - val_mse: 4.4632 - val_root_mean_squared_error: 2.1126 - val_mean_absolute_percentage_error: 16.7863\n",
      "Epoch 37/300\n",
      "71/71 [==============================] - 0s 3ms/step - loss: 7.9654 - mse: 7.9654 - root_mean_squared_error: 2.8223 - mean_absolute_percentage_error: 24.5199 - val_loss: 4.3102 - val_mse: 4.3102 - val_root_mean_squared_error: 2.0761 - val_mean_absolute_percentage_error: 16.4132\n",
      "Epoch 38/300\n",
      "71/71 [==============================] - 0s 5ms/step - loss: 8.6841 - mse: 8.6841 - root_mean_squared_error: 2.9469 - mean_absolute_percentage_error: 24.5509 - val_loss: 4.1302 - val_mse: 4.1302 - val_root_mean_squared_error: 2.0323 - val_mean_absolute_percentage_error: 16.4388\n",
      "Epoch 39/300\n",
      "71/71 [==============================] - 0s 3ms/step - loss: 8.5668 - mse: 8.5668 - root_mean_squared_error: 2.9269 - mean_absolute_percentage_error: 24.6010 - val_loss: 4.1665 - val_mse: 4.1665 - val_root_mean_squared_error: 2.0412 - val_mean_absolute_percentage_error: 16.9625\n",
      "Epoch 40/300\n",
      "71/71 [==============================] - 0s 5ms/step - loss: 8.5775 - mse: 8.5775 - root_mean_squared_error: 2.9287 - mean_absolute_percentage_error: 25.1197 - val_loss: 4.5452 - val_mse: 4.5452 - val_root_mean_squared_error: 2.1319 - val_mean_absolute_percentage_error: 16.5326\n",
      "Epoch 41/300\n",
      "71/71 [==============================] - 0s 4ms/step - loss: 7.8344 - mse: 7.8344 - root_mean_squared_error: 2.7990 - mean_absolute_percentage_error: 23.8823 - val_loss: 4.3620 - val_mse: 4.3620 - val_root_mean_squared_error: 2.0885 - val_mean_absolute_percentage_error: 16.5911\n",
      "Epoch 42/300\n",
      "71/71 [==============================] - 0s 5ms/step - loss: 8.0046 - mse: 8.0046 - root_mean_squared_error: 2.8292 - mean_absolute_percentage_error: 23.9327 - val_loss: 4.3421 - val_mse: 4.3421 - val_root_mean_squared_error: 2.0838 - val_mean_absolute_percentage_error: 16.5241\n",
      "Epoch 43/300\n",
      "71/71 [==============================] - 0s 4ms/step - loss: 7.5343 - mse: 7.5343 - root_mean_squared_error: 2.7449 - mean_absolute_percentage_error: 23.5193 - val_loss: 4.4575 - val_mse: 4.4575 - val_root_mean_squared_error: 2.1113 - val_mean_absolute_percentage_error: 16.7267\n",
      "Epoch 44/300\n",
      "71/71 [==============================] - 0s 3ms/step - loss: 8.0164 - mse: 8.0164 - root_mean_squared_error: 2.8313 - mean_absolute_percentage_error: 23.7358 - val_loss: 3.9457 - val_mse: 3.9457 - val_root_mean_squared_error: 1.9864 - val_mean_absolute_percentage_error: 16.2146\n",
      "Epoch 45/300\n",
      "71/71 [==============================] - 0s 3ms/step - loss: 7.3927 - mse: 7.3927 - root_mean_squared_error: 2.7190 - mean_absolute_percentage_error: 23.1626 - val_loss: 4.4143 - val_mse: 4.4143 - val_root_mean_squared_error: 2.1010 - val_mean_absolute_percentage_error: 16.4832\n",
      "Epoch 46/300\n",
      "71/71 [==============================] - 0s 4ms/step - loss: 7.6161 - mse: 7.6161 - root_mean_squared_error: 2.7597 - mean_absolute_percentage_error: 23.3713 - val_loss: 3.7609 - val_mse: 3.7609 - val_root_mean_squared_error: 1.9393 - val_mean_absolute_percentage_error: 16.2886\n",
      "Epoch 47/300\n",
      "71/71 [==============================] - 0s 4ms/step - loss: 7.8543 - mse: 7.8543 - root_mean_squared_error: 2.8025 - mean_absolute_percentage_error: 23.7950 - val_loss: 4.0089 - val_mse: 4.0089 - val_root_mean_squared_error: 2.0022 - val_mean_absolute_percentage_error: 16.5521\n",
      "Epoch 48/300\n",
      "71/71 [==============================] - 0s 4ms/step - loss: 7.2737 - mse: 7.2737 - root_mean_squared_error: 2.6970 - mean_absolute_percentage_error: 23.1818 - val_loss: 4.1647 - val_mse: 4.1647 - val_root_mean_squared_error: 2.0408 - val_mean_absolute_percentage_error: 16.4041\n",
      "Epoch 49/300\n",
      "71/71 [==============================] - 0s 3ms/step - loss: 7.2971 - mse: 7.2971 - root_mean_squared_error: 2.7013 - mean_absolute_percentage_error: 22.4931 - val_loss: 3.9124 - val_mse: 3.9124 - val_root_mean_squared_error: 1.9780 - val_mean_absolute_percentage_error: 16.1999\n",
      "Epoch 50/300\n",
      "71/71 [==============================] - 0s 4ms/step - loss: 7.2544 - mse: 7.2544 - root_mean_squared_error: 2.6934 - mean_absolute_percentage_error: 23.2403 - val_loss: 4.4599 - val_mse: 4.4599 - val_root_mean_squared_error: 2.1118 - val_mean_absolute_percentage_error: 16.4135\n",
      "Epoch 51/300\n",
      "71/71 [==============================] - 0s 3ms/step - loss: 7.9571 - mse: 7.9571 - root_mean_squared_error: 2.8208 - mean_absolute_percentage_error: 23.2196 - val_loss: 4.0446 - val_mse: 4.0446 - val_root_mean_squared_error: 2.0111 - val_mean_absolute_percentage_error: 16.6447\n",
      "Epoch 52/300\n",
      "71/71 [==============================] - 0s 3ms/step - loss: 7.2984 - mse: 7.2984 - root_mean_squared_error: 2.7015 - mean_absolute_percentage_error: 22.3554 - val_loss: 3.9921 - val_mse: 3.9921 - val_root_mean_squared_error: 1.9980 - val_mean_absolute_percentage_error: 17.0482\n",
      "Epoch 53/300\n",
      "71/71 [==============================] - 0s 5ms/step - loss: 6.9352 - mse: 6.9352 - root_mean_squared_error: 2.6335 - mean_absolute_percentage_error: 22.0204 - val_loss: 3.9790 - val_mse: 3.9790 - val_root_mean_squared_error: 1.9948 - val_mean_absolute_percentage_error: 16.7211\n",
      "Epoch 54/300\n",
      "71/71 [==============================] - 0s 4ms/step - loss: 7.2506 - mse: 7.2506 - root_mean_squared_error: 2.6927 - mean_absolute_percentage_error: 22.5664 - val_loss: 3.8494 - val_mse: 3.8494 - val_root_mean_squared_error: 1.9620 - val_mean_absolute_percentage_error: 16.3675\n",
      "Epoch 55/300\n",
      "71/71 [==============================] - 0s 5ms/step - loss: 7.2017 - mse: 7.2017 - root_mean_squared_error: 2.6836 - mean_absolute_percentage_error: 22.8618 - val_loss: 3.6586 - val_mse: 3.6586 - val_root_mean_squared_error: 1.9127 - val_mean_absolute_percentage_error: 15.9038\n",
      "Epoch 56/300\n",
      "71/71 [==============================] - 0s 3ms/step - loss: 7.0556 - mse: 7.0556 - root_mean_squared_error: 2.6562 - mean_absolute_percentage_error: 22.4493 - val_loss: 3.9991 - val_mse: 3.9991 - val_root_mean_squared_error: 1.9998 - val_mean_absolute_percentage_error: 15.9777\n",
      "Epoch 57/300\n"
     ]
    },
    {
     "name": "stdout",
     "output_type": "stream",
     "text": [
      "71/71 [==============================] - 0s 5ms/step - loss: 6.9586 - mse: 6.9586 - root_mean_squared_error: 2.6379 - mean_absolute_percentage_error: 22.3525 - val_loss: 4.1369 - val_mse: 4.1369 - val_root_mean_squared_error: 2.0339 - val_mean_absolute_percentage_error: 16.0812\n",
      "Epoch 58/300\n",
      "71/71 [==============================] - 0s 3ms/step - loss: 6.8321 - mse: 6.8321 - root_mean_squared_error: 2.6138 - mean_absolute_percentage_error: 21.8751 - val_loss: 3.9143 - val_mse: 3.9143 - val_root_mean_squared_error: 1.9784 - val_mean_absolute_percentage_error: 16.3047\n",
      "Epoch 59/300\n",
      "71/71 [==============================] - 0s 4ms/step - loss: 6.4173 - mse: 6.4173 - root_mean_squared_error: 2.5332 - mean_absolute_percentage_error: 21.6211 - val_loss: 3.8559 - val_mse: 3.8559 - val_root_mean_squared_error: 1.9636 - val_mean_absolute_percentage_error: 16.0849\n",
      "Epoch 60/300\n",
      "71/71 [==============================] - 0s 4ms/step - loss: 6.8414 - mse: 6.8414 - root_mean_squared_error: 2.6156 - mean_absolute_percentage_error: 22.2560 - val_loss: 3.8928 - val_mse: 3.8928 - val_root_mean_squared_error: 1.9730 - val_mean_absolute_percentage_error: 15.9528\n",
      "Epoch 61/300\n",
      "71/71 [==============================] - 0s 3ms/step - loss: 6.5873 - mse: 6.5873 - root_mean_squared_error: 2.5666 - mean_absolute_percentage_error: 21.7238 - val_loss: 3.9303 - val_mse: 3.9303 - val_root_mean_squared_error: 1.9825 - val_mean_absolute_percentage_error: 15.8980\n",
      "Epoch 62/300\n",
      "71/71 [==============================] - 0s 4ms/step - loss: 6.6828 - mse: 6.6828 - root_mean_squared_error: 2.5851 - mean_absolute_percentage_error: 21.5542 - val_loss: 3.5819 - val_mse: 3.5819 - val_root_mean_squared_error: 1.8926 - val_mean_absolute_percentage_error: 15.9050\n",
      "Epoch 63/300\n",
      "71/71 [==============================] - 0s 3ms/step - loss: 6.8430 - mse: 6.8430 - root_mean_squared_error: 2.6159 - mean_absolute_percentage_error: 21.8299 - val_loss: 4.0546 - val_mse: 4.0546 - val_root_mean_squared_error: 2.0136 - val_mean_absolute_percentage_error: 16.0239\n",
      "Epoch 64/300\n",
      "71/71 [==============================] - 0s 3ms/step - loss: 6.9564 - mse: 6.9564 - root_mean_squared_error: 2.6375 - mean_absolute_percentage_error: 21.8093 - val_loss: 3.7404 - val_mse: 3.7404 - val_root_mean_squared_error: 1.9340 - val_mean_absolute_percentage_error: 16.3270\n",
      "Epoch 65/300\n",
      "71/71 [==============================] - 0s 3ms/step - loss: 6.8849 - mse: 6.8849 - root_mean_squared_error: 2.6239 - mean_absolute_percentage_error: 21.7354 - val_loss: 3.9015 - val_mse: 3.9015 - val_root_mean_squared_error: 1.9752 - val_mean_absolute_percentage_error: 16.2542\n",
      "Epoch 66/300\n",
      "71/71 [==============================] - 0s 3ms/step - loss: 6.6971 - mse: 6.6971 - root_mean_squared_error: 2.5879 - mean_absolute_percentage_error: 21.3029 - val_loss: 3.8501 - val_mse: 3.8501 - val_root_mean_squared_error: 1.9622 - val_mean_absolute_percentage_error: 15.6825\n",
      "Epoch 67/300\n",
      "71/71 [==============================] - 0s 3ms/step - loss: 6.5404 - mse: 6.5404 - root_mean_squared_error: 2.5574 - mean_absolute_percentage_error: 21.6521 - val_loss: 3.7182 - val_mse: 3.7182 - val_root_mean_squared_error: 1.9283 - val_mean_absolute_percentage_error: 15.7621\n",
      "Epoch 68/300\n",
      "71/71 [==============================] - 0s 3ms/step - loss: 6.5459 - mse: 6.5459 - root_mean_squared_error: 2.5585 - mean_absolute_percentage_error: 21.2427 - val_loss: 3.6285 - val_mse: 3.6285 - val_root_mean_squared_error: 1.9049 - val_mean_absolute_percentage_error: 15.9845\n",
      "Epoch 69/300\n",
      "71/71 [==============================] - 0s 3ms/step - loss: 6.3027 - mse: 6.3027 - root_mean_squared_error: 2.5105 - mean_absolute_percentage_error: 21.1418 - val_loss: 3.7672 - val_mse: 3.7672 - val_root_mean_squared_error: 1.9409 - val_mean_absolute_percentage_error: 16.1427\n",
      "Epoch 70/300\n",
      "71/71 [==============================] - 0s 3ms/step - loss: 6.4226 - mse: 6.4226 - root_mean_squared_error: 2.5343 - mean_absolute_percentage_error: 21.1469 - val_loss: 3.8731 - val_mse: 3.8731 - val_root_mean_squared_error: 1.9680 - val_mean_absolute_percentage_error: 15.9596\n",
      "Epoch 71/300\n",
      "71/71 [==============================] - 0s 4ms/step - loss: 6.2728 - mse: 6.2728 - root_mean_squared_error: 2.5046 - mean_absolute_percentage_error: 20.7825 - val_loss: 3.8527 - val_mse: 3.8527 - val_root_mean_squared_error: 1.9628 - val_mean_absolute_percentage_error: 16.1602\n",
      "Epoch 72/300\n",
      "71/71 [==============================] - 0s 4ms/step - loss: 5.8239 - mse: 5.8239 - root_mean_squared_error: 2.4133 - mean_absolute_percentage_error: 20.4126 - val_loss: 3.7270 - val_mse: 3.7270 - val_root_mean_squared_error: 1.9306 - val_mean_absolute_percentage_error: 15.8250\n",
      "Epoch 73/300\n",
      "71/71 [==============================] - 0s 4ms/step - loss: 6.5484 - mse: 6.5484 - root_mean_squared_error: 2.5590 - mean_absolute_percentage_error: 21.1169 - val_loss: 3.6639 - val_mse: 3.6639 - val_root_mean_squared_error: 1.9141 - val_mean_absolute_percentage_error: 15.7344\n",
      "Epoch 74/300\n",
      "71/71 [==============================] - 0s 5ms/step - loss: 6.0722 - mse: 6.0722 - root_mean_squared_error: 2.4642 - mean_absolute_percentage_error: 21.0771 - val_loss: 4.1137 - val_mse: 4.1137 - val_root_mean_squared_error: 2.0282 - val_mean_absolute_percentage_error: 16.0464\n",
      "Epoch 75/300\n",
      "71/71 [==============================] - 0s 4ms/step - loss: 6.2869 - mse: 6.2869 - root_mean_squared_error: 2.5074 - mean_absolute_percentage_error: 20.9710 - val_loss: 3.6919 - val_mse: 3.6919 - val_root_mean_squared_error: 1.9214 - val_mean_absolute_percentage_error: 15.5068\n",
      "Epoch 76/300\n",
      "71/71 [==============================] - 0s 3ms/step - loss: 5.8383 - mse: 5.8383 - root_mean_squared_error: 2.4163 - mean_absolute_percentage_error: 20.1595 - val_loss: 3.9529 - val_mse: 3.9529 - val_root_mean_squared_error: 1.9882 - val_mean_absolute_percentage_error: 15.9540\n",
      "Epoch 77/300\n",
      "71/71 [==============================] - 0s 2ms/step - loss: 6.1468 - mse: 6.1468 - root_mean_squared_error: 2.4793 - mean_absolute_percentage_error: 20.4309 - val_loss: 3.5323 - val_mse: 3.5323 - val_root_mean_squared_error: 1.8794 - val_mean_absolute_percentage_error: 16.1252\n",
      "Epoch 78/300\n",
      "71/71 [==============================] - 0s 2ms/step - loss: 5.8698 - mse: 5.8698 - root_mean_squared_error: 2.4228 - mean_absolute_percentage_error: 20.1763 - val_loss: 3.6507 - val_mse: 3.6507 - val_root_mean_squared_error: 1.9107 - val_mean_absolute_percentage_error: 15.6309\n",
      "Epoch 79/300\n",
      "71/71 [==============================] - 0s 4ms/step - loss: 5.8856 - mse: 5.8856 - root_mean_squared_error: 2.4260 - mean_absolute_percentage_error: 20.1497 - val_loss: 3.8146 - val_mse: 3.8146 - val_root_mean_squared_error: 1.9531 - val_mean_absolute_percentage_error: 15.8223\n",
      "Epoch 80/300\n",
      "71/71 [==============================] - 0s 2ms/step - loss: 5.6129 - mse: 5.6129 - root_mean_squared_error: 2.3692 - mean_absolute_percentage_error: 20.0063 - val_loss: 3.9056 - val_mse: 3.9056 - val_root_mean_squared_error: 1.9763 - val_mean_absolute_percentage_error: 16.2326\n",
      "Epoch 81/300\n",
      "71/71 [==============================] - 0s 4ms/step - loss: 5.6608 - mse: 5.6608 - root_mean_squared_error: 2.3792 - mean_absolute_percentage_error: 20.0717 - val_loss: 4.0252 - val_mse: 4.0252 - val_root_mean_squared_error: 2.0063 - val_mean_absolute_percentage_error: 15.9663\n",
      "Epoch 82/300\n",
      "71/71 [==============================] - 0s 4ms/step - loss: 6.0146 - mse: 6.0146 - root_mean_squared_error: 2.4525 - mean_absolute_percentage_error: 20.3232 - val_loss: 3.7832 - val_mse: 3.7832 - val_root_mean_squared_error: 1.9450 - val_mean_absolute_percentage_error: 16.2309\n",
      "Epoch 83/300\n",
      "71/71 [==============================] - 0s 4ms/step - loss: 5.7113 - mse: 5.7113 - root_mean_squared_error: 2.3898 - mean_absolute_percentage_error: 19.9707 - val_loss: 3.6885 - val_mse: 3.6885 - val_root_mean_squared_error: 1.9205 - val_mean_absolute_percentage_error: 16.4074\n",
      "Epoch 84/300\n",
      "71/71 [==============================] - 0s 5ms/step - loss: 5.2208 - mse: 5.2208 - root_mean_squared_error: 2.2849 - mean_absolute_percentage_error: 19.7359 - val_loss: 3.4593 - val_mse: 3.4593 - val_root_mean_squared_error: 1.8599 - val_mean_absolute_percentage_error: 15.5440\n",
      "Epoch 85/300\n"
     ]
    },
    {
     "name": "stdout",
     "output_type": "stream",
     "text": [
      "71/71 [==============================] - 0s 4ms/step - loss: 5.4665 - mse: 5.4665 - root_mean_squared_error: 2.3381 - mean_absolute_percentage_error: 19.7015 - val_loss: 3.9290 - val_mse: 3.9290 - val_root_mean_squared_error: 1.9822 - val_mean_absolute_percentage_error: 15.8325\n",
      "Epoch 86/300\n",
      "71/71 [==============================] - 0s 4ms/step - loss: 5.4315 - mse: 5.4315 - root_mean_squared_error: 2.3306 - mean_absolute_percentage_error: 19.8925 - val_loss: 3.7299 - val_mse: 3.7299 - val_root_mean_squared_error: 1.9313 - val_mean_absolute_percentage_error: 15.6396\n",
      "Epoch 87/300\n",
      "71/71 [==============================] - 0s 4ms/step - loss: 5.8091 - mse: 5.8091 - root_mean_squared_error: 2.4102 - mean_absolute_percentage_error: 20.0711 - val_loss: 3.6621 - val_mse: 3.6621 - val_root_mean_squared_error: 1.9137 - val_mean_absolute_percentage_error: 15.9984\n",
      "Epoch 88/300\n",
      "71/71 [==============================] - 0s 5ms/step - loss: 5.5382 - mse: 5.5382 - root_mean_squared_error: 2.3533 - mean_absolute_percentage_error: 19.6759 - val_loss: 4.2372 - val_mse: 4.2372 - val_root_mean_squared_error: 2.0584 - val_mean_absolute_percentage_error: 16.2373\n",
      "Epoch 89/300\n",
      "71/71 [==============================] - 0s 3ms/step - loss: 5.4005 - mse: 5.4005 - root_mean_squared_error: 2.3239 - mean_absolute_percentage_error: 19.6473 - val_loss: 3.5922 - val_mse: 3.5922 - val_root_mean_squared_error: 1.8953 - val_mean_absolute_percentage_error: 15.8571\n",
      "Epoch 90/300\n",
      "71/71 [==============================] - 0s 3ms/step - loss: 5.7052 - mse: 5.7052 - root_mean_squared_error: 2.3886 - mean_absolute_percentage_error: 19.7564 - val_loss: 3.9350 - val_mse: 3.9350 - val_root_mean_squared_error: 1.9837 - val_mean_absolute_percentage_error: 16.0610\n",
      "Epoch 91/300\n",
      "71/71 [==============================] - 0s 3ms/step - loss: 5.4001 - mse: 5.4001 - root_mean_squared_error: 2.3238 - mean_absolute_percentage_error: 19.6335 - val_loss: 4.0895 - val_mse: 4.0895 - val_root_mean_squared_error: 2.0222 - val_mean_absolute_percentage_error: 16.2391\n",
      "Epoch 92/300\n",
      "71/71 [==============================] - 0s 4ms/step - loss: 5.3140 - mse: 5.3140 - root_mean_squared_error: 2.3052 - mean_absolute_percentage_error: 19.2124 - val_loss: 4.2048 - val_mse: 4.2048 - val_root_mean_squared_error: 2.0506 - val_mean_absolute_percentage_error: 15.9583\n",
      "Epoch 93/300\n",
      "71/71 [==============================] - 0s 3ms/step - loss: 5.1655 - mse: 5.1655 - root_mean_squared_error: 2.2728 - mean_absolute_percentage_error: 18.9082 - val_loss: 3.8842 - val_mse: 3.8842 - val_root_mean_squared_error: 1.9708 - val_mean_absolute_percentage_error: 16.0024\n",
      "Epoch 94/300\n",
      "71/71 [==============================] - 0s 4ms/step - loss: 5.2443 - mse: 5.2443 - root_mean_squared_error: 2.2901 - mean_absolute_percentage_error: 19.1488 - val_loss: 3.6969 - val_mse: 3.6969 - val_root_mean_squared_error: 1.9227 - val_mean_absolute_percentage_error: 15.9581\n",
      "Epoch 95/300\n",
      "71/71 [==============================] - 0s 2ms/step - loss: 5.1525 - mse: 5.1525 - root_mean_squared_error: 2.2699 - mean_absolute_percentage_error: 19.1651 - val_loss: 4.1846 - val_mse: 4.1846 - val_root_mean_squared_error: 2.0456 - val_mean_absolute_percentage_error: 16.1053\n",
      "Epoch 96/300\n",
      "71/71 [==============================] - 0s 4ms/step - loss: 4.9923 - mse: 4.9923 - root_mean_squared_error: 2.2343 - mean_absolute_percentage_error: 18.5340 - val_loss: 3.6351 - val_mse: 3.6351 - val_root_mean_squared_error: 1.9066 - val_mean_absolute_percentage_error: 16.7217\n",
      "Epoch 97/300\n",
      "71/71 [==============================] - 0s 3ms/step - loss: 5.4453 - mse: 5.4453 - root_mean_squared_error: 2.3335 - mean_absolute_percentage_error: 19.1371 - val_loss: 3.5920 - val_mse: 3.5920 - val_root_mean_squared_error: 1.8953 - val_mean_absolute_percentage_error: 15.9509\n",
      "Epoch 98/300\n",
      "71/71 [==============================] - 0s 3ms/step - loss: 4.8161 - mse: 4.8161 - root_mean_squared_error: 2.1946 - mean_absolute_percentage_error: 18.7828 - val_loss: 3.6880 - val_mse: 3.6880 - val_root_mean_squared_error: 1.9204 - val_mean_absolute_percentage_error: 15.7936\n",
      "Epoch 99/300\n",
      "71/71 [==============================] - 0s 3ms/step - loss: 5.0491 - mse: 5.0491 - root_mean_squared_error: 2.2470 - mean_absolute_percentage_error: 18.5930 - val_loss: 3.5644 - val_mse: 3.5644 - val_root_mean_squared_error: 1.8880 - val_mean_absolute_percentage_error: 15.8217\n",
      "Epoch 100/300\n",
      "71/71 [==============================] - 0s 3ms/step - loss: 5.1935 - mse: 5.1935 - root_mean_squared_error: 2.2789 - mean_absolute_percentage_error: 19.1084 - val_loss: 3.6505 - val_mse: 3.6505 - val_root_mean_squared_error: 1.9106 - val_mean_absolute_percentage_error: 15.6323\n",
      "Epoch 101/300\n",
      "71/71 [==============================] - 0s 3ms/step - loss: 5.2450 - mse: 5.2450 - root_mean_squared_error: 2.2902 - mean_absolute_percentage_error: 19.3401 - val_loss: 3.6437 - val_mse: 3.6437 - val_root_mean_squared_error: 1.9088 - val_mean_absolute_percentage_error: 15.4759\n",
      "Epoch 102/300\n",
      "71/71 [==============================] - 0s 2ms/step - loss: 5.0432 - mse: 5.0432 - root_mean_squared_error: 2.2457 - mean_absolute_percentage_error: 18.2212 - val_loss: 3.4304 - val_mse: 3.4304 - val_root_mean_squared_error: 1.8521 - val_mean_absolute_percentage_error: 15.4712\n",
      "Epoch 103/300\n",
      "71/71 [==============================] - 0s 2ms/step - loss: 5.0283 - mse: 5.0283 - root_mean_squared_error: 2.2424 - mean_absolute_percentage_error: 18.5654 - val_loss: 3.6430 - val_mse: 3.6430 - val_root_mean_squared_error: 1.9087 - val_mean_absolute_percentage_error: 15.6356\n",
      "Epoch 104/300\n",
      "71/71 [==============================] - 0s 3ms/step - loss: 5.2455 - mse: 5.2455 - root_mean_squared_error: 2.2903 - mean_absolute_percentage_error: 18.5249 - val_loss: 3.6183 - val_mse: 3.6183 - val_root_mean_squared_error: 1.9022 - val_mean_absolute_percentage_error: 15.6604\n",
      "Epoch 105/300\n",
      "71/71 [==============================] - 0s 2ms/step - loss: 4.8957 - mse: 4.8957 - root_mean_squared_error: 2.2126 - mean_absolute_percentage_error: 18.5445 - val_loss: 3.5749 - val_mse: 3.5749 - val_root_mean_squared_error: 1.8907 - val_mean_absolute_percentage_error: 15.6360\n",
      "Epoch 106/300\n",
      "71/71 [==============================] - 0s 3ms/step - loss: 4.7742 - mse: 4.7742 - root_mean_squared_error: 2.1850 - mean_absolute_percentage_error: 18.4139 - val_loss: 3.4931 - val_mse: 3.4931 - val_root_mean_squared_error: 1.8690 - val_mean_absolute_percentage_error: 15.7547\n",
      "Epoch 107/300\n",
      "71/71 [==============================] - 0s 3ms/step - loss: 4.6966 - mse: 4.6966 - root_mean_squared_error: 2.1672 - mean_absolute_percentage_error: 18.0534 - val_loss: 3.7476 - val_mse: 3.7476 - val_root_mean_squared_error: 1.9359 - val_mean_absolute_percentage_error: 15.6232\n",
      "Epoch 108/300\n",
      "71/71 [==============================] - 0s 2ms/step - loss: 4.5205 - mse: 4.5205 - root_mean_squared_error: 2.1261 - mean_absolute_percentage_error: 17.6490 - val_loss: 3.4461 - val_mse: 3.4461 - val_root_mean_squared_error: 1.8564 - val_mean_absolute_percentage_error: 15.7530\n",
      "Epoch 109/300\n",
      "71/71 [==============================] - 0s 3ms/step - loss: 4.5391 - mse: 4.5391 - root_mean_squared_error: 2.1305 - mean_absolute_percentage_error: 17.4590 - val_loss: 3.9350 - val_mse: 3.9350 - val_root_mean_squared_error: 1.9837 - val_mean_absolute_percentage_error: 15.8363\n",
      "Epoch 110/300\n",
      "71/71 [==============================] - 0s 2ms/step - loss: 4.7637 - mse: 4.7637 - root_mean_squared_error: 2.1826 - mean_absolute_percentage_error: 17.8630 - val_loss: 3.5401 - val_mse: 3.5401 - val_root_mean_squared_error: 1.8815 - val_mean_absolute_percentage_error: 15.6351\n",
      "Epoch 111/300\n",
      "71/71 [==============================] - 0s 2ms/step - loss: 4.4598 - mse: 4.4598 - root_mean_squared_error: 2.1118 - mean_absolute_percentage_error: 17.5764 - val_loss: 3.7351 - val_mse: 3.7351 - val_root_mean_squared_error: 1.9326 - val_mean_absolute_percentage_error: 15.5138\n",
      "Epoch 112/300\n",
      "71/71 [==============================] - 0s 2ms/step - loss: 4.5965 - mse: 4.5965 - root_mean_squared_error: 2.1439 - mean_absolute_percentage_error: 17.9864 - val_loss: 3.3899 - val_mse: 3.3899 - val_root_mean_squared_error: 1.8412 - val_mean_absolute_percentage_error: 15.5566\n",
      "Epoch 113/300\n"
     ]
    },
    {
     "name": "stdout",
     "output_type": "stream",
     "text": [
      "71/71 [==============================] - 0s 1ms/step - loss: 4.6219 - mse: 4.6219 - root_mean_squared_error: 2.1499 - mean_absolute_percentage_error: 17.8563 - val_loss: 3.8385 - val_mse: 3.8385 - val_root_mean_squared_error: 1.9592 - val_mean_absolute_percentage_error: 15.6547\n",
      "Epoch 114/300\n",
      "71/71 [==============================] - 0s 1ms/step - loss: 4.7901 - mse: 4.7901 - root_mean_squared_error: 2.1886 - mean_absolute_percentage_error: 17.7995 - val_loss: 3.7967 - val_mse: 3.7967 - val_root_mean_squared_error: 1.9485 - val_mean_absolute_percentage_error: 15.6618\n",
      "Epoch 115/300\n",
      "71/71 [==============================] - 0s 2ms/step - loss: 4.6942 - mse: 4.6942 - root_mean_squared_error: 2.1666 - mean_absolute_percentage_error: 18.1335 - val_loss: 3.6841 - val_mse: 3.6841 - val_root_mean_squared_error: 1.9194 - val_mean_absolute_percentage_error: 15.7318\n",
      "Epoch 116/300\n",
      "71/71 [==============================] - 0s 2ms/step - loss: 4.6174 - mse: 4.6174 - root_mean_squared_error: 2.1488 - mean_absolute_percentage_error: 17.6849 - val_loss: 3.5067 - val_mse: 3.5067 - val_root_mean_squared_error: 1.8726 - val_mean_absolute_percentage_error: 15.6686\n",
      "Epoch 117/300\n",
      "71/71 [==============================] - 0s 2ms/step - loss: 4.4116 - mse: 4.4116 - root_mean_squared_error: 2.1004 - mean_absolute_percentage_error: 17.3931 - val_loss: 3.6721 - val_mse: 3.6721 - val_root_mean_squared_error: 1.9163 - val_mean_absolute_percentage_error: 15.8039\n",
      "Epoch 118/300\n",
      "71/71 [==============================] - 0s 2ms/step - loss: 4.6468 - mse: 4.6468 - root_mean_squared_error: 2.1556 - mean_absolute_percentage_error: 17.6605 - val_loss: 3.4338 - val_mse: 3.4338 - val_root_mean_squared_error: 1.8530 - val_mean_absolute_percentage_error: 15.5242\n",
      "Epoch 119/300\n",
      "71/71 [==============================] - 0s 2ms/step - loss: 4.5662 - mse: 4.5662 - root_mean_squared_error: 2.1369 - mean_absolute_percentage_error: 17.3996 - val_loss: 3.5680 - val_mse: 3.5680 - val_root_mean_squared_error: 1.8889 - val_mean_absolute_percentage_error: 15.8959\n",
      "Epoch 120/300\n",
      "71/71 [==============================] - 0s 1ms/step - loss: 4.2824 - mse: 4.2824 - root_mean_squared_error: 2.0694 - mean_absolute_percentage_error: 17.2232 - val_loss: 3.6140 - val_mse: 3.6140 - val_root_mean_squared_error: 1.9011 - val_mean_absolute_percentage_error: 16.1950\n",
      "Epoch 121/300\n",
      "71/71 [==============================] - 0s 1ms/step - loss: 4.2012 - mse: 4.2012 - root_mean_squared_error: 2.0497 - mean_absolute_percentage_error: 17.2359 - val_loss: 3.6653 - val_mse: 3.6653 - val_root_mean_squared_error: 1.9145 - val_mean_absolute_percentage_error: 15.8188\n",
      "Epoch 122/300\n",
      "71/71 [==============================] - 0s 1ms/step - loss: 4.3048 - mse: 4.3048 - root_mean_squared_error: 2.0748 - mean_absolute_percentage_error: 17.0379 - val_loss: 3.7228 - val_mse: 3.7228 - val_root_mean_squared_error: 1.9295 - val_mean_absolute_percentage_error: 15.6189\n",
      "Epoch 123/300\n",
      "71/71 [==============================] - 0s 1ms/step - loss: 4.2912 - mse: 4.2912 - root_mean_squared_error: 2.0715 - mean_absolute_percentage_error: 16.9240 - val_loss: 3.5257 - val_mse: 3.5257 - val_root_mean_squared_error: 1.8777 - val_mean_absolute_percentage_error: 15.4551\n",
      "Epoch 124/300\n",
      "71/71 [==============================] - 0s 2ms/step - loss: 4.1183 - mse: 4.1183 - root_mean_squared_error: 2.0294 - mean_absolute_percentage_error: 17.0187 - val_loss: 3.5452 - val_mse: 3.5452 - val_root_mean_squared_error: 1.8829 - val_mean_absolute_percentage_error: 15.7850\n",
      "Epoch 125/300\n",
      "71/71 [==============================] - 0s 2ms/step - loss: 4.1247 - mse: 4.1247 - root_mean_squared_error: 2.0309 - mean_absolute_percentage_error: 17.0434 - val_loss: 3.6247 - val_mse: 3.6247 - val_root_mean_squared_error: 1.9039 - val_mean_absolute_percentage_error: 15.5335\n",
      "Epoch 126/300\n",
      "71/71 [==============================] - 0s 1ms/step - loss: 4.2708 - mse: 4.2708 - root_mean_squared_error: 2.0666 - mean_absolute_percentage_error: 17.1188 - val_loss: 3.8018 - val_mse: 3.8018 - val_root_mean_squared_error: 1.9498 - val_mean_absolute_percentage_error: 15.6712\n",
      "Epoch 127/300\n",
      "71/71 [==============================] - 0s 2ms/step - loss: 4.3582 - mse: 4.3582 - root_mean_squared_error: 2.0876 - mean_absolute_percentage_error: 17.0740 - val_loss: 3.5272 - val_mse: 3.5272 - val_root_mean_squared_error: 1.8781 - val_mean_absolute_percentage_error: 15.6700\n",
      "Epoch 128/300\n",
      "71/71 [==============================] - 0s 2ms/step - loss: 4.1777 - mse: 4.1777 - root_mean_squared_error: 2.0439 - mean_absolute_percentage_error: 17.0191 - val_loss: 3.5984 - val_mse: 3.5984 - val_root_mean_squared_error: 1.8969 - val_mean_absolute_percentage_error: 15.2989\n",
      "Epoch 129/300\n",
      "71/71 [==============================] - 0s 2ms/step - loss: 4.0829 - mse: 4.0829 - root_mean_squared_error: 2.0206 - mean_absolute_percentage_error: 16.9436 - val_loss: 3.4483 - val_mse: 3.4483 - val_root_mean_squared_error: 1.8570 - val_mean_absolute_percentage_error: 15.5545\n",
      "Epoch 130/300\n",
      "71/71 [==============================] - 0s 1ms/step - loss: 3.9554 - mse: 3.9554 - root_mean_squared_error: 1.9888 - mean_absolute_percentage_error: 16.4516 - val_loss: 3.3424 - val_mse: 3.3424 - val_root_mean_squared_error: 1.8282 - val_mean_absolute_percentage_error: 15.5460\n",
      "Epoch 131/300\n",
      "71/71 [==============================] - 0s 1ms/step - loss: 4.1047 - mse: 4.1047 - root_mean_squared_error: 2.0260 - mean_absolute_percentage_error: 16.7455 - val_loss: 3.5640 - val_mse: 3.5640 - val_root_mean_squared_error: 1.8879 - val_mean_absolute_percentage_error: 15.8388\n",
      "Epoch 132/300\n",
      "71/71 [==============================] - 0s 1ms/step - loss: 4.1423 - mse: 4.1423 - root_mean_squared_error: 2.0353 - mean_absolute_percentage_error: 16.9710 - val_loss: 3.5053 - val_mse: 3.5053 - val_root_mean_squared_error: 1.8722 - val_mean_absolute_percentage_error: 15.3195\n",
      "Epoch 133/300\n",
      "71/71 [==============================] - 0s 2ms/step - loss: 3.8517 - mse: 3.8517 - root_mean_squared_error: 1.9626 - mean_absolute_percentage_error: 16.3639 - val_loss: 3.4699 - val_mse: 3.4699 - val_root_mean_squared_error: 1.8628 - val_mean_absolute_percentage_error: 15.5771\n",
      "Epoch 134/300\n",
      "71/71 [==============================] - 0s 2ms/step - loss: 4.1729 - mse: 4.1729 - root_mean_squared_error: 2.0428 - mean_absolute_percentage_error: 16.9745 - val_loss: 3.6881 - val_mse: 3.6881 - val_root_mean_squared_error: 1.9204 - val_mean_absolute_percentage_error: 15.4351\n",
      "Epoch 135/300\n",
      "71/71 [==============================] - 0s 1ms/step - loss: 3.9865 - mse: 3.9865 - root_mean_squared_error: 1.9966 - mean_absolute_percentage_error: 16.6402 - val_loss: 3.7096 - val_mse: 3.7096 - val_root_mean_squared_error: 1.9260 - val_mean_absolute_percentage_error: 15.4013\n",
      "Epoch 136/300\n",
      "71/71 [==============================] - 0s 2ms/step - loss: 3.9033 - mse: 3.9033 - root_mean_squared_error: 1.9757 - mean_absolute_percentage_error: 16.5055 - val_loss: 3.6575 - val_mse: 3.6575 - val_root_mean_squared_error: 1.9125 - val_mean_absolute_percentage_error: 15.3846\n",
      "Epoch 137/300\n",
      "71/71 [==============================] - 0s 2ms/step - loss: 4.0220 - mse: 4.0220 - root_mean_squared_error: 2.0055 - mean_absolute_percentage_error: 16.9536 - val_loss: 3.5434 - val_mse: 3.5434 - val_root_mean_squared_error: 1.8824 - val_mean_absolute_percentage_error: 15.5460\n",
      "Epoch 138/300\n",
      "71/71 [==============================] - 0s 2ms/step - loss: 3.7939 - mse: 3.7939 - root_mean_squared_error: 1.9478 - mean_absolute_percentage_error: 16.2941 - val_loss: 3.5189 - val_mse: 3.5189 - val_root_mean_squared_error: 1.8759 - val_mean_absolute_percentage_error: 15.4898\n",
      "Epoch 139/300\n",
      "71/71 [==============================] - 0s 1ms/step - loss: 3.6725 - mse: 3.6725 - root_mean_squared_error: 1.9164 - mean_absolute_percentage_error: 16.2634 - val_loss: 3.5457 - val_mse: 3.5457 - val_root_mean_squared_error: 1.8830 - val_mean_absolute_percentage_error: 15.4511\n",
      "Epoch 140/300\n",
      "71/71 [==============================] - 0s 1ms/step - loss: 3.7485 - mse: 3.7485 - root_mean_squared_error: 1.9361 - mean_absolute_percentage_error: 15.9732 - val_loss: 3.4870 - val_mse: 3.4870 - val_root_mean_squared_error: 1.8673 - val_mean_absolute_percentage_error: 15.6060\n",
      "Epoch 141/300\n"
     ]
    },
    {
     "name": "stdout",
     "output_type": "stream",
     "text": [
      "71/71 [==============================] - 0s 1ms/step - loss: 3.5404 - mse: 3.5404 - root_mean_squared_error: 1.8816 - mean_absolute_percentage_error: 15.8488 - val_loss: 3.6664 - val_mse: 3.6664 - val_root_mean_squared_error: 1.9148 - val_mean_absolute_percentage_error: 15.7278\n",
      "Epoch 142/300\n",
      "71/71 [==============================] - 0s 2ms/step - loss: 3.6949 - mse: 3.6949 - root_mean_squared_error: 1.9222 - mean_absolute_percentage_error: 16.1459 - val_loss: 3.5924 - val_mse: 3.5924 - val_root_mean_squared_error: 1.8954 - val_mean_absolute_percentage_error: 15.4354\n",
      "Epoch 143/300\n",
      "71/71 [==============================] - 0s 2ms/step - loss: 3.7373 - mse: 3.7373 - root_mean_squared_error: 1.9332 - mean_absolute_percentage_error: 16.2737 - val_loss: 3.4979 - val_mse: 3.4979 - val_root_mean_squared_error: 1.8703 - val_mean_absolute_percentage_error: 15.5714\n",
      "Epoch 144/300\n",
      "71/71 [==============================] - 0s 1ms/step - loss: 3.7860 - mse: 3.7860 - root_mean_squared_error: 1.9458 - mean_absolute_percentage_error: 16.4608 - val_loss: 3.4737 - val_mse: 3.4737 - val_root_mean_squared_error: 1.8638 - val_mean_absolute_percentage_error: 15.4150\n",
      "Epoch 145/300\n",
      "71/71 [==============================] - 0s 1ms/step - loss: 3.5318 - mse: 3.5318 - root_mean_squared_error: 1.8793 - mean_absolute_percentage_error: 15.8059 - val_loss: 3.6834 - val_mse: 3.6834 - val_root_mean_squared_error: 1.9192 - val_mean_absolute_percentage_error: 15.9362\n",
      "Epoch 146/300\n",
      "71/71 [==============================] - 0s 2ms/step - loss: 3.7428 - mse: 3.7428 - root_mean_squared_error: 1.9346 - mean_absolute_percentage_error: 16.1476 - val_loss: 3.7161 - val_mse: 3.7161 - val_root_mean_squared_error: 1.9277 - val_mean_absolute_percentage_error: 15.8640\n",
      "Epoch 147/300\n",
      "71/71 [==============================] - 0s 2ms/step - loss: 3.6555 - mse: 3.6555 - root_mean_squared_error: 1.9119 - mean_absolute_percentage_error: 15.7061 - val_loss: 3.4902 - val_mse: 3.4902 - val_root_mean_squared_error: 1.8682 - val_mean_absolute_percentage_error: 15.8693\n",
      "Epoch 148/300\n",
      "71/71 [==============================] - 0s 2ms/step - loss: 3.5586 - mse: 3.5586 - root_mean_squared_error: 1.8864 - mean_absolute_percentage_error: 15.9255 - val_loss: 3.4778 - val_mse: 3.4778 - val_root_mean_squared_error: 1.8649 - val_mean_absolute_percentage_error: 15.4742\n",
      "Epoch 149/300\n",
      "71/71 [==============================] - 0s 1ms/step - loss: 3.5934 - mse: 3.5934 - root_mean_squared_error: 1.8956 - mean_absolute_percentage_error: 15.9857 - val_loss: 3.6925 - val_mse: 3.6925 - val_root_mean_squared_error: 1.9216 - val_mean_absolute_percentage_error: 15.7186\n",
      "Epoch 150/300\n",
      "71/71 [==============================] - 0s 1ms/step - loss: 3.4535 - mse: 3.4535 - root_mean_squared_error: 1.8584 - mean_absolute_percentage_error: 15.5829 - val_loss: 3.5360 - val_mse: 3.5360 - val_root_mean_squared_error: 1.8804 - val_mean_absolute_percentage_error: 15.5078\n",
      "Epoch 151/300\n",
      "71/71 [==============================] - 0s 2ms/step - loss: 3.5239 - mse: 3.5239 - root_mean_squared_error: 1.8772 - mean_absolute_percentage_error: 15.6969 - val_loss: 3.4894 - val_mse: 3.4894 - val_root_mean_squared_error: 1.8680 - val_mean_absolute_percentage_error: 15.3369\n",
      "Epoch 152/300\n",
      "71/71 [==============================] - 0s 1ms/step - loss: 3.4416 - mse: 3.4416 - root_mean_squared_error: 1.8551 - mean_absolute_percentage_error: 15.7018 - val_loss: 3.5355 - val_mse: 3.5355 - val_root_mean_squared_error: 1.8803 - val_mean_absolute_percentage_error: 15.3904\n",
      "Epoch 153/300\n",
      "71/71 [==============================] - 0s 1ms/step - loss: 3.5663 - mse: 3.5663 - root_mean_squared_error: 1.8885 - mean_absolute_percentage_error: 15.9659 - val_loss: 3.4453 - val_mse: 3.4453 - val_root_mean_squared_error: 1.8561 - val_mean_absolute_percentage_error: 15.7705\n",
      "Epoch 154/300\n",
      "71/71 [==============================] - 0s 1ms/step - loss: 3.8128 - mse: 3.8128 - root_mean_squared_error: 1.9526 - mean_absolute_percentage_error: 16.0306 - val_loss: 3.5978 - val_mse: 3.5978 - val_root_mean_squared_error: 1.8968 - val_mean_absolute_percentage_error: 15.8487\n",
      "Epoch 155/300\n",
      "71/71 [==============================] - 0s 2ms/step - loss: 3.6790 - mse: 3.6790 - root_mean_squared_error: 1.9181 - mean_absolute_percentage_error: 16.1644 - val_loss: 3.4902 - val_mse: 3.4902 - val_root_mean_squared_error: 1.8682 - val_mean_absolute_percentage_error: 15.1848\n",
      "Epoch 156/300\n",
      "71/71 [==============================] - 0s 2ms/step - loss: 3.7152 - mse: 3.7152 - root_mean_squared_error: 1.9275 - mean_absolute_percentage_error: 16.2149 - val_loss: 3.4124 - val_mse: 3.4124 - val_root_mean_squared_error: 1.8473 - val_mean_absolute_percentage_error: 16.0287\n",
      "Epoch 157/300\n",
      "71/71 [==============================] - 0s 1ms/step - loss: 3.6827 - mse: 3.6827 - root_mean_squared_error: 1.9190 - mean_absolute_percentage_error: 15.6475 - val_loss: 3.5521 - val_mse: 3.5521 - val_root_mean_squared_error: 1.8847 - val_mean_absolute_percentage_error: 15.9161\n",
      "Epoch 158/300\n",
      "71/71 [==============================] - 0s 1ms/step - loss: 3.3483 - mse: 3.3483 - root_mean_squared_error: 1.8298 - mean_absolute_percentage_error: 15.3174 - val_loss: 3.7468 - val_mse: 3.7468 - val_root_mean_squared_error: 1.9357 - val_mean_absolute_percentage_error: 15.7008\n",
      "Epoch 159/300\n",
      "71/71 [==============================] - 0s 1ms/step - loss: 3.3538 - mse: 3.3538 - root_mean_squared_error: 1.8314 - mean_absolute_percentage_error: 15.4137 - val_loss: 3.5440 - val_mse: 3.5440 - val_root_mean_squared_error: 1.8826 - val_mean_absolute_percentage_error: 15.8724\n",
      "Epoch 160/300\n",
      "71/71 [==============================] - 0s 2ms/step - loss: 3.4555 - mse: 3.4555 - root_mean_squared_error: 1.8589 - mean_absolute_percentage_error: 15.5505 - val_loss: 3.5262 - val_mse: 3.5262 - val_root_mean_squared_error: 1.8778 - val_mean_absolute_percentage_error: 15.4566\n",
      "Epoch 161/300\n",
      "71/71 [==============================] - 0s 1ms/step - loss: 3.2969 - mse: 3.2969 - root_mean_squared_error: 1.8157 - mean_absolute_percentage_error: 15.2923 - val_loss: 3.8805 - val_mse: 3.8805 - val_root_mean_squared_error: 1.9699 - val_mean_absolute_percentage_error: 15.5550\n",
      "Epoch 162/300\n",
      "71/71 [==============================] - 0s 1ms/step - loss: 3.1448 - mse: 3.1448 - root_mean_squared_error: 1.7734 - mean_absolute_percentage_error: 14.9879 - val_loss: 3.4960 - val_mse: 3.4960 - val_root_mean_squared_error: 1.8697 - val_mean_absolute_percentage_error: 15.4093\n",
      "Epoch 163/300\n",
      "71/71 [==============================] - 0s 1ms/step - loss: 3.4343 - mse: 3.4343 - root_mean_squared_error: 1.8532 - mean_absolute_percentage_error: 15.3742 - val_loss: 3.4757 - val_mse: 3.4757 - val_root_mean_squared_error: 1.8643 - val_mean_absolute_percentage_error: 15.5040\n",
      "Epoch 164/300\n",
      "71/71 [==============================] - 0s 2ms/step - loss: 3.3402 - mse: 3.3402 - root_mean_squared_error: 1.8276 - mean_absolute_percentage_error: 15.0598 - val_loss: 3.4686 - val_mse: 3.4686 - val_root_mean_squared_error: 1.8624 - val_mean_absolute_percentage_error: 15.6028\n",
      "Epoch 165/300\n",
      "71/71 [==============================] - 0s 2ms/step - loss: 3.1766 - mse: 3.1766 - root_mean_squared_error: 1.7823 - mean_absolute_percentage_error: 14.6470 - val_loss: 3.4785 - val_mse: 3.4785 - val_root_mean_squared_error: 1.8651 - val_mean_absolute_percentage_error: 16.2574\n",
      "Epoch 166/300\n",
      "71/71 [==============================] - 0s 1ms/step - loss: 3.2127 - mse: 3.2127 - root_mean_squared_error: 1.7924 - mean_absolute_percentage_error: 15.3951 - val_loss: 3.6098 - val_mse: 3.6098 - val_root_mean_squared_error: 1.8999 - val_mean_absolute_percentage_error: 15.1638\n",
      "Epoch 167/300\n",
      "71/71 [==============================] - 0s 1ms/step - loss: 3.0054 - mse: 3.0054 - root_mean_squared_error: 1.7336 - mean_absolute_percentage_error: 14.8793 - val_loss: 3.5154 - val_mse: 3.5154 - val_root_mean_squared_error: 1.8749 - val_mean_absolute_percentage_error: 15.4607\n",
      "Epoch 168/300\n",
      "71/71 [==============================] - 0s 2ms/step - loss: 3.3133 - mse: 3.3133 - root_mean_squared_error: 1.8203 - mean_absolute_percentage_error: 15.3721 - val_loss: 3.5747 - val_mse: 3.5747 - val_root_mean_squared_error: 1.8907 - val_mean_absolute_percentage_error: 15.5427\n",
      "Epoch 169/300\n"
     ]
    },
    {
     "name": "stdout",
     "output_type": "stream",
     "text": [
      "71/71 [==============================] - 0s 3ms/step - loss: 3.1376 - mse: 3.1376 - root_mean_squared_error: 1.7713 - mean_absolute_percentage_error: 14.9512 - val_loss: 3.5566 - val_mse: 3.5566 - val_root_mean_squared_error: 1.8859 - val_mean_absolute_percentage_error: 15.7761\n",
      "Epoch 170/300\n",
      "71/71 [==============================] - 0s 1ms/step - loss: 3.1004 - mse: 3.1004 - root_mean_squared_error: 1.7608 - mean_absolute_percentage_error: 14.9923 - val_loss: 3.5722 - val_mse: 3.5722 - val_root_mean_squared_error: 1.8900 - val_mean_absolute_percentage_error: 15.6563\n",
      "Epoch 171/300\n",
      "71/71 [==============================] - 0s 2ms/step - loss: 3.1087 - mse: 3.1087 - root_mean_squared_error: 1.7631 - mean_absolute_percentage_error: 14.8511 - val_loss: 3.4303 - val_mse: 3.4303 - val_root_mean_squared_error: 1.8521 - val_mean_absolute_percentage_error: 15.6818\n",
      "Epoch 172/300\n",
      "71/71 [==============================] - 0s 1ms/step - loss: 2.9736 - mse: 2.9736 - root_mean_squared_error: 1.7244 - mean_absolute_percentage_error: 14.7360 - val_loss: 3.5674 - val_mse: 3.5674 - val_root_mean_squared_error: 1.8887 - val_mean_absolute_percentage_error: 15.7276\n",
      "Epoch 173/300\n",
      "71/71 [==============================] - 0s 2ms/step - loss: 3.2552 - mse: 3.2552 - root_mean_squared_error: 1.8042 - mean_absolute_percentage_error: 15.4843 - val_loss: 3.4735 - val_mse: 3.4735 - val_root_mean_squared_error: 1.8637 - val_mean_absolute_percentage_error: 15.0754\n",
      "Epoch 174/300\n",
      "71/71 [==============================] - 0s 3ms/step - loss: 3.2202 - mse: 3.2202 - root_mean_squared_error: 1.7945 - mean_absolute_percentage_error: 15.2327 - val_loss: 3.5871 - val_mse: 3.5871 - val_root_mean_squared_error: 1.8940 - val_mean_absolute_percentage_error: 15.3646\n",
      "Epoch 175/300\n",
      "71/71 [==============================] - 0s 2ms/step - loss: 3.0364 - mse: 3.0364 - root_mean_squared_error: 1.7425 - mean_absolute_percentage_error: 14.6130 - val_loss: 3.4393 - val_mse: 3.4393 - val_root_mean_squared_error: 1.8545 - val_mean_absolute_percentage_error: 15.6172\n",
      "Epoch 176/300\n",
      "71/71 [==============================] - 0s 3ms/step - loss: 3.1333 - mse: 3.1333 - root_mean_squared_error: 1.7701 - mean_absolute_percentage_error: 15.3715 - val_loss: 3.4961 - val_mse: 3.4961 - val_root_mean_squared_error: 1.8698 - val_mean_absolute_percentage_error: 15.7933\n",
      "Epoch 177/300\n",
      "71/71 [==============================] - 0s 3ms/step - loss: 3.0391 - mse: 3.0391 - root_mean_squared_error: 1.7433 - mean_absolute_percentage_error: 14.8457 - val_loss: 3.3928 - val_mse: 3.3928 - val_root_mean_squared_error: 1.8419 - val_mean_absolute_percentage_error: 15.8209\n",
      "Epoch 178/300\n",
      "71/71 [==============================] - 0s 2ms/step - loss: 3.0634 - mse: 3.0634 - root_mean_squared_error: 1.7503 - mean_absolute_percentage_error: 14.9733 - val_loss: 3.5308 - val_mse: 3.5308 - val_root_mean_squared_error: 1.8791 - val_mean_absolute_percentage_error: 15.8713\n",
      "Epoch 179/300\n",
      "71/71 [==============================] - 0s 2ms/step - loss: 2.8610 - mse: 2.8610 - root_mean_squared_error: 1.6915 - mean_absolute_percentage_error: 14.5073 - val_loss: 3.5384 - val_mse: 3.5384 - val_root_mean_squared_error: 1.8811 - val_mean_absolute_percentage_error: 15.9179\n",
      "Epoch 180/300\n",
      "71/71 [==============================] - 0s 2ms/step - loss: 2.9383 - mse: 2.9383 - root_mean_squared_error: 1.7141 - mean_absolute_percentage_error: 14.5312 - val_loss: 3.4693 - val_mse: 3.4693 - val_root_mean_squared_error: 1.8626 - val_mean_absolute_percentage_error: 15.7108\n",
      "Epoch 181/300\n",
      "71/71 [==============================] - 0s 2ms/step - loss: 3.1030 - mse: 3.1030 - root_mean_squared_error: 1.7615 - mean_absolute_percentage_error: 15.0328 - val_loss: 3.4653 - val_mse: 3.4653 - val_root_mean_squared_error: 1.8615 - val_mean_absolute_percentage_error: 15.6926\n",
      "Epoch 182/300\n",
      "71/71 [==============================] - 0s 3ms/step - loss: 3.0238 - mse: 3.0238 - root_mean_squared_error: 1.7389 - mean_absolute_percentage_error: 15.0357 - val_loss: 3.4410 - val_mse: 3.4410 - val_root_mean_squared_error: 1.8550 - val_mean_absolute_percentage_error: 15.4532\n",
      "Epoch 183/300\n",
      "71/71 [==============================] - 0s 2ms/step - loss: 2.8522 - mse: 2.8522 - root_mean_squared_error: 1.6888 - mean_absolute_percentage_error: 14.6930 - val_loss: 3.4314 - val_mse: 3.4314 - val_root_mean_squared_error: 1.8524 - val_mean_absolute_percentage_error: 15.8375\n",
      "Epoch 184/300\n",
      "71/71 [==============================] - 0s 1ms/step - loss: 3.1912 - mse: 3.1912 - root_mean_squared_error: 1.7864 - mean_absolute_percentage_error: 15.0176 - val_loss: 3.3856 - val_mse: 3.3856 - val_root_mean_squared_error: 1.8400 - val_mean_absolute_percentage_error: 15.7863\n",
      "Epoch 185/300\n",
      "71/71 [==============================] - 0s 1ms/step - loss: 3.2042 - mse: 3.2042 - root_mean_squared_error: 1.7900 - mean_absolute_percentage_error: 15.1153 - val_loss: 3.5443 - val_mse: 3.5443 - val_root_mean_squared_error: 1.8826 - val_mean_absolute_percentage_error: 15.8790\n",
      "Epoch 186/300\n",
      "71/71 [==============================] - 0s 1ms/step - loss: 2.9217 - mse: 2.9217 - root_mean_squared_error: 1.7093 - mean_absolute_percentage_error: 14.6378 - val_loss: 3.4749 - val_mse: 3.4749 - val_root_mean_squared_error: 1.8641 - val_mean_absolute_percentage_error: 15.6080\n",
      "Epoch 187/300\n",
      "71/71 [==============================] - 0s 2ms/step - loss: 2.9976 - mse: 2.9976 - root_mean_squared_error: 1.7314 - mean_absolute_percentage_error: 15.0243 - val_loss: 3.5094 - val_mse: 3.5094 - val_root_mean_squared_error: 1.8733 - val_mean_absolute_percentage_error: 15.2173\n",
      "Epoch 188/300\n",
      "71/71 [==============================] - 0s 2ms/step - loss: 2.9712 - mse: 2.9712 - root_mean_squared_error: 1.7237 - mean_absolute_percentage_error: 14.7468 - val_loss: 3.6097 - val_mse: 3.6097 - val_root_mean_squared_error: 1.8999 - val_mean_absolute_percentage_error: 15.5042\n",
      "Epoch 189/300\n",
      "71/71 [==============================] - 0s 2ms/step - loss: 2.7432 - mse: 2.7432 - root_mean_squared_error: 1.6563 - mean_absolute_percentage_error: 14.5195 - val_loss: 3.4355 - val_mse: 3.4355 - val_root_mean_squared_error: 1.8535 - val_mean_absolute_percentage_error: 15.1085\n",
      "Epoch 190/300\n",
      "71/71 [==============================] - 0s 3ms/step - loss: 2.8092 - mse: 2.8092 - root_mean_squared_error: 1.6761 - mean_absolute_percentage_error: 14.5110 - val_loss: 3.5060 - val_mse: 3.5060 - val_root_mean_squared_error: 1.8724 - val_mean_absolute_percentage_error: 15.4324\n",
      "Epoch 191/300\n",
      "71/71 [==============================] - 0s 3ms/step - loss: 2.8105 - mse: 2.8105 - root_mean_squared_error: 1.6765 - mean_absolute_percentage_error: 14.3112 - val_loss: 3.4547 - val_mse: 3.4547 - val_root_mean_squared_error: 1.8587 - val_mean_absolute_percentage_error: 15.6895\n",
      "Epoch 192/300\n",
      "71/71 [==============================] - 0s 2ms/step - loss: 2.8266 - mse: 2.8266 - root_mean_squared_error: 1.6812 - mean_absolute_percentage_error: 14.6371 - val_loss: 3.3087 - val_mse: 3.3087 - val_root_mean_squared_error: 1.8190 - val_mean_absolute_percentage_error: 15.1989\n",
      "Epoch 193/300\n",
      "71/71 [==============================] - 0s 3ms/step - loss: 2.7350 - mse: 2.7350 - root_mean_squared_error: 1.6538 - mean_absolute_percentage_error: 14.5920 - val_loss: 3.4117 - val_mse: 3.4117 - val_root_mean_squared_error: 1.8471 - val_mean_absolute_percentage_error: 15.1273\n",
      "Epoch 194/300\n",
      "71/71 [==============================] - 0s 2ms/step - loss: 2.8449 - mse: 2.8449 - root_mean_squared_error: 1.6867 - mean_absolute_percentage_error: 14.4659 - val_loss: 3.5244 - val_mse: 3.5244 - val_root_mean_squared_error: 1.8773 - val_mean_absolute_percentage_error: 15.3151\n",
      "Epoch 195/300\n",
      "71/71 [==============================] - 0s 3ms/step - loss: 2.7834 - mse: 2.7834 - root_mean_squared_error: 1.6683 - mean_absolute_percentage_error: 14.3130 - val_loss: 3.3988 - val_mse: 3.3988 - val_root_mean_squared_error: 1.8436 - val_mean_absolute_percentage_error: 15.4650\n",
      "Epoch 196/300\n",
      "71/71 [==============================] - 0s 2ms/step - loss: 2.8324 - mse: 2.8324 - root_mean_squared_error: 1.6830 - mean_absolute_percentage_error: 14.5189 - val_loss: 3.4440 - val_mse: 3.4440 - val_root_mean_squared_error: 1.8558 - val_mean_absolute_percentage_error: 15.2702\n",
      "Epoch 197/300\n"
     ]
    },
    {
     "name": "stdout",
     "output_type": "stream",
     "text": [
      "71/71 [==============================] - 0s 2ms/step - loss: 2.7234 - mse: 2.7234 - root_mean_squared_error: 1.6503 - mean_absolute_percentage_error: 14.3624 - val_loss: 3.4264 - val_mse: 3.4264 - val_root_mean_squared_error: 1.8511 - val_mean_absolute_percentage_error: 15.5619\n",
      "Epoch 198/300\n",
      "71/71 [==============================] - 0s 3ms/step - loss: 2.7534 - mse: 2.7534 - root_mean_squared_error: 1.6593 - mean_absolute_percentage_error: 14.1738 - val_loss: 3.4825 - val_mse: 3.4825 - val_root_mean_squared_error: 1.8662 - val_mean_absolute_percentage_error: 15.4586\n",
      "Epoch 199/300\n",
      "71/71 [==============================] - 0s 2ms/step - loss: 2.7409 - mse: 2.7409 - root_mean_squared_error: 1.6556 - mean_absolute_percentage_error: 14.2617 - val_loss: 3.4759 - val_mse: 3.4759 - val_root_mean_squared_error: 1.8644 - val_mean_absolute_percentage_error: 15.7880\n",
      "Epoch 200/300\n",
      "71/71 [==============================] - 0s 2ms/step - loss: 2.7275 - mse: 2.7275 - root_mean_squared_error: 1.6515 - mean_absolute_percentage_error: 14.0535 - val_loss: 3.3654 - val_mse: 3.3654 - val_root_mean_squared_error: 1.8345 - val_mean_absolute_percentage_error: 15.8027\n",
      "Epoch 201/300\n",
      "71/71 [==============================] - 0s 2ms/step - loss: 2.6629 - mse: 2.6629 - root_mean_squared_error: 1.6318 - mean_absolute_percentage_error: 14.2654 - val_loss: 3.3782 - val_mse: 3.3782 - val_root_mean_squared_error: 1.8380 - val_mean_absolute_percentage_error: 15.6673\n",
      "Epoch 202/300\n",
      "71/71 [==============================] - 0s 1ms/step - loss: 2.6569 - mse: 2.6569 - root_mean_squared_error: 1.6300 - mean_absolute_percentage_error: 14.2617 - val_loss: 3.5535 - val_mse: 3.5535 - val_root_mean_squared_error: 1.8851 - val_mean_absolute_percentage_error: 15.4493\n",
      "Epoch 203/300\n",
      "71/71 [==============================] - 0s 2ms/step - loss: 2.4746 - mse: 2.4746 - root_mean_squared_error: 1.5731 - mean_absolute_percentage_error: 13.9226 - val_loss: 3.6199 - val_mse: 3.6199 - val_root_mean_squared_error: 1.9026 - val_mean_absolute_percentage_error: 15.2990\n",
      "Epoch 204/300\n",
      "71/71 [==============================] - 0s 3ms/step - loss: 2.6372 - mse: 2.6372 - root_mean_squared_error: 1.6239 - mean_absolute_percentage_error: 14.0839 - val_loss: 3.5507 - val_mse: 3.5507 - val_root_mean_squared_error: 1.8843 - val_mean_absolute_percentage_error: 15.1942\n",
      "Epoch 205/300\n",
      "71/71 [==============================] - 0s 3ms/step - loss: 2.8033 - mse: 2.8033 - root_mean_squared_error: 1.6743 - mean_absolute_percentage_error: 14.3601 - val_loss: 3.3922 - val_mse: 3.3922 - val_root_mean_squared_error: 1.8418 - val_mean_absolute_percentage_error: 15.3196\n",
      "Epoch 206/300\n",
      "71/71 [==============================] - 0s 3ms/step - loss: 2.7069 - mse: 2.7069 - root_mean_squared_error: 1.6453 - mean_absolute_percentage_error: 14.1899 - val_loss: 3.3805 - val_mse: 3.3805 - val_root_mean_squared_error: 1.8386 - val_mean_absolute_percentage_error: 15.1944\n",
      "Epoch 207/300\n",
      "71/71 [==============================] - 0s 3ms/step - loss: 2.6849 - mse: 2.6849 - root_mean_squared_error: 1.6386 - mean_absolute_percentage_error: 14.0773 - val_loss: 3.3492 - val_mse: 3.3492 - val_root_mean_squared_error: 1.8301 - val_mean_absolute_percentage_error: 15.2943\n",
      "Epoch 208/300\n",
      "71/71 [==============================] - 0s 3ms/step - loss: 2.6852 - mse: 2.6852 - root_mean_squared_error: 1.6387 - mean_absolute_percentage_error: 14.1901 - val_loss: 3.4330 - val_mse: 3.4330 - val_root_mean_squared_error: 1.8528 - val_mean_absolute_percentage_error: 15.1542\n",
      "Epoch 209/300\n",
      "71/71 [==============================] - 0s 3ms/step - loss: 2.8701 - mse: 2.8701 - root_mean_squared_error: 1.6941 - mean_absolute_percentage_error: 14.5365 - val_loss: 3.5066 - val_mse: 3.5066 - val_root_mean_squared_error: 1.8726 - val_mean_absolute_percentage_error: 15.7037\n",
      "Epoch 210/300\n",
      "71/71 [==============================] - 0s 3ms/step - loss: 2.6019 - mse: 2.6019 - root_mean_squared_error: 1.6131 - mean_absolute_percentage_error: 13.9980 - val_loss: 3.4830 - val_mse: 3.4830 - val_root_mean_squared_error: 1.8663 - val_mean_absolute_percentage_error: 15.7937\n",
      "Epoch 211/300\n",
      "71/71 [==============================] - 0s 2ms/step - loss: 2.6784 - mse: 2.6784 - root_mean_squared_error: 1.6366 - mean_absolute_percentage_error: 14.1519 - val_loss: 3.4351 - val_mse: 3.4351 - val_root_mean_squared_error: 1.8534 - val_mean_absolute_percentage_error: 15.4614\n",
      "Epoch 212/300\n",
      "71/71 [==============================] - 0s 3ms/step - loss: 2.5995 - mse: 2.5995 - root_mean_squared_error: 1.6123 - mean_absolute_percentage_error: 13.7468 - val_loss: 3.2737 - val_mse: 3.2737 - val_root_mean_squared_error: 1.8093 - val_mean_absolute_percentage_error: 15.2766\n",
      "Epoch 213/300\n",
      "71/71 [==============================] - 0s 2ms/step - loss: 2.6986 - mse: 2.6986 - root_mean_squared_error: 1.6428 - mean_absolute_percentage_error: 14.2286 - val_loss: 3.5157 - val_mse: 3.5157 - val_root_mean_squared_error: 1.8750 - val_mean_absolute_percentage_error: 15.3507\n",
      "Epoch 214/300\n",
      "71/71 [==============================] - 0s 2ms/step - loss: 2.6743 - mse: 2.6743 - root_mean_squared_error: 1.6353 - mean_absolute_percentage_error: 14.1938 - val_loss: 3.3495 - val_mse: 3.3495 - val_root_mean_squared_error: 1.8302 - val_mean_absolute_percentage_error: 15.6439\n",
      "Epoch 215/300\n",
      "71/71 [==============================] - 0s 3ms/step - loss: 2.7330 - mse: 2.7330 - root_mean_squared_error: 1.6532 - mean_absolute_percentage_error: 14.3950 - val_loss: 3.4743 - val_mse: 3.4743 - val_root_mean_squared_error: 1.8639 - val_mean_absolute_percentage_error: 16.1355\n",
      "Epoch 216/300\n",
      "71/71 [==============================] - 0s 3ms/step - loss: 2.5951 - mse: 2.5951 - root_mean_squared_error: 1.6109 - mean_absolute_percentage_error: 14.2735 - val_loss: 3.4596 - val_mse: 3.4596 - val_root_mean_squared_error: 1.8600 - val_mean_absolute_percentage_error: 15.8712\n",
      "Epoch 217/300\n",
      "71/71 [==============================] - 0s 3ms/step - loss: 2.7227 - mse: 2.7227 - root_mean_squared_error: 1.6501 - mean_absolute_percentage_error: 14.1919 - val_loss: 3.5687 - val_mse: 3.5687 - val_root_mean_squared_error: 1.8891 - val_mean_absolute_percentage_error: 15.6481\n",
      "Epoch 218/300\n",
      "71/71 [==============================] - 0s 2ms/step - loss: 2.6406 - mse: 2.6406 - root_mean_squared_error: 1.6250 - mean_absolute_percentage_error: 14.2437 - val_loss: 3.4352 - val_mse: 3.4352 - val_root_mean_squared_error: 1.8534 - val_mean_absolute_percentage_error: 15.8480\n",
      "Epoch 219/300\n",
      "71/71 [==============================] - 0s 3ms/step - loss: 2.4978 - mse: 2.4978 - root_mean_squared_error: 1.5804 - mean_absolute_percentage_error: 13.5358 - val_loss: 3.5291 - val_mse: 3.5291 - val_root_mean_squared_error: 1.8786 - val_mean_absolute_percentage_error: 15.8011\n",
      "Epoch 220/300\n",
      "71/71 [==============================] - 0s 3ms/step - loss: 2.4621 - mse: 2.4621 - root_mean_squared_error: 1.5691 - mean_absolute_percentage_error: 13.5335 - val_loss: 3.5142 - val_mse: 3.5142 - val_root_mean_squared_error: 1.8746 - val_mean_absolute_percentage_error: 15.3382\n",
      "Epoch 221/300\n",
      "71/71 [==============================] - 0s 3ms/step - loss: 2.4136 - mse: 2.4136 - root_mean_squared_error: 1.5536 - mean_absolute_percentage_error: 13.9096 - val_loss: 3.5617 - val_mse: 3.5617 - val_root_mean_squared_error: 1.8873 - val_mean_absolute_percentage_error: 15.7508\n",
      "Epoch 222/300\n",
      "71/71 [==============================] - 0s 3ms/step - loss: 2.5045 - mse: 2.5045 - root_mean_squared_error: 1.5826 - mean_absolute_percentage_error: 13.9029 - val_loss: 3.6091 - val_mse: 3.6091 - val_root_mean_squared_error: 1.8998 - val_mean_absolute_percentage_error: 15.5725\n",
      "Epoch 223/300\n",
      "71/71 [==============================] - 0s 3ms/step - loss: 2.4438 - mse: 2.4438 - root_mean_squared_error: 1.5633 - mean_absolute_percentage_error: 13.7684 - val_loss: 3.4458 - val_mse: 3.4458 - val_root_mean_squared_error: 1.8563 - val_mean_absolute_percentage_error: 16.1007\n",
      "Epoch 224/300\n",
      "71/71 [==============================] - 0s 2ms/step - loss: 2.4890 - mse: 2.4890 - root_mean_squared_error: 1.5777 - mean_absolute_percentage_error: 13.9781 - val_loss: 3.6583 - val_mse: 3.6583 - val_root_mean_squared_error: 1.9127 - val_mean_absolute_percentage_error: 15.4805\n",
      "Epoch 225/300\n"
     ]
    },
    {
     "name": "stdout",
     "output_type": "stream",
     "text": [
      "71/71 [==============================] - 0s 2ms/step - loss: 2.4199 - mse: 2.4199 - root_mean_squared_error: 1.5556 - mean_absolute_percentage_error: 13.7835 - val_loss: 3.6483 - val_mse: 3.6483 - val_root_mean_squared_error: 1.9101 - val_mean_absolute_percentage_error: 15.7131\n",
      "Epoch 226/300\n",
      "71/71 [==============================] - 0s 3ms/step - loss: 2.5662 - mse: 2.5662 - root_mean_squared_error: 1.6019 - mean_absolute_percentage_error: 14.0958 - val_loss: 3.7293 - val_mse: 3.7293 - val_root_mean_squared_error: 1.9311 - val_mean_absolute_percentage_error: 16.1109\n",
      "Epoch 227/300\n",
      "71/71 [==============================] - 0s 2ms/step - loss: 2.5118 - mse: 2.5118 - root_mean_squared_error: 1.5849 - mean_absolute_percentage_error: 13.8095 - val_loss: 3.3760 - val_mse: 3.3760 - val_root_mean_squared_error: 1.8374 - val_mean_absolute_percentage_error: 15.3888\n",
      "Epoch 228/300\n",
      "71/71 [==============================] - 0s 3ms/step - loss: 2.4017 - mse: 2.4017 - root_mean_squared_error: 1.5497 - mean_absolute_percentage_error: 13.6818 - val_loss: 3.5731 - val_mse: 3.5731 - val_root_mean_squared_error: 1.8903 - val_mean_absolute_percentage_error: 15.4904\n",
      "Epoch 229/300\n",
      "71/71 [==============================] - 0s 2ms/step - loss: 2.5388 - mse: 2.5388 - root_mean_squared_error: 1.5934 - mean_absolute_percentage_error: 13.7368 - val_loss: 3.4407 - val_mse: 3.4407 - val_root_mean_squared_error: 1.8549 - val_mean_absolute_percentage_error: 15.6836\n",
      "Epoch 230/300\n",
      "71/71 [==============================] - 0s 2ms/step - loss: 2.3783 - mse: 2.3783 - root_mean_squared_error: 1.5422 - mean_absolute_percentage_error: 13.5694 - val_loss: 3.4747 - val_mse: 3.4747 - val_root_mean_squared_error: 1.8640 - val_mean_absolute_percentage_error: 15.5941\n",
      "Epoch 231/300\n",
      "71/71 [==============================] - 0s 3ms/step - loss: 2.4683 - mse: 2.4683 - root_mean_squared_error: 1.5711 - mean_absolute_percentage_error: 14.0211 - val_loss: 3.6052 - val_mse: 3.6052 - val_root_mean_squared_error: 1.8987 - val_mean_absolute_percentage_error: 15.6901\n",
      "Epoch 232/300\n",
      "71/71 [==============================] - 0s 3ms/step - loss: 2.3875 - mse: 2.3875 - root_mean_squared_error: 1.5451 - mean_absolute_percentage_error: 13.8739 - val_loss: 3.3681 - val_mse: 3.3681 - val_root_mean_squared_error: 1.8352 - val_mean_absolute_percentage_error: 15.6389\n",
      "Epoch 233/300\n",
      "71/71 [==============================] - 0s 3ms/step - loss: 2.4163 - mse: 2.4163 - root_mean_squared_error: 1.5544 - mean_absolute_percentage_error: 13.5845 - val_loss: 3.3095 - val_mse: 3.3095 - val_root_mean_squared_error: 1.8192 - val_mean_absolute_percentage_error: 15.5220\n",
      "Epoch 234/300\n",
      "71/71 [==============================] - 0s 3ms/step - loss: 2.5763 - mse: 2.5763 - root_mean_squared_error: 1.6051 - mean_absolute_percentage_error: 14.3299 - val_loss: 3.3874 - val_mse: 3.3874 - val_root_mean_squared_error: 1.8405 - val_mean_absolute_percentage_error: 16.1344\n",
      "Epoch 235/300\n",
      "71/71 [==============================] - 0s 3ms/step - loss: 2.3990 - mse: 2.3990 - root_mean_squared_error: 1.5489 - mean_absolute_percentage_error: 13.9564 - val_loss: 3.3744 - val_mse: 3.3744 - val_root_mean_squared_error: 1.8369 - val_mean_absolute_percentage_error: 15.6209\n",
      "Epoch 236/300\n",
      "71/71 [==============================] - 0s 2ms/step - loss: 2.4975 - mse: 2.4975 - root_mean_squared_error: 1.5803 - mean_absolute_percentage_error: 13.9114 - val_loss: 3.4013 - val_mse: 3.4013 - val_root_mean_squared_error: 1.8443 - val_mean_absolute_percentage_error: 15.9021\n",
      "Epoch 237/300\n",
      "71/71 [==============================] - 0s 3ms/step - loss: 2.3009 - mse: 2.3009 - root_mean_squared_error: 1.5169 - mean_absolute_percentage_error: 13.5090 - val_loss: 3.4449 - val_mse: 3.4449 - val_root_mean_squared_error: 1.8561 - val_mean_absolute_percentage_error: 15.8664\n",
      "Epoch 238/300\n",
      "71/71 [==============================] - 0s 3ms/step - loss: 2.5557 - mse: 2.5557 - root_mean_squared_error: 1.5987 - mean_absolute_percentage_error: 13.7255 - val_loss: 3.4808 - val_mse: 3.4808 - val_root_mean_squared_error: 1.8657 - val_mean_absolute_percentage_error: 15.4696\n",
      "Epoch 239/300\n",
      "71/71 [==============================] - 0s 3ms/step - loss: 2.5280 - mse: 2.5280 - root_mean_squared_error: 1.5900 - mean_absolute_percentage_error: 13.8475 - val_loss: 3.2628 - val_mse: 3.2628 - val_root_mean_squared_error: 1.8063 - val_mean_absolute_percentage_error: 15.6447\n",
      "Epoch 240/300\n",
      "71/71 [==============================] - 0s 3ms/step - loss: 2.3808 - mse: 2.3808 - root_mean_squared_error: 1.5430 - mean_absolute_percentage_error: 13.5522 - val_loss: 3.5041 - val_mse: 3.5041 - val_root_mean_squared_error: 1.8719 - val_mean_absolute_percentage_error: 15.5872\n",
      "Epoch 241/300\n",
      "71/71 [==============================] - 0s 2ms/step - loss: 2.4105 - mse: 2.4105 - root_mean_squared_error: 1.5526 - mean_absolute_percentage_error: 13.7200 - val_loss: 3.3796 - val_mse: 3.3796 - val_root_mean_squared_error: 1.8384 - val_mean_absolute_percentage_error: 15.8657\n",
      "Epoch 242/300\n",
      "71/71 [==============================] - 0s 2ms/step - loss: 2.3552 - mse: 2.3552 - root_mean_squared_error: 1.5347 - mean_absolute_percentage_error: 13.5458 - val_loss: 3.3848 - val_mse: 3.3848 - val_root_mean_squared_error: 1.8398 - val_mean_absolute_percentage_error: 15.6770\n",
      "Epoch 243/300\n",
      "71/71 [==============================] - 0s 3ms/step - loss: 2.4133 - mse: 2.4133 - root_mean_squared_error: 1.5535 - mean_absolute_percentage_error: 13.7699 - val_loss: 3.5023 - val_mse: 3.5023 - val_root_mean_squared_error: 1.8714 - val_mean_absolute_percentage_error: 15.8172\n",
      "Epoch 244/300\n",
      "71/71 [==============================] - 0s 2ms/step - loss: 2.3005 - mse: 2.3005 - root_mean_squared_error: 1.5168 - mean_absolute_percentage_error: 13.4257 - val_loss: 3.4638 - val_mse: 3.4638 - val_root_mean_squared_error: 1.8611 - val_mean_absolute_percentage_error: 16.3093\n",
      "Epoch 245/300\n",
      "71/71 [==============================] - 0s 3ms/step - loss: 2.3564 - mse: 2.3564 - root_mean_squared_error: 1.5351 - mean_absolute_percentage_error: 13.6775 - val_loss: 3.4175 - val_mse: 3.4175 - val_root_mean_squared_error: 1.8487 - val_mean_absolute_percentage_error: 15.7196\n",
      "Epoch 246/300\n",
      "71/71 [==============================] - 0s 2ms/step - loss: 2.4225 - mse: 2.4225 - root_mean_squared_error: 1.5564 - mean_absolute_percentage_error: 13.5499 - val_loss: 3.4556 - val_mse: 3.4556 - val_root_mean_squared_error: 1.8589 - val_mean_absolute_percentage_error: 15.5245\n",
      "Epoch 247/300\n",
      "71/71 [==============================] - 0s 2ms/step - loss: 2.3928 - mse: 2.3928 - root_mean_squared_error: 1.5469 - mean_absolute_percentage_error: 13.4281 - val_loss: 3.3364 - val_mse: 3.3364 - val_root_mean_squared_error: 1.8266 - val_mean_absolute_percentage_error: 15.7480\n",
      "Epoch 248/300\n",
      "71/71 [==============================] - 0s 2ms/step - loss: 2.2842 - mse: 2.2842 - root_mean_squared_error: 1.5113 - mean_absolute_percentage_error: 13.4923 - val_loss: 3.3929 - val_mse: 3.3929 - val_root_mean_squared_error: 1.8420 - val_mean_absolute_percentage_error: 16.5474\n",
      "Epoch 249/300\n",
      "71/71 [==============================] - 0s 2ms/step - loss: 2.3385 - mse: 2.3385 - root_mean_squared_error: 1.5292 - mean_absolute_percentage_error: 13.9080 - val_loss: 3.3797 - val_mse: 3.3797 - val_root_mean_squared_error: 1.8384 - val_mean_absolute_percentage_error: 15.5502\n",
      "Epoch 250/300\n",
      "71/71 [==============================] - 0s 2ms/step - loss: 2.4187 - mse: 2.4187 - root_mean_squared_error: 1.5552 - mean_absolute_percentage_error: 13.6601 - val_loss: 3.3267 - val_mse: 3.3267 - val_root_mean_squared_error: 1.8239 - val_mean_absolute_percentage_error: 15.8894\n",
      "Epoch 251/300\n",
      "71/71 [==============================] - 0s 2ms/step - loss: 2.3369 - mse: 2.3369 - root_mean_squared_error: 1.5287 - mean_absolute_percentage_error: 13.7981 - val_loss: 3.3019 - val_mse: 3.3019 - val_root_mean_squared_error: 1.8171 - val_mean_absolute_percentage_error: 15.4856\n",
      "Epoch 252/300\n",
      "71/71 [==============================] - 0s 3ms/step - loss: 2.3049 - mse: 2.3049 - root_mean_squared_error: 1.5182 - mean_absolute_percentage_error: 13.6371 - val_loss: 3.4067 - val_mse: 3.4067 - val_root_mean_squared_error: 1.8457 - val_mean_absolute_percentage_error: 15.1091\n",
      "Epoch 253/300\n"
     ]
    },
    {
     "name": "stdout",
     "output_type": "stream",
     "text": [
      "71/71 [==============================] - 0s 2ms/step - loss: 2.3334 - mse: 2.3334 - root_mean_squared_error: 1.5275 - mean_absolute_percentage_error: 13.7921 - val_loss: 3.4401 - val_mse: 3.4401 - val_root_mean_squared_error: 1.8548 - val_mean_absolute_percentage_error: 15.3109\n",
      "Epoch 254/300\n",
      "71/71 [==============================] - 0s 2ms/step - loss: 2.4452 - mse: 2.4452 - root_mean_squared_error: 1.5637 - mean_absolute_percentage_error: 14.2688 - val_loss: 3.4458 - val_mse: 3.4458 - val_root_mean_squared_error: 1.8563 - val_mean_absolute_percentage_error: 15.7730\n",
      "Epoch 255/300\n",
      "71/71 [==============================] - 0s 3ms/step - loss: 2.3773 - mse: 2.3773 - root_mean_squared_error: 1.5418 - mean_absolute_percentage_error: 13.8873 - val_loss: 3.5389 - val_mse: 3.5389 - val_root_mean_squared_error: 1.8812 - val_mean_absolute_percentage_error: 15.4673\n",
      "Epoch 256/300\n",
      "71/71 [==============================] - 0s 2ms/step - loss: 2.4384 - mse: 2.4384 - root_mean_squared_error: 1.5615 - mean_absolute_percentage_error: 13.8722 - val_loss: 3.3818 - val_mse: 3.3818 - val_root_mean_squared_error: 1.8390 - val_mean_absolute_percentage_error: 15.3456\n",
      "Epoch 257/300\n",
      "71/71 [==============================] - 0s 1ms/step - loss: 2.2817 - mse: 2.2817 - root_mean_squared_error: 1.5105 - mean_absolute_percentage_error: 13.5503 - val_loss: 3.4267 - val_mse: 3.4267 - val_root_mean_squared_error: 1.8511 - val_mean_absolute_percentage_error: 15.9431\n",
      "Epoch 258/300\n",
      "71/71 [==============================] - 0s 1ms/step - loss: 2.2279 - mse: 2.2279 - root_mean_squared_error: 1.4926 - mean_absolute_percentage_error: 13.3971 - val_loss: 3.3968 - val_mse: 3.3968 - val_root_mean_squared_error: 1.8431 - val_mean_absolute_percentage_error: 15.4199\n",
      "Epoch 259/300\n",
      "71/71 [==============================] - 0s 2ms/step - loss: 2.2529 - mse: 2.2529 - root_mean_squared_error: 1.5010 - mean_absolute_percentage_error: 13.6047 - val_loss: 3.4663 - val_mse: 3.4663 - val_root_mean_squared_error: 1.8618 - val_mean_absolute_percentage_error: 15.4758\n",
      "Epoch 260/300\n",
      "71/71 [==============================] - 0s 3ms/step - loss: 2.2520 - mse: 2.2520 - root_mean_squared_error: 1.5007 - mean_absolute_percentage_error: 13.3271 - val_loss: 3.5225 - val_mse: 3.5225 - val_root_mean_squared_error: 1.8768 - val_mean_absolute_percentage_error: 15.9247\n",
      "Epoch 261/300\n",
      "71/71 [==============================] - 0s 3ms/step - loss: 2.2957 - mse: 2.2957 - root_mean_squared_error: 1.5152 - mean_absolute_percentage_error: 13.7456 - val_loss: 3.4363 - val_mse: 3.4363 - val_root_mean_squared_error: 1.8537 - val_mean_absolute_percentage_error: 15.5456\n",
      "Epoch 262/300\n",
      "71/71 [==============================] - 0s 3ms/step - loss: 2.1880 - mse: 2.1880 - root_mean_squared_error: 1.4792 - mean_absolute_percentage_error: 13.6772 - val_loss: 3.6066 - val_mse: 3.6066 - val_root_mean_squared_error: 1.8991 - val_mean_absolute_percentage_error: 15.8406\n",
      "Epoch 263/300\n",
      "71/71 [==============================] - 0s 3ms/step - loss: 2.3367 - mse: 2.3367 - root_mean_squared_error: 1.5286 - mean_absolute_percentage_error: 13.9590 - val_loss: 3.3610 - val_mse: 3.3610 - val_root_mean_squared_error: 1.8333 - val_mean_absolute_percentage_error: 16.6250\n",
      "Epoch 264/300\n",
      "71/71 [==============================] - 0s 3ms/step - loss: 2.3192 - mse: 2.3192 - root_mean_squared_error: 1.5229 - mean_absolute_percentage_error: 13.7203 - val_loss: 3.3740 - val_mse: 3.3740 - val_root_mean_squared_error: 1.8368 - val_mean_absolute_percentage_error: 15.6898\n",
      "Epoch 265/300\n",
      "71/71 [==============================] - 0s 3ms/step - loss: 2.3253 - mse: 2.3253 - root_mean_squared_error: 1.5249 - mean_absolute_percentage_error: 13.6783 - val_loss: 3.4009 - val_mse: 3.4009 - val_root_mean_squared_error: 1.8442 - val_mean_absolute_percentage_error: 15.4695\n",
      "Epoch 266/300\n",
      "71/71 [==============================] - 0s 3ms/step - loss: 2.2696 - mse: 2.2696 - root_mean_squared_error: 1.5065 - mean_absolute_percentage_error: 13.7392 - val_loss: 3.3540 - val_mse: 3.3540 - val_root_mean_squared_error: 1.8314 - val_mean_absolute_percentage_error: 15.9483\n",
      "Epoch 267/300\n",
      "71/71 [==============================] - 0s 3ms/step - loss: 2.3331 - mse: 2.3331 - root_mean_squared_error: 1.5275 - mean_absolute_percentage_error: 13.7916 - val_loss: 3.3461 - val_mse: 3.3461 - val_root_mean_squared_error: 1.8292 - val_mean_absolute_percentage_error: 15.7163\n",
      "Epoch 268/300\n",
      "71/71 [==============================] - 0s 3ms/step - loss: 2.1353 - mse: 2.1353 - root_mean_squared_error: 1.4613 - mean_absolute_percentage_error: 13.0892 - val_loss: 3.2799 - val_mse: 3.2799 - val_root_mean_squared_error: 1.8111 - val_mean_absolute_percentage_error: 15.8441\n",
      "Epoch 269/300\n",
      "71/71 [==============================] - 0s 3ms/step - loss: 2.3958 - mse: 2.3958 - root_mean_squared_error: 1.5479 - mean_absolute_percentage_error: 13.8890 - val_loss: 3.4458 - val_mse: 3.4458 - val_root_mean_squared_error: 1.8563 - val_mean_absolute_percentage_error: 15.5902\n",
      "Epoch 270/300\n",
      "71/71 [==============================] - 0s 3ms/step - loss: 2.1079 - mse: 2.1079 - root_mean_squared_error: 1.4519 - mean_absolute_percentage_error: 13.0490 - val_loss: 3.6279 - val_mse: 3.6279 - val_root_mean_squared_error: 1.9047 - val_mean_absolute_percentage_error: 15.6447\n",
      "Epoch 271/300\n",
      "71/71 [==============================] - 0s 2ms/step - loss: 2.3249 - mse: 2.3249 - root_mean_squared_error: 1.5248 - mean_absolute_percentage_error: 13.5575 - val_loss: 3.3153 - val_mse: 3.3153 - val_root_mean_squared_error: 1.8208 - val_mean_absolute_percentage_error: 16.0720\n",
      "Epoch 272/300\n",
      "71/71 [==============================] - 0s 2ms/step - loss: 2.1797 - mse: 2.1797 - root_mean_squared_error: 1.4764 - mean_absolute_percentage_error: 13.3363 - val_loss: 3.4080 - val_mse: 3.4080 - val_root_mean_squared_error: 1.8461 - val_mean_absolute_percentage_error: 15.6072\n",
      "Epoch 273/300\n",
      "71/71 [==============================] - 0s 3ms/step - loss: 2.2337 - mse: 2.2337 - root_mean_squared_error: 1.4946 - mean_absolute_percentage_error: 13.4819 - val_loss: 3.2852 - val_mse: 3.2852 - val_root_mean_squared_error: 1.8125 - val_mean_absolute_percentage_error: 15.9945\n",
      "Epoch 274/300\n",
      "71/71 [==============================] - 0s 2ms/step - loss: 2.3308 - mse: 2.3308 - root_mean_squared_error: 1.5267 - mean_absolute_percentage_error: 13.6433 - val_loss: 3.4534 - val_mse: 3.4534 - val_root_mean_squared_error: 1.8583 - val_mean_absolute_percentage_error: 15.9071\n",
      "Epoch 275/300\n",
      "71/71 [==============================] - 0s 1ms/step - loss: 2.2044 - mse: 2.2044 - root_mean_squared_error: 1.4847 - mean_absolute_percentage_error: 13.3985 - val_loss: 3.4261 - val_mse: 3.4261 - val_root_mean_squared_error: 1.8510 - val_mean_absolute_percentage_error: 15.4527\n",
      "Epoch 276/300\n",
      "71/71 [==============================] - 0s 1ms/step - loss: 2.0892 - mse: 2.0892 - root_mean_squared_error: 1.4454 - mean_absolute_percentage_error: 13.1498 - val_loss: 3.4375 - val_mse: 3.4375 - val_root_mean_squared_error: 1.8541 - val_mean_absolute_percentage_error: 15.2553\n",
      "Epoch 277/300\n",
      "71/71 [==============================] - 0s 2ms/step - loss: 2.1935 - mse: 2.1935 - root_mean_squared_error: 1.4811 - mean_absolute_percentage_error: 13.3270 - val_loss: 3.3706 - val_mse: 3.3706 - val_root_mean_squared_error: 1.8359 - val_mean_absolute_percentage_error: 15.5765\n",
      "Epoch 278/300\n",
      "71/71 [==============================] - 0s 2ms/step - loss: 2.2573 - mse: 2.2573 - root_mean_squared_error: 1.5024 - mean_absolute_percentage_error: 13.4398 - val_loss: 3.3416 - val_mse: 3.3416 - val_root_mean_squared_error: 1.8280 - val_mean_absolute_percentage_error: 15.5829\n",
      "Epoch 279/300\n",
      "71/71 [==============================] - 0s 1ms/step - loss: 2.2012 - mse: 2.2012 - root_mean_squared_error: 1.4836 - mean_absolute_percentage_error: 13.3948 - val_loss: 3.5062 - val_mse: 3.5062 - val_root_mean_squared_error: 1.8725 - val_mean_absolute_percentage_error: 15.7153\n",
      "Epoch 280/300\n",
      "71/71 [==============================] - 0s 1ms/step - loss: 2.1401 - mse: 2.1401 - root_mean_squared_error: 1.4629 - mean_absolute_percentage_error: 13.3996 - val_loss: 3.4046 - val_mse: 3.4046 - val_root_mean_squared_error: 1.8451 - val_mean_absolute_percentage_error: 15.3109\n",
      "Epoch 281/300\n"
     ]
    },
    {
     "name": "stdout",
     "output_type": "stream",
     "text": [
      "71/71 [==============================] - 0s 1ms/step - loss: 2.1515 - mse: 2.1515 - root_mean_squared_error: 1.4668 - mean_absolute_percentage_error: 13.0823 - val_loss: 3.2690 - val_mse: 3.2690 - val_root_mean_squared_error: 1.8080 - val_mean_absolute_percentage_error: 15.8062\n",
      "Epoch 282/300\n",
      "71/71 [==============================] - 0s 2ms/step - loss: 2.0994 - mse: 2.0994 - root_mean_squared_error: 1.4489 - mean_absolute_percentage_error: 13.1735 - val_loss: 3.4688 - val_mse: 3.4688 - val_root_mean_squared_error: 1.8625 - val_mean_absolute_percentage_error: 15.6133\n",
      "Epoch 283/300\n",
      "71/71 [==============================] - 0s 1ms/step - loss: 2.1080 - mse: 2.1080 - root_mean_squared_error: 1.4519 - mean_absolute_percentage_error: 13.2394 - val_loss: 3.5487 - val_mse: 3.5487 - val_root_mean_squared_error: 1.8838 - val_mean_absolute_percentage_error: 15.4358\n",
      "Epoch 284/300\n",
      "71/71 [==============================] - 0s 1ms/step - loss: 2.3135 - mse: 2.3135 - root_mean_squared_error: 1.5210 - mean_absolute_percentage_error: 13.5547 - val_loss: 3.4604 - val_mse: 3.4604 - val_root_mean_squared_error: 1.8602 - val_mean_absolute_percentage_error: 15.7011\n",
      "Epoch 285/300\n",
      "71/71 [==============================] - 0s 1ms/step - loss: 2.4043 - mse: 2.4043 - root_mean_squared_error: 1.5506 - mean_absolute_percentage_error: 13.4957 - val_loss: 3.3895 - val_mse: 3.3895 - val_root_mean_squared_error: 1.8410 - val_mean_absolute_percentage_error: 15.7355\n",
      "Epoch 286/300\n",
      "71/71 [==============================] - 0s 2ms/step - loss: 2.0300 - mse: 2.0300 - root_mean_squared_error: 1.4248 - mean_absolute_percentage_error: 13.0880 - val_loss: 3.4081 - val_mse: 3.4081 - val_root_mean_squared_error: 1.8461 - val_mean_absolute_percentage_error: 15.9019\n",
      "Epoch 287/300\n",
      "71/71 [==============================] - 0s 2ms/step - loss: 2.0948 - mse: 2.0948 - root_mean_squared_error: 1.4474 - mean_absolute_percentage_error: 13.2127 - val_loss: 3.3239 - val_mse: 3.3239 - val_root_mean_squared_error: 1.8232 - val_mean_absolute_percentage_error: 15.6677\n",
      "Epoch 288/300\n",
      "71/71 [==============================] - 0s 1ms/step - loss: 2.0979 - mse: 2.0979 - root_mean_squared_error: 1.4484 - mean_absolute_percentage_error: 13.2269 - val_loss: 3.6557 - val_mse: 3.6557 - val_root_mean_squared_error: 1.9120 - val_mean_absolute_percentage_error: 15.5079\n",
      "Epoch 289/300\n",
      "71/71 [==============================] - 0s 1ms/step - loss: 2.0023 - mse: 2.0023 - root_mean_squared_error: 1.4150 - mean_absolute_percentage_error: 12.9353 - val_loss: 3.5691 - val_mse: 3.5691 - val_root_mean_squared_error: 1.8892 - val_mean_absolute_percentage_error: 15.7465\n",
      "Epoch 290/300\n",
      "71/71 [==============================] - 0s 1ms/step - loss: 2.2293 - mse: 2.2293 - root_mean_squared_error: 1.4931 - mean_absolute_percentage_error: 13.5113 - val_loss: 3.5094 - val_mse: 3.5094 - val_root_mean_squared_error: 1.8733 - val_mean_absolute_percentage_error: 15.4432\n",
      "Epoch 291/300\n",
      "71/71 [==============================] - 0s 2ms/step - loss: 2.1654 - mse: 2.1654 - root_mean_squared_error: 1.4715 - mean_absolute_percentage_error: 13.1895 - val_loss: 3.4534 - val_mse: 3.4534 - val_root_mean_squared_error: 1.8583 - val_mean_absolute_percentage_error: 15.5445\n",
      "Epoch 292/300\n",
      "71/71 [==============================] - 0s 2ms/step - loss: 2.1958 - mse: 2.1958 - root_mean_squared_error: 1.4818 - mean_absolute_percentage_error: 13.1416 - val_loss: 3.4501 - val_mse: 3.4501 - val_root_mean_squared_error: 1.8575 - val_mean_absolute_percentage_error: 15.5570\n",
      "Epoch 293/300\n",
      "71/71 [==============================] - 0s 1ms/step - loss: 1.9519 - mse: 1.9519 - root_mean_squared_error: 1.3971 - mean_absolute_percentage_error: 12.8653 - val_loss: 3.5298 - val_mse: 3.5298 - val_root_mean_squared_error: 1.8788 - val_mean_absolute_percentage_error: 15.7814\n",
      "Epoch 294/300\n",
      "71/71 [==============================] - 0s 2ms/step - loss: 2.0600 - mse: 2.0600 - root_mean_squared_error: 1.4353 - mean_absolute_percentage_error: 12.9928 - val_loss: 3.6292 - val_mse: 3.6292 - val_root_mean_squared_error: 1.9050 - val_mean_absolute_percentage_error: 15.7319\n",
      "Epoch 295/300\n",
      "71/71 [==============================] - 0s 3ms/step - loss: 2.0656 - mse: 2.0656 - root_mean_squared_error: 1.4372 - mean_absolute_percentage_error: 12.8901 - val_loss: 3.4308 - val_mse: 3.4308 - val_root_mean_squared_error: 1.8523 - val_mean_absolute_percentage_error: 16.1110\n",
      "Epoch 296/300\n",
      "71/71 [==============================] - 0s 3ms/step - loss: 1.9365 - mse: 1.9365 - root_mean_squared_error: 1.3916 - mean_absolute_percentage_error: 12.8845 - val_loss: 3.5584 - val_mse: 3.5584 - val_root_mean_squared_error: 1.8864 - val_mean_absolute_percentage_error: 16.2583\n",
      "Epoch 297/300\n",
      "71/71 [==============================] - 0s 2ms/step - loss: 2.0920 - mse: 2.0920 - root_mean_squared_error: 1.4464 - mean_absolute_percentage_error: 13.4311 - val_loss: 3.5384 - val_mse: 3.5384 - val_root_mean_squared_error: 1.8811 - val_mean_absolute_percentage_error: 15.4442\n",
      "Epoch 298/300\n",
      "71/71 [==============================] - 0s 3ms/step - loss: 2.1471 - mse: 2.1471 - root_mean_squared_error: 1.4653 - mean_absolute_percentage_error: 13.0322 - val_loss: 3.4871 - val_mse: 3.4871 - val_root_mean_squared_error: 1.8674 - val_mean_absolute_percentage_error: 15.8228\n",
      "Epoch 299/300\n",
      "71/71 [==============================] - 0s 3ms/step - loss: 2.0102 - mse: 2.0102 - root_mean_squared_error: 1.4178 - mean_absolute_percentage_error: 12.8188 - val_loss: 3.5789 - val_mse: 3.5789 - val_root_mean_squared_error: 1.8918 - val_mean_absolute_percentage_error: 15.7577\n",
      "Epoch 300/300\n",
      "71/71 [==============================] - 0s 3ms/step - loss: 2.0661 - mse: 2.0661 - root_mean_squared_error: 1.4374 - mean_absolute_percentage_error: 12.9748 - val_loss: 3.3670 - val_mse: 3.3670 - val_root_mean_squared_error: 1.8349 - val_mean_absolute_percentage_error: 15.8544\n"
     ]
    }
   ],
   "source": [
    "history_1 = model_1.fit(Z_train, y_train,\n",
    "          epochs= 300,\n",
    "          validation_data= (Z_test, y_test),\n",
    "          verbose= 1\n",
    "         )"
   ]
  },
  {
   "cell_type": "code",
   "execution_count": 30,
   "id": "d3030751",
   "metadata": {},
   "outputs": [
    {
     "data": {
      "text/plain": [
       "0.9355177454230842"
      ]
     },
     "execution_count": 30,
     "metadata": {},
     "output_type": "execute_result"
    }
   ],
   "source": [
    "r2_score(y_train, model_1.predict(Z_train))"
   ]
  },
  {
   "cell_type": "code",
   "execution_count": 31,
   "id": "2c2e2172",
   "metadata": {},
   "outputs": [
    {
     "data": {
      "text/plain": [
       "0.6582952411373528"
      ]
     },
     "execution_count": 31,
     "metadata": {},
     "output_type": "execute_result"
    }
   ],
   "source": [
    "r2_score(y_test, model_1.predict(Z_test))"
   ]
  },
  {
   "cell_type": "code",
   "execution_count": 43,
   "id": "bfb12871",
   "metadata": {},
   "outputs": [],
   "source": [
    "nn_train = model_1.predict(Z_train)\n",
    "nn_test = model_1.predict(Z_test)\n",
    "nn_train = [g[0] for g in nn_train]\n",
    "nn_test = [h[0] for h in nn_test]"
   ]
  },
  {
   "cell_type": "markdown",
   "id": "35e78b21",
   "metadata": {},
   "source": [
    "### Second level model based on linear regression and neural network preds"
   ]
  },
  {
   "cell_type": "code",
   "execution_count": 34,
   "id": "6ff5a001",
   "metadata": {},
   "outputs": [],
   "source": [
    "a =pd.DataFrame([lin_train, nn_train, y_train], index=['lin_reg', 'nn', 'y']).T\n",
    "b = pd.DataFrame([lin_test, nn_test, y_test], index=['lin_reg', 'nn', 'y']).T"
   ]
  },
  {
   "cell_type": "code",
   "execution_count": 35,
   "id": "0f3cee69",
   "metadata": {
    "scrolled": false
   },
   "outputs": [
    {
     "data": {
      "text/html": [
       "<div>\n",
       "<style scoped>\n",
       "    .dataframe tbody tr th:only-of-type {\n",
       "        vertical-align: middle;\n",
       "    }\n",
       "\n",
       "    .dataframe tbody tr th {\n",
       "        vertical-align: top;\n",
       "    }\n",
       "\n",
       "    .dataframe thead th {\n",
       "        text-align: right;\n",
       "    }\n",
       "</style>\n",
       "<table border=\"1\" class=\"dataframe\">\n",
       "  <thead>\n",
       "    <tr style=\"text-align: right;\">\n",
       "      <th></th>\n",
       "      <th>lin_reg</th>\n",
       "      <th>nn</th>\n",
       "      <th>y</th>\n",
       "    </tr>\n",
       "  </thead>\n",
       "  <tbody>\n",
       "    <tr>\n",
       "      <th>0</th>\n",
       "      <td>10.922396</td>\n",
       "      <td>10.147157</td>\n",
       "      <td>11.7</td>\n",
       "    </tr>\n",
       "    <tr>\n",
       "      <th>1</th>\n",
       "      <td>7.817903</td>\n",
       "      <td>8.496628</td>\n",
       "      <td>9.9</td>\n",
       "    </tr>\n",
       "    <tr>\n",
       "      <th>2</th>\n",
       "      <td>12.166780</td>\n",
       "      <td>8.927699</td>\n",
       "      <td>8.0</td>\n",
       "    </tr>\n",
       "    <tr>\n",
       "      <th>3</th>\n",
       "      <td>12.499178</td>\n",
       "      <td>11.561239</td>\n",
       "      <td>11.6</td>\n",
       "    </tr>\n",
       "    <tr>\n",
       "      <th>4</th>\n",
       "      <td>9.030794</td>\n",
       "      <td>7.003753</td>\n",
       "      <td>7.4</td>\n",
       "    </tr>\n",
       "  </tbody>\n",
       "</table>\n",
       "</div>"
      ],
      "text/plain": [
       "     lin_reg         nn     y\n",
       "0  10.922396  10.147157  11.7\n",
       "1   7.817903   8.496628   9.9\n",
       "2  12.166780   8.927699   8.0\n",
       "3  12.499178  11.561239  11.6\n",
       "4   9.030794   7.003753   7.4"
      ]
     },
     "execution_count": 35,
     "metadata": {},
     "output_type": "execute_result"
    }
   ],
   "source": [
    "a.head()"
   ]
  },
  {
   "cell_type": "code",
   "execution_count": 36,
   "id": "37b8f5bb",
   "metadata": {},
   "outputs": [
    {
     "data": {
      "text/html": [
       "<div>\n",
       "<style scoped>\n",
       "    .dataframe tbody tr th:only-of-type {\n",
       "        vertical-align: middle;\n",
       "    }\n",
       "\n",
       "    .dataframe tbody tr th {\n",
       "        vertical-align: top;\n",
       "    }\n",
       "\n",
       "    .dataframe thead th {\n",
       "        text-align: right;\n",
       "    }\n",
       "</style>\n",
       "<table border=\"1\" class=\"dataframe\">\n",
       "  <thead>\n",
       "    <tr style=\"text-align: right;\">\n",
       "      <th></th>\n",
       "      <th>lin_reg</th>\n",
       "      <th>nn</th>\n",
       "      <th>y</th>\n",
       "    </tr>\n",
       "  </thead>\n",
       "  <tbody>\n",
       "    <tr>\n",
       "      <th>0</th>\n",
       "      <td>12.136029</td>\n",
       "      <td>11.443439</td>\n",
       "      <td>12.5</td>\n",
       "    </tr>\n",
       "    <tr>\n",
       "      <th>1</th>\n",
       "      <td>10.070358</td>\n",
       "      <td>9.085341</td>\n",
       "      <td>5.9</td>\n",
       "    </tr>\n",
       "    <tr>\n",
       "      <th>2</th>\n",
       "      <td>11.389406</td>\n",
       "      <td>10.169192</td>\n",
       "      <td>10.7</td>\n",
       "    </tr>\n",
       "    <tr>\n",
       "      <th>3</th>\n",
       "      <td>7.893248</td>\n",
       "      <td>6.928510</td>\n",
       "      <td>6.3</td>\n",
       "    </tr>\n",
       "    <tr>\n",
       "      <th>4</th>\n",
       "      <td>12.921743</td>\n",
       "      <td>11.743506</td>\n",
       "      <td>12.4</td>\n",
       "    </tr>\n",
       "  </tbody>\n",
       "</table>\n",
       "</div>"
      ],
      "text/plain": [
       "     lin_reg         nn     y\n",
       "0  12.136029  11.443439  12.5\n",
       "1  10.070358   9.085341   5.9\n",
       "2  11.389406  10.169192  10.7\n",
       "3   7.893248   6.928510   6.3\n",
       "4  12.921743  11.743506  12.4"
      ]
     },
     "execution_count": 36,
     "metadata": {},
     "output_type": "execute_result"
    }
   ],
   "source": [
    "b.head()"
   ]
  },
  {
   "cell_type": "code",
   "execution_count": 37,
   "id": "9bfd46ed",
   "metadata": {},
   "outputs": [],
   "source": [
    "Xa = a.drop(columns='y')\n",
    "ya = a['y']\n",
    "Xa_train, Xa_test, ya_train, ya_test = train_test_split(Xa, ya, random_state=42)"
   ]
  },
  {
   "cell_type": "code",
   "execution_count": 38,
   "id": "c9a4caa8",
   "metadata": {},
   "outputs": [],
   "source": [
    "lev2 = LinearRegression()"
   ]
  },
  {
   "cell_type": "code",
   "execution_count": 39,
   "id": "45f1705c",
   "metadata": {},
   "outputs": [
    {
     "data": {
      "text/plain": [
       "LinearRegression()"
      ]
     },
     "execution_count": 39,
     "metadata": {},
     "output_type": "execute_result"
    }
   ],
   "source": [
    "lev2.fit(Xa_train, ya_train)"
   ]
  },
  {
   "cell_type": "code",
   "execution_count": 40,
   "id": "f13b21dd",
   "metadata": {
    "scrolled": false
   },
   "outputs": [
    {
     "data": {
      "text/plain": [
       "(0.9360029371402225, 0.9378826999899946, 0.9351672423186898)"
      ]
     },
     "execution_count": 40,
     "metadata": {},
     "output_type": "execute_result"
    }
   ],
   "source": [
    "lev2.score(Xa_train, ya_train), lev2.score(Xa_test, ya_test), cross_val_score(lev2, Xa_train, ya_train).mean()"
   ]
  },
  {
   "cell_type": "markdown",
   "id": "90149124",
   "metadata": {},
   "source": [
    "These scores are scarring us"
   ]
  },
  {
   "cell_type": "code",
   "execution_count": 41,
   "id": "dcb4a298",
   "metadata": {},
   "outputs": [
    {
     "data": {
      "text/plain": [
       "0.6561046020612404"
      ]
     },
     "execution_count": 41,
     "metadata": {},
     "output_type": "execute_result"
    }
   ],
   "source": [
    "#Unseen data test data from lvl 1\n",
    "lev2.score(b.drop(columns='y'), b['y'])"
   ]
  },
  {
   "cell_type": "code",
   "execution_count": 42,
   "id": "0d1bf302",
   "metadata": {},
   "outputs": [],
   "source": [
    "#(0.9009880466719563, 0.6166400989225644, 0.8996610030098859)\n",
    "#(0.8909971442563475, 0.5768477536960713, 0.888529811837276)\n",
    "#(0.8841509454257197, 0.5772424027671583, 0.8834176035984036)\n",
    "\n",
    "#(0.9118854053242108, 0.9288400370503621, 0.9114631988363131)"
   ]
  }
 ],
 "metadata": {
  "kernelspec": {
   "display_name": "Python 3",
   "language": "python",
   "name": "python3"
  },
  "language_info": {
   "codemirror_mode": {
    "name": "ipython",
    "version": 3
   },
   "file_extension": ".py",
   "mimetype": "text/x-python",
   "name": "python",
   "nbconvert_exporter": "python",
   "pygments_lexer": "ipython3",
   "version": "3.8.8"
  }
 },
 "nbformat": 4,
 "nbformat_minor": 5
}
